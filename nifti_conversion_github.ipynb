{
 "cells": [
  {
   "cell_type": "markdown",
   "id": "97aa17c2",
   "metadata": {},
   "source": [
    "# NIfTI Conversion Script for Sarcopenia Data Descriptor"
   ]
  },
  {
   "cell_type": "markdown",
   "id": "756c83e3",
   "metadata": {},
   "source": [
    "Convert .tag files and DICOM images into nifti format for use in imaging research. Pre-print can be found online at medRxiv.\n",
    "\n",
    "Last updated by Kareem Wahid, Jan 15, 2022."
   ]
  },
  {
   "cell_type": "markdown",
   "id": "08cb95c4",
   "metadata": {},
   "source": [
    "Code assumes you have the following directory structure:"
   ]
  },
  {
   "cell_type": "code",
   "execution_count": 1,
   "id": "e40988fc",
   "metadata": {},
   "outputs": [
    {
     "data": {
      "text/plain": [
       "''"
      ]
     },
     "execution_count": 1,
     "metadata": {},
     "output_type": "execute_result"
    }
   ],
   "source": [
    "\"\"\"\n",
    "Master_folder/\n",
    "├── nifti_conversion_github.ipynb\n",
    "├── input/ <- this contains all the master DICOM image folders (direct download from TCIA, in our case we isolated date folders that were used for segmentation)\n",
    "│   ├──Patient ID folders \n",
    "│      ├──Date folders \n",
    "│         ├──Series folders\n",
    "│            ├──DICOM files (.dcm)\n",
    "├── tags/ <- segmentation data provided for you \n",
    "│   ├──tag files (c3 ID.dcm.tag)\n",
    "├── dicoms/ <- 2D DICOM data provided for you \n",
    "│   ├──DICOM files (c3 ID.dcm)\n",
    "\"\"\"\n",
    ";"
   ]
  },
  {
   "cell_type": "markdown",
   "id": "40bc31f9",
   "metadata": {},
   "source": [
    "## Dependencies"
   ]
  },
  {
   "cell_type": "code",
   "execution_count": 2,
   "id": "c300e1ba",
   "metadata": {},
   "outputs": [],
   "source": [
    "import pandas as pd\n",
    "import os\n",
    "import shutil\n",
    "from DicomRTTool.ReaderWriter import DicomReaderWriter # pip install DicomRTTool\n",
    "import SimpleITK as sitk\n",
    "import numpy as np\n",
    "import matplotlib.pyplot as plt\n",
    "import pydicom\n",
    "import sys\n",
    "import glob"
   ]
  },
  {
   "cell_type": "markdown",
   "id": "2f2b3fc6",
   "metadata": {},
   "source": [
    "## Helper Fuctions"
   ]
  },
  {
   "cell_type": "code",
   "execution_count": 3,
   "id": "e2898658",
   "metadata": {},
   "outputs": [],
   "source": [
    "def write_dicomrt_to_nifti(dicom_pt_path, output_folder):\n",
    "    '''\n",
    "    Read DICOM image and transform to numpy array format and corresponding sitk object. Also writes image to folder. \n",
    "\n",
    "            Parameters:\n",
    "                    dicom_pt_path (str): Path to input DICOM folder.\n",
    "                    output_folder (str): Path to output folder.\n",
    "\n",
    "            Returns:\n",
    "                    image (ndarray): 3D numpy array of image.\n",
    "                    dicom_sitk_handle (sitk obj): simpleitk object that conatins DICOM metadata. \n",
    "    '''\n",
    "    \n",
    "    Dicom_reader = DicomReaderWriter(description='Examples', series_instances_dictionary = {}) # instantiate\n",
    "\n",
    "    Dicom_reader.walk_through_folders(dicom_pt_path)\n",
    "\n",
    "    all_rois = Dicom_reader.return_rois(print_rois=False)\n",
    "    \n",
    "    Dicom_reader.get_images()\n",
    "    image = Dicom_reader.ArrayDicom # image array\n",
    "    dicom_sitk_handle = Dicom_reader.dicom_handle # SimpleITK image handle\n",
    "    \n",
    "    sitk.WriteImage(dicom_sitk_handle, os.path.join(output_folder, 'Image.nii.gz')) # write the image to the output folder\n",
    "            \n",
    "    return image, dicom_sitk_handle # need these for later \n",
    "            \n",
    "                   \n",
    "def read_tag_to_array(tag_file_path, image): # image is array\n",
    "    '''\n",
    "    Convert tag segmentation file to 2D numpy array. \n",
    "\n",
    "            Parameters:\n",
    "                    tag_file_path (str): Path to .tag file, i.e., segmentation.\n",
    "                    image (ndarray): 3D numpy array of image.\n",
    "\n",
    "            Returns:\n",
    "                    d1image_final (ndarray): 2D numpy array of segmentation.\n",
    "    '''\n",
    "    \n",
    "    input_size = image[1,:,:].flatten().shape\n",
    "    \n",
    "    dtype = np.dtype('B')\n",
    "    with open(tag_file_path, \"rb\") as f:\n",
    "        numpy_data = np.fromfile(f,dtype)\n",
    "        \n",
    "    to_trim = numpy_data.shape[0] - input_size[0]\n",
    "    \n",
    "    trimmed = numpy_data[-1:to_trim-1:-1]\n",
    "    \n",
    "    d1image = np.reshape(trimmed, image[1,:,:].shape) # 512x512 for these CT cases\n",
    "    \n",
    "    d1image_final = np.flip(d1image) # images are flipped so this fixes that \n",
    "    \n",
    "    return d1image_final\n",
    "\n",
    "\n",
    "def insert_location_to_tag_array(image, d1image_final, slice_level_file_path, dicom_image_folder):\n",
    "    '''\n",
    "    Convert 2D segmentation array to 3D numpy array. Some code adapted from https://stackoverflow.com/questions/59458801/how-to-sort-dicom-slices-in-correct-order.\n",
    "\n",
    "            Parameters:\n",
    "                    image (ndarray): 3D numpy array of image.\n",
    "                    d1image_final (ndarray): 2D numpy array of segmentation.\n",
    "                    slice_level_file_path (str): Path to 2D DICOM slice. \n",
    "                    dicom_image_folder (str): Path to CT DICOM folder, since the TCIA download returns multiple folders. \n",
    "                    \n",
    "            Returns:\n",
    "                    fat_muscle_array (ndarray): 3D numpy array of segmentation.\n",
    "    '''\n",
    "    \n",
    "    ds = pydicom.read_file(slice_level_file_path)\n",
    "    location_of_interest = ds.SliceLocation\n",
    "    \n",
    "    # skip files with no SliceLocation (eg scout views)\n",
    "    slices = []\n",
    "    skipcount = 0\n",
    "    for f in [os.path.join(dicom_image_folder, file) for file in os.listdir(dicom_image_folder)]:\n",
    "        ds = pydicom.read_file(f)\n",
    "        #print(f)\n",
    "        if hasattr(ds, 'SliceLocation'):\n",
    "            slices.append(ds)\n",
    "        else:\n",
    "            skipcount = skipcount + 1\n",
    "\n",
    "    # ensure they are in the correct order\n",
    "    slices = sorted(slices, key=lambda s: s.SliceLocation)\n",
    "    \n",
    "    for number, slice_ in enumerate(slices):\n",
    "        if slice_.SliceLocation == location_of_interest:\n",
    "            array_slice_location = number\n",
    "    \n",
    "    fat_muscle_array = np.zeros(image.shape)\n",
    "    \n",
    "    fat_muscle_array[array_slice_location, :, :] = d1image_final # fill the slice location with the 2d mask data\n",
    "    \n",
    "    return fat_muscle_array\n",
    "\n",
    "\n",
    "def seperate_and_save_array(fat_muscle_array, dicom_sitk_handle, output_folder):\n",
    "    '''\n",
    "    Split 3D segmentation array into adipose and skeletal muscle components. Output these as binary mask nifti files to folder.\n",
    "\n",
    "            Parameters:\n",
    "                    fat_muscle_array (ndarray): 3D numpy array of segmentation.\n",
    "                    dicom_sitk_handle (sitk obj): simpleitk object that conatins DICOM metadata. \n",
    "                    output_folder (str): Path to output folder.\n",
    "                    \n",
    "            Returns:\n",
    "                    None, writes nifti files to folder. \n",
    "    '''\n",
    "    \n",
    "    fat_array = fat_muscle_array.copy() # make copy to avoid errors later \n",
    "    muscle_array = fat_muscle_array.copy()\n",
    "    \n",
    "    fat_array[fat_array != 5] = 0\n",
    "    muscle_array[muscle_array != 1] = 0\n",
    "    \n",
    "    fat_array_sitk = sitk.GetImageFromArray(fat_array)\n",
    "    fat_array_sitk.CopyInformation(dicom_sitk_handle)\n",
    "\n",
    "    muscle_array_sitk = sitk.GetImageFromArray(muscle_array)\n",
    "    muscle_array_sitk.CopyInformation(dicom_sitk_handle)\n",
    "\n",
    "    sitk.WriteImage(fat_array_sitk, os.path.join(output_folder, 'fat.nii.gz'))\n",
    "    sitk.WriteImage(muscle_array_sitk, os.path.join(output_folder, 'muscle.nii.gz'))"
   ]
  },
  {
   "cell_type": "markdown",
   "id": "14bd07d8",
   "metadata": {},
   "source": [
    "## Main Function"
   ]
  },
  {
   "cell_type": "code",
   "execution_count": 4,
   "id": "07b395a5",
   "metadata": {},
   "outputs": [],
   "source": [
    "def TCIA_tag_to_nifti(dicom_pt_path, tag_path, slice_level_path, output_path):\n",
    "    \n",
    "    MRN_full = os.path.split(dicom_pt_path)[-1]\n",
    "    MRN_number = MRN_full.split('-0')[-1]\n",
    "    \n",
    "    output_folder = os.path.join(output_path, MRN_full) # this is where all the files will go\n",
    "    \n",
    "    tag_MRNs = [file.split(' ')[1].split('.')[0] for file in os.listdir(tag_path)] # need this to generate corresponding folders\n",
    "    \n",
    "    if MRN_number in tag_MRNs: # should lead to 396 folders\n",
    "    \n",
    "        if not os.path.exists(output_folder):\n",
    "            os.makedirs(output_folder)\n",
    "\n",
    "        slice_level_file_path = os.path.join(slice_level_path, 'c3 ' + MRN_number +'.dcm')\n",
    "\n",
    "        tag_file_path = os.path.join(tag_path, 'c3 ' + MRN_number +'.dcm.tag')\n",
    "\n",
    "        for root, dirs, files in os.walk(dicom_pt_path): # find the folder with the dicom image since there are multiple folders (series)\n",
    "            for d in dirs:\n",
    "                d_path = os.path.join(root,d)\n",
    "                if len(os.listdir(d_path)) > 10:\n",
    "                    dicom_image_folder = d_path\n",
    "\n",
    "        # run functions here\n",
    "\n",
    "        image, dicom_sitk_handle = write_dicomrt_to_nifti(dicom_pt_path, output_folder) # writes image file and returns image array for later\n",
    "\n",
    "        d1image_final = read_tag_to_array(tag_file_path, image)\n",
    "\n",
    "        fat_muscle_array = insert_location_to_tag_array(image, d1image_final, slice_level_file_path, dicom_image_folder)\n",
    "\n",
    "        seperate_and_save_array(fat_muscle_array, dicom_sitk_handle, output_folder) # writes segmentations to .nii.gz files"
   ]
  },
  {
   "cell_type": "markdown",
   "id": "264f0a77",
   "metadata": {},
   "source": [
    "## Applying functions to data\n",
    "\n",
    "The input_path will contain all the folders of the DICOM data acquired from TCIA, i.e., HNSCC-01-0240, HNSCC-01-0320, etc.. \n",
    "\n",
    "The tag_path and slice_level_path will are the folders containing outputs from sliceOmatic.\n",
    "\n",
    "The output path is an empty directory where the new patient folders containing the corresponding nifti files will be stored."
   ]
  },
  {
   "cell_type": "code",
   "execution_count": 5,
   "id": "df27309b",
   "metadata": {},
   "outputs": [
    {
     "name": "stderr",
     "output_type": "stream",
     "text": [
      "\r",
      "Loading through DICOM files:   0%|                                                               | 0/1 [00:00<?, ?it/s]"
     ]
    },
    {
     "name": "stdout",
     "output_type": "stream",
     "text": [
      "Loading from input\\HNSCC-01-0216\\08-10-2008-NA-002-78118\\2.000000-CONTRAST120CC3CCS90S DELAY-73892\n"
     ]
    },
    {
     "name": "stderr",
     "output_type": "stream",
     "text": [
      "\r",
      "Loading through DICOM files: 100%|███████████████████████████████████████████████████████| 1/1 [00:18<00:00, 18.90s/it]"
     ]
    },
    {
     "name": "stdout",
     "output_type": "stream",
     "text": [
      "Compiling dictionaries together...\n",
      "Index 0, description CONTRAST120CC@3CC/S,90S DELAY  at input\\HNSCC-01-0216\\08-10-2008-NA-002-78118\\2.000000-CONTRAST120CC3CCS90S DELAY-73892\n",
      "1 unique series IDs were found. Default is index 0, to change use set_index(index)\n",
      "Loading images for CONTRAST120CC@3CC/S,90S DELAY  at \n",
      " input\\HNSCC-01-0216\\08-10-2008-NA-002-78118\\2.000000-CONTRAST120CC3CCS90S DELAY-73892\n",
      "\n"
     ]
    },
    {
     "name": "stderr",
     "output_type": "stream",
     "text": [
      "Loading through DICOM files: 100%|███████████████████████████████████████████████████████| 1/1 [00:54<00:00, 54.68s/it]\n",
      "Loading through DICOM files:   0%|                                                               | 0/1 [00:00<?, ?it/s]"
     ]
    },
    {
     "name": "stdout",
     "output_type": "stream",
     "text": [
      "Loading from input\\HNSCC-01-0217\\12-16-2012-NA-002-95635\\2.000000-ORALNASOPHARYNX-83562\n"
     ]
    },
    {
     "name": "stderr",
     "output_type": "stream",
     "text": [
      "\r",
      "Loading through DICOM files: 100%|███████████████████████████████████████████████████████| 1/1 [00:17<00:00, 17.52s/it]"
     ]
    },
    {
     "name": "stdout",
     "output_type": "stream",
     "text": [
      "Compiling dictionaries together...\n",
      "Index 0, description ORAL/NASOPHARYNX at input\\HNSCC-01-0217\\12-16-2012-NA-002-95635\\2.000000-ORALNASOPHARYNX-83562\n",
      "1 unique series IDs were found. Default is index 0, to change use set_index(index)\n",
      "Loading images for ORAL/NASOPHARYNX at \n",
      " input\\HNSCC-01-0217\\12-16-2012-NA-002-95635\\2.000000-ORALNASOPHARYNX-83562\n",
      "\n"
     ]
    },
    {
     "name": "stderr",
     "output_type": "stream",
     "text": [
      "Loading through DICOM files: 100%|███████████████████████████████████████████████████████| 1/1 [00:52<00:00, 52.12s/it]\n",
      "Loading through DICOM files:   0%|                                                               | 0/2 [00:00<?, ?it/s]"
     ]
    },
    {
     "name": "stdout",
     "output_type": "stream",
     "text": [
      "Loading from input\\HNSCC-01-0218\\09-13-2009-NA-CT SOFT TISSUE NECK W-67098\\1.000000-Series Description-81350\n",
      "Loading from input\\HNSCC-01-0218\\09-13-2009-NA-CT SOFT TISSUE NECK W-67098\\2.000000-CONTRAST120CC3CCS90S DELAY-07664\n"
     ]
    },
    {
     "name": "stderr",
     "output_type": "stream",
     "text": [
      "\r",
      "Loading through DICOM files: 100%|███████████████████████████████████████████████████████| 2/2 [00:18<00:00,  9.01s/it]"
     ]
    },
    {
     "name": "stdout",
     "output_type": "stream",
     "text": [
      "Compiling dictionaries together...\n",
      "Index 0, description CONTRAST120CC@3CC/S,90S DELAY  at input\\HNSCC-01-0218\\09-13-2009-NA-CT SOFT TISSUE NECK W-67098\\2.000000-CONTRAST120CC3CCS90S DELAY-07664\n",
      "1 unique series IDs were found. Default is index 0, to change use set_index(index)\n",
      "Loading images for CONTRAST120CC@3CC/S,90S DELAY  at \n",
      " input\\HNSCC-01-0218\\09-13-2009-NA-CT SOFT TISSUE NECK W-67098\\2.000000-CONTRAST120CC3CCS90S DELAY-07664\n",
      "\n"
     ]
    },
    {
     "name": "stderr",
     "output_type": "stream",
     "text": [
      "Loading through DICOM files: 100%|███████████████████████████████████████████████████████| 2/2 [00:56<00:00, 28.33s/it]\n",
      "Loading through DICOM files:   0%|                                                               | 0/2 [00:00<?, ?it/s]"
     ]
    },
    {
     "name": "stdout",
     "output_type": "stream",
     "text": [
      "Loading from input\\HNSCC-01-0219\\09-13-2009-NA-002-51030\\2.000000-CONTRAST120CC3CCS90S DELAY-12628Loading from input\\HNSCC-01-0219\\09-13-2009-NA-002-51030\\1.000000-Series Description-93211\n",
      "\n"
     ]
    },
    {
     "name": "stderr",
     "output_type": "stream",
     "text": [
      "\r",
      "Loading through DICOM files: 100%|███████████████████████████████████████████████████████| 2/2 [00:14<00:00,  7.17s/it]"
     ]
    },
    {
     "name": "stdout",
     "output_type": "stream",
     "text": [
      "Compiling dictionaries together...\n",
      "Index 0, description CONTRAST120CC@3CC/S,90S DELAY  at input\\HNSCC-01-0219\\09-13-2009-NA-002-51030\\2.000000-CONTRAST120CC3CCS90S DELAY-12628\n",
      "1 unique series IDs were found. Default is index 0, to change use set_index(index)\n",
      "Loading images for CONTRAST120CC@3CC/S,90S DELAY  at \n",
      " input\\HNSCC-01-0219\\09-13-2009-NA-002-51030\\2.000000-CONTRAST120CC3CCS90S DELAY-12628\n",
      "\n"
     ]
    },
    {
     "name": "stderr",
     "output_type": "stream",
     "text": [
      "Loading through DICOM files: 100%|███████████████████████████████████████████████████████| 2/2 [00:42<00:00, 21.30s/it]\n",
      "Loading through DICOM files:   0%|                                                               | 0/2 [00:00<?, ?it/s]"
     ]
    },
    {
     "name": "stdout",
     "output_type": "stream",
     "text": [
      "Loading from input\\HNSCC-01-0220\\11-13-2011-NA-002-21659\\2.000000-SKINSCALP-67590\n",
      "Loading from input\\HNSCC-01-0220\\11-13-2011-NA-002-21659\\1.000000-Series Description-35709\n"
     ]
    },
    {
     "name": "stderr",
     "output_type": "stream",
     "text": [
      "\r",
      "Loading through DICOM files: 100%|███████████████████████████████████████████████████████| 2/2 [00:21<00:00, 10.80s/it]"
     ]
    },
    {
     "name": "stdout",
     "output_type": "stream",
     "text": [
      "Compiling dictionaries together...\n",
      "Index 0, description SKIN/SCALP at input\\HNSCC-01-0220\\11-13-2011-NA-002-21659\\2.000000-SKINSCALP-67590\n",
      "1 unique series IDs were found. Default is index 0, to change use set_index(index)\n",
      "Loading images for SKIN/SCALP at \n",
      " input\\HNSCC-01-0220\\11-13-2011-NA-002-21659\\2.000000-SKINSCALP-67590\n",
      "\n"
     ]
    },
    {
     "name": "stderr",
     "output_type": "stream",
     "text": [
      "Loading through DICOM files: 100%|███████████████████████████████████████████████████████| 2/2 [01:04<00:00, 32.04s/it]\n",
      "Loading through DICOM files:   0%|                                                               | 0/2 [00:00<?, ?it/s]"
     ]
    },
    {
     "name": "stdout",
     "output_type": "stream",
     "text": [
      "Loading from input\\HNSCC-01-0221\\08-10-2008-NA-CT SOFT TISSUE NECK W-16297\\2.000000-CONTRAST120CC3CCS90S DELAY-22131\n",
      "Loading from input\\HNSCC-01-0221\\08-10-2008-NA-CT SOFT TISSUE NECK W-16297\\1.000000-Series Description-16678\n"
     ]
    },
    {
     "name": "stderr",
     "output_type": "stream",
     "text": [
      "\r",
      "Loading through DICOM files: 100%|███████████████████████████████████████████████████████| 2/2 [00:15<00:00,  7.97s/it]"
     ]
    },
    {
     "name": "stdout",
     "output_type": "stream",
     "text": [
      "Compiling dictionaries together...\n",
      "Index 0, description CONTRAST120CC@3CC/S,90S DELAY  at input\\HNSCC-01-0221\\08-10-2008-NA-CT SOFT TISSUE NECK W-16297\\2.000000-CONTRAST120CC3CCS90S DELAY-22131\n",
      "1 unique series IDs were found. Default is index 0, to change use set_index(index)\n",
      "Loading images for CONTRAST120CC@3CC/S,90S DELAY  at \n",
      " input\\HNSCC-01-0221\\08-10-2008-NA-CT SOFT TISSUE NECK W-16297\\2.000000-CONTRAST120CC3CCS90S DELAY-22131\n",
      "\n"
     ]
    },
    {
     "name": "stderr",
     "output_type": "stream",
     "text": [
      "Loading through DICOM files: 100%|███████████████████████████████████████████████████████| 2/2 [00:49<00:00, 24.60s/it]\n",
      "Loading through DICOM files:   0%|                                                               | 0/2 [00:00<?, ?it/s]"
     ]
    },
    {
     "name": "stdout",
     "output_type": "stream",
     "text": [
      "Loading from input\\HNSCC-01-0222\\09-13-2009-NA-CT SOFT TISSUE NECK W-68040\\1.000000-Series Description-48592Loading from input\\HNSCC-01-0222\\09-13-2009-NA-CT SOFT TISSUE NECK W-68040\\2.000000-CONTRAST120CC3CCS90S DELAY-80213\n",
      "\n"
     ]
    },
    {
     "name": "stderr",
     "output_type": "stream",
     "text": [
      "\r",
      "Loading through DICOM files: 100%|███████████████████████████████████████████████████████| 2/2 [00:15<00:00,  7.78s/it]"
     ]
    },
    {
     "name": "stdout",
     "output_type": "stream",
     "text": [
      "Compiling dictionaries together...\n",
      "Index 0, description CONTRAST120CC@3CC/S,90S DELAY  at input\\HNSCC-01-0222\\09-13-2009-NA-CT SOFT TISSUE NECK W-68040\\2.000000-CONTRAST120CC3CCS90S DELAY-80213\n",
      "1 unique series IDs were found. Default is index 0, to change use set_index(index)\n",
      "Loading images for CONTRAST120CC@3CC/S,90S DELAY  at \n",
      " input\\HNSCC-01-0222\\09-13-2009-NA-CT SOFT TISSUE NECK W-68040\\2.000000-CONTRAST120CC3CCS90S DELAY-80213\n",
      "\n"
     ]
    },
    {
     "name": "stderr",
     "output_type": "stream",
     "text": [
      "Loading through DICOM files: 100%|███████████████████████████████████████████████████████| 2/2 [00:48<00:00, 24.37s/it]\n",
      "Loading through DICOM files:   0%|                                                               | 0/2 [00:00<?, ?it/s]"
     ]
    },
    {
     "name": "stdout",
     "output_type": "stream",
     "text": [
      "Loading from input\\HNSCC-01-0223\\10-10-2010-NA-NECK ORAL WC-67967\\1.000000-Series Description-80037Loading from input\\HNSCC-01-0223\\10-10-2010-NA-NECK ORAL WC-67967\\2.000000-CONTRAST120CC3CCS90S DELAY-85045\n",
      "\n"
     ]
    },
    {
     "name": "stderr",
     "output_type": "stream",
     "text": [
      "\r",
      "Loading through DICOM files: 100%|███████████████████████████████████████████████████████| 2/2 [00:20<00:00, 10.02s/it]"
     ]
    },
    {
     "name": "stdout",
     "output_type": "stream",
     "text": [
      "Compiling dictionaries together...\n",
      "Index 0, description CONTRAST120CC@3CC/S,90S DELAY  at input\\HNSCC-01-0223\\10-10-2010-NA-NECK ORAL WC-67967\\2.000000-CONTRAST120CC3CCS90S DELAY-85045\n",
      "1 unique series IDs were found. Default is index 0, to change use set_index(index)\n",
      "Loading images for CONTRAST120CC@3CC/S,90S DELAY  at \n",
      " input\\HNSCC-01-0223\\10-10-2010-NA-NECK ORAL WC-67967\\2.000000-CONTRAST120CC3CCS90S DELAY-85045\n",
      "\n"
     ]
    },
    {
     "name": "stderr",
     "output_type": "stream",
     "text": [
      "Loading through DICOM files: 100%|███████████████████████████████████████████████████████| 2/2 [00:57<00:00, 28.71s/it]\n",
      "Loading through DICOM files:   0%|                                                               | 0/2 [00:00<?, ?it/s]"
     ]
    },
    {
     "name": "stdout",
     "output_type": "stream",
     "text": [
      "Loading from input\\HNSCC-01-0224\\07-08-2007-NA-CT SOFT TISSUE NECK W-40367\\2.000000-CONTRAST120CC3CCS90S DELAY-67427\n",
      "Loading from input\\HNSCC-01-0224\\07-08-2007-NA-CT SOFT TISSUE NECK W-40367\\1.000000-Series Description-65620\n"
     ]
    },
    {
     "name": "stderr",
     "output_type": "stream",
     "text": [
      "\r",
      "Loading through DICOM files: 100%|███████████████████████████████████████████████████████| 2/2 [00:12<00:00,  6.05s/it]"
     ]
    },
    {
     "name": "stdout",
     "output_type": "stream",
     "text": [
      "Compiling dictionaries together...\n",
      "Index 0, description CONTRAST120CC@3CC/S,90S DELAY  at input\\HNSCC-01-0224\\07-08-2007-NA-CT SOFT TISSUE NECK W-40367\\2.000000-CONTRAST120CC3CCS90S DELAY-67427\n",
      "1 unique series IDs were found. Default is index 0, to change use set_index(index)\n",
      "Loading images for CONTRAST120CC@3CC/S,90S DELAY  at \n",
      " input\\HNSCC-01-0224\\07-08-2007-NA-CT SOFT TISSUE NECK W-40367\\2.000000-CONTRAST120CC3CCS90S DELAY-67427\n",
      "\n"
     ]
    },
    {
     "name": "stderr",
     "output_type": "stream",
     "text": [
      "Loading through DICOM files: 100%|███████████████████████████████████████████████████████| 2/2 [00:37<00:00, 19.00s/it]\n",
      "Loading through DICOM files:   0%|                                                               | 0/2 [00:00<?, ?it/s]"
     ]
    },
    {
     "name": "stdout",
     "output_type": "stream",
     "text": [
      "Loading from input\\HNSCC-01-0226\\05-08-2005-NA-O R A L-51659\\1.000000-Series Description-74784Loading from input\\HNSCC-01-0226\\05-08-2005-NA-O R A L-51659\\2.000000-HN ORAL-42113\n",
      "\n"
     ]
    },
    {
     "name": "stderr",
     "output_type": "stream",
     "text": [
      "\r",
      "Loading through DICOM files: 100%|███████████████████████████████████████████████████████| 2/2 [00:03<00:00,  1.82s/it]"
     ]
    },
    {
     "name": "stdout",
     "output_type": "stream",
     "text": [
      "Compiling dictionaries together...\n",
      "Index 0, description H&N (ORAL) at input\\HNSCC-01-0226\\05-08-2005-NA-O R A L-51659\\2.000000-HN ORAL-42113\n",
      "1 unique series IDs were found. Default is index 0, to change use set_index(index)\n",
      "Loading images for H&N (ORAL) at \n",
      " input\\HNSCC-01-0226\\05-08-2005-NA-O R A L-51659\\2.000000-HN ORAL-42113\n",
      "\n"
     ]
    },
    {
     "name": "stderr",
     "output_type": "stream",
     "text": [
      "Loading through DICOM files: 100%|███████████████████████████████████████████████████████| 2/2 [00:12<00:00,  6.14s/it]\n",
      "Loading through DICOM files:   0%|                                                               | 0/2 [00:00<?, ?it/s]"
     ]
    },
    {
     "name": "stdout",
     "output_type": "stream",
     "text": [
      "Loading from input\\HNSCC-01-0230\\05-08-2005-NA-002-56798\\1.000000-Series Description-91363\n",
      "Loading from input\\HNSCC-01-0230\\05-08-2005-NA-002-56798\\2.000000-CONTRAST120CC3CCS90S DELAY-58640\n"
     ]
    },
    {
     "name": "stderr",
     "output_type": "stream",
     "text": [
      "\r",
      "Loading through DICOM files: 100%|███████████████████████████████████████████████████████| 2/2 [00:04<00:00,  2.29s/it]"
     ]
    },
    {
     "name": "stdout",
     "output_type": "stream",
     "text": [
      "Compiling dictionaries together...\n",
      "Index 0, description CONTRAST120CC@3CC/S,90S DELAY  at input\\HNSCC-01-0230\\05-08-2005-NA-002-56798\\2.000000-CONTRAST120CC3CCS90S DELAY-58640\n",
      "1 unique series IDs were found. Default is index 0, to change use set_index(index)\n",
      "Loading images for CONTRAST120CC@3CC/S,90S DELAY  at \n",
      " input\\HNSCC-01-0230\\05-08-2005-NA-002-56798\\2.000000-CONTRAST120CC3CCS90S DELAY-58640\n",
      "\n"
     ]
    },
    {
     "name": "stderr",
     "output_type": "stream",
     "text": [
      "Loading through DICOM files: 100%|███████████████████████████████████████████████████████| 2/2 [00:14<00:00,  7.09s/it]\n",
      "Loading through DICOM files:  50%|███████████████████████████▌                           | 1/2 [00:00<00:00,  9.71it/s]"
     ]
    },
    {
     "name": "stdout",
     "output_type": "stream",
     "text": [
      "Loading from input\\HNSCC-01-0231\\05-08-2005-NA-CT SOFT TISSUE NECK W-75528\\2.000000-CONTRAST120CC3CCS90S DELAY-17006\n",
      "Loading from input\\HNSCC-01-0231\\05-08-2005-NA-CT SOFT TISSUE NECK W-75528\\1.000000-Series Description-11228\n"
     ]
    },
    {
     "name": "stderr",
     "output_type": "stream",
     "text": [
      "\r",
      "Loading through DICOM files: 100%|███████████████████████████████████████████████████████| 2/2 [00:16<00:00,  9.78s/it]"
     ]
    },
    {
     "name": "stdout",
     "output_type": "stream",
     "text": [
      "Compiling dictionaries together...\n",
      "Index 0, description CONTRAST120CC@3CC/S,90S DELAY  at input\\HNSCC-01-0231\\05-08-2005-NA-CT SOFT TISSUE NECK W-75528\\2.000000-CONTRAST120CC3CCS90S DELAY-17006\n",
      "1 unique series IDs were found. Default is index 0, to change use set_index(index)\n",
      "Loading images for CONTRAST120CC@3CC/S,90S DELAY  at \n",
      " input\\HNSCC-01-0231\\05-08-2005-NA-CT SOFT TISSUE NECK W-75528\\2.000000-CONTRAST120CC3CCS90S DELAY-17006\n",
      "\n"
     ]
    },
    {
     "name": "stderr",
     "output_type": "stream",
     "text": [
      "Loading through DICOM files: 100%|███████████████████████████████████████████████████████| 2/2 [00:51<00:00, 25.80s/it]\n",
      "Loading through DICOM files:   0%|                                                               | 0/2 [00:00<?, ?it/s]"
     ]
    },
    {
     "name": "stdout",
     "output_type": "stream",
     "text": [
      "Loading from input\\HNSCC-01-0232\\05-08-2005-NA-CT SOFT TISSUE NECK W-35718\\1.000000-Series Description-85704\n",
      "Loading from input\\HNSCC-01-0232\\05-08-2005-NA-CT SOFT TISSUE NECK W-35718\\2.000000-CONTRAST120CC3CCS90S DELAY-06457\n"
     ]
    },
    {
     "name": "stderr",
     "output_type": "stream",
     "text": [
      "\r",
      "Loading through DICOM files: 100%|███████████████████████████████████████████████████████| 2/2 [00:15<00:00,  7.62s/it]"
     ]
    },
    {
     "name": "stdout",
     "output_type": "stream",
     "text": [
      "Compiling dictionaries together...\n",
      "Index 0, description CONTRAST120CC@3CC/S,90S DELAY  at input\\HNSCC-01-0232\\05-08-2005-NA-CT SOFT TISSUE NECK W-35718\\2.000000-CONTRAST120CC3CCS90S DELAY-06457\n",
      "1 unique series IDs were found. Default is index 0, to change use set_index(index)\n",
      "Loading images for CONTRAST120CC@3CC/S,90S DELAY  at \n",
      " input\\HNSCC-01-0232\\05-08-2005-NA-CT SOFT TISSUE NECK W-35718\\2.000000-CONTRAST120CC3CCS90S DELAY-06457\n",
      "\n"
     ]
    },
    {
     "name": "stderr",
     "output_type": "stream",
     "text": [
      "Loading through DICOM files: 100%|███████████████████████████████████████████████████████| 2/2 [00:48<00:00, 24.36s/it]\n",
      "Loading through DICOM files:   0%|                                                               | 0/2 [00:00<?, ?it/s]"
     ]
    },
    {
     "name": "stdout",
     "output_type": "stream",
     "text": [
      "Loading from input\\HNSCC-01-0233\\05-08-2005-NA-CT HN ORAL 23-47790\\1.000000-Series Description-00010Loading from input\\HNSCC-01-0233\\05-08-2005-NA-CT HN ORAL 23-47790\\2.000000-CONTRAST120CC3CCS90S DELAY-46884\n",
      "\n"
     ]
    },
    {
     "name": "stderr",
     "output_type": "stream",
     "text": [
      "\r",
      "Loading through DICOM files: 100%|███████████████████████████████████████████████████████| 2/2 [00:11<00:00,  5.95s/it]"
     ]
    },
    {
     "name": "stdout",
     "output_type": "stream",
     "text": [
      "Compiling dictionaries together...\n",
      "Index 0, description CONTRAST120CC@3CC/S,90S DELAY  at input\\HNSCC-01-0233\\05-08-2005-NA-CT HN ORAL 23-47790\\2.000000-CONTRAST120CC3CCS90S DELAY-46884\n",
      "1 unique series IDs were found. Default is index 0, to change use set_index(index)\n",
      "Loading images for CONTRAST120CC@3CC/S,90S DELAY  at \n",
      " input\\HNSCC-01-0233\\05-08-2005-NA-CT HN ORAL 23-47790\\2.000000-CONTRAST120CC3CCS90S DELAY-46884\n",
      "\n"
     ]
    },
    {
     "name": "stderr",
     "output_type": "stream",
     "text": [
      "Loading through DICOM files: 100%|███████████████████████████████████████████████████████| 2/2 [00:39<00:00, 19.77s/it]\n",
      "Loading through DICOM files:   0%|                                                               | 0/2 [00:00<?, ?it/s]"
     ]
    },
    {
     "name": "stdout",
     "output_type": "stream",
     "text": [
      "Loading from input\\HNSCC-01-0234\\05-08-2005-NA-CT SOFT TISSUE NECK W-29315\\2.000000-CONTRAST120CC3CCS90S DELAY-98548\n",
      "Loading from input\\HNSCC-01-0234\\05-08-2005-NA-CT SOFT TISSUE NECK W-29315\\1.000000-Series Description-96528\n"
     ]
    },
    {
     "name": "stderr",
     "output_type": "stream",
     "text": [
      "\r",
      "Loading through DICOM files: 100%|███████████████████████████████████████████████████████| 2/2 [00:13<00:00,  6.94s/it]"
     ]
    },
    {
     "name": "stdout",
     "output_type": "stream",
     "text": [
      "Compiling dictionaries together...\n",
      "Index 0, description CONTRAST120CC@3CC/S,90S DELAY  at input\\HNSCC-01-0234\\05-08-2005-NA-CT SOFT TISSUE NECK W-29315\\2.000000-CONTRAST120CC3CCS90S DELAY-98548\n",
      "1 unique series IDs were found. Default is index 0, to change use set_index(index)\n",
      "Loading images for CONTRAST120CC@3CC/S,90S DELAY  at \n",
      " input\\HNSCC-01-0234\\05-08-2005-NA-CT SOFT TISSUE NECK W-29315\\2.000000-CONTRAST120CC3CCS90S DELAY-98548\n",
      "\n"
     ]
    },
    {
     "name": "stderr",
     "output_type": "stream",
     "text": [
      "Loading through DICOM files: 100%|███████████████████████████████████████████████████████| 2/2 [00:45<00:00, 22.78s/it]\n",
      "Loading through DICOM files:  50%|███████████████████████████▌                           | 1/2 [00:00<00:00,  7.94it/s]"
     ]
    },
    {
     "name": "stdout",
     "output_type": "stream",
     "text": [
      "Loading from input\\HNSCC-01-0235\\05-08-2005-NA-CT SOFT TISSUE NECK W-16579\\1.000000-Series Description-67241\n",
      "Loading from input\\HNSCC-01-0235\\05-08-2005-NA-CT SOFT TISSUE NECK W-16579\\2.000000-CONTRAST120CC3CCS90S DELAY-80340\n"
     ]
    },
    {
     "name": "stderr",
     "output_type": "stream",
     "text": [
      "\r",
      "Loading through DICOM files: 100%|███████████████████████████████████████████████████████| 2/2 [00:15<00:00,  8.83s/it]"
     ]
    },
    {
     "name": "stdout",
     "output_type": "stream",
     "text": [
      "Compiling dictionaries together...\n",
      "Index 0, description CONTRAST120CC@3CC/S,90S DELAY  at input\\HNSCC-01-0235\\05-08-2005-NA-CT SOFT TISSUE NECK W-16579\\2.000000-CONTRAST120CC3CCS90S DELAY-80340\n",
      "1 unique series IDs were found. Default is index 0, to change use set_index(index)\n",
      "Loading images for CONTRAST120CC@3CC/S,90S DELAY  at \n",
      " input\\HNSCC-01-0235\\05-08-2005-NA-CT SOFT TISSUE NECK W-16579\\2.000000-CONTRAST120CC3CCS90S DELAY-80340\n",
      "\n"
     ]
    },
    {
     "name": "stderr",
     "output_type": "stream",
     "text": [
      "Loading through DICOM files: 100%|███████████████████████████████████████████████████████| 2/2 [00:46<00:00, 23.29s/it]\n",
      "Loading through DICOM files:   0%|                                                               | 0/2 [00:00<?, ?it/s]"
     ]
    },
    {
     "name": "stdout",
     "output_type": "stream",
     "text": [
      "Loading from input\\HNSCC-01-0236\\05-08-2005-NA-CT SOFT TISSUE NECK W-48883\\2.000000-CONTRAST120CC3CCS90S DELAY-17877\n",
      "Loading from input\\HNSCC-01-0236\\05-08-2005-NA-CT SOFT TISSUE NECK W-48883\\1.000000-Series Description-31999\n"
     ]
    },
    {
     "name": "stderr",
     "output_type": "stream",
     "text": [
      "\r",
      "Loading through DICOM files: 100%|███████████████████████████████████████████████████████| 2/2 [00:14<00:00,  7.26s/it]"
     ]
    },
    {
     "name": "stdout",
     "output_type": "stream",
     "text": [
      "Compiling dictionaries together...\n",
      "Index 0, description CONTRAST120CC@3CC/S,90S DELAY  at input\\HNSCC-01-0236\\05-08-2005-NA-CT SOFT TISSUE NECK W-48883\\2.000000-CONTRAST120CC3CCS90S DELAY-17877\n",
      "1 unique series IDs were found. Default is index 0, to change use set_index(index)\n",
      "Loading images for CONTRAST120CC@3CC/S,90S DELAY  at \n",
      " input\\HNSCC-01-0236\\05-08-2005-NA-CT SOFT TISSUE NECK W-48883\\2.000000-CONTRAST120CC3CCS90S DELAY-17877\n",
      "\n"
     ]
    },
    {
     "name": "stderr",
     "output_type": "stream",
     "text": [
      "Loading through DICOM files: 100%|███████████████████████████████████████████████████████| 2/2 [00:45<00:00, 22.66s/it]\n",
      "Loading through DICOM files:   0%|                                                               | 0/2 [00:00<?, ?it/s]"
     ]
    },
    {
     "name": "stdout",
     "output_type": "stream",
     "text": [
      "Loading from input\\HNSCC-01-0237\\05-08-2005-NA-CT SOFT TISSUE NECK W-91994\\1.000000-Series Description-88547\n",
      "Loading from input\\HNSCC-01-0237\\05-08-2005-NA-CT SOFT TISSUE NECK W-91994\\2.000000-CONTRAST120CC3CCS90S DELAY-33061\n"
     ]
    },
    {
     "name": "stderr",
     "output_type": "stream",
     "text": [
      "\r",
      "Loading through DICOM files: 100%|███████████████████████████████████████████████████████| 2/2 [00:04<00:00,  2.43s/it]"
     ]
    },
    {
     "name": "stdout",
     "output_type": "stream",
     "text": [
      "Compiling dictionaries together...\n",
      "Index 0, description CONTRAST120CC@3CC/S,90S DELAY  at input\\HNSCC-01-0237\\05-08-2005-NA-CT SOFT TISSUE NECK W-91994\\2.000000-CONTRAST120CC3CCS90S DELAY-33061\n",
      "1 unique series IDs were found. Default is index 0, to change use set_index(index)\n",
      "Loading images for CONTRAST120CC@3CC/S,90S DELAY  at \n",
      " input\\HNSCC-01-0237\\05-08-2005-NA-CT SOFT TISSUE NECK W-91994\\2.000000-CONTRAST120CC3CCS90S DELAY-33061\n",
      "\n"
     ]
    },
    {
     "name": "stderr",
     "output_type": "stream",
     "text": [
      "Loading through DICOM files: 100%|███████████████████████████████████████████████████████| 2/2 [00:15<00:00,  7.72s/it]\n",
      "Loading through DICOM files:   0%|                                                               | 0/2 [00:00<?, ?it/s]"
     ]
    },
    {
     "name": "stdout",
     "output_type": "stream",
     "text": [
      "Loading from input\\HNSCC-01-0238\\05-08-2005-NA-CT SOFT TISSUE NECK W-04882\\1.000000-Series Description-90943\n",
      "Loading from input\\HNSCC-01-0238\\05-08-2005-NA-CT SOFT TISSUE NECK W-04882\\2.000000-CONTRAST120CC3CCS90S DELAY-97011\n"
     ]
    },
    {
     "name": "stderr",
     "output_type": "stream",
     "text": [
      "\r",
      "Loading through DICOM files: 100%|███████████████████████████████████████████████████████| 2/2 [00:13<00:00,  6.91s/it]"
     ]
    },
    {
     "name": "stdout",
     "output_type": "stream",
     "text": [
      "Compiling dictionaries together...\n",
      "Index 0, description CONTRAST120CC@3CC/S,90S DELAY  at input\\HNSCC-01-0238\\05-08-2005-NA-CT SOFT TISSUE NECK W-04882\\2.000000-CONTRAST120CC3CCS90S DELAY-97011\n",
      "1 unique series IDs were found. Default is index 0, to change use set_index(index)\n",
      "Loading images for CONTRAST120CC@3CC/S,90S DELAY  at \n",
      " input\\HNSCC-01-0238\\05-08-2005-NA-CT SOFT TISSUE NECK W-04882\\2.000000-CONTRAST120CC3CCS90S DELAY-97011\n",
      "\n"
     ]
    },
    {
     "name": "stderr",
     "output_type": "stream",
     "text": [
      "Loading through DICOM files: 100%|███████████████████████████████████████████████████████| 2/2 [00:48<00:00, 24.17s/it]\n",
      "Loading through DICOM files:   0%|                                                               | 0/2 [00:00<?, ?it/s]"
     ]
    },
    {
     "name": "stdout",
     "output_type": "stream",
     "text": [
      "Loading from input\\HNSCC-01-0239\\05-08-2005-NA-OSF CT SFT TISS NECK-50101\\9826.000000-S.TISSUE NECK-55849\n",
      "Loading from input\\HNSCC-01-0239\\05-08-2005-NA-OSF CT SFT TISS NECK-50101\\1.000000-Series Description-57365\n"
     ]
    },
    {
     "name": "stderr",
     "output_type": "stream",
     "text": [
      "\r",
      "Loading through DICOM files: 100%|███████████████████████████████████████████████████████| 2/2 [00:04<00:00,  2.27s/it]"
     ]
    },
    {
     "name": "stdout",
     "output_type": "stream",
     "text": [
      "Compiling dictionaries together...\n",
      "Index 0, description S.TISSUE NECK  at input\\HNSCC-01-0239\\05-08-2005-NA-OSF CT SFT TISS NECK-50101\\9826.000000-S.TISSUE NECK-55849\n",
      "1 unique series IDs were found. Default is index 0, to change use set_index(index)\n",
      "Loading images for S.TISSUE NECK  at \n",
      " input\\HNSCC-01-0239\\05-08-2005-NA-OSF CT SFT TISS NECK-50101\\9826.000000-S.TISSUE NECK-55849\n",
      "\n"
     ]
    },
    {
     "name": "stderr",
     "output_type": "stream",
     "text": [
      "Loading through DICOM files: 100%|███████████████████████████████████████████████████████| 2/2 [00:15<00:00,  7.83s/it]\n",
      "Loading through DICOM files:  50%|███████████████████████████▌                           | 1/2 [00:00<00:00,  9.71it/s]"
     ]
    },
    {
     "name": "stdout",
     "output_type": "stream",
     "text": [
      "Loading from input\\HNSCC-01-0240\\05-08-2005-NA-CT SOFT TISSUE NECK W-23775\\1.000000-Series Description-11206\n",
      "Loading from input\\HNSCC-01-0240\\05-08-2005-NA-CT SOFT TISSUE NECK W-23775\\2.000000-CONTRAST120CC3CCS90S DELAY-97645\n"
     ]
    },
    {
     "name": "stderr",
     "output_type": "stream",
     "text": [
      "\r",
      "Loading through DICOM files: 100%|███████████████████████████████████████████████████████| 2/2 [00:18<00:00, 10.61s/it]"
     ]
    },
    {
     "name": "stdout",
     "output_type": "stream",
     "text": [
      "Compiling dictionaries together...\n",
      "Index 0, description CONTRAST120CC@3CC/S,90S DELAY  at input\\HNSCC-01-0240\\05-08-2005-NA-CT SOFT TISSUE NECK W-23775\\2.000000-CONTRAST120CC3CCS90S DELAY-97645\n",
      "1 unique series IDs were found. Default is index 0, to change use set_index(index)\n",
      "Loading images for CONTRAST120CC@3CC/S,90S DELAY  at \n",
      " input\\HNSCC-01-0240\\05-08-2005-NA-CT SOFT TISSUE NECK W-23775\\2.000000-CONTRAST120CC3CCS90S DELAY-97645\n",
      "\n"
     ]
    },
    {
     "name": "stderr",
     "output_type": "stream",
     "text": [
      "Loading through DICOM files: 100%|███████████████████████████████████████████████████████| 2/2 [00:54<00:00, 27.22s/it]\n",
      "Loading through DICOM files:   0%|                                                               | 0/2 [00:00<?, ?it/s]"
     ]
    },
    {
     "name": "stdout",
     "output_type": "stream",
     "text": [
      "Loading from input\\HNSCC-01-0241\\05-08-2005-NA-CT SOFT TISSUE NECK W-51010\\2.000000-CONTRAST120CC3CCSEC90S DEL-83545\n",
      "Loading from input\\HNSCC-01-0241\\05-08-2005-NA-CT SOFT TISSUE NECK W-51010\\1.000000-Series Description-65371\n"
     ]
    },
    {
     "name": "stderr",
     "output_type": "stream",
     "text": [
      "\r",
      "Loading through DICOM files: 100%|███████████████████████████████████████████████████████| 2/2 [00:05<00:00,  2.66s/it]"
     ]
    },
    {
     "name": "stdout",
     "output_type": "stream",
     "text": [
      "Compiling dictionaries together...\n",
      "Index 0, description CONTRAST120CC@3CC/SEC,90S DEL  at input\\HNSCC-01-0241\\05-08-2005-NA-CT SOFT TISSUE NECK W-51010\\2.000000-CONTRAST120CC3CCSEC90S DEL-83545\n",
      "1 unique series IDs were found. Default is index 0, to change use set_index(index)\n",
      "Loading images for CONTRAST120CC@3CC/SEC,90S DEL  at \n",
      " input\\HNSCC-01-0241\\05-08-2005-NA-CT SOFT TISSUE NECK W-51010\\2.000000-CONTRAST120CC3CCSEC90S DEL-83545\n",
      "\n"
     ]
    },
    {
     "name": "stderr",
     "output_type": "stream",
     "text": [
      "Loading through DICOM files: 100%|███████████████████████████████████████████████████████| 2/2 [00:16<00:00,  8.11s/it]\n",
      "Loading through DICOM files:   0%|                                                               | 0/2 [00:00<?, ?it/s]"
     ]
    },
    {
     "name": "stdout",
     "output_type": "stream",
     "text": [
      "Loading from input\\HNSCC-01-0242\\05-08-2005-NA-CT SOFT TISSUE NECK W-60395\\1.000000-Series Description-74009\n",
      "Loading from input\\HNSCC-01-0242\\05-08-2005-NA-CT SOFT TISSUE NECK W-60395\\2.000000-CONTRAST120CC3CCS90S DELAY-53493\n"
     ]
    },
    {
     "name": "stderr",
     "output_type": "stream",
     "text": [
      "\r",
      "Loading through DICOM files: 100%|███████████████████████████████████████████████████████| 2/2 [00:16<00:00,  8.06s/it]"
     ]
    },
    {
     "name": "stdout",
     "output_type": "stream",
     "text": [
      "Compiling dictionaries together...\n",
      "Index 0, description CONTRAST120CC@3CC/S,90S DELAY  at input\\HNSCC-01-0242\\05-08-2005-NA-CT SOFT TISSUE NECK W-60395\\2.000000-CONTRAST120CC3CCS90S DELAY-53493\n",
      "1 unique series IDs were found. Default is index 0, to change use set_index(index)\n",
      "Loading images for CONTRAST120CC@3CC/S,90S DELAY  at \n",
      " input\\HNSCC-01-0242\\05-08-2005-NA-CT SOFT TISSUE NECK W-60395\\2.000000-CONTRAST120CC3CCS90S DELAY-53493\n",
      "\n"
     ]
    },
    {
     "name": "stderr",
     "output_type": "stream",
     "text": [
      "Loading through DICOM files: 100%|███████████████████████████████████████████████████████| 2/2 [00:48<00:00, 24.27s/it]\n",
      "Loading through DICOM files:   0%|                                                               | 0/2 [00:00<?, ?it/s]"
     ]
    },
    {
     "name": "stdout",
     "output_type": "stream",
     "text": [
      "Loading from input\\HNSCC-01-0243\\05-08-2005-NA-CT SOFT TISSUE NECK W-27099\\1.000000-Series Description-18805\n",
      "Loading from input\\HNSCC-01-0243\\05-08-2005-NA-CT SOFT TISSUE NECK W-27099\\2.000000-CONTRAST120CC3CCS90S DELAY-70213\n"
     ]
    },
    {
     "name": "stderr",
     "output_type": "stream",
     "text": [
      "\r",
      "Loading through DICOM files: 100%|███████████████████████████████████████████████████████| 2/2 [00:13<00:00,  6.76s/it]"
     ]
    },
    {
     "name": "stdout",
     "output_type": "stream",
     "text": [
      "Compiling dictionaries together...\n",
      "Index 0, description CONTRAST120CC@3CC/S,90S DELAY  at input\\HNSCC-01-0243\\05-08-2005-NA-CT SOFT TISSUE NECK W-27099\\2.000000-CONTRAST120CC3CCS90S DELAY-70213\n",
      "1 unique series IDs were found. Default is index 0, to change use set_index(index)\n",
      "Loading images for CONTRAST120CC@3CC/S,90S DELAY  at \n",
      " input\\HNSCC-01-0243\\05-08-2005-NA-CT SOFT TISSUE NECK W-27099\\2.000000-CONTRAST120CC3CCS90S DELAY-70213\n",
      "\n"
     ]
    },
    {
     "name": "stderr",
     "output_type": "stream",
     "text": [
      "Loading through DICOM files: 100%|███████████████████████████████████████████████████████| 2/2 [00:43<00:00, 21.51s/it]\n",
      "Loading through DICOM files:   0%|                                                               | 0/2 [00:00<?, ?it/s]"
     ]
    },
    {
     "name": "stdout",
     "output_type": "stream",
     "text": [
      "Loading from input\\HNSCC-01-0244\\05-08-2005-NA-CT SOFT TISSUE NECK W-31734\\1.000000-Series Description-37266\n",
      "Loading from input\\HNSCC-01-0244\\05-08-2005-NA-CT SOFT TISSUE NECK W-31734\\2.000000-CONTRAST120CC3CCS90S DELAY-14219\n"
     ]
    },
    {
     "name": "stderr",
     "output_type": "stream",
     "text": [
      "\r",
      "Loading through DICOM files: 100%|███████████████████████████████████████████████████████| 2/2 [00:15<00:00,  7.68s/it]"
     ]
    },
    {
     "name": "stdout",
     "output_type": "stream",
     "text": [
      "Compiling dictionaries together...\n",
      "Index 0, description CONTRAST120CC@3CC/S,90S DELAY  at input\\HNSCC-01-0244\\05-08-2005-NA-CT SOFT TISSUE NECK W-31734\\2.000000-CONTRAST120CC3CCS90S DELAY-14219\n",
      "1 unique series IDs were found. Default is index 0, to change use set_index(index)\n",
      "Loading images for CONTRAST120CC@3CC/S,90S DELAY  at \n",
      " input\\HNSCC-01-0244\\05-08-2005-NA-CT SOFT TISSUE NECK W-31734\\2.000000-CONTRAST120CC3CCS90S DELAY-14219\n",
      "\n"
     ]
    },
    {
     "name": "stderr",
     "output_type": "stream",
     "text": [
      "Loading through DICOM files: 100%|███████████████████████████████████████████████████████| 2/2 [00:47<00:00, 23.55s/it]\n",
      "Loading through DICOM files:   0%|                                                               | 0/2 [00:00<?, ?it/s]"
     ]
    },
    {
     "name": "stdout",
     "output_type": "stream",
     "text": [
      "Loading from input\\HNSCC-01-0245\\05-08-2005-NA-CT HN N23-61908\\1.000000-Series Description-34564Loading from input\\HNSCC-01-0245\\05-08-2005-NA-CT HN N23-61908\\2.000000-CONTRAST120CC3CCS90S DELAY-31469\n",
      "\n"
     ]
    },
    {
     "name": "stderr",
     "output_type": "stream",
     "text": [
      "\r",
      "Loading through DICOM files: 100%|███████████████████████████████████████████████████████| 2/2 [00:15<00:00,  7.54s/it]"
     ]
    },
    {
     "name": "stdout",
     "output_type": "stream",
     "text": [
      "Compiling dictionaries together...\n",
      "Index 0, description CONTRAST120CC@3CC/S,90S DELAY  at input\\HNSCC-01-0245\\05-08-2005-NA-CT HN N23-61908\\2.000000-CONTRAST120CC3CCS90S DELAY-31469\n",
      "1 unique series IDs were found. Default is index 0, to change use set_index(index)\n",
      "Loading images for CONTRAST120CC@3CC/S,90S DELAY  at \n",
      " input\\HNSCC-01-0245\\05-08-2005-NA-CT HN N23-61908\\2.000000-CONTRAST120CC3CCS90S DELAY-31469\n",
      "\n"
     ]
    },
    {
     "name": "stderr",
     "output_type": "stream",
     "text": [
      "Loading through DICOM files: 100%|███████████████████████████████████████████████████████| 2/2 [00:46<00:00, 23.29s/it]\n",
      "Loading through DICOM files:   0%|                                                               | 0/2 [00:00<?, ?it/s]"
     ]
    },
    {
     "name": "stdout",
     "output_type": "stream",
     "text": [
      "Loading from input\\HNSCC-01-0246\\05-08-2005-NA-CT SOFT TISSUE NECK W-76804\\2.000000-CONTRAST120CC3CCS90S DELAY-44899\n",
      "Loading from input\\HNSCC-01-0246\\05-08-2005-NA-CT SOFT TISSUE NECK W-76804\\1.000000-Series Description-69108\n"
     ]
    },
    {
     "name": "stderr",
     "output_type": "stream",
     "text": [
      "\r",
      "Loading through DICOM files: 100%|███████████████████████████████████████████████████████| 2/2 [00:16<00:00,  8.22s/it]"
     ]
    },
    {
     "name": "stdout",
     "output_type": "stream",
     "text": [
      "Compiling dictionaries together...\n",
      "Index 0, description CONTRAST120CC@3CC/S,90S DELAY  at input\\HNSCC-01-0246\\05-08-2005-NA-CT SOFT TISSUE NECK W-76804\\2.000000-CONTRAST120CC3CCS90S DELAY-44899\n",
      "1 unique series IDs were found. Default is index 0, to change use set_index(index)\n",
      "Loading images for CONTRAST120CC@3CC/S,90S DELAY  at \n",
      " input\\HNSCC-01-0246\\05-08-2005-NA-CT SOFT TISSUE NECK W-76804\\2.000000-CONTRAST120CC3CCS90S DELAY-44899\n",
      "\n"
     ]
    },
    {
     "name": "stderr",
     "output_type": "stream",
     "text": [
      "Loading through DICOM files: 100%|███████████████████████████████████████████████████████| 2/2 [00:55<00:00, 27.60s/it]\n",
      "Loading through DICOM files:   0%|                                                               | 0/2 [00:00<?, ?it/s]"
     ]
    },
    {
     "name": "stdout",
     "output_type": "stream",
     "text": [
      "Loading from input\\HNSCC-01-0247\\05-08-2005-NA-CT SOFT TISSUE NECK W-54734\\2.000000-CONTRAST120CC3CCS90S DELAY-33058Loading from input\\HNSCC-01-0247\\05-08-2005-NA-CT SOFT TISSUE NECK W-54734\\1.000000-Series Description-16927\n",
      "\n"
     ]
    },
    {
     "name": "stderr",
     "output_type": "stream",
     "text": [
      "\r",
      "Loading through DICOM files: 100%|███████████████████████████████████████████████████████| 2/2 [00:05<00:00,  2.66s/it]"
     ]
    },
    {
     "name": "stdout",
     "output_type": "stream",
     "text": [
      "Compiling dictionaries together...\n",
      "Index 0, description CONTRAST120CC@3CC/S,90S DELAY  at input\\HNSCC-01-0247\\05-08-2005-NA-CT SOFT TISSUE NECK W-54734\\2.000000-CONTRAST120CC3CCS90S DELAY-33058\n",
      "1 unique series IDs were found. Default is index 0, to change use set_index(index)\n",
      "Loading images for CONTRAST120CC@3CC/S,90S DELAY  at \n",
      " input\\HNSCC-01-0247\\05-08-2005-NA-CT SOFT TISSUE NECK W-54734\\2.000000-CONTRAST120CC3CCS90S DELAY-33058\n",
      "\n"
     ]
    },
    {
     "name": "stderr",
     "output_type": "stream",
     "text": [
      "Loading through DICOM files: 100%|███████████████████████████████████████████████████████| 2/2 [00:17<00:00,  8.70s/it]\n",
      "Loading through DICOM files:  50%|███████████████████████████▌                           | 1/2 [00:00<00:00,  9.71it/s]"
     ]
    },
    {
     "name": "stdout",
     "output_type": "stream",
     "text": [
      "Loading from input\\HNSCC-01-0248\\05-08-2005-NA-CT SOFT TISSUE NECK W-80963\\1.000000-Series Description-22766\n",
      "Loading from input\\HNSCC-01-0248\\05-08-2005-NA-CT SOFT TISSUE NECK W-80963\\2.000000-CONTRAST120CC3CCS90S DELAY-62808\n"
     ]
    },
    {
     "name": "stderr",
     "output_type": "stream",
     "text": [
      "\r",
      "Loading through DICOM files: 100%|███████████████████████████████████████████████████████| 2/2 [00:14<00:00,  8.51s/it]"
     ]
    },
    {
     "name": "stdout",
     "output_type": "stream",
     "text": [
      "Compiling dictionaries together...\n",
      "Index 0, description CONTRAST120CC@3CC/S,90S DELAY  at input\\HNSCC-01-0248\\05-08-2005-NA-CT SOFT TISSUE NECK W-80963\\2.000000-CONTRAST120CC3CCS90S DELAY-62808\n",
      "1 unique series IDs were found. Default is index 0, to change use set_index(index)\n",
      "Loading images for CONTRAST120CC@3CC/S,90S DELAY  at \n",
      " input\\HNSCC-01-0248\\05-08-2005-NA-CT SOFT TISSUE NECK W-80963\\2.000000-CONTRAST120CC3CCS90S DELAY-62808\n",
      "\n"
     ]
    },
    {
     "name": "stderr",
     "output_type": "stream",
     "text": [
      "Loading through DICOM files: 100%|███████████████████████████████████████████████████████| 2/2 [00:48<00:00, 24.39s/it]\n",
      "Loading through DICOM files:   0%|                                                               | 0/2 [00:00<?, ?it/s]"
     ]
    },
    {
     "name": "stdout",
     "output_type": "stream",
     "text": [
      "Loading from input\\HNSCC-01-0249\\05-08-2005-NA-CT SOFT TISSUE NECK W-13279\\1.000000-Series Description-36452\n",
      "Loading from input\\HNSCC-01-0249\\05-08-2005-NA-CT SOFT TISSUE NECK W-13279\\2.000000-CONTRAST120CC3CCS90S DELAY-75497\n"
     ]
    },
    {
     "name": "stderr",
     "output_type": "stream",
     "text": [
      "\r",
      "Loading through DICOM files: 100%|███████████████████████████████████████████████████████| 2/2 [00:14<00:00,  7.21s/it]"
     ]
    },
    {
     "name": "stdout",
     "output_type": "stream",
     "text": [
      "Compiling dictionaries together...\n",
      "Index 0, description CONTRAST120CC@3CC/S,90S DELAY  at input\\HNSCC-01-0249\\05-08-2005-NA-CT SOFT TISSUE NECK W-13279\\2.000000-CONTRAST120CC3CCS90S DELAY-75497\n",
      "1 unique series IDs were found. Default is index 0, to change use set_index(index)\n",
      "Loading images for CONTRAST120CC@3CC/S,90S DELAY  at \n",
      " input\\HNSCC-01-0249\\05-08-2005-NA-CT SOFT TISSUE NECK W-13279\\2.000000-CONTRAST120CC3CCS90S DELAY-75497\n",
      "\n"
     ]
    },
    {
     "name": "stderr",
     "output_type": "stream",
     "text": [
      "Loading through DICOM files: 100%|███████████████████████████████████████████████████████| 2/2 [00:46<00:00, 23.05s/it]\n",
      "Loading through DICOM files:   0%|                                                               | 0/2 [00:00<?, ?it/s]"
     ]
    },
    {
     "name": "stdout",
     "output_type": "stream",
     "text": [
      "Loading from input\\HNSCC-01-0250\\05-08-2005-NA-CT SOFT TISSUE NECK W-73193\\2.000000-CONTRAST120CC3CCS90S DELAY-74490\n",
      "Loading from input\\HNSCC-01-0250\\05-08-2005-NA-CT SOFT TISSUE NECK W-73193\\1.000000-Series Description-54672\n"
     ]
    },
    {
     "name": "stderr",
     "output_type": "stream",
     "text": [
      "\r",
      "Loading through DICOM files: 100%|███████████████████████████████████████████████████████| 2/2 [00:12<00:00,  6.45s/it]"
     ]
    },
    {
     "name": "stdout",
     "output_type": "stream",
     "text": [
      "Compiling dictionaries together...\n",
      "Index 0, description CONTRAST120CC@3CC/S,90S DELAY  at input\\HNSCC-01-0250\\05-08-2005-NA-CT SOFT TISSUE NECK W-73193\\2.000000-CONTRAST120CC3CCS90S DELAY-74490\n",
      "1 unique series IDs were found. Default is index 0, to change use set_index(index)\n",
      "Loading images for CONTRAST120CC@3CC/S,90S DELAY  at \n",
      " input\\HNSCC-01-0250\\05-08-2005-NA-CT SOFT TISSUE NECK W-73193\\2.000000-CONTRAST120CC3CCS90S DELAY-74490\n",
      "\n"
     ]
    },
    {
     "name": "stderr",
     "output_type": "stream",
     "text": [
      "Loading through DICOM files: 100%|███████████████████████████████████████████████████████| 2/2 [00:43<00:00, 21.92s/it]\n",
      "Loading through DICOM files:   0%|                                                               | 0/2 [00:00<?, ?it/s]"
     ]
    },
    {
     "name": "stdout",
     "output_type": "stream",
     "text": [
      "Loading from input\\HNSCC-01-0251\\06-11-2006-NA-OSF CT SFT TISS NECK-85822\\1.000000-Series Description-46291\n",
      "Loading from input\\HNSCC-01-0251\\06-11-2006-NA-OSF CT SFT TISS NECK-85822\\2.000000-ST Neck  3.0  B31s  ST-56558\n"
     ]
    },
    {
     "name": "stderr",
     "output_type": "stream",
     "text": [
      "\r",
      "Loading through DICOM files: 100%|███████████████████████████████████████████████████████| 2/2 [00:03<00:00,  1.98s/it]"
     ]
    },
    {
     "name": "stdout",
     "output_type": "stream",
     "text": [
      "Compiling dictionaries together...\n",
      "Index 0, description ST Neck  3.0  B31s  ST at input\\HNSCC-01-0251\\06-11-2006-NA-OSF CT SFT TISS NECK-85822\\2.000000-ST Neck  3.0  B31s  ST-56558\n",
      "1 unique series IDs were found. Default is index 0, to change use set_index(index)\n",
      "Loading images for ST Neck  3.0  B31s  ST at \n",
      " input\\HNSCC-01-0251\\06-11-2006-NA-OSF CT SFT TISS NECK-85822\\2.000000-ST Neck  3.0  B31s  ST-56558\n",
      "\n"
     ]
    },
    {
     "name": "stderr",
     "output_type": "stream",
     "text": [
      "Loading through DICOM files: 100%|███████████████████████████████████████████████████████| 2/2 [00:14<00:00,  7.28s/it]\n",
      "Loading through DICOM files:   0%|                                                               | 0/2 [00:00<?, ?it/s]"
     ]
    },
    {
     "name": "stdout",
     "output_type": "stream",
     "text": [
      "Loading from input\\HNSCC-01-0252\\05-08-2005-NA-CT SOFT TISSUE NECK W-47428\\1.000000-Series Description-29045\n",
      "Loading from input\\HNSCC-01-0252\\05-08-2005-NA-CT SOFT TISSUE NECK W-47428\\4.000000-CONTRAST120CC3CCS90S DELAY-52695\n"
     ]
    },
    {
     "name": "stderr",
     "output_type": "stream",
     "text": [
      "\r",
      "Loading through DICOM files: 100%|███████████████████████████████████████████████████████| 2/2 [00:13<00:00,  6.70s/it]"
     ]
    },
    {
     "name": "stdout",
     "output_type": "stream",
     "text": [
      "Compiling dictionaries together...\n",
      "Index 0, description CONTRAST120CC@3CC/S,90S DELAY  at input\\HNSCC-01-0252\\05-08-2005-NA-CT SOFT TISSUE NECK W-47428\\4.000000-CONTRAST120CC3CCS90S DELAY-52695\n",
      "1 unique series IDs were found. Default is index 0, to change use set_index(index)\n",
      "Loading images for CONTRAST120CC@3CC/S,90S DELAY  at \n",
      " input\\HNSCC-01-0252\\05-08-2005-NA-CT SOFT TISSUE NECK W-47428\\4.000000-CONTRAST120CC3CCS90S DELAY-52695\n",
      "\n"
     ]
    },
    {
     "name": "stderr",
     "output_type": "stream",
     "text": [
      "Loading through DICOM files: 100%|███████████████████████████████████████████████████████| 2/2 [00:44<00:00, 22.24s/it]\n",
      "Loading through DICOM files:  50%|███████████████████████████▌                           | 1/2 [00:00<00:00,  7.75it/s]"
     ]
    },
    {
     "name": "stdout",
     "output_type": "stream",
     "text": [
      "Loading from input\\HNSCC-01-0253\\06-11-2006-NA-CT SOFT TISSUE NECK W-12007\\2.000000-CONTRAST120CC3CCS90S DELAY-85457\n",
      "Loading from input\\HNSCC-01-0253\\06-11-2006-NA-CT SOFT TISSUE NECK W-12007\\1.000000-Series Description-11276\n"
     ]
    },
    {
     "name": "stderr",
     "output_type": "stream",
     "text": [
      "\r",
      "Loading through DICOM files: 100%|███████████████████████████████████████████████████████| 2/2 [00:16<00:00,  9.41s/it]"
     ]
    },
    {
     "name": "stdout",
     "output_type": "stream",
     "text": [
      "Compiling dictionaries together...\n",
      "Index 0, description CONTRAST120CC@3CC/S,90S DELAY  at input\\HNSCC-01-0253\\06-11-2006-NA-CT SOFT TISSUE NECK W-12007\\2.000000-CONTRAST120CC3CCS90S DELAY-85457\n",
      "1 unique series IDs were found. Default is index 0, to change use set_index(index)\n",
      "Loading images for CONTRAST120CC@3CC/S,90S DELAY  at \n",
      " input\\HNSCC-01-0253\\06-11-2006-NA-CT SOFT TISSUE NECK W-12007\\2.000000-CONTRAST120CC3CCS90S DELAY-85457\n",
      "\n"
     ]
    },
    {
     "name": "stderr",
     "output_type": "stream",
     "text": [
      "Loading through DICOM files: 100%|███████████████████████████████████████████████████████| 2/2 [00:52<00:00, 26.28s/it]\n",
      "Loading through DICOM files:   0%|                                                               | 0/2 [00:00<?, ?it/s]"
     ]
    },
    {
     "name": "stdout",
     "output_type": "stream",
     "text": [
      "Loading from input\\HNSCC-01-0254\\06-11-2006-NA-CT SOFT TISSUE NECK W-56917\\1.000000-Series Description-34795\n",
      "Loading from input\\HNSCC-01-0254\\06-11-2006-NA-CT SOFT TISSUE NECK W-56917\\2.000000-CONTRAST120CC3CCS90S DELAY-58105\n"
     ]
    },
    {
     "name": "stderr",
     "output_type": "stream",
     "text": [
      "\r",
      "Loading through DICOM files: 100%|███████████████████████████████████████████████████████| 2/2 [00:14<00:00,  7.45s/it]"
     ]
    },
    {
     "name": "stdout",
     "output_type": "stream",
     "text": [
      "Compiling dictionaries together...\n",
      "Index 0, description CONTRAST120CC@3CC/S,90S DELAY  at input\\HNSCC-01-0254\\06-11-2006-NA-CT SOFT TISSUE NECK W-56917\\2.000000-CONTRAST120CC3CCS90S DELAY-58105\n",
      "1 unique series IDs were found. Default is index 0, to change use set_index(index)\n",
      "Loading images for CONTRAST120CC@3CC/S,90S DELAY  at \n",
      " input\\HNSCC-01-0254\\06-11-2006-NA-CT SOFT TISSUE NECK W-56917\\2.000000-CONTRAST120CC3CCS90S DELAY-58105\n",
      "\n"
     ]
    },
    {
     "name": "stderr",
     "output_type": "stream",
     "text": [
      "Loading through DICOM files: 100%|███████████████████████████████████████████████████████| 2/2 [00:47<00:00, 23.63s/it]\n",
      "Loading through DICOM files:   0%|                                                               | 0/2 [00:00<?, ?it/s]"
     ]
    },
    {
     "name": "stdout",
     "output_type": "stream",
     "text": [
      "Loading from input\\HNSCC-01-0255\\06-11-2006-NA-CT SOFT TISSUE NECK W-30969\\2.000000-CONTRAST120CC3CCS90S DELAY-32051\n",
      "Loading from input\\HNSCC-01-0255\\06-11-2006-NA-CT SOFT TISSUE NECK W-30969\\1.000000-Series Description-30644\n"
     ]
    },
    {
     "name": "stderr",
     "output_type": "stream",
     "text": [
      "\r",
      "Loading through DICOM files: 100%|███████████████████████████████████████████████████████| 2/2 [00:13<00:00,  6.94s/it]"
     ]
    },
    {
     "name": "stdout",
     "output_type": "stream",
     "text": [
      "Compiling dictionaries together...\n",
      "Index 0, description CONTRAST120CC@3CC/S,90S DELAY  at input\\HNSCC-01-0255\\06-11-2006-NA-CT SOFT TISSUE NECK W-30969\\2.000000-CONTRAST120CC3CCS90S DELAY-32051\n",
      "1 unique series IDs were found. Default is index 0, to change use set_index(index)\n",
      "Loading images for CONTRAST120CC@3CC/S,90S DELAY  at \n",
      " input\\HNSCC-01-0255\\06-11-2006-NA-CT SOFT TISSUE NECK W-30969\\2.000000-CONTRAST120CC3CCS90S DELAY-32051\n",
      "\n"
     ]
    },
    {
     "name": "stderr",
     "output_type": "stream",
     "text": [
      "Loading through DICOM files: 100%|███████████████████████████████████████████████████████| 2/2 [00:39<00:00, 19.72s/it]\n",
      "Loading through DICOM files:   0%|                                                               | 0/2 [00:00<?, ?it/s]"
     ]
    },
    {
     "name": "stdout",
     "output_type": "stream",
     "text": [
      "Loading from input\\HNSCC-01-0256\\06-11-2006-NA-CT SOFT TISSUE NECK W-47973\\1.000000-Series Description-77411\n",
      "Loading from input\\HNSCC-01-0256\\06-11-2006-NA-CT SOFT TISSUE NECK W-47973\\2.000000-CONTRAST120CC3CCS90S DELAY-02945\n"
     ]
    },
    {
     "name": "stderr",
     "output_type": "stream",
     "text": [
      "\r",
      "Loading through DICOM files: 100%|███████████████████████████████████████████████████████| 2/2 [00:16<00:00,  8.16s/it]"
     ]
    },
    {
     "name": "stdout",
     "output_type": "stream",
     "text": [
      "Compiling dictionaries together...\n",
      "Index 0, description CONTRAST120CC@3CC/S,90S DELAY  at input\\HNSCC-01-0256\\06-11-2006-NA-CT SOFT TISSUE NECK W-47973\\2.000000-CONTRAST120CC3CCS90S DELAY-02945\n",
      "1 unique series IDs were found. Default is index 0, to change use set_index(index)\n",
      "Loading images for CONTRAST120CC@3CC/S,90S DELAY  at \n",
      " input\\HNSCC-01-0256\\06-11-2006-NA-CT SOFT TISSUE NECK W-47973\\2.000000-CONTRAST120CC3CCS90S DELAY-02945\n",
      "\n"
     ]
    },
    {
     "name": "stderr",
     "output_type": "stream",
     "text": [
      "Loading through DICOM files: 100%|███████████████████████████████████████████████████████| 2/2 [00:47<00:00, 23.70s/it]\n",
      "Loading through DICOM files:   0%|                                                               | 0/2 [00:00<?, ?it/s]"
     ]
    },
    {
     "name": "stdout",
     "output_type": "stream",
     "text": [
      "Loading from input\\HNSCC-01-0257\\06-11-2006-NA-CT SOFT TISSUE NECK W-95784\\3.000000-CONTRAST120CC3CCS90S DELAY-21795\n",
      "Loading from input\\HNSCC-01-0257\\06-11-2006-NA-CT SOFT TISSUE NECK W-95784\\1.000000-Series Description-73839\n"
     ]
    },
    {
     "name": "stderr",
     "output_type": "stream",
     "text": [
      "\r",
      "Loading through DICOM files: 100%|███████████████████████████████████████████████████████| 2/2 [00:15<00:00,  7.68s/it]"
     ]
    },
    {
     "name": "stdout",
     "output_type": "stream",
     "text": [
      "Compiling dictionaries together...\n",
      "Index 0, description CONTRAST120CC@3CC/S,90S DELAY  at input\\HNSCC-01-0257\\06-11-2006-NA-CT SOFT TISSUE NECK W-95784\\3.000000-CONTRAST120CC3CCS90S DELAY-21795\n",
      "1 unique series IDs were found. Default is index 0, to change use set_index(index)\n",
      "Loading images for CONTRAST120CC@3CC/S,90S DELAY  at \n",
      " input\\HNSCC-01-0257\\06-11-2006-NA-CT SOFT TISSUE NECK W-95784\\3.000000-CONTRAST120CC3CCS90S DELAY-21795\n",
      "\n"
     ]
    },
    {
     "name": "stderr",
     "output_type": "stream",
     "text": [
      "Loading through DICOM files: 100%|███████████████████████████████████████████████████████| 2/2 [00:50<00:00, 25.29s/it]\n",
      "Loading through DICOM files:   0%|                                                               | 0/2 [00:00<?, ?it/s]"
     ]
    },
    {
     "name": "stdout",
     "output_type": "stream",
     "text": [
      "Loading from input\\HNSCC-01-0258\\06-11-2006-NA-CT SOFT TISSUE NECK W-44617\\1.000000-Series Description-36943\n",
      "Loading from input\\HNSCC-01-0258\\06-11-2006-NA-CT SOFT TISSUE NECK W-44617\\2.000000-CONTRAST120CC3CCS90S DELAY-35777\n"
     ]
    },
    {
     "name": "stderr",
     "output_type": "stream",
     "text": [
      "\r",
      "Loading through DICOM files: 100%|███████████████████████████████████████████████████████| 2/2 [00:13<00:00,  6.55s/it]"
     ]
    },
    {
     "name": "stdout",
     "output_type": "stream",
     "text": [
      "Compiling dictionaries together...\n",
      "Index 0, description CONTRAST120CC@3CC/S,90S DELAY  at input\\HNSCC-01-0258\\06-11-2006-NA-CT SOFT TISSUE NECK W-44617\\2.000000-CONTRAST120CC3CCS90S DELAY-35777\n",
      "1 unique series IDs were found. Default is index 0, to change use set_index(index)\n",
      "Loading images for CONTRAST120CC@3CC/S,90S DELAY  at \n",
      " input\\HNSCC-01-0258\\06-11-2006-NA-CT SOFT TISSUE NECK W-44617\\2.000000-CONTRAST120CC3CCS90S DELAY-35777\n",
      "\n"
     ]
    },
    {
     "name": "stderr",
     "output_type": "stream",
     "text": [
      "Loading through DICOM files: 100%|███████████████████████████████████████████████████████| 2/2 [00:41<00:00, 20.65s/it]\n",
      "Loading through DICOM files:   0%|                                                               | 0/2 [00:00<?, ?it/s]"
     ]
    },
    {
     "name": "stdout",
     "output_type": "stream",
     "text": [
      "Loading from input\\HNSCC-01-0259\\06-11-2006-NA-002-89434\\1.000000-Series Description-17708\n",
      "Loading from input\\HNSCC-01-0259\\06-11-2006-NA-002-89434\\2.000000-CONTRAST120CC3CCS90S DELAY-90538\n"
     ]
    },
    {
     "name": "stderr",
     "output_type": "stream",
     "text": [
      "Loading through DICOM files: 100%|███████████████████████████████████████████████████████| 2/2 [00:13<00:00,  7.90s/it]"
     ]
    },
    {
     "name": "stdout",
     "output_type": "stream",
     "text": [
      "Compiling dictionaries together...\n",
      "Index 0, description CONTRAST120CC@3CC/S,90S DELAY  at input\\HNSCC-01-0259\\06-11-2006-NA-002-89434\\2.000000-CONTRAST120CC3CCS90S DELAY-90538\n",
      "1 unique series IDs were found. Default is index 0, to change use set_index(index)\n",
      "Loading images for CONTRAST120CC@3CC/S,90S DELAY  at \n",
      " input\\HNSCC-01-0259\\06-11-2006-NA-002-89434\\2.000000-CONTRAST120CC3CCS90S DELAY-90538\n",
      "\n"
     ]
    },
    {
     "name": "stderr",
     "output_type": "stream",
     "text": [
      "Loading through DICOM files: 100%|███████████████████████████████████████████████████████| 2/2 [00:46<00:00, 23.00s/it]\n",
      "Loading through DICOM files:   0%|                                                               | 0/2 [00:00<?, ?it/s]"
     ]
    },
    {
     "name": "stdout",
     "output_type": "stream",
     "text": [
      "Loading from input\\HNSCC-01-0260\\06-11-2006-NA-OSF CT SFT TISS NECK-74245\\2.000000-HELICAL 3MM CUTS-47958\n",
      "Loading from input\\HNSCC-01-0260\\06-11-2006-NA-OSF CT SFT TISS NECK-74245\\1.000000-Series Description-75466\n"
     ]
    },
    {
     "name": "stderr",
     "output_type": "stream",
     "text": [
      "\r",
      "Loading through DICOM files: 100%|███████████████████████████████████████████████████████| 2/2 [00:03<00:00,  1.77s/it]"
     ]
    },
    {
     "name": "stdout",
     "output_type": "stream",
     "text": [
      "Compiling dictionaries together...\n",
      "Index 0, description HELICAL 3MM CUTS at input\\HNSCC-01-0260\\06-11-2006-NA-OSF CT SFT TISS NECK-74245\\2.000000-HELICAL 3MM CUTS-47958\n",
      "1 unique series IDs were found. Default is index 0, to change use set_index(index)\n",
      "Loading images for HELICAL 3MM CUTS at \n",
      " input\\HNSCC-01-0260\\06-11-2006-NA-OSF CT SFT TISS NECK-74245\\2.000000-HELICAL 3MM CUTS-47958\n",
      "\n"
     ]
    },
    {
     "name": "stderr",
     "output_type": "stream",
     "text": [
      "Loading through DICOM files: 100%|███████████████████████████████████████████████████████| 2/2 [00:11<00:00,  5.79s/it]\n",
      "Loading through DICOM files:  50%|███████████████████████████▌                           | 1/2 [00:00<00:00,  9.90it/s]"
     ]
    },
    {
     "name": "stdout",
     "output_type": "stream",
     "text": [
      "Loading from input\\HNSCC-01-0261\\06-11-2006-NA-CT SOFT TISSUE NECK W-30250\\1.000000-Series Description-73844\n",
      "Loading from input\\HNSCC-01-0261\\06-11-2006-NA-CT SOFT TISSUE NECK W-30250\\2.000000-CONTRAST120CC3CCS90S DELAY-60920\n"
     ]
    },
    {
     "name": "stderr",
     "output_type": "stream",
     "text": [
      "\r",
      "Loading through DICOM files: 100%|███████████████████████████████████████████████████████| 2/2 [00:17<00:00, 10.30s/it]"
     ]
    },
    {
     "name": "stdout",
     "output_type": "stream",
     "text": [
      "Compiling dictionaries together...\n",
      "Index 0, description CONTRAST120CC@3CC/S,90S DELAY  at input\\HNSCC-01-0261\\06-11-2006-NA-CT SOFT TISSUE NECK W-30250\\2.000000-CONTRAST120CC3CCS90S DELAY-60920\n",
      "1 unique series IDs were found. Default is index 0, to change use set_index(index)\n",
      "Loading images for CONTRAST120CC@3CC/S,90S DELAY  at \n",
      " input\\HNSCC-01-0261\\06-11-2006-NA-CT SOFT TISSUE NECK W-30250\\2.000000-CONTRAST120CC3CCS90S DELAY-60920\n",
      "\n"
     ]
    },
    {
     "name": "stderr",
     "output_type": "stream",
     "text": [
      "Loading through DICOM files: 100%|███████████████████████████████████████████████████████| 2/2 [00:52<00:00, 26.23s/it]\n",
      "Loading through DICOM files:   0%|                                                               | 0/2 [00:00<?, ?it/s]"
     ]
    },
    {
     "name": "stdout",
     "output_type": "stream",
     "text": [
      "Loading from input\\HNSCC-01-0262\\06-11-2006-NA-CT SOFT TISSUE NECK W-82054\\2.000000-CONTRAST120CC3CCS90S DELAY-77453\n",
      "Loading from input\\HNSCC-01-0262\\06-11-2006-NA-CT SOFT TISSUE NECK W-82054\\1.000000-Series Description-02592\n"
     ]
    },
    {
     "name": "stderr",
     "output_type": "stream",
     "text": [
      "\r",
      "Loading through DICOM files: 100%|███████████████████████████████████████████████████████| 2/2 [00:14<00:00,  7.01s/it]"
     ]
    },
    {
     "name": "stdout",
     "output_type": "stream",
     "text": [
      "Compiling dictionaries together...\n",
      "Index 0, description CONTRAST120CC@3CC/S,90S DELAY  at input\\HNSCC-01-0262\\06-11-2006-NA-CT SOFT TISSUE NECK W-82054\\2.000000-CONTRAST120CC3CCS90S DELAY-77453\n",
      "1 unique series IDs were found. Default is index 0, to change use set_index(index)\n",
      "Loading images for CONTRAST120CC@3CC/S,90S DELAY  at \n",
      " input\\HNSCC-01-0262\\06-11-2006-NA-CT SOFT TISSUE NECK W-82054\\2.000000-CONTRAST120CC3CCS90S DELAY-77453\n",
      "\n"
     ]
    },
    {
     "name": "stderr",
     "output_type": "stream",
     "text": [
      "Loading through DICOM files: 100%|███████████████████████████████████████████████████████| 2/2 [00:43<00:00, 21.83s/it]\n",
      "Loading through DICOM files:   0%|                                                               | 0/2 [00:00<?, ?it/s]"
     ]
    },
    {
     "name": "stdout",
     "output_type": "stream",
     "text": [
      "Loading from input\\HNSCC-01-0263\\06-11-2006-NA-CT SOFT TISSUE NECK W-48909\\2.000000-CONTRAST120CC3CCS90S DELAY-50408\n",
      "Loading from input\\HNSCC-01-0263\\06-11-2006-NA-CT SOFT TISSUE NECK W-48909\\1.000000-Series Description-57774\n"
     ]
    },
    {
     "name": "stderr",
     "output_type": "stream",
     "text": [
      "\r",
      "Loading through DICOM files: 100%|███████████████████████████████████████████████████████| 2/2 [00:13<00:00,  6.54s/it]"
     ]
    },
    {
     "name": "stdout",
     "output_type": "stream",
     "text": [
      "Compiling dictionaries together...\n",
      "Index 0, description CONTRAST120CC@3CC/S,90S DELAY  at input\\HNSCC-01-0263\\06-11-2006-NA-CT SOFT TISSUE NECK W-48909\\2.000000-CONTRAST120CC3CCS90S DELAY-50408\n",
      "1 unique series IDs were found. Default is index 0, to change use set_index(index)\n",
      "Loading images for CONTRAST120CC@3CC/S,90S DELAY  at \n",
      " input\\HNSCC-01-0263\\06-11-2006-NA-CT SOFT TISSUE NECK W-48909\\2.000000-CONTRAST120CC3CCS90S DELAY-50408\n",
      "\n"
     ]
    },
    {
     "name": "stderr",
     "output_type": "stream",
     "text": [
      "Loading through DICOM files: 100%|███████████████████████████████████████████████████████| 2/2 [00:43<00:00, 21.99s/it]\n",
      "Loading through DICOM files:   0%|                                                               | 0/2 [00:00<?, ?it/s]"
     ]
    },
    {
     "name": "stdout",
     "output_type": "stream",
     "text": [
      "Loading from input\\HNSCC-01-0264\\06-11-2006-NA-CT SOFT TISSUE NECK W-14829\\1.000000-Series Description-15385\n",
      "Loading from input\\HNSCC-01-0264\\06-11-2006-NA-CT SOFT TISSUE NECK W-14829\\2.000000-CONTRAST120CC3CCS90S DELAY-06537\n"
     ]
    },
    {
     "name": "stderr",
     "output_type": "stream",
     "text": [
      "\r",
      "Loading through DICOM files: 100%|███████████████████████████████████████████████████████| 2/2 [00:14<00:00,  7.43s/it]"
     ]
    },
    {
     "name": "stdout",
     "output_type": "stream",
     "text": [
      "Compiling dictionaries together...\n",
      "Index 0, description CONTRAST120CC@3CC/S,90S DELAY  at input\\HNSCC-01-0264\\06-11-2006-NA-CT SOFT TISSUE NECK W-14829\\2.000000-CONTRAST120CC3CCS90S DELAY-06537\n",
      "1 unique series IDs were found. Default is index 0, to change use set_index(index)\n",
      "Loading images for CONTRAST120CC@3CC/S,90S DELAY  at \n",
      " input\\HNSCC-01-0264\\06-11-2006-NA-CT SOFT TISSUE NECK W-14829\\2.000000-CONTRAST120CC3CCS90S DELAY-06537\n",
      "\n"
     ]
    },
    {
     "name": "stderr",
     "output_type": "stream",
     "text": [
      "Loading through DICOM files: 100%|███████████████████████████████████████████████████████| 2/2 [00:45<00:00, 22.77s/it]\n",
      "Loading through DICOM files:   0%|                                                               | 0/2 [00:00<?, ?it/s]"
     ]
    },
    {
     "name": "stdout",
     "output_type": "stream",
     "text": [
      "Loading from input\\HNSCC-01-0265\\06-11-2006-NA-CT SOFT TISSUE NECK W-48385\\1.000000-Series Description-58744\n",
      "Loading from input\\HNSCC-01-0265\\06-11-2006-NA-CT SOFT TISSUE NECK W-48385\\2.000000-CONTRAST120CC3CCS90S DELAY-91739\n"
     ]
    },
    {
     "name": "stderr",
     "output_type": "stream",
     "text": [
      "\r",
      "Loading through DICOM files: 100%|███████████████████████████████████████████████████████| 2/2 [00:14<00:00,  7.17s/it]"
     ]
    },
    {
     "name": "stdout",
     "output_type": "stream",
     "text": [
      "Compiling dictionaries together...\n",
      "Index 0, description CONTRAST120CC@3CC/S,90S DELAY  at input\\HNSCC-01-0265\\06-11-2006-NA-CT SOFT TISSUE NECK W-48385\\2.000000-CONTRAST120CC3CCS90S DELAY-91739\n",
      "1 unique series IDs were found. Default is index 0, to change use set_index(index)\n",
      "Loading images for CONTRAST120CC@3CC/S,90S DELAY  at \n",
      " input\\HNSCC-01-0265\\06-11-2006-NA-CT SOFT TISSUE NECK W-48385\\2.000000-CONTRAST120CC3CCS90S DELAY-91739\n",
      "\n"
     ]
    },
    {
     "name": "stderr",
     "output_type": "stream",
     "text": [
      "Loading through DICOM files: 100%|███████████████████████████████████████████████████████| 2/2 [00:43<00:00, 21.63s/it]\n",
      "Loading through DICOM files:   0%|                                                               | 0/2 [00:00<?, ?it/s]"
     ]
    },
    {
     "name": "stdout",
     "output_type": "stream",
     "text": [
      "Loading from input\\HNSCC-01-0266\\06-11-2006-NA-CT SOFT TISSUE NECK W-27362\\2.000000-CONTRAST120CC3CCS90S DELAY-49743\n",
      "Loading from input\\HNSCC-01-0266\\06-11-2006-NA-CT SOFT TISSUE NECK W-27362\\1.000000-Series Description-03396\n"
     ]
    },
    {
     "name": "stderr",
     "output_type": "stream",
     "text": [
      "\r",
      "Loading through DICOM files: 100%|███████████████████████████████████████████████████████| 2/2 [00:13<00:00,  6.78s/it]"
     ]
    },
    {
     "name": "stdout",
     "output_type": "stream",
     "text": [
      "Compiling dictionaries together...\n",
      "Index 0, description CONTRAST120CC@3CC/S,90S DELAY  at input\\HNSCC-01-0266\\06-11-2006-NA-CT SOFT TISSUE NECK W-27362\\2.000000-CONTRAST120CC3CCS90S DELAY-49743\n",
      "1 unique series IDs were found. Default is index 0, to change use set_index(index)\n",
      "Loading images for CONTRAST120CC@3CC/S,90S DELAY  at \n",
      " input\\HNSCC-01-0266\\06-11-2006-NA-CT SOFT TISSUE NECK W-27362\\2.000000-CONTRAST120CC3CCS90S DELAY-49743\n",
      "\n"
     ]
    },
    {
     "name": "stderr",
     "output_type": "stream",
     "text": [
      "Loading through DICOM files: 100%|███████████████████████████████████████████████████████| 2/2 [00:40<00:00, 20.46s/it]\n",
      "Loading through DICOM files:   0%|                                                               | 0/2 [00:00<?, ?it/s]"
     ]
    },
    {
     "name": "stdout",
     "output_type": "stream",
     "text": [
      "Loading from input\\HNSCC-01-0267\\06-11-2006-NA-CT HN N20-41555\\2.000000-CONTRAST120CC3CCS90S DELAY-32446\n",
      "Loading from input\\HNSCC-01-0267\\06-11-2006-NA-CT HN N20-41555\\1.000000-Series Description-16739\n"
     ]
    },
    {
     "name": "stderr",
     "output_type": "stream",
     "text": [
      "\r",
      "Loading through DICOM files: 100%|███████████████████████████████████████████████████████| 2/2 [00:15<00:00,  7.72s/it]"
     ]
    },
    {
     "name": "stdout",
     "output_type": "stream",
     "text": [
      "Compiling dictionaries together...\n",
      "Index 0, description CONTRAST120CC@3CC/S,90S DELAY  at input\\HNSCC-01-0267\\06-11-2006-NA-CT HN N20-41555\\2.000000-CONTRAST120CC3CCS90S DELAY-32446\n",
      "1 unique series IDs were found. Default is index 0, to change use set_index(index)\n",
      "Loading images for CONTRAST120CC@3CC/S,90S DELAY  at \n",
      " input\\HNSCC-01-0267\\06-11-2006-NA-CT HN N20-41555\\2.000000-CONTRAST120CC3CCS90S DELAY-32446\n",
      "\n"
     ]
    },
    {
     "name": "stderr",
     "output_type": "stream",
     "text": [
      "Loading through DICOM files: 100%|███████████████████████████████████████████████████████| 2/2 [00:50<00:00, 25.18s/it]\n",
      "Loading through DICOM files:   0%|                                                               | 0/2 [00:00<?, ?it/s]"
     ]
    },
    {
     "name": "stdout",
     "output_type": "stream",
     "text": [
      "Loading from input\\HNSCC-01-0268\\06-11-2006-NA-OSF CT SFT TISS NECK-90877\\2.000000-HELICAL 3.75S-41251Loading from input\\HNSCC-01-0268\\06-11-2006-NA-OSF CT SFT TISS NECK-90877\\1.000000-Series Description-11400\n",
      "\n"
     ]
    },
    {
     "name": "stderr",
     "output_type": "stream",
     "text": [
      "\r",
      "Loading through DICOM files: 100%|███████████████████████████████████████████████████████| 2/2 [00:03<00:00,  1.56s/it]"
     ]
    },
    {
     "name": "stdout",
     "output_type": "stream",
     "text": [
      "Compiling dictionaries together...\n",
      "Index 0, description HELICAL 3.75'S at input\\HNSCC-01-0268\\06-11-2006-NA-OSF CT SFT TISS NECK-90877\\2.000000-HELICAL 3.75S-41251\n",
      "1 unique series IDs were found. Default is index 0, to change use set_index(index)\n",
      "Loading images for HELICAL 3.75'S at \n",
      " input\\HNSCC-01-0268\\06-11-2006-NA-OSF CT SFT TISS NECK-90877\\2.000000-HELICAL 3.75S-41251\n",
      "\n"
     ]
    },
    {
     "name": "stderr",
     "output_type": "stream",
     "text": [
      "Loading through DICOM files: 100%|███████████████████████████████████████████████████████| 2/2 [00:10<00:00,  5.12s/it]\n",
      "Loading through DICOM files:  50%|███████████████████████████▌                           | 1/2 [00:00<00:00,  9.34it/s]"
     ]
    },
    {
     "name": "stdout",
     "output_type": "stream",
     "text": [
      "Loading from input\\HNSCC-01-0269\\06-11-2006-NA-CT SOFT TISSUE NECK W-68109\\1.000000-Series Description-99768\n",
      "Loading from input\\HNSCC-01-0269\\06-11-2006-NA-CT SOFT TISSUE NECK W-68109\\2.000000-CONTRAST120CC3CCS90S DELAY-20260\n"
     ]
    },
    {
     "name": "stderr",
     "output_type": "stream",
     "text": [
      "\r",
      "Loading through DICOM files: 100%|███████████████████████████████████████████████████████| 2/2 [00:15<00:00,  8.95s/it]"
     ]
    },
    {
     "name": "stdout",
     "output_type": "stream",
     "text": [
      "Compiling dictionaries together...\n",
      "Index 0, description CONTRAST120CC@3CC/S,90S DELAY  at input\\HNSCC-01-0269\\06-11-2006-NA-CT SOFT TISSUE NECK W-68109\\2.000000-CONTRAST120CC3CCS90S DELAY-20260\n",
      "1 unique series IDs were found. Default is index 0, to change use set_index(index)\n",
      "Loading images for CONTRAST120CC@3CC/S,90S DELAY  at \n",
      " input\\HNSCC-01-0269\\06-11-2006-NA-CT SOFT TISSUE NECK W-68109\\2.000000-CONTRAST120CC3CCS90S DELAY-20260\n",
      "\n"
     ]
    },
    {
     "name": "stderr",
     "output_type": "stream",
     "text": [
      "Loading through DICOM files: 100%|███████████████████████████████████████████████████████| 2/2 [00:45<00:00, 22.65s/it]\n",
      "Loading through DICOM files:  50%|███████████████████████████▌                           | 1/2 [00:00<00:00,  7.24it/s]"
     ]
    },
    {
     "name": "stdout",
     "output_type": "stream",
     "text": [
      "Loading from input\\HNSCC-01-0271\\06-11-2006-NA-CT SOFT TISSUE NECK W-88568\\1.000000-Series Description-78755\n",
      "Loading from input\\HNSCC-01-0271\\06-11-2006-NA-CT SOFT TISSUE NECK W-88568\\2.000000-CONTRAST120CC3CCS90S DELAY-41195\n"
     ]
    },
    {
     "name": "stderr",
     "output_type": "stream",
     "text": [
      "\r",
      "Loading through DICOM files: 100%|███████████████████████████████████████████████████████| 2/2 [00:15<00:00,  9.20s/it]"
     ]
    },
    {
     "name": "stdout",
     "output_type": "stream",
     "text": [
      "Compiling dictionaries together...\n",
      "Index 0, description CONTRAST120CC@3CC/S,90S DELAY  at input\\HNSCC-01-0271\\06-11-2006-NA-CT SOFT TISSUE NECK W-88568\\2.000000-CONTRAST120CC3CCS90S DELAY-41195\n",
      "1 unique series IDs were found. Default is index 0, to change use set_index(index)\n",
      "Loading images for CONTRAST120CC@3CC/S,90S DELAY  at \n",
      " input\\HNSCC-01-0271\\06-11-2006-NA-CT SOFT TISSUE NECK W-88568\\2.000000-CONTRAST120CC3CCS90S DELAY-41195\n",
      "\n"
     ]
    },
    {
     "name": "stderr",
     "output_type": "stream",
     "text": [
      "Loading through DICOM files: 100%|███████████████████████████████████████████████████████| 2/2 [00:49<00:00, 24.93s/it]\n",
      "Loading through DICOM files:  50%|███████████████████████████▌                           | 1/2 [00:00<00:00,  8.77it/s]"
     ]
    },
    {
     "name": "stdout",
     "output_type": "stream",
     "text": [
      "Loading from input\\HNSCC-01-0272\\06-11-2006-NA-CT SOFT TISSUE NECK W-00953\\1.000000-Series Description-25893\n",
      "Loading from input\\HNSCC-01-0272\\06-11-2006-NA-CT SOFT TISSUE NECK W-00953\\2.000000-CONTRAST120CC3CCS90S DELAY-27830\n"
     ]
    },
    {
     "name": "stderr",
     "output_type": "stream",
     "text": [
      "\r",
      "Loading through DICOM files: 100%|███████████████████████████████████████████████████████| 2/2 [00:12<00:00,  7.57s/it]"
     ]
    },
    {
     "name": "stdout",
     "output_type": "stream",
     "text": [
      "Compiling dictionaries together...\n",
      "Index 0, description CONTRAST120CC@3CC/S,90S DELAY  at input\\HNSCC-01-0272\\06-11-2006-NA-CT SOFT TISSUE NECK W-00953\\2.000000-CONTRAST120CC3CCS90S DELAY-27830\n",
      "1 unique series IDs were found. Default is index 0, to change use set_index(index)\n",
      "Loading images for CONTRAST120CC@3CC/S,90S DELAY  at \n",
      " input\\HNSCC-01-0272\\06-11-2006-NA-CT SOFT TISSUE NECK W-00953\\2.000000-CONTRAST120CC3CCS90S DELAY-27830\n",
      "\n"
     ]
    },
    {
     "name": "stderr",
     "output_type": "stream",
     "text": [
      "Loading through DICOM files: 100%|███████████████████████████████████████████████████████| 2/2 [00:39<00:00, 19.72s/it]\n",
      "Loading through DICOM files:   0%|                                                               | 0/2 [00:00<?, ?it/s]"
     ]
    },
    {
     "name": "stdout",
     "output_type": "stream",
     "text": [
      "Loading from input\\HNSCC-01-0273\\06-11-2006-NA-OSF CT SFT TISS NECK-58516\\1.000000-Series Description-41749\n",
      "Loading from input\\HNSCC-01-0273\\06-11-2006-NA-OSF CT SFT TISS NECK-58516\\6.000000-NA-34334\n"
     ]
    },
    {
     "name": "stderr",
     "output_type": "stream",
     "text": [
      "\r",
      "Loading through DICOM files: 100%|███████████████████████████████████████████████████████| 2/2 [00:02<00:00,  1.30s/it]"
     ]
    },
    {
     "name": "stdout",
     "output_type": "stream",
     "text": [
      "Compiling dictionaries together...\n",
      "Index 0, description  at input\\HNSCC-01-0273\\06-11-2006-NA-OSF CT SFT TISS NECK-58516\\6.000000-NA-34334\n",
      "1 unique series IDs were found. Default is index 0, to change use set_index(index)\n",
      "Loading images for  at \n",
      " input\\HNSCC-01-0273\\06-11-2006-NA-OSF CT SFT TISS NECK-58516\\6.000000-NA-34334\n",
      "\n"
     ]
    },
    {
     "name": "stderr",
     "output_type": "stream",
     "text": [
      "Loading through DICOM files: 100%|███████████████████████████████████████████████████████| 2/2 [00:07<00:00,  3.75s/it]\n",
      "Loading through DICOM files:  50%|███████████████████████████▌                           | 1/2 [00:00<00:00,  8.27it/s]"
     ]
    },
    {
     "name": "stdout",
     "output_type": "stream",
     "text": [
      "Loading from input\\HNSCC-01-0274\\06-11-2006-NA-CT SOFT TISSUE NECK W-81126\\2.000000-CONTRAST120CC3CCS90S DELAY-21045\n",
      "Loading from input\\HNSCC-01-0274\\06-11-2006-NA-CT SOFT TISSUE NECK W-81126\\1.000000-Series Description-20013\n"
     ]
    },
    {
     "name": "stderr",
     "output_type": "stream",
     "text": [
      "\r",
      "Loading through DICOM files: 100%|███████████████████████████████████████████████████████| 2/2 [00:15<00:00,  9.27s/it]"
     ]
    },
    {
     "name": "stdout",
     "output_type": "stream",
     "text": [
      "Compiling dictionaries together...\n",
      "Index 0, description CONTRAST120CC@3CC/S,90S DELAY  at input\\HNSCC-01-0274\\06-11-2006-NA-CT SOFT TISSUE NECK W-81126\\2.000000-CONTRAST120CC3CCS90S DELAY-21045\n",
      "1 unique series IDs were found. Default is index 0, to change use set_index(index)\n",
      "Loading images for CONTRAST120CC@3CC/S,90S DELAY  at \n",
      " input\\HNSCC-01-0274\\06-11-2006-NA-CT SOFT TISSUE NECK W-81126\\2.000000-CONTRAST120CC3CCS90S DELAY-21045\n",
      "\n"
     ]
    },
    {
     "name": "stderr",
     "output_type": "stream",
     "text": [
      "Loading through DICOM files: 100%|███████████████████████████████████████████████████████| 2/2 [00:51<00:00, 25.93s/it]\n",
      "Loading through DICOM files:   0%|                                                               | 0/2 [00:00<?, ?it/s]"
     ]
    },
    {
     "name": "stdout",
     "output_type": "stream",
     "text": [
      "Loading from input\\HNSCC-01-0275\\06-11-2006-NA-CT SOFT TISSUE NECK W-50231\\1.000000-Series Description-91720\n",
      "Loading from input\\HNSCC-01-0275\\06-11-2006-NA-CT SOFT TISSUE NECK W-50231\\2.000000-CONTRAST120CC3CCS90S DELAY-24406\n"
     ]
    },
    {
     "name": "stderr",
     "output_type": "stream",
     "text": [
      "\r",
      "Loading through DICOM files: 100%|███████████████████████████████████████████████████████| 2/2 [00:20<00:00, 10.04s/it]"
     ]
    },
    {
     "name": "stdout",
     "output_type": "stream",
     "text": [
      "Compiling dictionaries together...\n",
      "Index 0, description CONTRAST120CC@3CC/S,90S DELAY  at input\\HNSCC-01-0275\\06-11-2006-NA-CT SOFT TISSUE NECK W-50231\\2.000000-CONTRAST120CC3CCS90S DELAY-24406\n",
      "1 unique series IDs were found. Default is index 0, to change use set_index(index)\n",
      "Loading images for CONTRAST120CC@3CC/S,90S DELAY  at \n",
      " input\\HNSCC-01-0275\\06-11-2006-NA-CT SOFT TISSUE NECK W-50231\\2.000000-CONTRAST120CC3CCS90S DELAY-24406\n",
      "\n"
     ]
    },
    {
     "name": "stderr",
     "output_type": "stream",
     "text": [
      "Loading through DICOM files: 100%|███████████████████████████████████████████████████████| 2/2 [00:59<00:00, 29.61s/it]\n",
      "Loading through DICOM files:   0%|                                                               | 0/2 [00:00<?, ?it/s]"
     ]
    },
    {
     "name": "stdout",
     "output_type": "stream",
     "text": [
      "Loading from input\\HNSCC-01-0276\\06-11-2006-NA-CT SOFT TISSUE NECK W-38552\\2.000000-CONTRAST120CC3CCS90S DELAY-72056\n",
      "Loading from input\\HNSCC-01-0276\\06-11-2006-NA-CT SOFT TISSUE NECK W-38552\\1.000000-Series Description-74307\n"
     ]
    },
    {
     "name": "stderr",
     "output_type": "stream",
     "text": [
      "\r",
      "Loading through DICOM files: 100%|███████████████████████████████████████████████████████| 2/2 [00:17<00:00,  9.00s/it]"
     ]
    },
    {
     "name": "stdout",
     "output_type": "stream",
     "text": [
      "Compiling dictionaries together...\n",
      "Index 0, description CONTRAST120CC@3CC/S,90S DELAY  at input\\HNSCC-01-0276\\06-11-2006-NA-CT SOFT TISSUE NECK W-38552\\2.000000-CONTRAST120CC3CCS90S DELAY-72056\n",
      "1 unique series IDs were found. Default is index 0, to change use set_index(index)\n",
      "Loading images for CONTRAST120CC@3CC/S,90S DELAY  at \n",
      " input\\HNSCC-01-0276\\06-11-2006-NA-CT SOFT TISSUE NECK W-38552\\2.000000-CONTRAST120CC3CCS90S DELAY-72056\n",
      "\n"
     ]
    },
    {
     "name": "stderr",
     "output_type": "stream",
     "text": [
      "Loading through DICOM files: 100%|███████████████████████████████████████████████████████| 2/2 [00:55<00:00, 27.99s/it]\n",
      "Loading through DICOM files:   0%|                                                               | 0/2 [00:00<?, ?it/s]"
     ]
    },
    {
     "name": "stdout",
     "output_type": "stream",
     "text": [
      "Loading from input\\HNSCC-01-0277\\06-11-2006-NA-002-22712\\2.000000-CONTRAST120CC3CCS90S DELAY-96794\n",
      "Loading from input\\HNSCC-01-0277\\06-11-2006-NA-002-22712\\1.000000-Series Description-74953\n"
     ]
    },
    {
     "name": "stderr",
     "output_type": "stream",
     "text": [
      "\r",
      "Loading through DICOM files: 100%|███████████████████████████████████████████████████████| 2/2 [00:05<00:00,  2.95s/it]"
     ]
    },
    {
     "name": "stdout",
     "output_type": "stream",
     "text": [
      "Compiling dictionaries together...\n",
      "Index 0, description CONTRAST120CC@3CC/S,90S DELAY  at input\\HNSCC-01-0277\\06-11-2006-NA-002-22712\\2.000000-CONTRAST120CC3CCS90S DELAY-96794\n",
      "1 unique series IDs were found. Default is index 0, to change use set_index(index)\n",
      "Loading images for CONTRAST120CC@3CC/S,90S DELAY  at \n",
      " input\\HNSCC-01-0277\\06-11-2006-NA-002-22712\\2.000000-CONTRAST120CC3CCS90S DELAY-96794\n",
      "\n"
     ]
    },
    {
     "name": "stderr",
     "output_type": "stream",
     "text": [
      "Loading through DICOM files: 100%|███████████████████████████████████████████████████████| 2/2 [00:17<00:00,  8.71s/it]\n",
      "Loading through DICOM files:  50%|███████████████████████████▌                           | 1/2 [00:00<00:00,  9.83it/s]"
     ]
    },
    {
     "name": "stdout",
     "output_type": "stream",
     "text": [
      "Loading from input\\HNSCC-01-0278\\06-11-2006-NA-CT SOFT TISSUE NECK W-96191\\1.000000-Series Description-51190Loading from input\\HNSCC-01-0278\\06-11-2006-NA-CT SOFT TISSUE NECK W-96191\\2.000000-CONTRAST120CC3CCS90S DELAY-96867\n",
      "\n"
     ]
    },
    {
     "name": "stderr",
     "output_type": "stream",
     "text": [
      "\r",
      "Loading through DICOM files: 100%|███████████████████████████████████████████████████████| 2/2 [00:15<00:00,  9.32s/it]"
     ]
    },
    {
     "name": "stdout",
     "output_type": "stream",
     "text": [
      "Compiling dictionaries together...\n",
      "Index 0, description CONTRAST120CC@3CC/S,90S DELAY  at input\\HNSCC-01-0278\\06-11-2006-NA-CT SOFT TISSUE NECK W-96191\\2.000000-CONTRAST120CC3CCS90S DELAY-96867\n",
      "1 unique series IDs were found. Default is index 0, to change use set_index(index)\n",
      "Loading images for CONTRAST120CC@3CC/S,90S DELAY  at \n",
      " input\\HNSCC-01-0278\\06-11-2006-NA-CT SOFT TISSUE NECK W-96191\\2.000000-CONTRAST120CC3CCS90S DELAY-96867\n",
      "\n"
     ]
    },
    {
     "name": "stderr",
     "output_type": "stream",
     "text": [
      "Loading through DICOM files: 100%|███████████████████████████████████████████████████████| 2/2 [00:46<00:00, 23.47s/it]\n",
      "Loading through DICOM files:   0%|                                                               | 0/2 [00:00<?, ?it/s]"
     ]
    },
    {
     "name": "stdout",
     "output_type": "stream",
     "text": [
      "Loading from input\\HNSCC-01-0280\\06-11-2006-NA-OSF CT SFT TISS NECK-52567\\1.000000-Series Description-85032\n",
      "Loading from input\\HNSCC-01-0280\\06-11-2006-NA-OSF CT SFT TISS NECK-52567\\3.000000-Helical-25574\n"
     ]
    },
    {
     "name": "stderr",
     "output_type": "stream",
     "text": [
      "\r",
      "Loading through DICOM files: 100%|███████████████████████████████████████████████████████| 2/2 [00:04<00:00,  2.05s/it]"
     ]
    },
    {
     "name": "stdout",
     "output_type": "stream",
     "text": [
      "Compiling dictionaries together...\n",
      "Index 0, description Helical  at input\\HNSCC-01-0280\\06-11-2006-NA-OSF CT SFT TISS NECK-52567\\3.000000-Helical-25574\n",
      "1 unique series IDs were found. Default is index 0, to change use set_index(index)\n",
      "Loading images for Helical  at \n",
      " input\\HNSCC-01-0280\\06-11-2006-NA-OSF CT SFT TISS NECK-52567\\3.000000-Helical-25574\n",
      "\n"
     ]
    },
    {
     "name": "stderr",
     "output_type": "stream",
     "text": [
      "Loading through DICOM files: 100%|███████████████████████████████████████████████████████| 2/2 [00:13<00:00,  6.52s/it]\n",
      "Loading through DICOM files:   0%|                                                               | 0/2 [00:00<?, ?it/s]"
     ]
    },
    {
     "name": "stdout",
     "output_type": "stream",
     "text": [
      "Loading from input\\HNSCC-01-0281\\08-10-2008-NA-CT SOFT TISSUE NECK W-16816\\2.000000-CONTRAST120CC3CCS90S DELAY-11442\n",
      "Loading from input\\HNSCC-01-0281\\08-10-2008-NA-CT SOFT TISSUE NECK W-16816\\1.000000-Series Description-53830\n"
     ]
    },
    {
     "name": "stderr",
     "output_type": "stream",
     "text": [
      "\r",
      "Loading through DICOM files: 100%|███████████████████████████████████████████████████████| 2/2 [00:16<00:00,  8.37s/it]"
     ]
    },
    {
     "name": "stdout",
     "output_type": "stream",
     "text": [
      "Compiling dictionaries together...\n",
      "Index 0, description CONTRAST120CC@3CC/S,90S DELAY  at input\\HNSCC-01-0281\\08-10-2008-NA-CT SOFT TISSUE NECK W-16816\\2.000000-CONTRAST120CC3CCS90S DELAY-11442\n",
      "1 unique series IDs were found. Default is index 0, to change use set_index(index)\n",
      "Loading images for CONTRAST120CC@3CC/S,90S DELAY  at \n",
      " input\\HNSCC-01-0281\\08-10-2008-NA-CT SOFT TISSUE NECK W-16816\\2.000000-CONTRAST120CC3CCS90S DELAY-11442\n",
      "\n"
     ]
    },
    {
     "name": "stderr",
     "output_type": "stream",
     "text": [
      "Loading through DICOM files: 100%|███████████████████████████████████████████████████████| 2/2 [00:47<00:00, 23.90s/it]\n",
      "Loading through DICOM files:   0%|                                                               | 0/2 [00:00<?, ?it/s]"
     ]
    },
    {
     "name": "stdout",
     "output_type": "stream",
     "text": [
      "Loading from input\\HNSCC-01-0282\\06-11-2006-NA-OSF CT SFT TISS NECK-58295\\1.000000-Series Description-20167\n",
      "Loading from input\\HNSCC-01-0282\\06-11-2006-NA-OSF CT SFT TISS NECK-58295\\1.000000-Soft Tissue Neck-53840\n"
     ]
    },
    {
     "name": "stderr",
     "output_type": "stream",
     "text": [
      "\r",
      "Loading through DICOM files: 100%|███████████████████████████████████████████████████████| 2/2 [00:04<00:00,  2.27s/it]"
     ]
    },
    {
     "name": "stdout",
     "output_type": "stream",
     "text": [
      "Compiling dictionaries together...\n",
      "Index 0, description Soft Tissue Neck at input\\HNSCC-01-0282\\06-11-2006-NA-OSF CT SFT TISS NECK-58295\\1.000000-Soft Tissue Neck-53840\n",
      "1 unique series IDs were found. Default is index 0, to change use set_index(index)\n",
      "Loading images for Soft Tissue Neck at \n",
      " input\\HNSCC-01-0282\\06-11-2006-NA-OSF CT SFT TISS NECK-58295\\1.000000-Soft Tissue Neck-53840\n",
      "\n"
     ]
    },
    {
     "name": "stderr",
     "output_type": "stream",
     "text": [
      "Loading through DICOM files: 100%|███████████████████████████████████████████████████████| 2/2 [00:13<00:00,  6.94s/it]\n",
      "Loading through DICOM files:   0%|                                                               | 0/2 [00:00<?, ?it/s]"
     ]
    },
    {
     "name": "stdout",
     "output_type": "stream",
     "text": [
      "Loading from input\\HNSCC-01-0283\\06-11-2006-NA-CT SOFT TISSUE NECK W-43193\\1.000000-Series Description-74288\n",
      "Loading from input\\HNSCC-01-0283\\06-11-2006-NA-CT SOFT TISSUE NECK W-43193\\2.000000-CONTRAST120CC3CCS90S DELAY-23227\n"
     ]
    },
    {
     "name": "stderr",
     "output_type": "stream",
     "text": [
      "\r",
      "Loading through DICOM files: 100%|███████████████████████████████████████████████████████| 2/2 [00:13<00:00,  6.63s/it]"
     ]
    },
    {
     "name": "stdout",
     "output_type": "stream",
     "text": [
      "Compiling dictionaries together...\n",
      "Index 0, description CONTRAST120CC@3CC/S,90S DELAY  at input\\HNSCC-01-0283\\06-11-2006-NA-CT SOFT TISSUE NECK W-43193\\2.000000-CONTRAST120CC3CCS90S DELAY-23227\n",
      "1 unique series IDs were found. Default is index 0, to change use set_index(index)\n",
      "Loading images for CONTRAST120CC@3CC/S,90S DELAY  at \n",
      " input\\HNSCC-01-0283\\06-11-2006-NA-CT SOFT TISSUE NECK W-43193\\2.000000-CONTRAST120CC3CCS90S DELAY-23227\n",
      "\n"
     ]
    },
    {
     "name": "stderr",
     "output_type": "stream",
     "text": [
      "Loading through DICOM files: 100%|███████████████████████████████████████████████████████| 2/2 [00:42<00:00, 21.20s/it]\n",
      "Loading through DICOM files:   0%|                                                               | 0/2 [00:00<?, ?it/s]"
     ]
    },
    {
     "name": "stdout",
     "output_type": "stream",
     "text": [
      "Loading from input\\HNSCC-01-0284\\07-08-2007-NA-CT SOFT TISSUE NECK W-70950\\2.000000-CONTRAST120CC3CCS90S DELAY-88079\n",
      "Loading from input\\HNSCC-01-0284\\07-08-2007-NA-CT SOFT TISSUE NECK W-70950\\1.000000-Series Description-16013\n"
     ]
    },
    {
     "name": "stderr",
     "output_type": "stream",
     "text": [
      "\r",
      "Loading through DICOM files: 100%|███████████████████████████████████████████████████████| 2/2 [00:15<00:00,  7.56s/it]"
     ]
    },
    {
     "name": "stdout",
     "output_type": "stream",
     "text": [
      "Compiling dictionaries together...\n",
      "Index 0, description CONTRAST120CC@3CC/S,90S DELAY  at input\\HNSCC-01-0284\\07-08-2007-NA-CT SOFT TISSUE NECK W-70950\\2.000000-CONTRAST120CC3CCS90S DELAY-88079\n",
      "1 unique series IDs were found. Default is index 0, to change use set_index(index)\n",
      "Loading images for CONTRAST120CC@3CC/S,90S DELAY  at \n",
      " input\\HNSCC-01-0284\\07-08-2007-NA-CT SOFT TISSUE NECK W-70950\\2.000000-CONTRAST120CC3CCS90S DELAY-88079\n",
      "\n"
     ]
    },
    {
     "name": "stderr",
     "output_type": "stream",
     "text": [
      "Loading through DICOM files: 100%|███████████████████████████████████████████████████████| 2/2 [00:45<00:00, 22.71s/it]\n",
      "Loading through DICOM files:   0%|                                                               | 0/2 [00:00<?, ?it/s]"
     ]
    },
    {
     "name": "stdout",
     "output_type": "stream",
     "text": [
      "Loading from input\\HNSCC-01-0285\\06-11-2006-NA-CT SOFT TISSUE NECK W-88525\\2.000000-CONTRAST120CC3CCS90S DELAY-53619\n",
      "Loading from input\\HNSCC-01-0285\\06-11-2006-NA-CT SOFT TISSUE NECK W-88525\\1.000000-Series Description-23232\n"
     ]
    },
    {
     "name": "stderr",
     "output_type": "stream",
     "text": [
      "\r",
      "Loading through DICOM files: 100%|███████████████████████████████████████████████████████| 2/2 [00:13<00:00,  6.75s/it]"
     ]
    },
    {
     "name": "stdout",
     "output_type": "stream",
     "text": [
      "Compiling dictionaries together...\n",
      "Index 0, description CONTRAST120CC@3CC/S,90S DELAY  at input\\HNSCC-01-0285\\06-11-2006-NA-CT SOFT TISSUE NECK W-88525\\2.000000-CONTRAST120CC3CCS90S DELAY-53619\n",
      "1 unique series IDs were found. Default is index 0, to change use set_index(index)\n",
      "Loading images for CONTRAST120CC@3CC/S,90S DELAY  at \n",
      " input\\HNSCC-01-0285\\06-11-2006-NA-CT SOFT TISSUE NECK W-88525\\2.000000-CONTRAST120CC3CCS90S DELAY-53619\n",
      "\n"
     ]
    },
    {
     "name": "stderr",
     "output_type": "stream",
     "text": [
      "Loading through DICOM files: 100%|███████████████████████████████████████████████████████| 2/2 [00:44<00:00, 22.43s/it]\n",
      "Loading through DICOM files:  50%|███████████████████████████▌                           | 1/2 [00:00<00:00,  9.71it/s]"
     ]
    },
    {
     "name": "stdout",
     "output_type": "stream",
     "text": [
      "Loading from input\\HNSCC-01-0286\\06-11-2006-NA-CT SOFT TISSUE NECK W-67275\\2.000000-CONTRAST120CC3CCS90S DELAY-45620\n",
      "Loading from input\\HNSCC-01-0286\\06-11-2006-NA-CT SOFT TISSUE NECK W-67275\\1.000000-Series Description-37273\n"
     ]
    },
    {
     "name": "stderr",
     "output_type": "stream",
     "text": [
      "\r",
      "Loading through DICOM files: 100%|███████████████████████████████████████████████████████| 2/2 [00:17<00:00, 10.15s/it]"
     ]
    },
    {
     "name": "stdout",
     "output_type": "stream",
     "text": [
      "Compiling dictionaries together...\n",
      "Index 0, description CONTRAST120CC@3CC/S,90S DELAY  at input\\HNSCC-01-0286\\06-11-2006-NA-CT SOFT TISSUE NECK W-67275\\2.000000-CONTRAST120CC3CCS90S DELAY-45620\n",
      "1 unique series IDs were found. Default is index 0, to change use set_index(index)\n",
      "Loading images for CONTRAST120CC@3CC/S,90S DELAY  at \n",
      " input\\HNSCC-01-0286\\06-11-2006-NA-CT SOFT TISSUE NECK W-67275\\2.000000-CONTRAST120CC3CCS90S DELAY-45620\n",
      "\n"
     ]
    },
    {
     "name": "stderr",
     "output_type": "stream",
     "text": [
      "Loading through DICOM files: 100%|███████████████████████████████████████████████████████| 2/2 [00:56<00:00, 28.07s/it]\n",
      "Loading through DICOM files:   0%|                                                               | 0/2 [00:00<?, ?it/s]"
     ]
    },
    {
     "name": "stdout",
     "output_type": "stream",
     "text": [
      "Loading from input\\HNSCC-01-0287\\07-08-2007-NA-CT SOFT TISSUE NECK W-61944\\1.000000-Series Description-55931\n",
      "Loading from input\\HNSCC-01-0287\\07-08-2007-NA-CT SOFT TISSUE NECK W-61944\\2.000000-CONTRAST120CC3CCS90S DELAY-83198\n"
     ]
    },
    {
     "name": "stderr",
     "output_type": "stream",
     "text": [
      "\r",
      "Loading through DICOM files: 100%|███████████████████████████████████████████████████████| 2/2 [00:17<00:00,  8.51s/it]"
     ]
    },
    {
     "name": "stdout",
     "output_type": "stream",
     "text": [
      "Compiling dictionaries together...\n",
      "Index 0, description CONTRAST120CC@3CC/S,90S DELAY  at input\\HNSCC-01-0287\\07-08-2007-NA-CT SOFT TISSUE NECK W-61944\\2.000000-CONTRAST120CC3CCS90S DELAY-83198\n",
      "1 unique series IDs were found. Default is index 0, to change use set_index(index)\n",
      "Loading images for CONTRAST120CC@3CC/S,90S DELAY  at \n",
      " input\\HNSCC-01-0287\\07-08-2007-NA-CT SOFT TISSUE NECK W-61944\\2.000000-CONTRAST120CC3CCS90S DELAY-83198\n",
      "\n"
     ]
    },
    {
     "name": "stderr",
     "output_type": "stream",
     "text": [
      "Loading through DICOM files: 100%|███████████████████████████████████████████████████████| 2/2 [00:53<00:00, 26.58s/it]\n",
      "Loading through DICOM files:   0%|                                                               | 0/2 [00:00<?, ?it/s]"
     ]
    },
    {
     "name": "stdout",
     "output_type": "stream",
     "text": [
      "Loading from input\\HNSCC-01-0288\\07-08-2007-NA-CT SOFT TISSUE NECK W-92591\\1.000000-Series Description-71292\n",
      "Loading from input\\HNSCC-01-0288\\07-08-2007-NA-CT SOFT TISSUE NECK W-92591\\2.000000-CONTRAST120CC3CCS90S DELAY-67956\n"
     ]
    },
    {
     "name": "stderr",
     "output_type": "stream",
     "text": [
      "\r",
      "Loading through DICOM files: 100%|███████████████████████████████████████████████████████| 2/2 [00:14<00:00,  7.02s/it]"
     ]
    },
    {
     "name": "stdout",
     "output_type": "stream",
     "text": [
      "Compiling dictionaries together...\n",
      "Index 0, description CONTRAST120CC@3CC/S,90S DELAY  at input\\HNSCC-01-0288\\07-08-2007-NA-CT SOFT TISSUE NECK W-92591\\2.000000-CONTRAST120CC3CCS90S DELAY-67956\n",
      "1 unique series IDs were found. Default is index 0, to change use set_index(index)\n",
      "Loading images for CONTRAST120CC@3CC/S,90S DELAY  at \n",
      " input\\HNSCC-01-0288\\07-08-2007-NA-CT SOFT TISSUE NECK W-92591\\2.000000-CONTRAST120CC3CCS90S DELAY-67956\n",
      "\n"
     ]
    },
    {
     "name": "stderr",
     "output_type": "stream",
     "text": [
      "Loading through DICOM files: 100%|███████████████████████████████████████████████████████| 2/2 [00:44<00:00, 22.17s/it]\n",
      "Loading through DICOM files:   0%|                                                               | 0/2 [00:00<?, ?it/s]"
     ]
    },
    {
     "name": "stdout",
     "output_type": "stream",
     "text": [
      "Loading from input\\HNSCC-01-0289\\07-08-2007-NA-CT SOFT TISSUE NECK W-21771\\1.000000-Series Description-79006\n",
      "Loading from input\\HNSCC-01-0289\\07-08-2007-NA-CT SOFT TISSUE NECK W-21771\\2.000000-CONTRAST120CC3CCS90S DELAY-97974\n"
     ]
    },
    {
     "name": "stderr",
     "output_type": "stream",
     "text": [
      "\r",
      "Loading through DICOM files: 100%|███████████████████████████████████████████████████████| 2/2 [00:15<00:00,  7.53s/it]"
     ]
    },
    {
     "name": "stdout",
     "output_type": "stream",
     "text": [
      "Compiling dictionaries together...\n",
      "Index 0, description CONTRAST120CC@3CC/S,90S DELAY  at input\\HNSCC-01-0289\\07-08-2007-NA-CT SOFT TISSUE NECK W-21771\\2.000000-CONTRAST120CC3CCS90S DELAY-97974\n",
      "1 unique series IDs were found. Default is index 0, to change use set_index(index)\n",
      "Loading images for CONTRAST120CC@3CC/S,90S DELAY  at \n",
      " input\\HNSCC-01-0289\\07-08-2007-NA-CT SOFT TISSUE NECK W-21771\\2.000000-CONTRAST120CC3CCS90S DELAY-97974\n",
      "\n"
     ]
    },
    {
     "name": "stderr",
     "output_type": "stream",
     "text": [
      "Loading through DICOM files: 100%|███████████████████████████████████████████████████████| 2/2 [00:44<00:00, 22.20s/it]\n",
      "Loading through DICOM files:   0%|                                                               | 0/2 [00:00<?, ?it/s]"
     ]
    },
    {
     "name": "stdout",
     "output_type": "stream",
     "text": [
      "Loading from input\\HNSCC-01-0290\\07-08-2007-NA-002-06873\\2.000000-CONTRAST120CC3CCS90S DELAY-38236\n",
      "Loading from input\\HNSCC-01-0290\\07-08-2007-NA-002-06873\\1.000000-Series Description-20118\n"
     ]
    },
    {
     "name": "stderr",
     "output_type": "stream",
     "text": [
      "\r",
      "Loading through DICOM files: 100%|███████████████████████████████████████████████████████| 2/2 [00:15<00:00,  7.90s/it]"
     ]
    },
    {
     "name": "stdout",
     "output_type": "stream",
     "text": [
      "Compiling dictionaries together...\n",
      "Index 0, description CONTRAST120CC@3CC/S,90S DELAY  at input\\HNSCC-01-0290\\07-08-2007-NA-002-06873\\2.000000-CONTRAST120CC3CCS90S DELAY-38236\n",
      "1 unique series IDs were found. Default is index 0, to change use set_index(index)\n",
      "Loading images for CONTRAST120CC@3CC/S,90S DELAY  at \n",
      " input\\HNSCC-01-0290\\07-08-2007-NA-002-06873\\2.000000-CONTRAST120CC3CCS90S DELAY-38236\n",
      "\n"
     ]
    },
    {
     "name": "stderr",
     "output_type": "stream",
     "text": [
      "Loading through DICOM files: 100%|███████████████████████████████████████████████████████| 2/2 [00:49<00:00, 24.51s/it]\n",
      "Loading through DICOM files:   0%|                                                               | 0/2 [00:00<?, ?it/s]"
     ]
    },
    {
     "name": "stdout",
     "output_type": "stream",
     "text": [
      "Loading from input\\HNSCC-01-0291\\07-08-2007-NA-002-17278\\1.000000-Series Description-26108\n",
      "Loading from input\\HNSCC-01-0291\\07-08-2007-NA-002-17278\\2.000000-CONTRAST120CC3CCS90S DELAY-61413\n"
     ]
    },
    {
     "name": "stderr",
     "output_type": "stream",
     "text": [
      "\r",
      "Loading through DICOM files: 100%|███████████████████████████████████████████████████████| 2/2 [00:16<00:00,  8.02s/it]"
     ]
    },
    {
     "name": "stdout",
     "output_type": "stream",
     "text": [
      "Compiling dictionaries together...\n",
      "Index 0, description CONTRAST120CC@3CC/S,90S DELAY  at input\\HNSCC-01-0291\\07-08-2007-NA-002-17278\\2.000000-CONTRAST120CC3CCS90S DELAY-61413\n",
      "1 unique series IDs were found. Default is index 0, to change use set_index(index)\n",
      "Loading images for CONTRAST120CC@3CC/S,90S DELAY  at \n",
      " input\\HNSCC-01-0291\\07-08-2007-NA-002-17278\\2.000000-CONTRAST120CC3CCS90S DELAY-61413\n",
      "\n"
     ]
    },
    {
     "name": "stderr",
     "output_type": "stream",
     "text": [
      "Loading through DICOM files: 100%|███████████████████████████████████████████████████████| 2/2 [00:49<00:00, 24.73s/it]\n",
      "Loading through DICOM files:   0%|                                                               | 0/2 [00:00<?, ?it/s]"
     ]
    },
    {
     "name": "stdout",
     "output_type": "stream",
     "text": [
      "Loading from input\\HNSCC-01-0292\\07-08-2007-NA-CT SOFT TISSUE NECK W-94439\\2.000000-CONTRAST120CC3CCS90S DELAY-66086\n",
      "Loading from input\\HNSCC-01-0292\\07-08-2007-NA-CT SOFT TISSUE NECK W-94439\\1.000000-Series Description-70475\n"
     ]
    },
    {
     "name": "stderr",
     "output_type": "stream",
     "text": [
      "\r",
      "Loading through DICOM files: 100%|███████████████████████████████████████████████████████| 2/2 [00:13<00:00,  6.87s/it]"
     ]
    },
    {
     "name": "stdout",
     "output_type": "stream",
     "text": [
      "Compiling dictionaries together...\n",
      "Index 0, description CONTRAST120CC@3CC/S,90S DELAY  at input\\HNSCC-01-0292\\07-08-2007-NA-CT SOFT TISSUE NECK W-94439\\2.000000-CONTRAST120CC3CCS90S DELAY-66086\n",
      "1 unique series IDs were found. Default is index 0, to change use set_index(index)\n",
      "Loading images for CONTRAST120CC@3CC/S,90S DELAY  at \n",
      " input\\HNSCC-01-0292\\07-08-2007-NA-CT SOFT TISSUE NECK W-94439\\2.000000-CONTRAST120CC3CCS90S DELAY-66086\n",
      "\n"
     ]
    },
    {
     "name": "stderr",
     "output_type": "stream",
     "text": [
      "Loading through DICOM files: 100%|███████████████████████████████████████████████████████| 2/2 [00:42<00:00, 21.22s/it]\n",
      "Loading through DICOM files:   0%|                                                               | 0/2 [00:00<?, ?it/s]"
     ]
    },
    {
     "name": "stdout",
     "output_type": "stream",
     "text": [
      "Loading from input\\HNSCC-01-0293\\07-08-2007-NA-002-75617\\1.000000-Series Description-46752\n",
      "Loading from input\\HNSCC-01-0293\\07-08-2007-NA-002-75617\\2.000000-CONTRAST120CC3CCS90S DELAY-89435\n"
     ]
    },
    {
     "name": "stderr",
     "output_type": "stream",
     "text": [
      "\r",
      "Loading through DICOM files: 100%|███████████████████████████████████████████████████████| 2/2 [00:16<00:00,  8.33s/it]"
     ]
    },
    {
     "name": "stdout",
     "output_type": "stream",
     "text": [
      "Compiling dictionaries together...\n",
      "Index 0, description CONTRAST120CC@3CC/S,90S DELAY  at input\\HNSCC-01-0293\\07-08-2007-NA-002-75617\\2.000000-CONTRAST120CC3CCS90S DELAY-89435\n",
      "1 unique series IDs were found. Default is index 0, to change use set_index(index)\n",
      "Loading images for CONTRAST120CC@3CC/S,90S DELAY  at \n",
      " input\\HNSCC-01-0293\\07-08-2007-NA-002-75617\\2.000000-CONTRAST120CC3CCS90S DELAY-89435\n",
      "\n"
     ]
    },
    {
     "name": "stderr",
     "output_type": "stream",
     "text": [
      "Loading through DICOM files: 100%|███████████████████████████████████████████████████████| 2/2 [00:50<00:00, 25.41s/it]\n",
      "Loading through DICOM files:   0%|                                                               | 0/2 [00:00<?, ?it/s]"
     ]
    },
    {
     "name": "stdout",
     "output_type": "stream",
     "text": [
      "Loading from input\\HNSCC-01-0294\\07-08-2007-NA-CT SOFT TISSUE NECK W-85659\\1.000000-Series Description-25960\n",
      "Loading from input\\HNSCC-01-0294\\07-08-2007-NA-CT SOFT TISSUE NECK W-85659\\2.000000-CONTRAST120CC3CCS90S DELAY-67781\n"
     ]
    },
    {
     "name": "stderr",
     "output_type": "stream",
     "text": [
      "\r",
      "Loading through DICOM files: 100%|███████████████████████████████████████████████████████| 2/2 [00:21<00:00, 10.95s/it]"
     ]
    },
    {
     "name": "stdout",
     "output_type": "stream",
     "text": [
      "Compiling dictionaries together...\n",
      "Index 0, description CONTRAST120CC@3CC/S,90S DELAY  at input\\HNSCC-01-0294\\07-08-2007-NA-CT SOFT TISSUE NECK W-85659\\2.000000-CONTRAST120CC3CCS90S DELAY-67781\n",
      "1 unique series IDs were found. Default is index 0, to change use set_index(index)\n",
      "Loading images for CONTRAST120CC@3CC/S,90S DELAY  at \n",
      " input\\HNSCC-01-0294\\07-08-2007-NA-CT SOFT TISSUE NECK W-85659\\2.000000-CONTRAST120CC3CCS90S DELAY-67781\n",
      "\n"
     ]
    },
    {
     "name": "stderr",
     "output_type": "stream",
     "text": [
      "Loading through DICOM files: 100%|███████████████████████████████████████████████████████| 2/2 [01:07<00:00, 33.91s/it]\n",
      "Loading through DICOM files:   0%|                                                               | 0/2 [00:00<?, ?it/s]"
     ]
    },
    {
     "name": "stdout",
     "output_type": "stream",
     "text": [
      "Loading from input\\HNSCC-01-0296\\07-08-2007-NA-CT SOFT TISSUE NECK W-58974\\2.000000-CONTRAST120CC3CCS90S DELAY-18224\n",
      "Loading from input\\HNSCC-01-0296\\07-08-2007-NA-CT SOFT TISSUE NECK W-58974\\1.000000-Series Description-90606\n"
     ]
    },
    {
     "name": "stderr",
     "output_type": "stream",
     "text": [
      "\r",
      "Loading through DICOM files: 100%|███████████████████████████████████████████████████████| 2/2 [00:16<00:00,  8.24s/it]"
     ]
    },
    {
     "name": "stdout",
     "output_type": "stream",
     "text": [
      "Compiling dictionaries together...\n",
      "Index 0, description CONTRAST120CC@3CC/S,90S DELAY  at input\\HNSCC-01-0296\\07-08-2007-NA-CT SOFT TISSUE NECK W-58974\\2.000000-CONTRAST120CC3CCS90S DELAY-18224\n",
      "1 unique series IDs were found. Default is index 0, to change use set_index(index)\n",
      "Loading images for CONTRAST120CC@3CC/S,90S DELAY  at \n",
      " input\\HNSCC-01-0296\\07-08-2007-NA-CT SOFT TISSUE NECK W-58974\\2.000000-CONTRAST120CC3CCS90S DELAY-18224\n",
      "\n"
     ]
    },
    {
     "name": "stderr",
     "output_type": "stream",
     "text": [
      "Loading through DICOM files: 100%|███████████████████████████████████████████████████████| 2/2 [00:48<00:00, 24.04s/it]\n",
      "Loading through DICOM files:   0%|                                                               | 0/2 [00:00<?, ?it/s]"
     ]
    },
    {
     "name": "stdout",
     "output_type": "stream",
     "text": [
      "Loading from input\\HNSCC-01-0297\\07-08-2007-NA-CT SOFT TISSUE NECK W-26579\\1.000000-Series Description-55202\n",
      "Loading from input\\HNSCC-01-0297\\07-08-2007-NA-CT SOFT TISSUE NECK W-26579\\2.000000-CONTRAST120CC3CCS90S DELAY-88943\n"
     ]
    },
    {
     "name": "stderr",
     "output_type": "stream",
     "text": [
      "\r",
      "Loading through DICOM files: 100%|███████████████████████████████████████████████████████| 2/2 [00:15<00:00,  7.59s/it]"
     ]
    },
    {
     "name": "stdout",
     "output_type": "stream",
     "text": [
      "Compiling dictionaries together...\n",
      "Index 0, description CONTRAST120CC@3CC/S,90S DELAY  at input\\HNSCC-01-0297\\07-08-2007-NA-CT SOFT TISSUE NECK W-26579\\2.000000-CONTRAST120CC3CCS90S DELAY-88943\n",
      "1 unique series IDs were found. Default is index 0, to change use set_index(index)\n",
      "Loading images for CONTRAST120CC@3CC/S,90S DELAY  at \n",
      " input\\HNSCC-01-0297\\07-08-2007-NA-CT SOFT TISSUE NECK W-26579\\2.000000-CONTRAST120CC3CCS90S DELAY-88943\n",
      "\n"
     ]
    },
    {
     "name": "stderr",
     "output_type": "stream",
     "text": [
      "Loading through DICOM files: 100%|███████████████████████████████████████████████████████| 2/2 [00:47<00:00, 23.88s/it]\n",
      "Loading through DICOM files:  50%|███████████████████████████▌                           | 1/2 [00:00<00:00,  7.04it/s]"
     ]
    },
    {
     "name": "stdout",
     "output_type": "stream",
     "text": [
      "Loading from input\\HNSCC-01-0299\\07-08-2007-NA-CT SOFT TISSUE NECK W-48141\\1.000000-Series Description-00895Loading from input\\HNSCC-01-0299\\07-08-2007-NA-CT SOFT TISSUE NECK W-48141\\2.000000-CONTRAST120CC3CCS90S DELAY-24151\n",
      "\n"
     ]
    },
    {
     "name": "stderr",
     "output_type": "stream",
     "text": [
      "\r",
      "Loading through DICOM files: 100%|███████████████████████████████████████████████████████| 2/2 [00:15<00:00,  8.99s/it]"
     ]
    },
    {
     "name": "stdout",
     "output_type": "stream",
     "text": [
      "Compiling dictionaries together...\n",
      "Index 0, description CONTRAST120CC@3CC/S,90S DELAY  at input\\HNSCC-01-0299\\07-08-2007-NA-CT SOFT TISSUE NECK W-48141\\2.000000-CONTRAST120CC3CCS90S DELAY-24151\n",
      "1 unique series IDs were found. Default is index 0, to change use set_index(index)\n",
      "Loading images for CONTRAST120CC@3CC/S,90S DELAY  at \n",
      " input\\HNSCC-01-0299\\07-08-2007-NA-CT SOFT TISSUE NECK W-48141\\2.000000-CONTRAST120CC3CCS90S DELAY-24151\n",
      "\n"
     ]
    },
    {
     "name": "stderr",
     "output_type": "stream",
     "text": [
      "Loading through DICOM files: 100%|███████████████████████████████████████████████████████| 2/2 [00:49<00:00, 24.63s/it]\n",
      "Loading through DICOM files:   0%|                                                               | 0/2 [00:00<?, ?it/s]"
     ]
    },
    {
     "name": "stdout",
     "output_type": "stream",
     "text": [
      "Loading from input\\HNSCC-01-0300\\07-08-2007-NA-CT SOFT TISSUE NECK W-31995\\1.000000-Series Description-39551\n",
      "Loading from input\\HNSCC-01-0300\\07-08-2007-NA-CT SOFT TISSUE NECK W-31995\\2.000000-CONTRAST120CC3CCS90S DELAY-03246\n"
     ]
    },
    {
     "name": "stderr",
     "output_type": "stream",
     "text": [
      "\r",
      "Loading through DICOM files: 100%|███████████████████████████████████████████████████████| 2/2 [00:14<00:00,  7.23s/it]"
     ]
    },
    {
     "name": "stdout",
     "output_type": "stream",
     "text": [
      "Compiling dictionaries together...\n",
      "Index 0, description CONTRAST120CC@3CC/S,90S DELAY  at input\\HNSCC-01-0300\\07-08-2007-NA-CT SOFT TISSUE NECK W-31995\\2.000000-CONTRAST120CC3CCS90S DELAY-03246\n",
      "1 unique series IDs were found. Default is index 0, to change use set_index(index)\n",
      "Loading images for CONTRAST120CC@3CC/S,90S DELAY  at \n",
      " input\\HNSCC-01-0300\\07-08-2007-NA-CT SOFT TISSUE NECK W-31995\\2.000000-CONTRAST120CC3CCS90S DELAY-03246\n",
      "\n"
     ]
    },
    {
     "name": "stderr",
     "output_type": "stream",
     "text": [
      "Loading through DICOM files: 100%|███████████████████████████████████████████████████████| 2/2 [00:47<00:00, 23.62s/it]\n",
      "Loading through DICOM files:   0%|                                                               | 0/2 [00:00<?, ?it/s]"
     ]
    },
    {
     "name": "stdout",
     "output_type": "stream",
     "text": [
      "Loading from input\\HNSCC-01-0301\\07-08-2007-NA-CT SOFT TISSUE NECK W-83539\\1.000000-Series Description-09382\n",
      "Loading from input\\HNSCC-01-0301\\07-08-2007-NA-CT SOFT TISSUE NECK W-83539\\2.000000-CONTRAST120CC3CCS90S DELAY-61423\n"
     ]
    },
    {
     "name": "stderr",
     "output_type": "stream",
     "text": [
      "\r",
      "Loading through DICOM files: 100%|███████████████████████████████████████████████████████| 2/2 [00:13<00:00,  7.00s/it]"
     ]
    },
    {
     "name": "stdout",
     "output_type": "stream",
     "text": [
      "Compiling dictionaries together...\n",
      "Index 0, description CONTRAST120CC@3CC/S,90S DELAY  at input\\HNSCC-01-0301\\07-08-2007-NA-CT SOFT TISSUE NECK W-83539\\2.000000-CONTRAST120CC3CCS90S DELAY-61423\n",
      "1 unique series IDs were found. Default is index 0, to change use set_index(index)\n",
      "Loading images for CONTRAST120CC@3CC/S,90S DELAY  at \n",
      " input\\HNSCC-01-0301\\07-08-2007-NA-CT SOFT TISSUE NECK W-83539\\2.000000-CONTRAST120CC3CCS90S DELAY-61423\n",
      "\n"
     ]
    },
    {
     "name": "stderr",
     "output_type": "stream",
     "text": [
      "Loading through DICOM files: 100%|███████████████████████████████████████████████████████| 2/2 [00:46<00:00, 23.04s/it]\n",
      "Loading through DICOM files:  50%|███████████████████████████▌                           | 1/2 [00:00<00:00,  6.62it/s]"
     ]
    },
    {
     "name": "stdout",
     "output_type": "stream",
     "text": [
      "Loading from input\\HNSCC-01-0302\\07-08-2007-NA-CT SOFT TISSUE NECK W-07154\\2.000000-CONTRAST120CC3CCS90S DELAY-77209\n",
      "Loading from input\\HNSCC-01-0302\\07-08-2007-NA-CT SOFT TISSUE NECK W-07154\\1.000000-Series Description-79654\n"
     ]
    },
    {
     "name": "stderr",
     "output_type": "stream",
     "text": [
      "\r",
      "Loading through DICOM files: 100%|███████████████████████████████████████████████████████| 2/2 [00:17<00:00, 10.00s/it]"
     ]
    },
    {
     "name": "stdout",
     "output_type": "stream",
     "text": [
      "Compiling dictionaries together...\n",
      "Index 0, description CONTRAST120CC@3CC/S,90S DELAY  at input\\HNSCC-01-0302\\07-08-2007-NA-CT SOFT TISSUE NECK W-07154\\2.000000-CONTRAST120CC3CCS90S DELAY-77209\n",
      "1 unique series IDs were found. Default is index 0, to change use set_index(index)\n",
      "Loading images for CONTRAST120CC@3CC/S,90S DELAY  at \n",
      " input\\HNSCC-01-0302\\07-08-2007-NA-CT SOFT TISSUE NECK W-07154\\2.000000-CONTRAST120CC3CCS90S DELAY-77209\n",
      "\n"
     ]
    },
    {
     "name": "stderr",
     "output_type": "stream",
     "text": [
      "Loading through DICOM files: 100%|███████████████████████████████████████████████████████| 2/2 [00:52<00:00, 26.47s/it]\n",
      "Loading through DICOM files:   0%|                                                               | 0/2 [00:00<?, ?it/s]"
     ]
    },
    {
     "name": "stdout",
     "output_type": "stream",
     "text": [
      "Loading from input\\HNSCC-01-0303\\07-08-2007-NA-CT SOFT TISSUE NECK W-98839\\1.000000-Series Description-11767\n",
      "Loading from input\\HNSCC-01-0303\\07-08-2007-NA-CT SOFT TISSUE NECK W-98839\\2.000000-CONTRAST120CC3CCS90S DELAY-62380\n"
     ]
    },
    {
     "name": "stderr",
     "output_type": "stream",
     "text": [
      "\r",
      "Loading through DICOM files: 100%|███████████████████████████████████████████████████████| 2/2 [00:16<00:00,  8.08s/it]"
     ]
    },
    {
     "name": "stdout",
     "output_type": "stream",
     "text": [
      "Compiling dictionaries together...\n",
      "Index 0, description CONTRAST120CC@3CC/S,90S DELAY  at input\\HNSCC-01-0303\\07-08-2007-NA-CT SOFT TISSUE NECK W-98839\\2.000000-CONTRAST120CC3CCS90S DELAY-62380\n",
      "1 unique series IDs were found. Default is index 0, to change use set_index(index)\n",
      "Loading images for CONTRAST120CC@3CC/S,90S DELAY  at \n",
      " input\\HNSCC-01-0303\\07-08-2007-NA-CT SOFT TISSUE NECK W-98839\\2.000000-CONTRAST120CC3CCS90S DELAY-62380\n",
      "\n"
     ]
    },
    {
     "name": "stderr",
     "output_type": "stream",
     "text": [
      "Loading through DICOM files: 100%|███████████████████████████████████████████████████████| 2/2 [00:51<00:00, 25.71s/it]\n",
      "Loading through DICOM files:   0%|                                                               | 0/2 [00:00<?, ?it/s]"
     ]
    },
    {
     "name": "stdout",
     "output_type": "stream",
     "text": [
      "Loading from input\\HNSCC-01-0304\\07-08-2007-NA-CT SOFT TISSUE NECK W-40256\\1.000000-Series Description-18010\n",
      "Loading from input\\HNSCC-01-0304\\07-08-2007-NA-CT SOFT TISSUE NECK W-40256\\2.000000-CONTRAST120CC3CCS90S DELAY-92323\n"
     ]
    },
    {
     "name": "stderr",
     "output_type": "stream",
     "text": [
      "\r",
      "Loading through DICOM files: 100%|███████████████████████████████████████████████████████| 2/2 [00:13<00:00,  6.73s/it]"
     ]
    },
    {
     "name": "stdout",
     "output_type": "stream",
     "text": [
      "Compiling dictionaries together...\n",
      "Index 0, description CONTRAST120CC@3CC/S,90S DELAY  at input\\HNSCC-01-0304\\07-08-2007-NA-CT SOFT TISSUE NECK W-40256\\2.000000-CONTRAST120CC3CCS90S DELAY-92323\n",
      "1 unique series IDs were found. Default is index 0, to change use set_index(index)\n",
      "Loading images for CONTRAST120CC@3CC/S,90S DELAY  at \n",
      " input\\HNSCC-01-0304\\07-08-2007-NA-CT SOFT TISSUE NECK W-40256\\2.000000-CONTRAST120CC3CCS90S DELAY-92323\n",
      "\n"
     ]
    },
    {
     "name": "stderr",
     "output_type": "stream",
     "text": [
      "Loading through DICOM files: 100%|███████████████████████████████████████████████████████| 2/2 [00:44<00:00, 22.37s/it]\n",
      "Loading through DICOM files:   0%|                                                               | 0/2 [00:00<?, ?it/s]"
     ]
    },
    {
     "name": "stdout",
     "output_type": "stream",
     "text": [
      "Loading from input\\HNSCC-01-0305\\07-08-2007-NA-CT SOFT TISSUE NECK W-26950\\2.000000-CONTRAST120CC3CCS90S DELAY-29314\n",
      "Loading from input\\HNSCC-01-0305\\07-08-2007-NA-CT SOFT TISSUE NECK W-26950\\1.000000-Series Description-83801\n"
     ]
    },
    {
     "name": "stderr",
     "output_type": "stream",
     "text": [
      "\r",
      "Loading through DICOM files: 100%|███████████████████████████████████████████████████████| 2/2 [00:14<00:00,  7.44s/it]"
     ]
    },
    {
     "name": "stdout",
     "output_type": "stream",
     "text": [
      "Compiling dictionaries together...\n",
      "Index 0, description CONTRAST120CC@3CC/S,90S DELAY  at input\\HNSCC-01-0305\\07-08-2007-NA-CT SOFT TISSUE NECK W-26950\\2.000000-CONTRAST120CC3CCS90S DELAY-29314\n",
      "1 unique series IDs were found. Default is index 0, to change use set_index(index)\n",
      "Loading images for CONTRAST120CC@3CC/S,90S DELAY  at \n",
      " input\\HNSCC-01-0305\\07-08-2007-NA-CT SOFT TISSUE NECK W-26950\\2.000000-CONTRAST120CC3CCS90S DELAY-29314\n",
      "\n"
     ]
    },
    {
     "name": "stderr",
     "output_type": "stream",
     "text": [
      "Loading through DICOM files: 100%|███████████████████████████████████████████████████████| 2/2 [00:47<00:00, 23.71s/it]\n",
      "Loading through DICOM files:   0%|                                                               | 0/2 [00:00<?, ?it/s]"
     ]
    },
    {
     "name": "stdout",
     "output_type": "stream",
     "text": [
      "Loading from input\\HNSCC-01-0306\\07-08-2007-NA-CT SOFT TISSUE NECK W-89910\\2.000000-CONTRAST120CC3CCS90S DELAY-02317\n",
      "Loading from input\\HNSCC-01-0306\\07-08-2007-NA-CT SOFT TISSUE NECK W-89910\\1.000000-Series Description-62715\n"
     ]
    },
    {
     "name": "stderr",
     "output_type": "stream",
     "text": [
      "\r",
      "Loading through DICOM files: 100%|███████████████████████████████████████████████████████| 2/2 [00:14<00:00,  7.39s/it]"
     ]
    },
    {
     "name": "stdout",
     "output_type": "stream",
     "text": [
      "Compiling dictionaries together...\n",
      "Index 0, description CONTRAST120CC@3CC/S,90S DELAY  at input\\HNSCC-01-0306\\07-08-2007-NA-CT SOFT TISSUE NECK W-89910\\2.000000-CONTRAST120CC3CCS90S DELAY-02317\n",
      "1 unique series IDs were found. Default is index 0, to change use set_index(index)\n",
      "Loading images for CONTRAST120CC@3CC/S,90S DELAY  at \n",
      " input\\HNSCC-01-0306\\07-08-2007-NA-CT SOFT TISSUE NECK W-89910\\2.000000-CONTRAST120CC3CCS90S DELAY-02317\n",
      "\n"
     ]
    },
    {
     "name": "stderr",
     "output_type": "stream",
     "text": [
      "Loading through DICOM files: 100%|███████████████████████████████████████████████████████| 2/2 [00:48<00:00, 24.21s/it]\n",
      "Loading through DICOM files:   0%|                                                               | 0/2 [00:00<?, ?it/s]"
     ]
    },
    {
     "name": "stdout",
     "output_type": "stream",
     "text": [
      "Loading from input\\HNSCC-01-0307\\07-08-2007-NA-CT SOFT TISSUE NECK W-79369\\2.000000-CONTRAST120CC3CCS90S DELAY-32337\n",
      "Loading from input\\HNSCC-01-0307\\07-08-2007-NA-CT SOFT TISSUE NECK W-79369\\1.000000-Series Description-34201\n"
     ]
    },
    {
     "name": "stderr",
     "output_type": "stream",
     "text": [
      "\r",
      "Loading through DICOM files: 100%|███████████████████████████████████████████████████████| 2/2 [00:16<00:00,  8.33s/it]"
     ]
    },
    {
     "name": "stdout",
     "output_type": "stream",
     "text": [
      "Compiling dictionaries together...\n",
      "Index 0, description CONTRAST120CC@3CC/S,90S DELAY  at input\\HNSCC-01-0307\\07-08-2007-NA-CT SOFT TISSUE NECK W-79369\\2.000000-CONTRAST120CC3CCS90S DELAY-32337\n",
      "1 unique series IDs were found. Default is index 0, to change use set_index(index)\n",
      "Loading images for CONTRAST120CC@3CC/S,90S DELAY  at \n",
      " input\\HNSCC-01-0307\\07-08-2007-NA-CT SOFT TISSUE NECK W-79369\\2.000000-CONTRAST120CC3CCS90S DELAY-32337\n",
      "\n"
     ]
    },
    {
     "name": "stderr",
     "output_type": "stream",
     "text": [
      "Loading through DICOM files: 100%|███████████████████████████████████████████████████████| 2/2 [00:51<00:00, 25.88s/it]\n",
      "Loading through DICOM files:   0%|                                                               | 0/2 [00:00<?, ?it/s]"
     ]
    },
    {
     "name": "stdout",
     "output_type": "stream",
     "text": [
      "Loading from input\\HNSCC-01-0308\\07-08-2007-NA-CT SOFT TISSUE NECK W-60430\\2.000000-CONTRAST120CC3CCS90S DELAY-68955Loading from input\\HNSCC-01-0308\\07-08-2007-NA-CT SOFT TISSUE NECK W-60430\\1.000000-Series Description-55535\n",
      "\n"
     ]
    },
    {
     "name": "stderr",
     "output_type": "stream",
     "text": [
      "\r",
      "Loading through DICOM files: 100%|███████████████████████████████████████████████████████| 2/2 [00:12<00:00,  6.10s/it]"
     ]
    },
    {
     "name": "stdout",
     "output_type": "stream",
     "text": [
      "Compiling dictionaries together...\n",
      "Index 0, description CONTRAST120CC@3CC/S,90S DELAY  at input\\HNSCC-01-0308\\07-08-2007-NA-CT SOFT TISSUE NECK W-60430\\2.000000-CONTRAST120CC3CCS90S DELAY-68955\n",
      "1 unique series IDs were found. Default is index 0, to change use set_index(index)\n",
      "Loading images for CONTRAST120CC@3CC/S,90S DELAY  at \n",
      " input\\HNSCC-01-0308\\07-08-2007-NA-CT SOFT TISSUE NECK W-60430\\2.000000-CONTRAST120CC3CCS90S DELAY-68955\n",
      "\n"
     ]
    },
    {
     "name": "stderr",
     "output_type": "stream",
     "text": [
      "Loading through DICOM files: 100%|███████████████████████████████████████████████████████| 2/2 [00:43<00:00, 21.62s/it]\n",
      "Loading through DICOM files:   0%|                                                               | 0/2 [00:00<?, ?it/s]"
     ]
    },
    {
     "name": "stdout",
     "output_type": "stream",
     "text": [
      "Loading from input\\HNSCC-01-0309\\07-08-2007-NA-CT HEAD OR BRAIN WCON-25130\\1.000000-Series Description-72533\n",
      "Loading from input\\HNSCC-01-0309\\07-08-2007-NA-CT HEAD OR BRAIN WCON-25130\\2.000000-CONTRAST120CC3CCS90S DELA-95497\n"
     ]
    },
    {
     "name": "stderr",
     "output_type": "stream",
     "text": [
      "\r",
      "Loading through DICOM files: 100%|███████████████████████████████████████████████████████| 2/2 [00:07<00:00,  3.69s/it]"
     ]
    },
    {
     "name": "stdout",
     "output_type": "stream",
     "text": [
      "Compiling dictionaries together...\n",
      "Index 0, description CONTRAST120CC@3CC/S,90S DELA at input\\HNSCC-01-0309\\07-08-2007-NA-CT HEAD OR BRAIN WCON-25130\\2.000000-CONTRAST120CC3CCS90S DELA-95497\n",
      "1 unique series IDs were found. Default is index 0, to change use set_index(index)\n",
      "Loading images for CONTRAST120CC@3CC/S,90S DELA at \n",
      " input\\HNSCC-01-0309\\07-08-2007-NA-CT HEAD OR BRAIN WCON-25130\\2.000000-CONTRAST120CC3CCS90S DELA-95497\n",
      "\n"
     ]
    },
    {
     "name": "stderr",
     "output_type": "stream",
     "text": [
      "Loading through DICOM files: 100%|███████████████████████████████████████████████████████| 2/2 [00:23<00:00, 11.76s/it]\n",
      "Loading through DICOM files:   0%|                                                               | 0/2 [00:00<?, ?it/s]"
     ]
    },
    {
     "name": "stdout",
     "output_type": "stream",
     "text": [
      "Loading from input\\HNSCC-01-0310\\07-08-2007-NA-CT SOFT TISSUE NECK W-36751\\1.000000-Series Description-34795\n",
      "Loading from input\\HNSCC-01-0310\\07-08-2007-NA-CT SOFT TISSUE NECK W-36751\\2.000000-CONTRAST120CC3CCS90S DELAY-38331\n"
     ]
    },
    {
     "name": "stderr",
     "output_type": "stream",
     "text": [
      "\r",
      "Loading through DICOM files: 100%|███████████████████████████████████████████████████████| 2/2 [00:14<00:00,  7.45s/it]"
     ]
    },
    {
     "name": "stdout",
     "output_type": "stream",
     "text": [
      "Compiling dictionaries together...\n",
      "Index 0, description CONTRAST120CC@3CC/S,90S DELAY  at input\\HNSCC-01-0310\\07-08-2007-NA-CT SOFT TISSUE NECK W-36751\\2.000000-CONTRAST120CC3CCS90S DELAY-38331\n",
      "1 unique series IDs were found. Default is index 0, to change use set_index(index)\n",
      "Loading images for CONTRAST120CC@3CC/S,90S DELAY  at \n",
      " input\\HNSCC-01-0310\\07-08-2007-NA-CT SOFT TISSUE NECK W-36751\\2.000000-CONTRAST120CC3CCS90S DELAY-38331\n",
      "\n"
     ]
    },
    {
     "name": "stderr",
     "output_type": "stream",
     "text": [
      "Loading through DICOM files: 100%|███████████████████████████████████████████████████████| 2/2 [00:54<00:00, 27.34s/it]\n",
      "Loading through DICOM files:   0%|                                                               | 0/1 [00:00<?, ?it/s]"
     ]
    },
    {
     "name": "stdout",
     "output_type": "stream",
     "text": [
      "Loading from input\\HNSCC-01-0311\\07-08-2007-NA-CT SOFT TISSUE NECK W-44009\\2.000000-CONTRAST120CC3CCS90S DELAY-04418\n"
     ]
    },
    {
     "name": "stderr",
     "output_type": "stream",
     "text": [
      "\r",
      "Loading through DICOM files: 100%|███████████████████████████████████████████████████████| 1/1 [00:13<00:00, 13.56s/it]"
     ]
    },
    {
     "name": "stdout",
     "output_type": "stream",
     "text": [
      "Compiling dictionaries together...\n",
      "Index 0, description CONTRAST120CC@3CC/S,90S DELAY  at input\\HNSCC-01-0311\\07-08-2007-NA-CT SOFT TISSUE NECK W-44009\\2.000000-CONTRAST120CC3CCS90S DELAY-04418\n",
      "1 unique series IDs were found. Default is index 0, to change use set_index(index)\n",
      "Loading images for CONTRAST120CC@3CC/S,90S DELAY  at \n",
      " input\\HNSCC-01-0311\\07-08-2007-NA-CT SOFT TISSUE NECK W-44009\\2.000000-CONTRAST120CC3CCS90S DELAY-04418\n",
      "\n"
     ]
    },
    {
     "name": "stderr",
     "output_type": "stream",
     "text": [
      "Loading through DICOM files: 100%|███████████████████████████████████████████████████████| 1/1 [00:45<00:00, 45.28s/it]\n",
      "Loading through DICOM files:   0%|                                                               | 0/2 [00:00<?, ?it/s]"
     ]
    },
    {
     "name": "stdout",
     "output_type": "stream",
     "text": [
      "Loading from input\\HNSCC-01-0312\\07-08-2007-NA-CT SOFT TISSUE NECK W-80228\\1.000000-Series Description-96657\n",
      "Loading from input\\HNSCC-01-0312\\07-08-2007-NA-CT SOFT TISSUE NECK W-80228\\2.000000-CONTRAST120CC3CCS90S DELAY-55954\n"
     ]
    },
    {
     "name": "stderr",
     "output_type": "stream",
     "text": [
      "\r",
      "Loading through DICOM files: 100%|███████████████████████████████████████████████████████| 2/2 [00:05<00:00,  2.85s/it]"
     ]
    },
    {
     "name": "stdout",
     "output_type": "stream",
     "text": [
      "Compiling dictionaries together...\n",
      "Index 0, description CONTRAST120CC@3CC/S,90S DELAY  at input\\HNSCC-01-0312\\07-08-2007-NA-CT SOFT TISSUE NECK W-80228\\2.000000-CONTRAST120CC3CCS90S DELAY-55954\n",
      "1 unique series IDs were found. Default is index 0, to change use set_index(index)\n",
      "Loading images for CONTRAST120CC@3CC/S,90S DELAY  at \n",
      " input\\HNSCC-01-0312\\07-08-2007-NA-CT SOFT TISSUE NECK W-80228\\2.000000-CONTRAST120CC3CCS90S DELAY-55954\n",
      "\n"
     ]
    },
    {
     "name": "stderr",
     "output_type": "stream",
     "text": [
      "Loading through DICOM files: 100%|███████████████████████████████████████████████████████| 2/2 [00:19<00:00,  9.90s/it]\n",
      "Loading through DICOM files:   0%|                                                               | 0/2 [00:00<?, ?it/s]"
     ]
    },
    {
     "name": "stdout",
     "output_type": "stream",
     "text": [
      "Loading from input\\HNSCC-01-0313\\07-08-2007-NA-OSF CT SFT TISS NECK-21557\\3.000000-SOFT TISSUE NECK-19902\n",
      "Loading from input\\HNSCC-01-0313\\07-08-2007-NA-OSF CT SFT TISS NECK-21557\\1.000000-Series Description-80887\n"
     ]
    },
    {
     "name": "stderr",
     "output_type": "stream",
     "text": [
      "\r",
      "Loading through DICOM files: 100%|███████████████████████████████████████████████████████| 2/2 [00:13<00:00,  6.64s/it]"
     ]
    },
    {
     "name": "stdout",
     "output_type": "stream",
     "text": [
      "Compiling dictionaries together...\n",
      "Index 0, description SOFT TISSUE NECK at input\\HNSCC-01-0313\\07-08-2007-NA-OSF CT SFT TISS NECK-21557\\3.000000-SOFT TISSUE NECK-19902\n",
      "1 unique series IDs were found. Default is index 0, to change use set_index(index)\n",
      "Loading images for SOFT TISSUE NECK at \n",
      " input\\HNSCC-01-0313\\07-08-2007-NA-OSF CT SFT TISS NECK-21557\\3.000000-SOFT TISSUE NECK-19902\n",
      "\n"
     ]
    },
    {
     "name": "stderr",
     "output_type": "stream",
     "text": [
      "Loading through DICOM files: 100%|███████████████████████████████████████████████████████| 2/2 [00:51<00:00, 25.68s/it]\n",
      "Loading through DICOM files:  50%|███████████████████████████▌                           | 1/2 [00:00<00:00,  9.01it/s]"
     ]
    },
    {
     "name": "stdout",
     "output_type": "stream",
     "text": [
      "Loading from input\\HNSCC-01-0314\\07-08-2007-NA-CT SOFT TISSUE NECK W-06547\\1.000000-Series Description-11434\n",
      "Loading from input\\HNSCC-01-0314\\07-08-2007-NA-CT SOFT TISSUE NECK W-06547\\2.000000-CONTRAST120CC3CCS90S DELAY-83373\n"
     ]
    },
    {
     "name": "stderr",
     "output_type": "stream",
     "text": [
      "\r",
      "Loading through DICOM files: 100%|███████████████████████████████████████████████████████| 2/2 [00:18<00:00, 10.81s/it]"
     ]
    },
    {
     "name": "stdout",
     "output_type": "stream",
     "text": [
      "Compiling dictionaries together...\n",
      "Index 0, description CONTRAST120CC@3CC/S,90S DELAY  at input\\HNSCC-01-0314\\07-08-2007-NA-CT SOFT TISSUE NECK W-06547\\2.000000-CONTRAST120CC3CCS90S DELAY-83373\n",
      "1 unique series IDs were found. Default is index 0, to change use set_index(index)\n",
      "Loading images for CONTRAST120CC@3CC/S,90S DELAY  at \n",
      " input\\HNSCC-01-0314\\07-08-2007-NA-CT SOFT TISSUE NECK W-06547\\2.000000-CONTRAST120CC3CCS90S DELAY-83373\n",
      "\n"
     ]
    },
    {
     "name": "stderr",
     "output_type": "stream",
     "text": [
      "Loading through DICOM files: 100%|███████████████████████████████████████████████████████| 2/2 [01:02<00:00, 31.23s/it]\n",
      "Loading through DICOM files:   0%|                                                               | 0/2 [00:00<?, ?it/s]"
     ]
    },
    {
     "name": "stdout",
     "output_type": "stream",
     "text": [
      "Loading from input\\HNSCC-01-0315\\07-08-2007-NA-CT SOFT TISSUE NECK W-07244\\1.000000-Series Description-17702\n",
      "Loading from input\\HNSCC-01-0315\\07-08-2007-NA-CT SOFT TISSUE NECK W-07244\\2.000000-CONTRAST120CC3CCS90S DELAY-37894\n"
     ]
    },
    {
     "name": "stderr",
     "output_type": "stream",
     "text": [
      "\r",
      "Loading through DICOM files: 100%|███████████████████████████████████████████████████████| 2/2 [00:13<00:00,  6.52s/it]"
     ]
    },
    {
     "name": "stdout",
     "output_type": "stream",
     "text": [
      "Compiling dictionaries together...\n",
      "Index 0, description CONTRAST120CC@3CC/S,90S DELAY  at input\\HNSCC-01-0315\\07-08-2007-NA-CT SOFT TISSUE NECK W-07244\\2.000000-CONTRAST120CC3CCS90S DELAY-37894\n",
      "1 unique series IDs were found. Default is index 0, to change use set_index(index)\n",
      "Loading images for CONTRAST120CC@3CC/S,90S DELAY  at \n",
      " input\\HNSCC-01-0315\\07-08-2007-NA-CT SOFT TISSUE NECK W-07244\\2.000000-CONTRAST120CC3CCS90S DELAY-37894\n",
      "\n"
     ]
    },
    {
     "name": "stderr",
     "output_type": "stream",
     "text": [
      "Loading through DICOM files: 100%|███████████████████████████████████████████████████████| 2/2 [00:42<00:00, 21.18s/it]\n",
      "Loading through DICOM files:  50%|███████████████████████████▌                           | 1/2 [00:00<00:00,  7.88it/s]"
     ]
    },
    {
     "name": "stdout",
     "output_type": "stream",
     "text": [
      "Loading from input\\HNSCC-01-0316\\07-08-2007-NA-CT SOFT TISSUE NECK W-07035\\1.000000-Series Description-77919\n",
      "Loading from input\\HNSCC-01-0316\\07-08-2007-NA-CT SOFT TISSUE NECK W-07035\\2.000000-CONTRAST120CC3CCS90S DELAY-53767\n"
     ]
    },
    {
     "name": "stderr",
     "output_type": "stream",
     "text": [
      "\r",
      "Loading through DICOM files: 100%|███████████████████████████████████████████████████████| 2/2 [00:14<00:00,  8.62s/it]"
     ]
    },
    {
     "name": "stdout",
     "output_type": "stream",
     "text": [
      "Compiling dictionaries together...\n",
      "Index 0, description CONTRAST120CC@3CC/S,90S DELAY  at input\\HNSCC-01-0316\\07-08-2007-NA-CT SOFT TISSUE NECK W-07035\\2.000000-CONTRAST120CC3CCS90S DELAY-53767\n",
      "1 unique series IDs were found. Default is index 0, to change use set_index(index)\n",
      "Loading images for CONTRAST120CC@3CC/S,90S DELAY  at \n",
      " input\\HNSCC-01-0316\\07-08-2007-NA-CT SOFT TISSUE NECK W-07035\\2.000000-CONTRAST120CC3CCS90S DELAY-53767\n",
      "\n"
     ]
    },
    {
     "name": "stderr",
     "output_type": "stream",
     "text": [
      "Loading through DICOM files: 100%|███████████████████████████████████████████████████████| 2/2 [00:49<00:00, 24.85s/it]\n",
      "Loading through DICOM files:   0%|                                                               | 0/2 [00:00<?, ?it/s]"
     ]
    },
    {
     "name": "stdout",
     "output_type": "stream",
     "text": [
      "Loading from input\\HNSCC-01-0317\\07-08-2007-NA-CT SOFT TISSUE NECK W-80247\\2.000000-CONTRAST120CC3CCS90S DELAY-89818\n",
      "Loading from input\\HNSCC-01-0317\\07-08-2007-NA-CT SOFT TISSUE NECK W-80247\\1.000000-Series Description-05329\n"
     ]
    },
    {
     "name": "stderr",
     "output_type": "stream",
     "text": [
      "\r",
      "Loading through DICOM files: 100%|███████████████████████████████████████████████████████| 2/2 [00:12<00:00,  6.23s/it]"
     ]
    },
    {
     "name": "stdout",
     "output_type": "stream",
     "text": [
      "Compiling dictionaries together...\n",
      "Index 0, description CONTRAST120CC@3CC/S,90S DELAY  at input\\HNSCC-01-0317\\07-08-2007-NA-CT SOFT TISSUE NECK W-80247\\2.000000-CONTRAST120CC3CCS90S DELAY-89818\n",
      "1 unique series IDs were found. Default is index 0, to change use set_index(index)\n",
      "Loading images for CONTRAST120CC@3CC/S,90S DELAY  at \n",
      " input\\HNSCC-01-0317\\07-08-2007-NA-CT SOFT TISSUE NECK W-80247\\2.000000-CONTRAST120CC3CCS90S DELAY-89818\n",
      "\n"
     ]
    },
    {
     "name": "stderr",
     "output_type": "stream",
     "text": [
      "Loading through DICOM files: 100%|███████████████████████████████████████████████████████| 2/2 [00:43<00:00, 21.61s/it]\n",
      "Loading through DICOM files:   0%|                                                               | 0/2 [00:00<?, ?it/s]"
     ]
    },
    {
     "name": "stdout",
     "output_type": "stream",
     "text": [
      "Loading from input\\HNSCC-01-0318\\07-08-2007-NA-CT SOFT TISSUE NECK W-63581\\1.000000-Series Description-08941\n",
      "Loading from input\\HNSCC-01-0318\\07-08-2007-NA-CT SOFT TISSUE NECK W-63581\\2.000000-CONTRAST120CC3CCS90S DELAY-87336\n"
     ]
    },
    {
     "name": "stderr",
     "output_type": "stream",
     "text": [
      "\r",
      "Loading through DICOM files: 100%|███████████████████████████████████████████████████████| 2/2 [00:13<00:00,  6.92s/it]"
     ]
    },
    {
     "name": "stdout",
     "output_type": "stream",
     "text": [
      "Compiling dictionaries together...\n",
      "Index 0, description CONTRAST120CC@3CC/S,90S DELAY  at input\\HNSCC-01-0318\\07-08-2007-NA-CT SOFT TISSUE NECK W-63581\\2.000000-CONTRAST120CC3CCS90S DELAY-87336\n",
      "1 unique series IDs were found. Default is index 0, to change use set_index(index)\n",
      "Loading images for CONTRAST120CC@3CC/S,90S DELAY  at \n",
      " input\\HNSCC-01-0318\\07-08-2007-NA-CT SOFT TISSUE NECK W-63581\\2.000000-CONTRAST120CC3CCS90S DELAY-87336\n",
      "\n"
     ]
    },
    {
     "name": "stderr",
     "output_type": "stream",
     "text": [
      "Loading through DICOM files: 100%|███████████████████████████████████████████████████████| 2/2 [00:45<00:00, 22.71s/it]\n",
      "Loading through DICOM files:   0%|                                                               | 0/2 [00:00<?, ?it/s]"
     ]
    },
    {
     "name": "stdout",
     "output_type": "stream",
     "text": [
      "Loading from input\\HNSCC-01-0319\\07-08-2007-NA-OSF CT SFT TISS NECK-70752\\1.000000-Series Description-37036Loading from input\\HNSCC-01-0319\\07-08-2007-NA-OSF CT SFT TISS NECK-70752\\2.000000-NA-41483\n",
      "\n"
     ]
    },
    {
     "name": "stderr",
     "output_type": "stream",
     "text": [
      "\r",
      "Loading through DICOM files: 100%|███████████████████████████████████████████████████████| 2/2 [00:02<00:00,  1.19s/it]"
     ]
    },
    {
     "name": "stdout",
     "output_type": "stream",
     "text": [
      "Compiling dictionaries together...\n",
      "Index 0, description None at input\\HNSCC-01-0319\\07-08-2007-NA-OSF CT SFT TISS NECK-70752\\2.000000-NA-41483\n",
      "1 unique series IDs were found. Default is index 0, to change use set_index(index)\n",
      "Loading images for None at \n",
      " input\\HNSCC-01-0319\\07-08-2007-NA-OSF CT SFT TISS NECK-70752\\2.000000-NA-41483\n",
      "\n"
     ]
    },
    {
     "name": "stderr",
     "output_type": "stream",
     "text": [
      "Loading through DICOM files: 100%|███████████████████████████████████████████████████████| 2/2 [00:07<00:00,  3.87s/it]\n",
      "Loading through DICOM files:   0%|                                                               | 0/2 [00:00<?, ?it/s]"
     ]
    },
    {
     "name": "stdout",
     "output_type": "stream",
     "text": [
      "Loading from input\\HNSCC-01-0320\\07-08-2007-NA-OSF CT SFT TISS NECK-69700\\5.000000-NECK WCON-79234\n",
      "Loading from input\\HNSCC-01-0320\\07-08-2007-NA-OSF CT SFT TISS NECK-69700\\1.000000-Series Description-88321\n"
     ]
    },
    {
     "name": "stderr",
     "output_type": "stream",
     "text": [
      "\r",
      "Loading through DICOM files: 100%|███████████████████████████████████████████████████████| 2/2 [00:05<00:00,  2.53s/it]"
     ]
    },
    {
     "name": "stdout",
     "output_type": "stream",
     "text": [
      "Compiling dictionaries together...\n",
      "Index 0, description NECK W/CON at input\\HNSCC-01-0320\\07-08-2007-NA-OSF CT SFT TISS NECK-69700\\5.000000-NECK WCON-79234\n",
      "1 unique series IDs were found. Default is index 0, to change use set_index(index)\n",
      "Loading images for NECK W/CON at \n",
      " input\\HNSCC-01-0320\\07-08-2007-NA-OSF CT SFT TISS NECK-69700\\5.000000-NECK WCON-79234\n",
      "\n"
     ]
    },
    {
     "name": "stderr",
     "output_type": "stream",
     "text": [
      "Loading through DICOM files: 100%|███████████████████████████████████████████████████████| 2/2 [00:16<00:00,  8.22s/it]\n",
      "Loading through DICOM files:   0%|                                                               | 0/2 [00:00<?, ?it/s]"
     ]
    },
    {
     "name": "stdout",
     "output_type": "stream",
     "text": [
      "Loading from input\\HNSCC-01-0321\\07-08-2007-NA-CT SOFT TISSUE NECK W-13897\\1.000000-Series Description-43013\n",
      "Loading from input\\HNSCC-01-0321\\07-08-2007-NA-CT SOFT TISSUE NECK W-13897\\2.000000-CONTRAST120CC3CCS90S DELAY-14703\n"
     ]
    },
    {
     "name": "stderr",
     "output_type": "stream",
     "text": [
      "\r",
      "Loading through DICOM files: 100%|███████████████████████████████████████████████████████| 2/2 [00:18<00:00,  9.36s/it]"
     ]
    },
    {
     "name": "stdout",
     "output_type": "stream",
     "text": [
      "Compiling dictionaries together...\n",
      "Index 0, description CONTRAST120CC@3CC/S,90S DELAY  at input\\HNSCC-01-0321\\07-08-2007-NA-CT SOFT TISSUE NECK W-13897\\2.000000-CONTRAST120CC3CCS90S DELAY-14703\n",
      "1 unique series IDs were found. Default is index 0, to change use set_index(index)\n",
      "Loading images for CONTRAST120CC@3CC/S,90S DELAY  at \n",
      " input\\HNSCC-01-0321\\07-08-2007-NA-CT SOFT TISSUE NECK W-13897\\2.000000-CONTRAST120CC3CCS90S DELAY-14703\n",
      "\n"
     ]
    },
    {
     "name": "stderr",
     "output_type": "stream",
     "text": [
      "Loading through DICOM files: 100%|███████████████████████████████████████████████████████| 2/2 [00:55<00:00, 27.65s/it]\n",
      "Loading through DICOM files:   0%|                                                               | 0/2 [00:00<?, ?it/s]"
     ]
    },
    {
     "name": "stdout",
     "output_type": "stream",
     "text": [
      "Loading from input\\HNSCC-01-0322\\07-08-2007-NA-OSF CT SFT TISS NECK-58248\\1.000000-Series Description-53304\n",
      "Loading from input\\HNSCC-01-0322\\07-08-2007-NA-OSF CT SFT TISS NECK-58248\\3.000000-Neck  ST-42105\n"
     ]
    },
    {
     "name": "stderr",
     "output_type": "stream",
     "text": [
      "\r",
      "Loading through DICOM files: 100%|███████████████████████████████████████████████████████| 2/2 [00:04<00:00,  2.27s/it]"
     ]
    },
    {
     "name": "stdout",
     "output_type": "stream",
     "text": [
      "Compiling dictionaries together...\n",
      "Index 0, description Neck  ST at input\\HNSCC-01-0322\\07-08-2007-NA-OSF CT SFT TISS NECK-58248\\3.000000-Neck  ST-42105\n",
      "1 unique series IDs were found. Default is index 0, to change use set_index(index)\n",
      "Loading images for Neck  ST at \n",
      " input\\HNSCC-01-0322\\07-08-2007-NA-OSF CT SFT TISS NECK-58248\\3.000000-Neck  ST-42105\n",
      "\n"
     ]
    },
    {
     "name": "stderr",
     "output_type": "stream",
     "text": [
      "Loading through DICOM files: 100%|███████████████████████████████████████████████████████| 2/2 [00:17<00:00,  8.58s/it]\n",
      "Loading through DICOM files:   0%|                                                               | 0/2 [00:00<?, ?it/s]"
     ]
    },
    {
     "name": "stdout",
     "output_type": "stream",
     "text": [
      "Loading from input\\HNSCC-01-0323\\07-08-2007-NA-CT SOFT TISSUE NECK W-13236\\1.000000-Series Description-71827\n",
      "Loading from input\\HNSCC-01-0323\\07-08-2007-NA-CT SOFT TISSUE NECK W-13236\\2.000000-CONTRAST120CC3CCS90S DELAY-73514\n"
     ]
    },
    {
     "name": "stderr",
     "output_type": "stream",
     "text": [
      "\r",
      "Loading through DICOM files: 100%|███████████████████████████████████████████████████████| 2/2 [00:12<00:00,  6.38s/it]"
     ]
    },
    {
     "name": "stdout",
     "output_type": "stream",
     "text": [
      "Compiling dictionaries together...\n",
      "Index 0, description CONTRAST120CC@3CC/S,90S DELAY  at input\\HNSCC-01-0323\\07-08-2007-NA-CT SOFT TISSUE NECK W-13236\\2.000000-CONTRAST120CC3CCS90S DELAY-73514\n",
      "1 unique series IDs were found. Default is index 0, to change use set_index(index)\n",
      "Loading images for CONTRAST120CC@3CC/S,90S DELAY  at \n",
      " input\\HNSCC-01-0323\\07-08-2007-NA-CT SOFT TISSUE NECK W-13236\\2.000000-CONTRAST120CC3CCS90S DELAY-73514\n",
      "\n"
     ]
    },
    {
     "name": "stderr",
     "output_type": "stream",
     "text": [
      "Loading through DICOM files: 100%|███████████████████████████████████████████████████████| 2/2 [00:44<00:00, 22.08s/it]\n",
      "Loading through DICOM files:   0%|                                                               | 0/2 [00:00<?, ?it/s]"
     ]
    },
    {
     "name": "stdout",
     "output_type": "stream",
     "text": [
      "Loading from input\\HNSCC-01-0324\\07-08-2007-NA-CT SOFT TISSUE NECK W-23419\\1.000000-Series Description-32247\n",
      "Loading from input\\HNSCC-01-0324\\07-08-2007-NA-CT SOFT TISSUE NECK W-23419\\2.000000-CONTRAST120CC3CCS90S DELAY-53946\n"
     ]
    },
    {
     "name": "stderr",
     "output_type": "stream",
     "text": [
      "\r",
      "Loading through DICOM files: 100%|███████████████████████████████████████████████████████| 2/2 [00:12<00:00,  6.06s/it]"
     ]
    },
    {
     "name": "stdout",
     "output_type": "stream",
     "text": [
      "Compiling dictionaries together...\n",
      "Index 0, description CONTRAST120CC@3CC/S,90S DELAY  at input\\HNSCC-01-0324\\07-08-2007-NA-CT SOFT TISSUE NECK W-23419\\2.000000-CONTRAST120CC3CCS90S DELAY-53946\n",
      "1 unique series IDs were found. Default is index 0, to change use set_index(index)\n",
      "Loading images for CONTRAST120CC@3CC/S,90S DELAY  at \n",
      " input\\HNSCC-01-0324\\07-08-2007-NA-CT SOFT TISSUE NECK W-23419\\2.000000-CONTRAST120CC3CCS90S DELAY-53946\n",
      "\n"
     ]
    },
    {
     "name": "stderr",
     "output_type": "stream",
     "text": [
      "Loading through DICOM files: 100%|███████████████████████████████████████████████████████| 2/2 [00:40<00:00, 20.30s/it]\n",
      "Loading through DICOM files:   0%|                                                               | 0/2 [00:00<?, ?it/s]"
     ]
    },
    {
     "name": "stdout",
     "output_type": "stream",
     "text": [
      "Loading from input\\HNSCC-01-0325\\07-08-2007-NA-CT SOFT TISSUE NECK W-69529\\2.000000-CONTRAST120CC3CCS90S DELAY-69903\n",
      "Loading from input\\HNSCC-01-0325\\07-08-2007-NA-CT SOFT TISSUE NECK W-69529\\1.000000-Series Description-54974\n"
     ]
    },
    {
     "name": "stderr",
     "output_type": "stream",
     "text": [
      "\r",
      "Loading through DICOM files: 100%|███████████████████████████████████████████████████████| 2/2 [00:12<00:00,  6.37s/it]"
     ]
    },
    {
     "name": "stdout",
     "output_type": "stream",
     "text": [
      "Compiling dictionaries together...\n",
      "Index 0, description CONTRAST120CC@3CC/S,90S DELAY  at input\\HNSCC-01-0325\\07-08-2007-NA-CT SOFT TISSUE NECK W-69529\\2.000000-CONTRAST120CC3CCS90S DELAY-69903\n",
      "1 unique series IDs were found. Default is index 0, to change use set_index(index)\n",
      "Loading images for CONTRAST120CC@3CC/S,90S DELAY  at \n",
      " input\\HNSCC-01-0325\\07-08-2007-NA-CT SOFT TISSUE NECK W-69529\\2.000000-CONTRAST120CC3CCS90S DELAY-69903\n",
      "\n"
     ]
    },
    {
     "name": "stderr",
     "output_type": "stream",
     "text": [
      "Loading through DICOM files: 100%|███████████████████████████████████████████████████████| 2/2 [00:44<00:00, 22.24s/it]\n",
      "Loading through DICOM files:   0%|                                                               | 0/2 [00:00<?, ?it/s]"
     ]
    },
    {
     "name": "stdout",
     "output_type": "stream",
     "text": [
      "Loading from input\\HNSCC-01-0326\\07-08-2007-NA-CT SOFT TISSUE NECK W-84467\\2.000000-CONTRAST120CC3CCS90S DELAY-78140\n",
      "Loading from input\\HNSCC-01-0326\\07-08-2007-NA-CT SOFT TISSUE NECK W-84467\\1.000000-Series Description-34346\n"
     ]
    },
    {
     "name": "stderr",
     "output_type": "stream",
     "text": [
      "\r",
      "Loading through DICOM files: 100%|███████████████████████████████████████████████████████| 2/2 [00:14<00:00,  7.32s/it]"
     ]
    },
    {
     "name": "stdout",
     "output_type": "stream",
     "text": [
      "Compiling dictionaries together...\n",
      "Index 0, description CONTRAST120CC@3CC/S,90S DELAY  at input\\HNSCC-01-0326\\07-08-2007-NA-CT SOFT TISSUE NECK W-84467\\2.000000-CONTRAST120CC3CCS90S DELAY-78140\n",
      "1 unique series IDs were found. Default is index 0, to change use set_index(index)\n",
      "Loading images for CONTRAST120CC@3CC/S,90S DELAY  at \n",
      " input\\HNSCC-01-0326\\07-08-2007-NA-CT SOFT TISSUE NECK W-84467\\2.000000-CONTRAST120CC3CCS90S DELAY-78140\n",
      "\n"
     ]
    },
    {
     "name": "stderr",
     "output_type": "stream",
     "text": [
      "Loading through DICOM files: 100%|███████████████████████████████████████████████████████| 2/2 [00:49<00:00, 24.59s/it]\n",
      "Loading through DICOM files:  50%|███████████████████████████▌                           | 1/2 [00:00<00:00,  8.77it/s]"
     ]
    },
    {
     "name": "stdout",
     "output_type": "stream",
     "text": [
      "Loading from input\\HNSCC-01-0327\\07-08-2007-NA-CT MAXILLOFACIAL AREA-42334\\2.000000-CONTRAST120CC3CCS90S DELAY-97424\n",
      "Loading from input\\HNSCC-01-0327\\07-08-2007-NA-CT MAXILLOFACIAL AREA-42334\\1.000000-Series Description-39443\n"
     ]
    },
    {
     "name": "stderr",
     "output_type": "stream",
     "text": [
      "\r",
      "Loading through DICOM files: 100%|███████████████████████████████████████████████████████| 2/2 [00:20<00:00, 11.82s/it]"
     ]
    },
    {
     "name": "stdout",
     "output_type": "stream",
     "text": [
      "Compiling dictionaries together...\n",
      "Index 0, description CONTRAST120CC@3CC/S,90S DELAY  at input\\HNSCC-01-0327\\07-08-2007-NA-CT MAXILLOFACIAL AREA-42334\\2.000000-CONTRAST120CC3CCS90S DELAY-97424\n",
      "1 unique series IDs were found. Default is index 0, to change use set_index(index)\n",
      "Loading images for CONTRAST120CC@3CC/S,90S DELAY  at \n",
      " input\\HNSCC-01-0327\\07-08-2007-NA-CT MAXILLOFACIAL AREA-42334\\2.000000-CONTRAST120CC3CCS90S DELAY-97424\n",
      "\n"
     ]
    },
    {
     "name": "stderr",
     "output_type": "stream",
     "text": [
      "Loading through DICOM files: 100%|███████████████████████████████████████████████████████| 2/2 [01:05<00:00, 32.88s/it]\n",
      "Loading through DICOM files:   0%|                                                               | 0/2 [00:00<?, ?it/s]"
     ]
    },
    {
     "name": "stdout",
     "output_type": "stream",
     "text": [
      "Loading from input\\HNSCC-01-0328\\07-08-2007-NA-CT SOFT TISSUE NECK W-84617\\2.000000-CONTRAST120CC3CCS90S DELAY-31740\n",
      "Loading from input\\HNSCC-01-0328\\07-08-2007-NA-CT SOFT TISSUE NECK W-84617\\1.000000-Series Description-30246\n"
     ]
    },
    {
     "name": "stderr",
     "output_type": "stream",
     "text": [
      "\r",
      "Loading through DICOM files: 100%|███████████████████████████████████████████████████████| 2/2 [00:16<00:00,  8.22s/it]"
     ]
    },
    {
     "name": "stdout",
     "output_type": "stream",
     "text": [
      "Compiling dictionaries together...\n",
      "Index 0, description CONTRAST120CC@3CC/S,90S DELAY  at input\\HNSCC-01-0328\\07-08-2007-NA-CT SOFT TISSUE NECK W-84617\\2.000000-CONTRAST120CC3CCS90S DELAY-31740\n",
      "1 unique series IDs were found. Default is index 0, to change use set_index(index)\n",
      "Loading images for CONTRAST120CC@3CC/S,90S DELAY  at \n",
      " input\\HNSCC-01-0328\\07-08-2007-NA-CT SOFT TISSUE NECK W-84617\\2.000000-CONTRAST120CC3CCS90S DELAY-31740\n",
      "\n"
     ]
    },
    {
     "name": "stderr",
     "output_type": "stream",
     "text": [
      "Loading through DICOM files: 100%|███████████████████████████████████████████████████████| 2/2 [00:53<00:00, 26.78s/it]\n",
      "Loading through DICOM files:  50%|███████████████████████████▌                           | 1/2 [00:00<00:00,  9.01it/s]"
     ]
    },
    {
     "name": "stdout",
     "output_type": "stream",
     "text": [
      "Loading from input\\HNSCC-01-0329\\08-10-2008-NA-CT SOFT TISSUE NECK W-06432\\1.000000-Series Description-40793\n",
      "Loading from input\\HNSCC-01-0329\\08-10-2008-NA-CT SOFT TISSUE NECK W-06432\\2.000000-CONTRAST120CC3CCS90S DELAY-72386\n"
     ]
    },
    {
     "name": "stderr",
     "output_type": "stream",
     "text": [
      "\r",
      "Loading through DICOM files: 100%|███████████████████████████████████████████████████████| 2/2 [00:15<00:00,  9.12s/it]"
     ]
    },
    {
     "name": "stdout",
     "output_type": "stream",
     "text": [
      "Compiling dictionaries together...\n",
      "Index 0, description CONTRAST120CC@3CC/S,90S DELAY  at input\\HNSCC-01-0329\\08-10-2008-NA-CT SOFT TISSUE NECK W-06432\\2.000000-CONTRAST120CC3CCS90S DELAY-72386\n",
      "1 unique series IDs were found. Default is index 0, to change use set_index(index)\n",
      "Loading images for CONTRAST120CC@3CC/S,90S DELAY  at \n",
      " input\\HNSCC-01-0329\\08-10-2008-NA-CT SOFT TISSUE NECK W-06432\\2.000000-CONTRAST120CC3CCS90S DELAY-72386\n",
      "\n"
     ]
    },
    {
     "name": "stderr",
     "output_type": "stream",
     "text": [
      "Loading through DICOM files: 100%|███████████████████████████████████████████████████████| 2/2 [00:51<00:00, 25.75s/it]\n",
      "Loading through DICOM files:   0%|                                                               | 0/2 [00:00<?, ?it/s]"
     ]
    },
    {
     "name": "stdout",
     "output_type": "stream",
     "text": [
      "Loading from input\\HNSCC-01-0330\\08-10-2008-NA-CT SOFT TISSUE NECK W-24791\\1.000000-Series Description-84248\n",
      "Loading from input\\HNSCC-01-0330\\08-10-2008-NA-CT SOFT TISSUE NECK W-24791\\2.000000-CONTRAST120CC3CCS90S DELAY-11214\n"
     ]
    },
    {
     "name": "stderr",
     "output_type": "stream",
     "text": [
      "\r",
      "Loading through DICOM files: 100%|███████████████████████████████████████████████████████| 2/2 [00:14<00:00,  7.28s/it]"
     ]
    },
    {
     "name": "stdout",
     "output_type": "stream",
     "text": [
      "Compiling dictionaries together...\n",
      "Index 0, description CONTRAST120CC@3CC/S,90S DELAY  at input\\HNSCC-01-0330\\08-10-2008-NA-CT SOFT TISSUE NECK W-24791\\2.000000-CONTRAST120CC3CCS90S DELAY-11214\n",
      "1 unique series IDs were found. Default is index 0, to change use set_index(index)\n",
      "Loading images for CONTRAST120CC@3CC/S,90S DELAY  at \n",
      " input\\HNSCC-01-0330\\08-10-2008-NA-CT SOFT TISSUE NECK W-24791\\2.000000-CONTRAST120CC3CCS90S DELAY-11214\n",
      "\n"
     ]
    },
    {
     "name": "stderr",
     "output_type": "stream",
     "text": [
      "Loading through DICOM files: 100%|███████████████████████████████████████████████████████| 2/2 [00:49<00:00, 24.83s/it]\n",
      "Loading through DICOM files:   0%|                                                               | 0/2 [00:00<?, ?it/s]"
     ]
    },
    {
     "name": "stdout",
     "output_type": "stream",
     "text": [
      "Loading from input\\HNSCC-01-0331\\08-10-2008-NA-CT SOFT TISSUE NECK W-83308\\1.000000-Series Description-44627\n",
      "Loading from input\\HNSCC-01-0331\\08-10-2008-NA-CT SOFT TISSUE NECK W-83308\\2.000000-CONTRAST120CC3CCS90S DELAY-75771\n"
     ]
    },
    {
     "name": "stderr",
     "output_type": "stream",
     "text": [
      "\r",
      "Loading through DICOM files: 100%|███████████████████████████████████████████████████████| 2/2 [00:13<00:00,  6.63s/it]"
     ]
    },
    {
     "name": "stdout",
     "output_type": "stream",
     "text": [
      "Compiling dictionaries together...\n",
      "Index 0, description CONTRAST120CC@3CC/S,90S DELAY  at input\\HNSCC-01-0331\\08-10-2008-NA-CT SOFT TISSUE NECK W-83308\\2.000000-CONTRAST120CC3CCS90S DELAY-75771\n",
      "1 unique series IDs were found. Default is index 0, to change use set_index(index)\n",
      "Loading images for CONTRAST120CC@3CC/S,90S DELAY  at \n",
      " input\\HNSCC-01-0331\\08-10-2008-NA-CT SOFT TISSUE NECK W-83308\\2.000000-CONTRAST120CC3CCS90S DELAY-75771\n",
      "\n"
     ]
    },
    {
     "name": "stderr",
     "output_type": "stream",
     "text": [
      "Loading through DICOM files: 100%|███████████████████████████████████████████████████████| 2/2 [00:44<00:00, 22.48s/it]\n",
      "Loading through DICOM files:   0%|                                                               | 0/2 [00:00<?, ?it/s]"
     ]
    },
    {
     "name": "stdout",
     "output_type": "stream",
     "text": [
      "Loading from input\\HNSCC-01-0332\\08-10-2008-NA-CT SOFT TISSUE NECK W-62090\\1.000000-Series Description-87785\n",
      "Loading from input\\HNSCC-01-0332\\08-10-2008-NA-CT SOFT TISSUE NECK W-62090\\2.000000-CONTRAST120CC3CCS90S DELAY-95733\n"
     ]
    },
    {
     "name": "stderr",
     "output_type": "stream",
     "text": [
      "\r",
      "Loading through DICOM files: 100%|███████████████████████████████████████████████████████| 2/2 [00:13<00:00,  6.98s/it]"
     ]
    },
    {
     "name": "stdout",
     "output_type": "stream",
     "text": [
      "Compiling dictionaries together...\n",
      "Index 0, description CONTRAST120CC@3CC/S,90S DELAY  at input\\HNSCC-01-0332\\08-10-2008-NA-CT SOFT TISSUE NECK W-62090\\2.000000-CONTRAST120CC3CCS90S DELAY-95733\n",
      "1 unique series IDs were found. Default is index 0, to change use set_index(index)\n",
      "Loading images for CONTRAST120CC@3CC/S,90S DELAY  at \n",
      " input\\HNSCC-01-0332\\08-10-2008-NA-CT SOFT TISSUE NECK W-62090\\2.000000-CONTRAST120CC3CCS90S DELAY-95733\n",
      "\n"
     ]
    },
    {
     "name": "stderr",
     "output_type": "stream",
     "text": [
      "Loading through DICOM files: 100%|███████████████████████████████████████████████████████| 2/2 [00:44<00:00, 22.48s/it]\n",
      "Loading through DICOM files:   0%|                                                               | 0/2 [00:00<?, ?it/s]"
     ]
    },
    {
     "name": "stdout",
     "output_type": "stream",
     "text": [
      "Loading from input\\HNSCC-01-0333\\08-10-2008-NA-CT SOFT TISSUE NECK W-14900\\1.000000-Series Description-39682\n",
      "Loading from input\\HNSCC-01-0333\\08-10-2008-NA-CT SOFT TISSUE NECK W-14900\\2.000000-CONTRAST120CC3CCS90S DELAY-73780\n"
     ]
    },
    {
     "name": "stderr",
     "output_type": "stream",
     "text": [
      "\r",
      "Loading through DICOM files: 100%|███████████████████████████████████████████████████████| 2/2 [00:13<00:00,  6.87s/it]"
     ]
    },
    {
     "name": "stdout",
     "output_type": "stream",
     "text": [
      "Compiling dictionaries together...\n",
      "Index 0, description CONTRAST120CC@3CC/S,90S DELAY  at input\\HNSCC-01-0333\\08-10-2008-NA-CT SOFT TISSUE NECK W-14900\\2.000000-CONTRAST120CC3CCS90S DELAY-73780\n",
      "1 unique series IDs were found. Default is index 0, to change use set_index(index)\n",
      "Loading images for CONTRAST120CC@3CC/S,90S DELAY  at \n",
      " input\\HNSCC-01-0333\\08-10-2008-NA-CT SOFT TISSUE NECK W-14900\\2.000000-CONTRAST120CC3CCS90S DELAY-73780\n",
      "\n"
     ]
    },
    {
     "name": "stderr",
     "output_type": "stream",
     "text": [
      "Loading through DICOM files: 100%|███████████████████████████████████████████████████████| 2/2 [00:45<00:00, 22.55s/it]\n",
      "Loading through DICOM files:   0%|                                                               | 0/2 [00:00<?, ?it/s]"
     ]
    },
    {
     "name": "stdout",
     "output_type": "stream",
     "text": [
      "Loading from input\\HNSCC-01-0334\\08-10-2008-NA-CT SOFT TISSUE NECK W-47098\\1.000000-Series Description-27337\n",
      "Loading from input\\HNSCC-01-0334\\08-10-2008-NA-CT SOFT TISSUE NECK W-47098\\2.000000-CONTRAST120CC3CCS90S DELAY-36054\n"
     ]
    },
    {
     "name": "stderr",
     "output_type": "stream",
     "text": [
      "\r",
      "Loading through DICOM files: 100%|███████████████████████████████████████████████████████| 2/2 [00:14<00:00,  7.24s/it]"
     ]
    },
    {
     "name": "stdout",
     "output_type": "stream",
     "text": [
      "Compiling dictionaries together...\n",
      "Index 0, description CONTRAST120CC@3CC/S,90S DELAY  at input\\HNSCC-01-0334\\08-10-2008-NA-CT SOFT TISSUE NECK W-47098\\2.000000-CONTRAST120CC3CCS90S DELAY-36054\n",
      "1 unique series IDs were found. Default is index 0, to change use set_index(index)\n",
      "Loading images for CONTRAST120CC@3CC/S,90S DELAY  at \n",
      " input\\HNSCC-01-0334\\08-10-2008-NA-CT SOFT TISSUE NECK W-47098\\2.000000-CONTRAST120CC3CCS90S DELAY-36054\n",
      "\n"
     ]
    },
    {
     "name": "stderr",
     "output_type": "stream",
     "text": [
      "Loading through DICOM files: 100%|███████████████████████████████████████████████████████| 2/2 [00:50<00:00, 25.44s/it]\n",
      "Loading through DICOM files:   0%|                                                               | 0/2 [00:00<?, ?it/s]"
     ]
    },
    {
     "name": "stdout",
     "output_type": "stream",
     "text": [
      "Loading from input\\HNSCC-01-0335\\08-10-2008-NA-CT SOFT TISSUE NECK W-72566\\1.000000-Series Description-46448\n",
      "Loading from input\\HNSCC-01-0335\\08-10-2008-NA-CT SOFT TISSUE NECK W-72566\\2.000000-CONTRAST120CC3CCS90S DELAY-67338\n"
     ]
    },
    {
     "name": "stderr",
     "output_type": "stream",
     "text": [
      "\r",
      "Loading through DICOM files: 100%|███████████████████████████████████████████████████████| 2/2 [00:42<00:00, 21.27s/it]"
     ]
    },
    {
     "name": "stdout",
     "output_type": "stream",
     "text": [
      "Compiling dictionaries together...\n",
      "Index 0, description CONTRAST120CC@3CC/S,90S DELAY  at input\\HNSCC-01-0335\\08-10-2008-NA-CT SOFT TISSUE NECK W-72566\\2.000000-CONTRAST120CC3CCS90S DELAY-67338\n",
      "1 unique series IDs were found. Default is index 0, to change use set_index(index)\n",
      "Loading images for CONTRAST120CC@3CC/S,90S DELAY  at \n",
      " input\\HNSCC-01-0335\\08-10-2008-NA-CT SOFT TISSUE NECK W-72566\\2.000000-CONTRAST120CC3CCS90S DELAY-67338\n",
      "\n"
     ]
    },
    {
     "name": "stderr",
     "output_type": "stream",
     "text": [
      "Loading through DICOM files: 100%|███████████████████████████████████████████████████████| 2/2 [01:13<00:00, 36.76s/it]\n",
      "Loading through DICOM files:   0%|                                                               | 0/2 [00:00<?, ?it/s]"
     ]
    },
    {
     "name": "stdout",
     "output_type": "stream",
     "text": [
      "Loading from input\\HNSCC-01-0336\\08-10-2008-NA-CT SOFT TISSUE NECK W-53575\\1.000000-Series Description-66549\n",
      "Loading from input\\HNSCC-01-0336\\08-10-2008-NA-CT SOFT TISSUE NECK W-53575\\2.000000-CONTRAST120CC3CCS90S DELAY-00927\n"
     ]
    },
    {
     "name": "stderr",
     "output_type": "stream",
     "text": [
      "\r",
      "Loading through DICOM files: 100%|███████████████████████████████████████████████████████| 2/2 [00:13<00:00,  6.94s/it]"
     ]
    },
    {
     "name": "stdout",
     "output_type": "stream",
     "text": [
      "Compiling dictionaries together...\n",
      "Index 0, description CONTRAST120CC@3CC/S,90S DELAY  at input\\HNSCC-01-0336\\08-10-2008-NA-CT SOFT TISSUE NECK W-53575\\2.000000-CONTRAST120CC3CCS90S DELAY-00927\n",
      "1 unique series IDs were found. Default is index 0, to change use set_index(index)\n",
      "Loading images for CONTRAST120CC@3CC/S,90S DELAY  at \n",
      " input\\HNSCC-01-0336\\08-10-2008-NA-CT SOFT TISSUE NECK W-53575\\2.000000-CONTRAST120CC3CCS90S DELAY-00927\n",
      "\n"
     ]
    },
    {
     "name": "stderr",
     "output_type": "stream",
     "text": [
      "Loading through DICOM files: 100%|███████████████████████████████████████████████████████| 2/2 [00:47<00:00, 23.54s/it]\n",
      "Loading through DICOM files:   0%|                                                               | 0/2 [00:00<?, ?it/s]"
     ]
    },
    {
     "name": "stdout",
     "output_type": "stream",
     "text": [
      "Loading from input\\HNSCC-01-0337\\08-10-2008-NA-CT SOFT TISSUE NECK W-24242\\2.000000-CONTRAST120CC3CCS90S DELAY-40130\n",
      "Loading from input\\HNSCC-01-0337\\08-10-2008-NA-CT SOFT TISSUE NECK W-24242\\1.000000-Series Description-68180\n"
     ]
    },
    {
     "name": "stderr",
     "output_type": "stream",
     "text": [
      "\r",
      "Loading through DICOM files: 100%|███████████████████████████████████████████████████████| 2/2 [00:12<00:00,  6.21s/it]"
     ]
    },
    {
     "name": "stdout",
     "output_type": "stream",
     "text": [
      "Compiling dictionaries together...\n",
      "Index 0, description CONTRAST120CC@3CC/S,90S DELAY  at input\\HNSCC-01-0337\\08-10-2008-NA-CT SOFT TISSUE NECK W-24242\\2.000000-CONTRAST120CC3CCS90S DELAY-40130\n",
      "1 unique series IDs were found. Default is index 0, to change use set_index(index)\n",
      "Loading images for CONTRAST120CC@3CC/S,90S DELAY  at \n",
      " input\\HNSCC-01-0337\\08-10-2008-NA-CT SOFT TISSUE NECK W-24242\\2.000000-CONTRAST120CC3CCS90S DELAY-40130\n",
      "\n"
     ]
    },
    {
     "name": "stderr",
     "output_type": "stream",
     "text": [
      "Loading through DICOM files: 100%|███████████████████████████████████████████████████████| 2/2 [00:44<00:00, 22.07s/it]\n",
      "Loading through DICOM files:   0%|                                                               | 0/2 [00:00<?, ?it/s]"
     ]
    },
    {
     "name": "stdout",
     "output_type": "stream",
     "text": [
      "Loading from input\\HNSCC-01-0338\\08-10-2008-NA-CT MAXILLOFACIAL AREA-74532\\1.000000-Series Description-72153\n",
      "Loading from input\\HNSCC-01-0338\\08-10-2008-NA-CT MAXILLOFACIAL AREA-74532\\2.000000-CONTRAST120CC3CCS90S DELAY-99647\n"
     ]
    },
    {
     "name": "stderr",
     "output_type": "stream",
     "text": [
      "\r",
      "Loading through DICOM files: 100%|███████████████████████████████████████████████████████| 2/2 [00:20<00:00, 10.48s/it]"
     ]
    },
    {
     "name": "stdout",
     "output_type": "stream",
     "text": [
      "Compiling dictionaries together...\n",
      "Index 0, description CONTRAST120CC@3CC/S,90S DELAY  at input\\HNSCC-01-0338\\08-10-2008-NA-CT MAXILLOFACIAL AREA-74532\\2.000000-CONTRAST120CC3CCS90S DELAY-99647\n",
      "1 unique series IDs were found. Default is index 0, to change use set_index(index)\n",
      "Loading images for CONTRAST120CC@3CC/S,90S DELAY  at \n",
      " input\\HNSCC-01-0338\\08-10-2008-NA-CT MAXILLOFACIAL AREA-74532\\2.000000-CONTRAST120CC3CCS90S DELAY-99647\n",
      "\n"
     ]
    },
    {
     "name": "stderr",
     "output_type": "stream",
     "text": [
      "Loading through DICOM files: 100%|███████████████████████████████████████████████████████| 2/2 [01:06<00:00, 33.41s/it]\n",
      "Loading through DICOM files:   0%|                                                               | 0/2 [00:00<?, ?it/s]"
     ]
    },
    {
     "name": "stdout",
     "output_type": "stream",
     "text": [
      "Loading from input\\HNSCC-01-0339\\08-10-2008-NA-CT SOFT TISSUE NECK W-89988\\1.000000-Series Description-67017\n",
      "Loading from input\\HNSCC-01-0339\\08-10-2008-NA-CT SOFT TISSUE NECK W-89988\\2.000000-CONTRAST120CC3CCS90S DELAY-57293\n"
     ]
    },
    {
     "name": "stderr",
     "output_type": "stream",
     "text": [
      "\r",
      "Loading through DICOM files: 100%|███████████████████████████████████████████████████████| 2/2 [00:12<00:00,  6.05s/it]"
     ]
    },
    {
     "name": "stdout",
     "output_type": "stream",
     "text": [
      "Compiling dictionaries together...\n",
      "Index 0, description CONTRAST120CC@3CC/S,90S DELAY  at input\\HNSCC-01-0339\\08-10-2008-NA-CT SOFT TISSUE NECK W-89988\\2.000000-CONTRAST120CC3CCS90S DELAY-57293\n",
      "1 unique series IDs were found. Default is index 0, to change use set_index(index)\n",
      "Loading images for CONTRAST120CC@3CC/S,90S DELAY  at \n",
      " input\\HNSCC-01-0339\\08-10-2008-NA-CT SOFT TISSUE NECK W-89988\\2.000000-CONTRAST120CC3CCS90S DELAY-57293\n",
      "\n"
     ]
    },
    {
     "name": "stderr",
     "output_type": "stream",
     "text": [
      "Loading through DICOM files: 100%|███████████████████████████████████████████████████████| 2/2 [00:40<00:00, 20.38s/it]\n",
      "Loading through DICOM files:   0%|                                                               | 0/2 [00:00<?, ?it/s]"
     ]
    },
    {
     "name": "stdout",
     "output_type": "stream",
     "text": [
      "Loading from input\\HNSCC-01-0340\\08-10-2008-NA-CT SOFT TISSUE NECK W-13381\\2.000000-CONTRAST120CC3CCS90S DELAY-48621\n",
      "Loading from input\\HNSCC-01-0340\\08-10-2008-NA-CT SOFT TISSUE NECK W-13381\\1.000000-Series Description-40516\n"
     ]
    },
    {
     "name": "stderr",
     "output_type": "stream",
     "text": [
      "\r",
      "Loading through DICOM files: 100%|███████████████████████████████████████████████████████| 2/2 [00:14<00:00,  7.26s/it]"
     ]
    },
    {
     "name": "stdout",
     "output_type": "stream",
     "text": [
      "Compiling dictionaries together...\n",
      "Index 0, description CONTRAST120CC@3CC/S,90S DELAY  at input\\HNSCC-01-0340\\08-10-2008-NA-CT SOFT TISSUE NECK W-13381\\2.000000-CONTRAST120CC3CCS90S DELAY-48621\n",
      "1 unique series IDs were found. Default is index 0, to change use set_index(index)\n",
      "Loading images for CONTRAST120CC@3CC/S,90S DELAY  at \n",
      " input\\HNSCC-01-0340\\08-10-2008-NA-CT SOFT TISSUE NECK W-13381\\2.000000-CONTRAST120CC3CCS90S DELAY-48621\n",
      "\n"
     ]
    },
    {
     "name": "stderr",
     "output_type": "stream",
     "text": [
      "Loading through DICOM files: 100%|███████████████████████████████████████████████████████| 2/2 [00:47<00:00, 23.69s/it]\n",
      "Loading through DICOM files:   0%|                                                               | 0/2 [00:00<?, ?it/s]"
     ]
    },
    {
     "name": "stdout",
     "output_type": "stream",
     "text": [
      "Loading from input\\HNSCC-01-0341\\08-10-2008-NA-CT SOFT TISSUE NECK W-82320\\2.000000-CONTRAST120CC3CCS90S DELAY-46713\n",
      "Loading from input\\HNSCC-01-0341\\08-10-2008-NA-CT SOFT TISSUE NECK W-82320\\1.000000-Series Description-82819\n"
     ]
    },
    {
     "name": "stderr",
     "output_type": "stream",
     "text": [
      "\r",
      "Loading through DICOM files: 100%|███████████████████████████████████████████████████████| 2/2 [00:13<00:00,  7.00s/it]"
     ]
    },
    {
     "name": "stdout",
     "output_type": "stream",
     "text": [
      "Compiling dictionaries together...\n",
      "Index 0, description CONTRAST120CC@3CC/S,90S DELAY  at input\\HNSCC-01-0341\\08-10-2008-NA-CT SOFT TISSUE NECK W-82320\\2.000000-CONTRAST120CC3CCS90S DELAY-46713\n",
      "1 unique series IDs were found. Default is index 0, to change use set_index(index)\n",
      "Loading images for CONTRAST120CC@3CC/S,90S DELAY  at \n",
      " input\\HNSCC-01-0341\\08-10-2008-NA-CT SOFT TISSUE NECK W-82320\\2.000000-CONTRAST120CC3CCS90S DELAY-46713\n",
      "\n"
     ]
    },
    {
     "name": "stderr",
     "output_type": "stream",
     "text": [
      "Loading through DICOM files: 100%|███████████████████████████████████████████████████████| 2/2 [00:47<00:00, 24.00s/it]\n",
      "Loading through DICOM files:   0%|                                                               | 0/2 [00:00<?, ?it/s]"
     ]
    },
    {
     "name": "stdout",
     "output_type": "stream",
     "text": [
      "Loading from input\\HNSCC-01-0342\\08-10-2008-NA-CT SOFT TISSUE NECK W-44477\\1.000000-Series Description-85442\n",
      "Loading from input\\HNSCC-01-0342\\08-10-2008-NA-CT SOFT TISSUE NECK W-44477\\2.000000-CONTRAST120CC3CCS90S DELAY-71246\n"
     ]
    },
    {
     "name": "stderr",
     "output_type": "stream",
     "text": [
      "\r",
      "Loading through DICOM files: 100%|███████████████████████████████████████████████████████| 2/2 [00:12<00:00,  6.34s/it]"
     ]
    },
    {
     "name": "stdout",
     "output_type": "stream",
     "text": [
      "Compiling dictionaries together...\n",
      "Index 0, description CONTRAST120CC@3CC/S,90S DELAY  at input\\HNSCC-01-0342\\08-10-2008-NA-CT SOFT TISSUE NECK W-44477\\2.000000-CONTRAST120CC3CCS90S DELAY-71246\n",
      "1 unique series IDs were found. Default is index 0, to change use set_index(index)\n",
      "Loading images for CONTRAST120CC@3CC/S,90S DELAY  at \n",
      " input\\HNSCC-01-0342\\08-10-2008-NA-CT SOFT TISSUE NECK W-44477\\2.000000-CONTRAST120CC3CCS90S DELAY-71246\n",
      "\n"
     ]
    },
    {
     "name": "stderr",
     "output_type": "stream",
     "text": [
      "Loading through DICOM files: 100%|███████████████████████████████████████████████████████| 2/2 [00:42<00:00, 21.05s/it]\n",
      "Loading through DICOM files:  50%|███████████████████████████▌                           | 1/2 [00:00<00:00,  9.61it/s]"
     ]
    },
    {
     "name": "stdout",
     "output_type": "stream",
     "text": [
      "Loading from input\\HNSCC-01-0343\\08-10-2008-NA-CT SOFT TISSUE NECK W-10523\\1.000000-Series Description-09136\n",
      "Loading from input\\HNSCC-01-0343\\08-10-2008-NA-CT SOFT TISSUE NECK W-10523\\2.000000-CONTRAST120CC3CCS90S DELAY-43791\n"
     ]
    },
    {
     "name": "stderr",
     "output_type": "stream",
     "text": [
      "\r",
      "Loading through DICOM files: 100%|███████████████████████████████████████████████████████| 2/2 [00:12<00:00,  7.59s/it]"
     ]
    },
    {
     "name": "stdout",
     "output_type": "stream",
     "text": [
      "Compiling dictionaries together...\n",
      "Index 0, description CONTRAST120CC@3CC/S,90S DELAY  at input\\HNSCC-01-0343\\08-10-2008-NA-CT SOFT TISSUE NECK W-10523\\2.000000-CONTRAST120CC3CCS90S DELAY-43791\n",
      "1 unique series IDs were found. Default is index 0, to change use set_index(index)\n",
      "Loading images for CONTRAST120CC@3CC/S,90S DELAY  at \n",
      " input\\HNSCC-01-0343\\08-10-2008-NA-CT SOFT TISSUE NECK W-10523\\2.000000-CONTRAST120CC3CCS90S DELAY-43791\n",
      "\n"
     ]
    },
    {
     "name": "stderr",
     "output_type": "stream",
     "text": [
      "Loading through DICOM files: 100%|███████████████████████████████████████████████████████| 2/2 [00:45<00:00, 22.61s/it]\n",
      "Loading through DICOM files:   0%|                                                               | 0/2 [00:00<?, ?it/s]"
     ]
    },
    {
     "name": "stdout",
     "output_type": "stream",
     "text": [
      "Loading from input\\HNSCC-01-0344\\08-10-2008-NA-CT SOFT TISSUE NECK W-59690\\1.000000-Series Description-33218\n",
      "Loading from input\\HNSCC-01-0344\\08-10-2008-NA-CT SOFT TISSUE NECK W-59690\\2.000000-CONTRAST120CC3CCS90S DELAY-35825\n"
     ]
    },
    {
     "name": "stderr",
     "output_type": "stream",
     "text": [
      "\r",
      "Loading through DICOM files: 100%|███████████████████████████████████████████████████████| 2/2 [00:14<00:00,  7.09s/it]"
     ]
    },
    {
     "name": "stdout",
     "output_type": "stream",
     "text": [
      "Compiling dictionaries together...\n",
      "Index 0, description CONTRAST120CC@3CC/S,90S DELAY  at input\\HNSCC-01-0344\\08-10-2008-NA-CT SOFT TISSUE NECK W-59690\\2.000000-CONTRAST120CC3CCS90S DELAY-35825\n",
      "1 unique series IDs were found. Default is index 0, to change use set_index(index)\n",
      "Loading images for CONTRAST120CC@3CC/S,90S DELAY  at \n",
      " input\\HNSCC-01-0344\\08-10-2008-NA-CT SOFT TISSUE NECK W-59690\\2.000000-CONTRAST120CC3CCS90S DELAY-35825\n",
      "\n"
     ]
    },
    {
     "name": "stderr",
     "output_type": "stream",
     "text": [
      "Loading through DICOM files: 100%|███████████████████████████████████████████████████████| 2/2 [00:46<00:00, 23.48s/it]\n",
      "Loading through DICOM files:   0%|                                                               | 0/2 [00:00<?, ?it/s]"
     ]
    },
    {
     "name": "stdout",
     "output_type": "stream",
     "text": [
      "Loading from input\\HNSCC-01-0345\\08-10-2008-NA-CT SOFT TISSUE NECK W-47558\\2.000000-CONTRAST120CC3CCS90S DELAY-83538Loading from input\\HNSCC-01-0345\\08-10-2008-NA-CT SOFT TISSUE NECK W-47558\\1.000000-Series Description-59493\n",
      "\n"
     ]
    },
    {
     "name": "stderr",
     "output_type": "stream",
     "text": [
      "\r",
      "Loading through DICOM files: 100%|███████████████████████████████████████████████████████| 2/2 [00:14<00:00,  7.09s/it]"
     ]
    },
    {
     "name": "stdout",
     "output_type": "stream",
     "text": [
      "Compiling dictionaries together...\n",
      "Index 0, description CONTRAST120CC@3CC/S,90S DELAY  at input\\HNSCC-01-0345\\08-10-2008-NA-CT SOFT TISSUE NECK W-47558\\2.000000-CONTRAST120CC3CCS90S DELAY-83538\n",
      "1 unique series IDs were found. Default is index 0, to change use set_index(index)\n",
      "Loading images for CONTRAST120CC@3CC/S,90S DELAY  at \n",
      " input\\HNSCC-01-0345\\08-10-2008-NA-CT SOFT TISSUE NECK W-47558\\2.000000-CONTRAST120CC3CCS90S DELAY-83538\n",
      "\n"
     ]
    },
    {
     "name": "stderr",
     "output_type": "stream",
     "text": [
      "Loading through DICOM files: 100%|███████████████████████████████████████████████████████| 2/2 [00:47<00:00, 23.55s/it]\n",
      "Loading through DICOM files:   0%|                                                               | 0/2 [00:00<?, ?it/s]"
     ]
    },
    {
     "name": "stdout",
     "output_type": "stream",
     "text": [
      "Loading from input\\HNSCC-01-0346\\08-10-2008-NA-CT SOFT TISSUE NECK W-22669\\2.000000-CONTRAST120CC3CCS90S DELAY-10383\n",
      "Loading from input\\HNSCC-01-0346\\08-10-2008-NA-CT SOFT TISSUE NECK W-22669\\1.000000-Series Description-05202\n"
     ]
    },
    {
     "name": "stderr",
     "output_type": "stream",
     "text": [
      "\r",
      "Loading through DICOM files: 100%|███████████████████████████████████████████████████████| 2/2 [00:19<00:00,  9.57s/it]"
     ]
    },
    {
     "name": "stdout",
     "output_type": "stream",
     "text": [
      "Compiling dictionaries together...\n",
      "Index 0, description CONTRAST120CC@3CC/S,90S DELAY  at input\\HNSCC-01-0346\\08-10-2008-NA-CT SOFT TISSUE NECK W-22669\\2.000000-CONTRAST120CC3CCS90S DELAY-10383\n",
      "1 unique series IDs were found. Default is index 0, to change use set_index(index)\n",
      "Loading images for CONTRAST120CC@3CC/S,90S DELAY  at \n",
      " input\\HNSCC-01-0346\\08-10-2008-NA-CT SOFT TISSUE NECK W-22669\\2.000000-CONTRAST120CC3CCS90S DELAY-10383\n",
      "\n"
     ]
    },
    {
     "name": "stderr",
     "output_type": "stream",
     "text": [
      "Loading through DICOM files: 100%|███████████████████████████████████████████████████████| 2/2 [01:02<00:00, 31.48s/it]\n",
      "Loading through DICOM files:   0%|                                                               | 0/2 [00:00<?, ?it/s]"
     ]
    },
    {
     "name": "stdout",
     "output_type": "stream",
     "text": [
      "Loading from input\\HNSCC-01-0347\\08-10-2008-NA-CT SOFT TISSUE NECK W-29519\\1.000000-Series Description-72710\n",
      "Loading from input\\HNSCC-01-0347\\08-10-2008-NA-CT SOFT TISSUE NECK W-29519\\2.000000-CONTRAST120CC3CCS90S DELAY-23768\n"
     ]
    },
    {
     "name": "stderr",
     "output_type": "stream",
     "text": [
      "\r",
      "Loading through DICOM files: 100%|███████████████████████████████████████████████████████| 2/2 [00:12<00:00,  6.23s/it]"
     ]
    },
    {
     "name": "stdout",
     "output_type": "stream",
     "text": [
      "Compiling dictionaries together...\n",
      "Index 0, description CONTRAST120CC@3CC/S,90S DELAY  at input\\HNSCC-01-0347\\08-10-2008-NA-CT SOFT TISSUE NECK W-29519\\2.000000-CONTRAST120CC3CCS90S DELAY-23768\n",
      "1 unique series IDs were found. Default is index 0, to change use set_index(index)\n",
      "Loading images for CONTRAST120CC@3CC/S,90S DELAY  at \n",
      " input\\HNSCC-01-0347\\08-10-2008-NA-CT SOFT TISSUE NECK W-29519\\2.000000-CONTRAST120CC3CCS90S DELAY-23768\n",
      "\n"
     ]
    },
    {
     "name": "stderr",
     "output_type": "stream",
     "text": [
      "Loading through DICOM files: 100%|███████████████████████████████████████████████████████| 2/2 [00:42<00:00, 21.40s/it]\n",
      "Loading through DICOM files:   0%|                                                               | 0/2 [00:00<?, ?it/s]"
     ]
    },
    {
     "name": "stdout",
     "output_type": "stream",
     "text": [
      "Loading from input\\HNSCC-01-0348\\08-10-2008-NA-CT SOFT TISSUE NECK W-76624\\2.000000-CONTRAST120CC3CCS90S DELAY-60384\n",
      "Loading from input\\HNSCC-01-0348\\08-10-2008-NA-CT SOFT TISSUE NECK W-76624\\1.000000-Series Description-72462\n"
     ]
    },
    {
     "name": "stderr",
     "output_type": "stream",
     "text": [
      "\r",
      "Loading through DICOM files: 100%|███████████████████████████████████████████████████████| 2/2 [00:23<00:00, 11.52s/it]"
     ]
    },
    {
     "name": "stdout",
     "output_type": "stream",
     "text": [
      "Compiling dictionaries together...\n",
      "Index 0, description CONTRAST120CC@3CC/S,90S DELAY  at input\\HNSCC-01-0348\\08-10-2008-NA-CT SOFT TISSUE NECK W-76624\\2.000000-CONTRAST120CC3CCS90S DELAY-60384\n",
      "1 unique series IDs were found. Default is index 0, to change use set_index(index)\n",
      "Loading images for CONTRAST120CC@3CC/S,90S DELAY  at \n",
      " input\\HNSCC-01-0348\\08-10-2008-NA-CT SOFT TISSUE NECK W-76624\\2.000000-CONTRAST120CC3CCS90S DELAY-60384\n",
      "\n"
     ]
    },
    {
     "name": "stderr",
     "output_type": "stream",
     "text": [
      "Loading through DICOM files: 100%|███████████████████████████████████████████████████████| 2/2 [01:16<00:00, 38.29s/it]\n",
      "Loading through DICOM files:   0%|                                                               | 0/2 [00:00<?, ?it/s]"
     ]
    },
    {
     "name": "stdout",
     "output_type": "stream",
     "text": [
      "Loading from input\\HNSCC-01-0349\\08-10-2008-NA-CT SOFT TISSUE NECK W-13145\\1.000000-Series Description-08135\n",
      "Loading from input\\HNSCC-01-0349\\08-10-2008-NA-CT SOFT TISSUE NECK W-13145\\2.000000-CONTRAST120CC3CCS90S DELAY-95114\n"
     ]
    },
    {
     "name": "stderr",
     "output_type": "stream",
     "text": [
      "\r",
      "Loading through DICOM files: 100%|███████████████████████████████████████████████████████| 2/2 [00:13<00:00,  6.82s/it]"
     ]
    },
    {
     "name": "stdout",
     "output_type": "stream",
     "text": [
      "Compiling dictionaries together...\n",
      "Index 0, description CONTRAST120CC@3CC/S,90S DELAY  at input\\HNSCC-01-0349\\08-10-2008-NA-CT SOFT TISSUE NECK W-13145\\2.000000-CONTRAST120CC3CCS90S DELAY-95114\n",
      "1 unique series IDs were found. Default is index 0, to change use set_index(index)\n",
      "Loading images for CONTRAST120CC@3CC/S,90S DELAY  at \n",
      " input\\HNSCC-01-0349\\08-10-2008-NA-CT SOFT TISSUE NECK W-13145\\2.000000-CONTRAST120CC3CCS90S DELAY-95114\n",
      "\n"
     ]
    },
    {
     "name": "stderr",
     "output_type": "stream",
     "text": [
      "Loading through DICOM files: 100%|███████████████████████████████████████████████████████| 2/2 [00:46<00:00, 23.16s/it]\n",
      "Loading through DICOM files:  50%|███████████████████████████▌                           | 1/2 [00:00<00:00,  9.09it/s]"
     ]
    },
    {
     "name": "stdout",
     "output_type": "stream",
     "text": [
      "Loading from input\\HNSCC-01-0350\\08-10-2008-NA-CT SOFT TISSUE NECK W-45025\\2.000000-CONTRAST120CC3CCS90S DELAY-50556\n",
      "Loading from input\\HNSCC-01-0350\\08-10-2008-NA-CT SOFT TISSUE NECK W-45025\\1.000000-Series Description-60558\n"
     ]
    },
    {
     "name": "stderr",
     "output_type": "stream",
     "text": [
      "\r",
      "Loading through DICOM files: 100%|███████████████████████████████████████████████████████| 2/2 [00:15<00:00,  8.97s/it]"
     ]
    },
    {
     "name": "stdout",
     "output_type": "stream",
     "text": [
      "Compiling dictionaries together...\n",
      "Index 0, description CONTRAST120CC@3CC/S,90S DELAY  at input\\HNSCC-01-0350\\08-10-2008-NA-CT SOFT TISSUE NECK W-45025\\2.000000-CONTRAST120CC3CCS90S DELAY-50556\n",
      "1 unique series IDs were found. Default is index 0, to change use set_index(index)\n",
      "Loading images for CONTRAST120CC@3CC/S,90S DELAY  at \n",
      " input\\HNSCC-01-0350\\08-10-2008-NA-CT SOFT TISSUE NECK W-45025\\2.000000-CONTRAST120CC3CCS90S DELAY-50556\n",
      "\n"
     ]
    },
    {
     "name": "stderr",
     "output_type": "stream",
     "text": [
      "Loading through DICOM files: 100%|███████████████████████████████████████████████████████| 2/2 [00:52<00:00, 26.38s/it]\n",
      "Loading through DICOM files:   0%|                                                               | 0/2 [00:00<?, ?it/s]"
     ]
    },
    {
     "name": "stdout",
     "output_type": "stream",
     "text": [
      "Loading from input\\HNSCC-01-0351\\08-10-2008-NA-CT SOFT TISSUE NECK W-07657\\1.000000-Series Description-94619\n",
      "Loading from input\\HNSCC-01-0351\\08-10-2008-NA-CT SOFT TISSUE NECK W-07657\\2.000000-CONTRAST120CC3CCS90S DELAY-60998\n"
     ]
    },
    {
     "name": "stderr",
     "output_type": "stream",
     "text": [
      "\r",
      "Loading through DICOM files: 100%|███████████████████████████████████████████████████████| 2/2 [00:12<00:00,  6.09s/it]"
     ]
    },
    {
     "name": "stdout",
     "output_type": "stream",
     "text": [
      "Compiling dictionaries together...\n",
      "Index 0, description CONTRAST120CC@3CC/S,90S DELAY  at input\\HNSCC-01-0351\\08-10-2008-NA-CT SOFT TISSUE NECK W-07657\\2.000000-CONTRAST120CC3CCS90S DELAY-60998\n",
      "1 unique series IDs were found. Default is index 0, to change use set_index(index)\n",
      "Loading images for CONTRAST120CC@3CC/S,90S DELAY  at \n",
      " input\\HNSCC-01-0351\\08-10-2008-NA-CT SOFT TISSUE NECK W-07657\\2.000000-CONTRAST120CC3CCS90S DELAY-60998\n",
      "\n"
     ]
    },
    {
     "name": "stderr",
     "output_type": "stream",
     "text": [
      "Loading through DICOM files: 100%|███████████████████████████████████████████████████████| 2/2 [00:43<00:00, 21.73s/it]\n",
      "Loading through DICOM files:   0%|                                                               | 0/2 [00:00<?, ?it/s]"
     ]
    },
    {
     "name": "stdout",
     "output_type": "stream",
     "text": [
      "Loading from input\\HNSCC-01-0352\\08-10-2008-NA-CT SOFT TISSUE NECK W-43299\\1.000000-Series Description-94495\n",
      "Loading from input\\HNSCC-01-0352\\08-10-2008-NA-CT SOFT TISSUE NECK W-43299\\2.000000-CONTRAST120CC3CCS90S DELAY-49769\n"
     ]
    },
    {
     "name": "stderr",
     "output_type": "stream",
     "text": [
      "\r",
      "Loading through DICOM files: 100%|███████████████████████████████████████████████████████| 2/2 [00:15<00:00,  7.56s/it]"
     ]
    },
    {
     "name": "stdout",
     "output_type": "stream",
     "text": [
      "Compiling dictionaries together...\n",
      "Index 0, description CONTRAST120CC@3CC/S,90S DELAY  at input\\HNSCC-01-0352\\08-10-2008-NA-CT SOFT TISSUE NECK W-43299\\2.000000-CONTRAST120CC3CCS90S DELAY-49769\n",
      "1 unique series IDs were found. Default is index 0, to change use set_index(index)\n",
      "Loading images for CONTRAST120CC@3CC/S,90S DELAY  at \n",
      " input\\HNSCC-01-0352\\08-10-2008-NA-CT SOFT TISSUE NECK W-43299\\2.000000-CONTRAST120CC3CCS90S DELAY-49769\n",
      "\n"
     ]
    },
    {
     "name": "stderr",
     "output_type": "stream",
     "text": [
      "Loading through DICOM files: 100%|███████████████████████████████████████████████████████| 2/2 [00:51<00:00, 25.57s/it]\n",
      "Loading through DICOM files:   0%|                                                               | 0/2 [00:00<?, ?it/s]"
     ]
    },
    {
     "name": "stdout",
     "output_type": "stream",
     "text": [
      "Loading from input\\HNSCC-01-0354\\08-10-2008-NA-CT SOFT TISSUE NECK W-62525\\1.000000-Series Description-29478\n",
      "Loading from input\\HNSCC-01-0354\\08-10-2008-NA-CT SOFT TISSUE NECK W-62525\\2.000000-CONTRAST120CC3CCS90S DELAY-16286\n"
     ]
    },
    {
     "name": "stderr",
     "output_type": "stream",
     "text": [
      "\r",
      "Loading through DICOM files: 100%|███████████████████████████████████████████████████████| 2/2 [00:18<00:00,  9.31s/it]"
     ]
    },
    {
     "name": "stdout",
     "output_type": "stream",
     "text": [
      "Compiling dictionaries together...\n",
      "Index 0, description CONTRAST120CC@3CC/S,90S DELAY  at input\\HNSCC-01-0354\\08-10-2008-NA-CT SOFT TISSUE NECK W-62525\\2.000000-CONTRAST120CC3CCS90S DELAY-16286\n",
      "1 unique series IDs were found. Default is index 0, to change use set_index(index)\n",
      "Loading images for CONTRAST120CC@3CC/S,90S DELAY  at \n",
      " input\\HNSCC-01-0354\\08-10-2008-NA-CT SOFT TISSUE NECK W-62525\\2.000000-CONTRAST120CC3CCS90S DELAY-16286\n",
      "\n"
     ]
    },
    {
     "name": "stderr",
     "output_type": "stream",
     "text": [
      "Loading through DICOM files: 100%|███████████████████████████████████████████████████████| 2/2 [01:01<00:00, 30.84s/it]\n",
      "Loading through DICOM files:   0%|                                                               | 0/1 [00:00<?, ?it/s]"
     ]
    },
    {
     "name": "stdout",
     "output_type": "stream",
     "text": [
      "Loading from input\\HNSCC-01-0355\\08-10-2008-NA-CT SOFT TISSUE NECK W-09552\\3.000000-CONTRAST120CC3CCS90S DELAY-06399\n"
     ]
    },
    {
     "name": "stderr",
     "output_type": "stream",
     "text": [
      "\r",
      "Loading through DICOM files: 100%|███████████████████████████████████████████████████████| 1/1 [00:14<00:00, 14.18s/it]"
     ]
    },
    {
     "name": "stdout",
     "output_type": "stream",
     "text": [
      "Compiling dictionaries together...\n",
      "Index 0, description CONTRAST120CC@3CC/S,90S DELAY  at input\\HNSCC-01-0355\\08-10-2008-NA-CT SOFT TISSUE NECK W-09552\\3.000000-CONTRAST120CC3CCS90S DELAY-06399\n",
      "1 unique series IDs were found. Default is index 0, to change use set_index(index)\n",
      "Loading images for CONTRAST120CC@3CC/S,90S DELAY  at \n",
      " input\\HNSCC-01-0355\\08-10-2008-NA-CT SOFT TISSUE NECK W-09552\\3.000000-CONTRAST120CC3CCS90S DELAY-06399\n",
      "\n"
     ]
    },
    {
     "name": "stderr",
     "output_type": "stream",
     "text": [
      "Loading through DICOM files: 100%|███████████████████████████████████████████████████████| 1/1 [00:44<00:00, 44.96s/it]\n",
      "Loading through DICOM files:   0%|                                                               | 0/2 [00:00<?, ?it/s]"
     ]
    },
    {
     "name": "stdout",
     "output_type": "stream",
     "text": [
      "Loading from input\\HNSCC-01-0356\\08-10-2008-NA-CT SOFT TISSUE NECK W-36927\\1.000000-Series Description-16608\n",
      "Loading from input\\HNSCC-01-0356\\08-10-2008-NA-CT SOFT TISSUE NECK W-36927\\2.000000-CONTRAST120CC3CCS90S DELAY-36657\n"
     ]
    },
    {
     "name": "stderr",
     "output_type": "stream",
     "text": [
      "\r",
      "Loading through DICOM files: 100%|███████████████████████████████████████████████████████| 2/2 [00:14<00:00,  7.31s/it]"
     ]
    },
    {
     "name": "stdout",
     "output_type": "stream",
     "text": [
      "Compiling dictionaries together...\n",
      "Index 0, description CONTRAST120CC@3CC/S,90S DELAY  at input\\HNSCC-01-0356\\08-10-2008-NA-CT SOFT TISSUE NECK W-36927\\2.000000-CONTRAST120CC3CCS90S DELAY-36657\n",
      "1 unique series IDs were found. Default is index 0, to change use set_index(index)\n",
      "Loading images for CONTRAST120CC@3CC/S,90S DELAY  at \n",
      " input\\HNSCC-01-0356\\08-10-2008-NA-CT SOFT TISSUE NECK W-36927\\2.000000-CONTRAST120CC3CCS90S DELAY-36657\n",
      "\n"
     ]
    },
    {
     "name": "stderr",
     "output_type": "stream",
     "text": [
      "Loading through DICOM files: 100%|███████████████████████████████████████████████████████| 2/2 [00:49<00:00, 24.59s/it]\n",
      "Loading through DICOM files:   0%|                                                               | 0/2 [00:00<?, ?it/s]"
     ]
    },
    {
     "name": "stdout",
     "output_type": "stream",
     "text": [
      "Loading from input\\HNSCC-01-0357\\08-10-2008-NA-CT SOFT TISSUE NECK W-33699\\1.000000-Series Description-89734Loading from input\\HNSCC-01-0357\\08-10-2008-NA-CT SOFT TISSUE NECK W-33699\\2.000000-CONTRAST120CC3CCS90S DELAY-59586\n",
      "\n"
     ]
    },
    {
     "name": "stderr",
     "output_type": "stream",
     "text": [
      "\r",
      "Loading through DICOM files: 100%|███████████████████████████████████████████████████████| 2/2 [00:20<00:00, 10.35s/it]"
     ]
    },
    {
     "name": "stdout",
     "output_type": "stream",
     "text": [
      "Compiling dictionaries together...\n",
      "Index 0, description CONTRAST120CC@3CC/S,90S DELAY  at input\\HNSCC-01-0357\\08-10-2008-NA-CT SOFT TISSUE NECK W-33699\\2.000000-CONTRAST120CC3CCS90S DELAY-59586\n",
      "1 unique series IDs were found. Default is index 0, to change use set_index(index)\n",
      "Loading images for CONTRAST120CC@3CC/S,90S DELAY  at \n",
      " input\\HNSCC-01-0357\\08-10-2008-NA-CT SOFT TISSUE NECK W-33699\\2.000000-CONTRAST120CC3CCS90S DELAY-59586\n",
      "\n"
     ]
    },
    {
     "name": "stderr",
     "output_type": "stream",
     "text": [
      "Loading through DICOM files: 100%|███████████████████████████████████████████████████████| 2/2 [01:01<00:00, 30.84s/it]\n",
      "Loading through DICOM files:  50%|███████████████████████████▌                           | 1/2 [00:00<00:00,  9.35it/s]"
     ]
    },
    {
     "name": "stdout",
     "output_type": "stream",
     "text": [
      "Loading from input\\HNSCC-01-0358\\08-10-2008-NA-002-98940\\1.000000-Series Description-34767\n",
      "Loading from input\\HNSCC-01-0358\\08-10-2008-NA-002-98940\\2.000000-CONTRAST120CC3CCS90S DELAY-35016\n"
     ]
    },
    {
     "name": "stderr",
     "output_type": "stream",
     "text": [
      "\r",
      "Loading through DICOM files: 100%|███████████████████████████████████████████████████████| 2/2 [00:15<00:00,  9.38s/it]"
     ]
    },
    {
     "name": "stdout",
     "output_type": "stream",
     "text": [
      "Compiling dictionaries together...\n",
      "Index 0, description CONTRAST120CC@3CC/S,90S DELAY  at input\\HNSCC-01-0358\\08-10-2008-NA-002-98940\\2.000000-CONTRAST120CC3CCS90S DELAY-35016\n",
      "1 unique series IDs were found. Default is index 0, to change use set_index(index)\n",
      "Loading images for CONTRAST120CC@3CC/S,90S DELAY  at \n",
      " input\\HNSCC-01-0358\\08-10-2008-NA-002-98940\\2.000000-CONTRAST120CC3CCS90S DELAY-35016\n",
      "\n"
     ]
    },
    {
     "name": "stderr",
     "output_type": "stream",
     "text": [
      "Loading through DICOM files: 100%|███████████████████████████████████████████████████████| 2/2 [00:52<00:00, 26.26s/it]\n",
      "Loading through DICOM files:  50%|███████████████████████████▌                           | 1/2 [00:00<00:00,  9.09it/s]"
     ]
    },
    {
     "name": "stdout",
     "output_type": "stream",
     "text": [
      "Loading from input\\HNSCC-01-0359\\08-10-2008-NA-CT HN ORAL-30179\\1.000000-Series Description-01734\n",
      "Loading from input\\HNSCC-01-0359\\08-10-2008-NA-CT HN ORAL-30179\\2.000000-CONTRAST120CC3CCS90S DELAY-64836\n"
     ]
    },
    {
     "name": "stderr",
     "output_type": "stream",
     "text": [
      "\r",
      "Loading through DICOM files: 100%|███████████████████████████████████████████████████████| 2/2 [00:15<00:00,  9.07s/it]"
     ]
    },
    {
     "name": "stdout",
     "output_type": "stream",
     "text": [
      "Compiling dictionaries together...\n",
      "Index 0, description CONTRAST120CC@3CC/S,90S DELAY  at input\\HNSCC-01-0359\\08-10-2008-NA-CT HN ORAL-30179\\2.000000-CONTRAST120CC3CCS90S DELAY-64836\n",
      "1 unique series IDs were found. Default is index 0, to change use set_index(index)\n",
      "Loading images for CONTRAST120CC@3CC/S,90S DELAY  at \n",
      " input\\HNSCC-01-0359\\08-10-2008-NA-CT HN ORAL-30179\\2.000000-CONTRAST120CC3CCS90S DELAY-64836\n",
      "\n"
     ]
    },
    {
     "name": "stderr",
     "output_type": "stream",
     "text": [
      "Loading through DICOM files: 100%|███████████████████████████████████████████████████████| 2/2 [00:51<00:00, 25.79s/it]\n",
      "Loading through DICOM files:   0%|                                                               | 0/2 [00:00<?, ?it/s]"
     ]
    },
    {
     "name": "stdout",
     "output_type": "stream",
     "text": [
      "Loading from input\\HNSCC-01-0360\\08-10-2008-NA-CT SOFT TISSUE NECK W-16707\\2.000000-CONTRAST120CC3CCS90S DELAY-19767\n",
      "Loading from input\\HNSCC-01-0360\\08-10-2008-NA-CT SOFT TISSUE NECK W-16707\\1.000000-Series Description-95891\n"
     ]
    },
    {
     "name": "stderr",
     "output_type": "stream",
     "text": [
      "\r",
      "Loading through DICOM files: 100%|███████████████████████████████████████████████████████| 2/2 [00:11<00:00,  5.77s/it]"
     ]
    },
    {
     "name": "stdout",
     "output_type": "stream",
     "text": [
      "Compiling dictionaries together...\n",
      "Index 0, description CONTRAST120CC@3CC/S,90S DELAY  at input\\HNSCC-01-0360\\08-10-2008-NA-CT SOFT TISSUE NECK W-16707\\2.000000-CONTRAST120CC3CCS90S DELAY-19767\n",
      "1 unique series IDs were found. Default is index 0, to change use set_index(index)\n",
      "Loading images for CONTRAST120CC@3CC/S,90S DELAY  at \n",
      " input\\HNSCC-01-0360\\08-10-2008-NA-CT SOFT TISSUE NECK W-16707\\2.000000-CONTRAST120CC3CCS90S DELAY-19767\n",
      "\n"
     ]
    },
    {
     "name": "stderr",
     "output_type": "stream",
     "text": [
      "Loading through DICOM files: 100%|███████████████████████████████████████████████████████| 2/2 [00:39<00:00, 19.99s/it]\n",
      "Loading through DICOM files:   0%|                                                               | 0/1 [00:00<?, ?it/s]"
     ]
    },
    {
     "name": "stdout",
     "output_type": "stream",
     "text": [
      "Loading from input\\HNSCC-01-0361\\08-10-2008-NA-005-73503\\3.000000-ST NECK 3MM-81406\n"
     ]
    },
    {
     "name": "stderr",
     "output_type": "stream",
     "text": [
      "\r",
      "Loading through DICOM files: 100%|███████████████████████████████████████████████████████| 1/1 [00:04<00:00,  4.67s/it]"
     ]
    },
    {
     "name": "stdout",
     "output_type": "stream",
     "text": [
      "Compiling dictionaries together...\n",
      "Index 0, description ST NECK 3MM  at input\\HNSCC-01-0361\\08-10-2008-NA-005-73503\\3.000000-ST NECK 3MM-81406\n",
      "1 unique series IDs were found. Default is index 0, to change use set_index(index)\n",
      "Loading images for ST NECK 3MM  at \n",
      " input\\HNSCC-01-0361\\08-10-2008-NA-005-73503\\3.000000-ST NECK 3MM-81406\n",
      "\n"
     ]
    },
    {
     "name": "stderr",
     "output_type": "stream",
     "text": [
      "Loading through DICOM files: 100%|███████████████████████████████████████████████████████| 1/1 [00:16<00:00, 16.60s/it]\n",
      "Loading through DICOM files:  50%|███████████████████████████▌                           | 1/2 [00:00<00:00,  8.18it/s]"
     ]
    },
    {
     "name": "stdout",
     "output_type": "stream",
     "text": [
      "Loading from input\\HNSCC-01-0362\\08-10-2008-NA-CT SOFT TISSUE NECK W-21330\\2.000000-CONTRAST120CC3CCS90S DELAY-91823\n",
      "Loading from input\\HNSCC-01-0362\\08-10-2008-NA-CT SOFT TISSUE NECK W-21330\\1.000000-Series Description-78687\n"
     ]
    },
    {
     "name": "stderr",
     "output_type": "stream",
     "text": [
      "\r",
      "Loading through DICOM files: 100%|███████████████████████████████████████████████████████| 2/2 [00:15<00:00,  9.00s/it]"
     ]
    },
    {
     "name": "stdout",
     "output_type": "stream",
     "text": [
      "Compiling dictionaries together...\n",
      "Index 0, description CONTRAST120CC@3CC/S,90S DELAY  at input\\HNSCC-01-0362\\08-10-2008-NA-CT SOFT TISSUE NECK W-21330\\2.000000-CONTRAST120CC3CCS90S DELAY-91823\n",
      "1 unique series IDs were found. Default is index 0, to change use set_index(index)\n",
      "Loading images for CONTRAST120CC@3CC/S,90S DELAY  at \n",
      " input\\HNSCC-01-0362\\08-10-2008-NA-CT SOFT TISSUE NECK W-21330\\2.000000-CONTRAST120CC3CCS90S DELAY-91823\n",
      "\n"
     ]
    },
    {
     "name": "stderr",
     "output_type": "stream",
     "text": [
      "Loading through DICOM files: 100%|███████████████████████████████████████████████████████| 2/2 [00:54<00:00, 27.25s/it]\n",
      "Loading through DICOM files:  50%|███████████████████████████▌                           | 1/2 [00:00<00:00,  9.43it/s]"
     ]
    },
    {
     "name": "stdout",
     "output_type": "stream",
     "text": [
      "Loading from input\\HNSCC-01-0363\\08-10-2008-NA-CT SOFT TISSUE NECK W-11383\\1.000000-Series Description-76868\n",
      "Loading from input\\HNSCC-01-0363\\08-10-2008-NA-CT SOFT TISSUE NECK W-11383\\2.000000-CONTRAST120CC3CCS90S DELAY-56413\n"
     ]
    },
    {
     "name": "stderr",
     "output_type": "stream",
     "text": [
      "\r",
      "Loading through DICOM files: 100%|███████████████████████████████████████████████████████| 2/2 [00:13<00:00,  7.82s/it]"
     ]
    },
    {
     "name": "stdout",
     "output_type": "stream",
     "text": [
      "Compiling dictionaries together...\n",
      "Index 0, description CONTRAST120CC@3CC/S,90S DELAY  at input\\HNSCC-01-0363\\08-10-2008-NA-CT SOFT TISSUE NECK W-11383\\2.000000-CONTRAST120CC3CCS90S DELAY-56413\n",
      "1 unique series IDs were found. Default is index 0, to change use set_index(index)\n",
      "Loading images for CONTRAST120CC@3CC/S,90S DELAY  at \n",
      " input\\HNSCC-01-0363\\08-10-2008-NA-CT SOFT TISSUE NECK W-11383\\2.000000-CONTRAST120CC3CCS90S DELAY-56413\n",
      "\n"
     ]
    },
    {
     "name": "stderr",
     "output_type": "stream",
     "text": [
      "Loading through DICOM files: 100%|███████████████████████████████████████████████████████| 2/2 [00:46<00:00, 23.50s/it]\n",
      "Loading through DICOM files:   0%|                                                               | 0/2 [00:00<?, ?it/s]"
     ]
    },
    {
     "name": "stdout",
     "output_type": "stream",
     "text": [
      "Loading from input\\HNSCC-01-0364\\08-10-2008-NA-CT SOFT TISSUE NECK W-12320\\1.000000-Series Description-23788\n",
      "Loading from input\\HNSCC-01-0364\\08-10-2008-NA-CT SOFT TISSUE NECK W-12320\\2.000000-CONTRAST120CC3CCS90S DELAY-26344\n"
     ]
    },
    {
     "name": "stderr",
     "output_type": "stream",
     "text": [
      "\r",
      "Loading through DICOM files: 100%|███████████████████████████████████████████████████████| 2/2 [00:13<00:00,  7.00s/it]"
     ]
    },
    {
     "name": "stdout",
     "output_type": "stream",
     "text": [
      "Compiling dictionaries together...\n",
      "Index 0, description CONTRAST120CC@3CC/S,90S DELAY  at input\\HNSCC-01-0364\\08-10-2008-NA-CT SOFT TISSUE NECK W-12320\\2.000000-CONTRAST120CC3CCS90S DELAY-26344\n",
      "1 unique series IDs were found. Default is index 0, to change use set_index(index)\n",
      "Loading images for CONTRAST120CC@3CC/S,90S DELAY  at \n",
      " input\\HNSCC-01-0364\\08-10-2008-NA-CT SOFT TISSUE NECK W-12320\\2.000000-CONTRAST120CC3CCS90S DELAY-26344\n",
      "\n"
     ]
    },
    {
     "name": "stderr",
     "output_type": "stream",
     "text": [
      "Loading through DICOM files: 100%|███████████████████████████████████████████████████████| 2/2 [00:46<00:00, 23.10s/it]\n",
      "Loading through DICOM files:   0%|                                                               | 0/2 [00:00<?, ?it/s]"
     ]
    },
    {
     "name": "stdout",
     "output_type": "stream",
     "text": [
      "Loading from input\\HNSCC-01-0365\\08-10-2008-NA-CT SOFT TISSUE NECK W-96326\\2.000000-CONTRAST120CC3CCS90S DELAY-24034\n",
      "Loading from input\\HNSCC-01-0365\\08-10-2008-NA-CT SOFT TISSUE NECK W-96326\\1.000000-Series Description-21887\n"
     ]
    },
    {
     "name": "stderr",
     "output_type": "stream",
     "text": [
      "\r",
      "Loading through DICOM files: 100%|███████████████████████████████████████████████████████| 2/2 [00:14<00:00,  7.30s/it]"
     ]
    },
    {
     "name": "stdout",
     "output_type": "stream",
     "text": [
      "Compiling dictionaries together...\n",
      "Index 0, description CONTRAST120CC@3CC/S,90S DELAY  at input\\HNSCC-01-0365\\08-10-2008-NA-CT SOFT TISSUE NECK W-96326\\2.000000-CONTRAST120CC3CCS90S DELAY-24034\n",
      "1 unique series IDs were found. Default is index 0, to change use set_index(index)\n",
      "Loading images for CONTRAST120CC@3CC/S,90S DELAY  at \n",
      " input\\HNSCC-01-0365\\08-10-2008-NA-CT SOFT TISSUE NECK W-96326\\2.000000-CONTRAST120CC3CCS90S DELAY-24034\n",
      "\n"
     ]
    },
    {
     "name": "stderr",
     "output_type": "stream",
     "text": [
      "Loading through DICOM files: 100%|███████████████████████████████████████████████████████| 2/2 [00:50<00:00, 25.08s/it]\n",
      "Loading through DICOM files:   0%|                                                               | 0/2 [00:00<?, ?it/s]"
     ]
    },
    {
     "name": "stdout",
     "output_type": "stream",
     "text": [
      "Loading from input\\HNSCC-01-0366\\08-10-2008-NA-002-24814\\2.000000-CONTRAST120CC3CCS90S DELAY-01306\n",
      "Loading from input\\HNSCC-01-0366\\08-10-2008-NA-002-24814\\1.000000-Series Description-54558\n"
     ]
    },
    {
     "name": "stderr",
     "output_type": "stream",
     "text": [
      "\r",
      "Loading through DICOM files: 100%|███████████████████████████████████████████████████████| 2/2 [00:14<00:00,  7.44s/it]"
     ]
    },
    {
     "name": "stdout",
     "output_type": "stream",
     "text": [
      "Compiling dictionaries together...\n",
      "Index 0, description CONTRAST120CC@3CC/S,90S DELAY  at input\\HNSCC-01-0366\\08-10-2008-NA-002-24814\\2.000000-CONTRAST120CC3CCS90S DELAY-01306\n",
      "1 unique series IDs were found. Default is index 0, to change use set_index(index)\n",
      "Loading images for CONTRAST120CC@3CC/S,90S DELAY  at \n",
      " input\\HNSCC-01-0366\\08-10-2008-NA-002-24814\\2.000000-CONTRAST120CC3CCS90S DELAY-01306\n",
      "\n"
     ]
    },
    {
     "name": "stderr",
     "output_type": "stream",
     "text": [
      "Loading through DICOM files: 100%|███████████████████████████████████████████████████████| 2/2 [00:47<00:00, 23.72s/it]\n",
      "Loading through DICOM files:   0%|                                                               | 0/2 [00:00<?, ?it/s]"
     ]
    },
    {
     "name": "stdout",
     "output_type": "stream",
     "text": [
      "Loading from input\\HNSCC-01-0367\\08-10-2008-NA-CT SOFT TISSUE NECK W-58570\\2.000000-CONTRAST120CC3CCS90S DELAY-24314\n",
      "Loading from input\\HNSCC-01-0367\\08-10-2008-NA-CT SOFT TISSUE NECK W-58570\\1.000000-Series Description-85411\n"
     ]
    },
    {
     "name": "stderr",
     "output_type": "stream",
     "text": [
      "\r",
      "Loading through DICOM files: 100%|███████████████████████████████████████████████████████| 2/2 [00:14<00:00,  7.12s/it]"
     ]
    },
    {
     "name": "stdout",
     "output_type": "stream",
     "text": [
      "Compiling dictionaries together...\n",
      "Index 0, description CONTRAST120CC@3CC/S,90S DELAY  at input\\HNSCC-01-0367\\08-10-2008-NA-CT SOFT TISSUE NECK W-58570\\2.000000-CONTRAST120CC3CCS90S DELAY-24314\n",
      "1 unique series IDs were found. Default is index 0, to change use set_index(index)\n",
      "Loading images for CONTRAST120CC@3CC/S,90S DELAY  at \n",
      " input\\HNSCC-01-0367\\08-10-2008-NA-CT SOFT TISSUE NECK W-58570\\2.000000-CONTRAST120CC3CCS90S DELAY-24314\n",
      "\n"
     ]
    },
    {
     "name": "stderr",
     "output_type": "stream",
     "text": [
      "Loading through DICOM files: 100%|███████████████████████████████████████████████████████| 2/2 [00:50<00:00, 25.10s/it]\n",
      "Loading through DICOM files:   0%|                                                               | 0/2 [00:00<?, ?it/s]"
     ]
    },
    {
     "name": "stdout",
     "output_type": "stream",
     "text": [
      "Loading from input\\HNSCC-01-0368\\08-10-2008-NA-002-64484\\1.000000-Series Description-00808\n",
      "Loading from input\\HNSCC-01-0368\\08-10-2008-NA-002-64484\\2.000000-CONTRAST120CC3CCS90S DELAY-22272\n"
     ]
    },
    {
     "name": "stderr",
     "output_type": "stream",
     "text": [
      "\r",
      "Loading through DICOM files: 100%|███████████████████████████████████████████████████████| 2/2 [00:12<00:00,  6.36s/it]"
     ]
    },
    {
     "name": "stdout",
     "output_type": "stream",
     "text": [
      "Compiling dictionaries together...\n",
      "Index 0, description CONTRAST120CC@3CC/S,90S DELAY  at input\\HNSCC-01-0368\\08-10-2008-NA-002-64484\\2.000000-CONTRAST120CC3CCS90S DELAY-22272\n",
      "1 unique series IDs were found. Default is index 0, to change use set_index(index)\n",
      "Loading images for CONTRAST120CC@3CC/S,90S DELAY  at \n",
      " input\\HNSCC-01-0368\\08-10-2008-NA-002-64484\\2.000000-CONTRAST120CC3CCS90S DELAY-22272\n",
      "\n"
     ]
    },
    {
     "name": "stderr",
     "output_type": "stream",
     "text": [
      "Loading through DICOM files: 100%|███████████████████████████████████████████████████████| 2/2 [00:42<00:00, 21.08s/it]\n",
      "Loading through DICOM files:  50%|███████████████████████████▌                           | 1/2 [00:00<00:00,  9.61it/s]"
     ]
    },
    {
     "name": "stdout",
     "output_type": "stream",
     "text": [
      "Loading from input\\HNSCC-01-0369\\08-10-2008-NA-CT SOFT TISSUE NECK W-18299\\1.000000-Series Description-19812\n",
      "Loading from input\\HNSCC-01-0369\\08-10-2008-NA-CT SOFT TISSUE NECK W-18299\\2.000000-CONTRAST120CC3CCS90S DELAY-49393\n"
     ]
    },
    {
     "name": "stderr",
     "output_type": "stream",
     "text": [
      "\r",
      "Loading through DICOM files: 100%|███████████████████████████████████████████████████████| 2/2 [00:15<00:00,  8.90s/it]"
     ]
    },
    {
     "name": "stdout",
     "output_type": "stream",
     "text": [
      "Compiling dictionaries together...\n",
      "Index 0, description CONTRAST120CC@3CC/S,90S DELAY  at input\\HNSCC-01-0369\\08-10-2008-NA-CT SOFT TISSUE NECK W-18299\\2.000000-CONTRAST120CC3CCS90S DELAY-49393\n",
      "1 unique series IDs were found. Default is index 0, to change use set_index(index)\n",
      "Loading images for CONTRAST120CC@3CC/S,90S DELAY  at \n",
      " input\\HNSCC-01-0369\\08-10-2008-NA-CT SOFT TISSUE NECK W-18299\\2.000000-CONTRAST120CC3CCS90S DELAY-49393\n",
      "\n"
     ]
    },
    {
     "name": "stderr",
     "output_type": "stream",
     "text": [
      "Loading through DICOM files: 100%|███████████████████████████████████████████████████████| 2/2 [00:48<00:00, 24.39s/it]\n",
      "Loading through DICOM files:   0%|                                                               | 0/2 [00:00<?, ?it/s]"
     ]
    },
    {
     "name": "stdout",
     "output_type": "stream",
     "text": [
      "Loading from input\\HNSCC-01-0370\\08-10-2008-NA-CT SOFT TISSUE NECK W-18240\\1.000000-Series Description-46397\n",
      "Loading from input\\HNSCC-01-0370\\08-10-2008-NA-CT SOFT TISSUE NECK W-18240\\2.000000-CONTRAST120CC3CCS90S DELAY-53394\n"
     ]
    },
    {
     "name": "stderr",
     "output_type": "stream",
     "text": [
      "\r",
      "Loading through DICOM files: 100%|███████████████████████████████████████████████████████| 2/2 [00:13<00:00,  6.80s/it]"
     ]
    },
    {
     "name": "stdout",
     "output_type": "stream",
     "text": [
      "Compiling dictionaries together...\n",
      "Index 0, description CONTRAST120CC@3CC/S,90S DELAY  at input\\HNSCC-01-0370\\08-10-2008-NA-CT SOFT TISSUE NECK W-18240\\2.000000-CONTRAST120CC3CCS90S DELAY-53394\n",
      "1 unique series IDs were found. Default is index 0, to change use set_index(index)\n",
      "Loading images for CONTRAST120CC@3CC/S,90S DELAY  at \n",
      " input\\HNSCC-01-0370\\08-10-2008-NA-CT SOFT TISSUE NECK W-18240\\2.000000-CONTRAST120CC3CCS90S DELAY-53394\n",
      "\n"
     ]
    },
    {
     "name": "stderr",
     "output_type": "stream",
     "text": [
      "Loading through DICOM files: 100%|███████████████████████████████████████████████████████| 2/2 [00:47<00:00, 23.64s/it]\n",
      "Loading through DICOM files:   0%|                                                               | 0/2 [00:00<?, ?it/s]"
     ]
    },
    {
     "name": "stdout",
     "output_type": "stream",
     "text": [
      "Loading from input\\HNSCC-01-0371\\08-10-2008-NA-002-81399\\1.000000-Series Description-04637\n",
      "Loading from input\\HNSCC-01-0371\\08-10-2008-NA-002-81399\\2.000000-CONTRAST120CC3CCS90S DELAY-83248\n"
     ]
    },
    {
     "name": "stderr",
     "output_type": "stream",
     "text": [
      "\r",
      "Loading through DICOM files: 100%|███████████████████████████████████████████████████████| 2/2 [00:11<00:00,  5.77s/it]"
     ]
    },
    {
     "name": "stdout",
     "output_type": "stream",
     "text": [
      "Compiling dictionaries together...\n",
      "Index 0, description CONTRAST120CC@3CC/S,90S DELAY  at input\\HNSCC-01-0371\\08-10-2008-NA-002-81399\\2.000000-CONTRAST120CC3CCS90S DELAY-83248\n",
      "1 unique series IDs were found. Default is index 0, to change use set_index(index)\n",
      "Loading images for CONTRAST120CC@3CC/S,90S DELAY  at \n",
      " input\\HNSCC-01-0371\\08-10-2008-NA-002-81399\\2.000000-CONTRAST120CC3CCS90S DELAY-83248\n",
      "\n"
     ]
    },
    {
     "name": "stderr",
     "output_type": "stream",
     "text": [
      "Loading through DICOM files: 100%|███████████████████████████████████████████████████████| 2/2 [00:39<00:00, 19.59s/it]\n",
      "Loading through DICOM files:   0%|                                                               | 0/2 [00:00<?, ?it/s]"
     ]
    },
    {
     "name": "stdout",
     "output_type": "stream",
     "text": [
      "Loading from input\\HNSCC-01-0372\\08-10-2008-NA-CT SOFT TISSUE NECK W-24461\\1.000000-Series Description-65665\n",
      "Loading from input\\HNSCC-01-0372\\08-10-2008-NA-CT SOFT TISSUE NECK W-24461\\2.000000-CONTRAST120CC3CCS90S DELAY-28835\n"
     ]
    },
    {
     "name": "stderr",
     "output_type": "stream",
     "text": [
      "\r",
      "Loading through DICOM files: 100%|███████████████████████████████████████████████████████| 2/2 [00:12<00:00,  6.43s/it]"
     ]
    },
    {
     "name": "stdout",
     "output_type": "stream",
     "text": [
      "Compiling dictionaries together...\n",
      "Index 0, description CONTRAST120CC@3CC/S,90S DELAY  at input\\HNSCC-01-0372\\08-10-2008-NA-CT SOFT TISSUE NECK W-24461\\2.000000-CONTRAST120CC3CCS90S DELAY-28835\n",
      "1 unique series IDs were found. Default is index 0, to change use set_index(index)\n",
      "Loading images for CONTRAST120CC@3CC/S,90S DELAY  at \n",
      " input\\HNSCC-01-0372\\08-10-2008-NA-CT SOFT TISSUE NECK W-24461\\2.000000-CONTRAST120CC3CCS90S DELAY-28835\n",
      "\n"
     ]
    },
    {
     "name": "stderr",
     "output_type": "stream",
     "text": [
      "Loading through DICOM files: 100%|███████████████████████████████████████████████████████| 2/2 [00:45<00:00, 22.53s/it]\n",
      "Loading through DICOM files:   0%|                                                               | 0/2 [00:00<?, ?it/s]"
     ]
    },
    {
     "name": "stdout",
     "output_type": "stream",
     "text": [
      "Loading from input\\HNSCC-01-0373\\08-10-2008-NA-CT SOFT TISSUE NECK W-60536\\1.000000-Series Description-57066Loading from input\\HNSCC-01-0373\\08-10-2008-NA-CT SOFT TISSUE NECK W-60536\\2.000000-CONTRAST120CC3CCS90S DELAY-06715\n",
      "\n"
     ]
    },
    {
     "name": "stderr",
     "output_type": "stream",
     "text": [
      "\r",
      "Loading through DICOM files: 100%|███████████████████████████████████████████████████████| 2/2 [00:16<00:00,  8.16s/it]"
     ]
    },
    {
     "name": "stdout",
     "output_type": "stream",
     "text": [
      "Compiling dictionaries together...\n",
      "Index 0, description CONTRAST120CC@3CC/S,90S DELAY  at input\\HNSCC-01-0373\\08-10-2008-NA-CT SOFT TISSUE NECK W-60536\\2.000000-CONTRAST120CC3CCS90S DELAY-06715\n",
      "1 unique series IDs were found. Default is index 0, to change use set_index(index)\n",
      "Loading images for CONTRAST120CC@3CC/S,90S DELAY  at \n",
      " input\\HNSCC-01-0373\\08-10-2008-NA-CT SOFT TISSUE NECK W-60536\\2.000000-CONTRAST120CC3CCS90S DELAY-06715\n",
      "\n"
     ]
    },
    {
     "name": "stderr",
     "output_type": "stream",
     "text": [
      "Loading through DICOM files: 100%|███████████████████████████████████████████████████████| 2/2 [00:55<00:00, 27.52s/it]\n",
      "Loading through DICOM files:   0%|                                                               | 0/2 [00:00<?, ?it/s]"
     ]
    },
    {
     "name": "stdout",
     "output_type": "stream",
     "text": [
      "Loading from input\\HNSCC-01-0374\\08-10-2008-NA-CT MAXILLOFACIAL AREA-97160\\1.000000-Series Description-17945\n",
      "Loading from input\\HNSCC-01-0374\\08-10-2008-NA-CT MAXILLOFACIAL AREA-97160\\2.000000-CONTRAST120CC3CCS90S DELAY-19996\n"
     ]
    },
    {
     "name": "stderr",
     "output_type": "stream",
     "text": [
      "\r",
      "Loading through DICOM files: 100%|███████████████████████████████████████████████████████| 2/2 [00:19<00:00,  9.73s/it]"
     ]
    },
    {
     "name": "stdout",
     "output_type": "stream",
     "text": [
      "Compiling dictionaries together...\n",
      "Index 0, description CONTRAST120CC@3CC/S,90S DELAY  at input\\HNSCC-01-0374\\08-10-2008-NA-CT MAXILLOFACIAL AREA-97160\\2.000000-CONTRAST120CC3CCS90S DELAY-19996\n",
      "1 unique series IDs were found. Default is index 0, to change use set_index(index)\n",
      "Loading images for CONTRAST120CC@3CC/S,90S DELAY  at \n",
      " input\\HNSCC-01-0374\\08-10-2008-NA-CT MAXILLOFACIAL AREA-97160\\2.000000-CONTRAST120CC3CCS90S DELAY-19996\n",
      "\n"
     ]
    },
    {
     "name": "stderr",
     "output_type": "stream",
     "text": [
      "Loading through DICOM files: 100%|███████████████████████████████████████████████████████| 2/2 [01:01<00:00, 30.96s/it]\n",
      "Loading through DICOM files:   0%|                                                               | 0/2 [00:00<?, ?it/s]"
     ]
    },
    {
     "name": "stdout",
     "output_type": "stream",
     "text": [
      "Loading from input\\HNSCC-01-0375\\08-10-2008-NA-CT SOFT TISSUE NECK W-09443\\2.000000-CONTRAST120CC3CCS90S DELAY-38331\n",
      "Loading from input\\HNSCC-01-0375\\08-10-2008-NA-CT SOFT TISSUE NECK W-09443\\1.000000-Series Description-72835\n"
     ]
    },
    {
     "name": "stderr",
     "output_type": "stream",
     "text": [
      "\r",
      "Loading through DICOM files: 100%|███████████████████████████████████████████████████████| 2/2 [00:19<00:00,  9.58s/it]"
     ]
    },
    {
     "name": "stdout",
     "output_type": "stream",
     "text": [
      "Compiling dictionaries together...\n",
      "Index 0, description CONTRAST120CC@3CC/S,90S DELAY  at input\\HNSCC-01-0375\\08-10-2008-NA-CT SOFT TISSUE NECK W-09443\\2.000000-CONTRAST120CC3CCS90S DELAY-38331\n",
      "1 unique series IDs were found. Default is index 0, to change use set_index(index)\n",
      "Loading images for CONTRAST120CC@3CC/S,90S DELAY  at \n",
      " input\\HNSCC-01-0375\\08-10-2008-NA-CT SOFT TISSUE NECK W-09443\\2.000000-CONTRAST120CC3CCS90S DELAY-38331\n",
      "\n"
     ]
    },
    {
     "name": "stderr",
     "output_type": "stream",
     "text": [
      "Loading through DICOM files: 100%|███████████████████████████████████████████████████████| 2/2 [01:05<00:00, 32.71s/it]\n",
      "Loading through DICOM files:   0%|                                                               | 0/2 [00:00<?, ?it/s]"
     ]
    },
    {
     "name": "stdout",
     "output_type": "stream",
     "text": [
      "Loading from input\\HNSCC-01-0376\\08-10-2008-NA-CT SOFT TISSUE NECK W-90198\\3.000000-CONTRAST120CC3CCS90S DELAY-55874\n",
      "Loading from input\\HNSCC-01-0376\\08-10-2008-NA-CT SOFT TISSUE NECK W-90198\\1.000000-Series Description-37399\n"
     ]
    },
    {
     "name": "stderr",
     "output_type": "stream",
     "text": [
      "\r",
      "Loading through DICOM files: 100%|███████████████████████████████████████████████████████| 2/2 [00:21<00:00, 10.57s/it]"
     ]
    },
    {
     "name": "stdout",
     "output_type": "stream",
     "text": [
      "Compiling dictionaries together...\n",
      "Index 0, description CONTRAST120CC@3CC/S,90S DELAY  at input\\HNSCC-01-0376\\08-10-2008-NA-CT SOFT TISSUE NECK W-90198\\3.000000-CONTRAST120CC3CCS90S DELAY-55874\n",
      "1 unique series IDs were found. Default is index 0, to change use set_index(index)\n",
      "Loading images for CONTRAST120CC@3CC/S,90S DELAY  at \n",
      " input\\HNSCC-01-0376\\08-10-2008-NA-CT SOFT TISSUE NECK W-90198\\3.000000-CONTRAST120CC3CCS90S DELAY-55874\n",
      "\n"
     ]
    },
    {
     "name": "stderr",
     "output_type": "stream",
     "text": [
      "Loading through DICOM files: 100%|███████████████████████████████████████████████████████| 2/2 [01:07<00:00, 33.83s/it]\n",
      "Loading through DICOM files:  50%|███████████████████████████▌                           | 1/2 [00:00<00:00,  8.62it/s]"
     ]
    },
    {
     "name": "stdout",
     "output_type": "stream",
     "text": [
      "Loading from input\\HNSCC-01-0377\\08-10-2008-NA-002-57535\\1.000000-Series Description-97856\n",
      "Loading from input\\HNSCC-01-0377\\08-10-2008-NA-002-57535\\2.000000-CONTRAST120CC3CCS90S DELAY-00039\n"
     ]
    },
    {
     "name": "stderr",
     "output_type": "stream",
     "text": [
      "\r",
      "Loading through DICOM files: 100%|███████████████████████████████████████████████████████| 2/2 [00:12<00:00,  7.10s/it]"
     ]
    },
    {
     "name": "stdout",
     "output_type": "stream",
     "text": [
      "Compiling dictionaries together...\n",
      "Index 0, description CONTRAST120CC@3CC/S,90S DELAY  at input\\HNSCC-01-0377\\08-10-2008-NA-002-57535\\2.000000-CONTRAST120CC3CCS90S DELAY-00039\n",
      "1 unique series IDs were found. Default is index 0, to change use set_index(index)\n",
      "Loading images for CONTRAST120CC@3CC/S,90S DELAY  at \n",
      " input\\HNSCC-01-0377\\08-10-2008-NA-002-57535\\2.000000-CONTRAST120CC3CCS90S DELAY-00039\n",
      "\n"
     ]
    },
    {
     "name": "stderr",
     "output_type": "stream",
     "text": [
      "Loading through DICOM files: 100%|███████████████████████████████████████████████████████| 2/2 [00:43<00:00, 21.66s/it]\n",
      "Loading through DICOM files:   0%|                                                               | 0/2 [00:00<?, ?it/s]"
     ]
    },
    {
     "name": "stdout",
     "output_type": "stream",
     "text": [
      "Loading from input\\HNSCC-01-0378\\08-10-2008-NA-002-74209\\1.000000-Series Description-56235\n",
      "Loading from input\\HNSCC-01-0378\\08-10-2008-NA-002-74209\\2.000000-CONTRAST120CC3CCS90S DELAY-52414\n"
     ]
    },
    {
     "name": "stderr",
     "output_type": "stream",
     "text": [
      "\r",
      "Loading through DICOM files: 100%|███████████████████████████████████████████████████████| 2/2 [00:15<00:00,  7.60s/it]"
     ]
    },
    {
     "name": "stdout",
     "output_type": "stream",
     "text": [
      "Compiling dictionaries together...\n",
      "Index 0, description CONTRAST120CC@3CC/S,90S DELAY  at input\\HNSCC-01-0378\\08-10-2008-NA-002-74209\\2.000000-CONTRAST120CC3CCS90S DELAY-52414\n",
      "1 unique series IDs were found. Default is index 0, to change use set_index(index)\n",
      "Loading images for CONTRAST120CC@3CC/S,90S DELAY  at \n",
      " input\\HNSCC-01-0378\\08-10-2008-NA-002-74209\\2.000000-CONTRAST120CC3CCS90S DELAY-52414\n",
      "\n"
     ]
    },
    {
     "name": "stderr",
     "output_type": "stream",
     "text": [
      "Loading through DICOM files: 100%|███████████████████████████████████████████████████████| 2/2 [00:50<00:00, 25.16s/it]\n",
      "Loading through DICOM files:   0%|                                                               | 0/2 [00:00<?, ?it/s]"
     ]
    },
    {
     "name": "stdout",
     "output_type": "stream",
     "text": [
      "Loading from input\\HNSCC-01-0379\\08-10-2008-NA-CT SOFT TISSUE NECK W-81152\\2.000000-CONTRAST120CC3CCS90S DELAY-95386\n",
      "Loading from input\\HNSCC-01-0379\\08-10-2008-NA-CT SOFT TISSUE NECK W-81152\\1.000000-Series Description-00135\n"
     ]
    },
    {
     "name": "stderr",
     "output_type": "stream",
     "text": [
      "\r",
      "Loading through DICOM files: 100%|███████████████████████████████████████████████████████| 2/2 [00:14<00:00,  7.45s/it]"
     ]
    },
    {
     "name": "stdout",
     "output_type": "stream",
     "text": [
      "Compiling dictionaries together...\n",
      "Index 0, description CONTRAST120CC@3CC/S,90S DELAY  at input\\HNSCC-01-0379\\08-10-2008-NA-CT SOFT TISSUE NECK W-81152\\2.000000-CONTRAST120CC3CCS90S DELAY-95386\n",
      "1 unique series IDs were found. Default is index 0, to change use set_index(index)\n",
      "Loading images for CONTRAST120CC@3CC/S,90S DELAY  at \n",
      " input\\HNSCC-01-0379\\08-10-2008-NA-CT SOFT TISSUE NECK W-81152\\2.000000-CONTRAST120CC3CCS90S DELAY-95386\n",
      "\n"
     ]
    },
    {
     "name": "stderr",
     "output_type": "stream",
     "text": [
      "Loading through DICOM files: 100%|███████████████████████████████████████████████████████| 2/2 [00:50<00:00, 25.15s/it]\n",
      "Loading through DICOM files:   0%|                                                               | 0/2 [00:00<?, ?it/s]"
     ]
    },
    {
     "name": "stdout",
     "output_type": "stream",
     "text": [
      "Loading from input\\HNSCC-01-0380\\08-10-2008-NA-CT SOFT TISSUE NECK W-10407\\2.000000-CONTRAST120CC3CCS90S DELAY-78108\n",
      "Loading from input\\HNSCC-01-0380\\08-10-2008-NA-CT SOFT TISSUE NECK W-10407\\1.000000-Series Description-05152\n"
     ]
    },
    {
     "name": "stderr",
     "output_type": "stream",
     "text": [
      "\r",
      "Loading through DICOM files: 100%|███████████████████████████████████████████████████████| 2/2 [00:13<00:00,  6.97s/it]"
     ]
    },
    {
     "name": "stdout",
     "output_type": "stream",
     "text": [
      "Compiling dictionaries together...\n",
      "Index 0, description CONTRAST120CC@3CC/S,90S DELAY  at input\\HNSCC-01-0380\\08-10-2008-NA-CT SOFT TISSUE NECK W-10407\\2.000000-CONTRAST120CC3CCS90S DELAY-78108\n",
      "1 unique series IDs were found. Default is index 0, to change use set_index(index)\n",
      "Loading images for CONTRAST120CC@3CC/S,90S DELAY  at \n",
      " input\\HNSCC-01-0380\\08-10-2008-NA-CT SOFT TISSUE NECK W-10407\\2.000000-CONTRAST120CC3CCS90S DELAY-78108\n",
      "\n"
     ]
    },
    {
     "name": "stderr",
     "output_type": "stream",
     "text": [
      "Loading through DICOM files: 100%|███████████████████████████████████████████████████████| 2/2 [00:46<00:00, 23.05s/it]\n",
      "Loading through DICOM files:   0%|                                                               | 0/2 [00:00<?, ?it/s]"
     ]
    },
    {
     "name": "stdout",
     "output_type": "stream",
     "text": [
      "Loading from input\\HNSCC-01-0381\\08-10-2008-NA-CT SOFT TISSUE NECK W-79273\\2.000000-CONTRAST120CC3CCS90S DELAY-21759\n",
      "Loading from input\\HNSCC-01-0381\\08-10-2008-NA-CT SOFT TISSUE NECK W-79273\\1.000000-Series Description-99040\n"
     ]
    },
    {
     "name": "stderr",
     "output_type": "stream",
     "text": [
      "\r",
      "Loading through DICOM files: 100%|███████████████████████████████████████████████████████| 2/2 [00:10<00:00,  5.44s/it]"
     ]
    },
    {
     "name": "stdout",
     "output_type": "stream",
     "text": [
      "Compiling dictionaries together...\n",
      "Index 0, description CONTRAST120CC@3CC/S,90S DELAY  at input\\HNSCC-01-0381\\08-10-2008-NA-CT SOFT TISSUE NECK W-79273\\2.000000-CONTRAST120CC3CCS90S DELAY-21759\n",
      "1 unique series IDs were found. Default is index 0, to change use set_index(index)\n",
      "Loading images for CONTRAST120CC@3CC/S,90S DELAY  at \n",
      " input\\HNSCC-01-0381\\08-10-2008-NA-CT SOFT TISSUE NECK W-79273\\2.000000-CONTRAST120CC3CCS90S DELAY-21759\n",
      "\n"
     ]
    },
    {
     "name": "stderr",
     "output_type": "stream",
     "text": [
      "Loading through DICOM files: 100%|███████████████████████████████████████████████████████| 2/2 [00:36<00:00, 18.35s/it]\n",
      "Loading through DICOM files:   0%|                                                               | 0/2 [00:00<?, ?it/s]"
     ]
    },
    {
     "name": "stdout",
     "output_type": "stream",
     "text": [
      "Loading from input\\HNSCC-01-0382\\08-10-2008-NA-CT SOFT TISSUE NECK W-13623\\1.000000-Series Description-14952\n",
      "Loading from input\\HNSCC-01-0382\\08-10-2008-NA-CT SOFT TISSUE NECK W-13623\\2.000000-CONTRAST120CC3CCS90S DELAY-90549\n"
     ]
    },
    {
     "name": "stderr",
     "output_type": "stream",
     "text": [
      "\r",
      "Loading through DICOM files: 100%|███████████████████████████████████████████████████████| 2/2 [00:15<00:00,  7.58s/it]"
     ]
    },
    {
     "name": "stdout",
     "output_type": "stream",
     "text": [
      "Compiling dictionaries together...\n",
      "Index 0, description CONTRAST120CC@3CC/S,90S DELAY  at input\\HNSCC-01-0382\\08-10-2008-NA-CT SOFT TISSUE NECK W-13623\\2.000000-CONTRAST120CC3CCS90S DELAY-90549\n",
      "1 unique series IDs were found. Default is index 0, to change use set_index(index)\n",
      "Loading images for CONTRAST120CC@3CC/S,90S DELAY  at \n",
      " input\\HNSCC-01-0382\\08-10-2008-NA-CT SOFT TISSUE NECK W-13623\\2.000000-CONTRAST120CC3CCS90S DELAY-90549\n",
      "\n"
     ]
    },
    {
     "name": "stderr",
     "output_type": "stream",
     "text": [
      "Loading through DICOM files: 100%|███████████████████████████████████████████████████████| 2/2 [00:48<00:00, 24.20s/it]\n",
      "Loading through DICOM files:   0%|                                                               | 0/2 [00:00<?, ?it/s]"
     ]
    },
    {
     "name": "stdout",
     "output_type": "stream",
     "text": [
      "Loading from input\\HNSCC-01-0383\\08-10-2008-NA-CT SOFT TISSUE NECK W-99888\\1.000000-Series Description-07026\n",
      "Loading from input\\HNSCC-01-0383\\08-10-2008-NA-CT SOFT TISSUE NECK W-99888\\2.000000-CONTRAST120CC3CCS90S DELAY-17529\n"
     ]
    },
    {
     "name": "stderr",
     "output_type": "stream",
     "text": [
      "\r",
      "Loading through DICOM files: 100%|███████████████████████████████████████████████████████| 2/2 [00:14<00:00,  7.43s/it]"
     ]
    },
    {
     "name": "stdout",
     "output_type": "stream",
     "text": [
      "Compiling dictionaries together...\n",
      "Index 0, description CONTRAST120CC@3CC/S,90S DELAY  at input\\HNSCC-01-0383\\08-10-2008-NA-CT SOFT TISSUE NECK W-99888\\2.000000-CONTRAST120CC3CCS90S DELAY-17529\n",
      "1 unique series IDs were found. Default is index 0, to change use set_index(index)\n",
      "Loading images for CONTRAST120CC@3CC/S,90S DELAY  at \n",
      " input\\HNSCC-01-0383\\08-10-2008-NA-CT SOFT TISSUE NECK W-99888\\2.000000-CONTRAST120CC3CCS90S DELAY-17529\n",
      "\n"
     ]
    },
    {
     "name": "stderr",
     "output_type": "stream",
     "text": [
      "Loading through DICOM files: 100%|███████████████████████████████████████████████████████| 2/2 [00:48<00:00, 24.19s/it]\n",
      "Loading through DICOM files:   0%|                                                               | 0/2 [00:00<?, ?it/s]"
     ]
    },
    {
     "name": "stdout",
     "output_type": "stream",
     "text": [
      "Loading from input\\HNSCC-01-0384\\08-10-2008-NA-002-08398\\2.000000-CONTRAST120CC3CCS90S DELAY-93966\n",
      "Loading from input\\HNSCC-01-0384\\08-10-2008-NA-002-08398\\1.000000-Series Description-15335\n"
     ]
    },
    {
     "name": "stderr",
     "output_type": "stream",
     "text": [
      "\r",
      "Loading through DICOM files: 100%|███████████████████████████████████████████████████████| 2/2 [00:14<00:00,  7.11s/it]"
     ]
    },
    {
     "name": "stdout",
     "output_type": "stream",
     "text": [
      "Compiling dictionaries together...\n",
      "Index 0, description CONTRAST120CC@3CC/S,90S DELAY  at input\\HNSCC-01-0384\\08-10-2008-NA-002-08398\\2.000000-CONTRAST120CC3CCS90S DELAY-93966\n",
      "1 unique series IDs were found. Default is index 0, to change use set_index(index)\n",
      "Loading images for CONTRAST120CC@3CC/S,90S DELAY  at \n",
      " input\\HNSCC-01-0384\\08-10-2008-NA-002-08398\\2.000000-CONTRAST120CC3CCS90S DELAY-93966\n",
      "\n"
     ]
    },
    {
     "name": "stderr",
     "output_type": "stream",
     "text": [
      "Loading through DICOM files: 100%|███████████████████████████████████████████████████████| 2/2 [00:44<00:00, 22.32s/it]\n",
      "Loading through DICOM files:  50%|███████████████████████████▌                           | 1/2 [00:00<00:00,  5.71it/s]"
     ]
    },
    {
     "name": "stdout",
     "output_type": "stream",
     "text": [
      "Loading from input\\HNSCC-01-0385\\08-10-2008-NA-CT SOFT TISSUE NECK W-02045\\1.000000-Series Description-66230\n",
      "Loading from input\\HNSCC-01-0385\\08-10-2008-NA-CT SOFT TISSUE NECK W-02045\\2.000000-CONTRAST120CC3CCS90S DELAY-13194\n"
     ]
    },
    {
     "name": "stderr",
     "output_type": "stream",
     "text": [
      "\r",
      "Loading through DICOM files: 100%|███████████████████████████████████████████████████████| 2/2 [00:16<00:00,  9.91s/it]"
     ]
    },
    {
     "name": "stdout",
     "output_type": "stream",
     "text": [
      "Compiling dictionaries together...\n",
      "Index 0, description CONTRAST120CC@3CC/S,90S DELAY  at input\\HNSCC-01-0385\\08-10-2008-NA-CT SOFT TISSUE NECK W-02045\\2.000000-CONTRAST120CC3CCS90S DELAY-13194\n",
      "1 unique series IDs were found. Default is index 0, to change use set_index(index)\n",
      "Loading images for CONTRAST120CC@3CC/S,90S DELAY  at \n",
      " input\\HNSCC-01-0385\\08-10-2008-NA-CT SOFT TISSUE NECK W-02045\\2.000000-CONTRAST120CC3CCS90S DELAY-13194\n",
      "\n"
     ]
    },
    {
     "name": "stderr",
     "output_type": "stream",
     "text": [
      "Loading through DICOM files: 100%|███████████████████████████████████████████████████████| 2/2 [00:55<00:00, 27.86s/it]\n",
      "Loading through DICOM files:   0%|                                                               | 0/2 [00:00<?, ?it/s]"
     ]
    },
    {
     "name": "stdout",
     "output_type": "stream",
     "text": [
      "Loading from input\\HNSCC-01-0386\\08-10-2008-NA-CT HN N23-26010\\2.000000-CONTRAST120CC3CCS90S DELAY-91802\n",
      "Loading from input\\HNSCC-01-0386\\08-10-2008-NA-CT HN N23-26010\\1.000000-Series Description-38085\n"
     ]
    },
    {
     "name": "stderr",
     "output_type": "stream",
     "text": [
      "\r",
      "Loading through DICOM files: 100%|███████████████████████████████████████████████████████| 2/2 [00:14<00:00,  7.34s/it]"
     ]
    },
    {
     "name": "stdout",
     "output_type": "stream",
     "text": [
      "Compiling dictionaries together...\n",
      "Index 0, description CONTRAST120CC@3CC/S,90S DELAY  at input\\HNSCC-01-0386\\08-10-2008-NA-CT HN N23-26010\\2.000000-CONTRAST120CC3CCS90S DELAY-91802\n",
      "1 unique series IDs were found. Default is index 0, to change use set_index(index)\n",
      "Loading images for CONTRAST120CC@3CC/S,90S DELAY  at \n",
      " input\\HNSCC-01-0386\\08-10-2008-NA-CT HN N23-26010\\2.000000-CONTRAST120CC3CCS90S DELAY-91802\n",
      "\n"
     ]
    },
    {
     "name": "stderr",
     "output_type": "stream",
     "text": [
      "Loading through DICOM files: 100%|███████████████████████████████████████████████████████| 2/2 [00:46<00:00, 23.02s/it]\n",
      "Loading through DICOM files:  50%|███████████████████████████▌                           | 1/2 [00:00<00:00,  9.43it/s]"
     ]
    },
    {
     "name": "stdout",
     "output_type": "stream",
     "text": [
      "Loading from input\\HNSCC-01-0387\\08-10-2008-NA-CT MAXILLOFACIAL AREA-04290\\1.000000-Series Description-54947\n",
      "Loading from input\\HNSCC-01-0387\\08-10-2008-NA-CT MAXILLOFACIAL AREA-04290\\2.000000-CONTRAST120CC3CCS90S DELAY-53896\n"
     ]
    },
    {
     "name": "stderr",
     "output_type": "stream",
     "text": [
      "\r",
      "Loading through DICOM files: 100%|███████████████████████████████████████████████████████| 2/2 [00:19<00:00, 11.50s/it]"
     ]
    },
    {
     "name": "stdout",
     "output_type": "stream",
     "text": [
      "Compiling dictionaries together...\n",
      "Index 0, description CONTRAST120CC@3CC/S,90S DELAY  at input\\HNSCC-01-0387\\08-10-2008-NA-CT MAXILLOFACIAL AREA-04290\\2.000000-CONTRAST120CC3CCS90S DELAY-53896\n",
      "1 unique series IDs were found. Default is index 0, to change use set_index(index)\n",
      "Loading images for CONTRAST120CC@3CC/S,90S DELAY  at \n",
      " input\\HNSCC-01-0387\\08-10-2008-NA-CT MAXILLOFACIAL AREA-04290\\2.000000-CONTRAST120CC3CCS90S DELAY-53896\n",
      "\n"
     ]
    },
    {
     "name": "stderr",
     "output_type": "stream",
     "text": [
      "Loading through DICOM files: 100%|███████████████████████████████████████████████████████| 2/2 [01:04<00:00, 32.11s/it]\n",
      "Loading through DICOM files:   0%|                                                               | 0/2 [00:00<?, ?it/s]"
     ]
    },
    {
     "name": "stdout",
     "output_type": "stream",
     "text": [
      "Loading from input\\HNSCC-01-0388\\08-10-2008-NA-CT SOFT TISSUE NECK W-12602\\1.000000-Series Description-08051\n",
      "Loading from input\\HNSCC-01-0388\\08-10-2008-NA-CT SOFT TISSUE NECK W-12602\\2.000000-CONTRAST120CC3CCS90S DELAY-95615\n"
     ]
    },
    {
     "name": "stderr",
     "output_type": "stream",
     "text": [
      "\r",
      "Loading through DICOM files: 100%|███████████████████████████████████████████████████████| 2/2 [00:05<00:00,  2.76s/it]"
     ]
    },
    {
     "name": "stdout",
     "output_type": "stream",
     "text": [
      "Compiling dictionaries together...\n",
      "Index 0, description CONTRAST120CC@3CC/S,90S DELAY  at input\\HNSCC-01-0388\\08-10-2008-NA-CT SOFT TISSUE NECK W-12602\\2.000000-CONTRAST120CC3CCS90S DELAY-95615\n",
      "1 unique series IDs were found. Default is index 0, to change use set_index(index)\n",
      "Loading images for CONTRAST120CC@3CC/S,90S DELAY  at \n",
      " input\\HNSCC-01-0388\\08-10-2008-NA-CT SOFT TISSUE NECK W-12602\\2.000000-CONTRAST120CC3CCS90S DELAY-95615\n",
      "\n"
     ]
    },
    {
     "name": "stderr",
     "output_type": "stream",
     "text": [
      "Loading through DICOM files: 100%|███████████████████████████████████████████████████████| 2/2 [00:17<00:00,  8.95s/it]\n",
      "Loading through DICOM files:   0%|                                                               | 0/2 [00:00<?, ?it/s]"
     ]
    },
    {
     "name": "stdout",
     "output_type": "stream",
     "text": [
      "Loading from input\\HNSCC-01-0389\\08-10-2008-NA-002-30576\\1.000000-Series Description-15419\n",
      "Loading from input\\HNSCC-01-0389\\08-10-2008-NA-002-30576\\2.000000-CONTRAST120CC3CCS90S DELAY-34643\n"
     ]
    },
    {
     "name": "stderr",
     "output_type": "stream",
     "text": [
      "\r",
      "Loading through DICOM files: 100%|███████████████████████████████████████████████████████| 2/2 [00:14<00:00,  7.50s/it]"
     ]
    },
    {
     "name": "stdout",
     "output_type": "stream",
     "text": [
      "Compiling dictionaries together...\n",
      "Index 0, description CONTRAST120CC@3CC/S,90S DELAY  at input\\HNSCC-01-0389\\08-10-2008-NA-002-30576\\2.000000-CONTRAST120CC3CCS90S DELAY-34643\n",
      "1 unique series IDs were found. Default is index 0, to change use set_index(index)\n",
      "Loading images for CONTRAST120CC@3CC/S,90S DELAY  at \n",
      " input\\HNSCC-01-0389\\08-10-2008-NA-002-30576\\2.000000-CONTRAST120CC3CCS90S DELAY-34643\n",
      "\n"
     ]
    },
    {
     "name": "stderr",
     "output_type": "stream",
     "text": [
      "Loading through DICOM files: 100%|███████████████████████████████████████████████████████| 2/2 [00:51<00:00, 25.91s/it]\n",
      "Loading through DICOM files:  50%|███████████████████████████▌                           | 1/2 [00:00<00:00,  9.01it/s]"
     ]
    },
    {
     "name": "stdout",
     "output_type": "stream",
     "text": [
      "Loading from input\\HNSCC-01-0390\\08-10-2008-NA-CT SOFT TISSUE NECK W-95279\\1.000000-Series Description-36843\n",
      "Loading from input\\HNSCC-01-0390\\08-10-2008-NA-CT SOFT TISSUE NECK W-95279\\2.000000-CONTRAST120CC3CCS90S DELAY-45898\n"
     ]
    },
    {
     "name": "stderr",
     "output_type": "stream",
     "text": [
      "\r",
      "Loading through DICOM files: 100%|███████████████████████████████████████████████████████| 2/2 [00:12<00:00,  7.23s/it]"
     ]
    },
    {
     "name": "stdout",
     "output_type": "stream",
     "text": [
      "Compiling dictionaries together...\n",
      "Index 0, description CONTRAST120CC@3CC/S,90S DELAY  at input\\HNSCC-01-0390\\08-10-2008-NA-CT SOFT TISSUE NECK W-95279\\2.000000-CONTRAST120CC3CCS90S DELAY-45898\n",
      "1 unique series IDs were found. Default is index 0, to change use set_index(index)\n",
      "Loading images for CONTRAST120CC@3CC/S,90S DELAY  at \n",
      " input\\HNSCC-01-0390\\08-10-2008-NA-CT SOFT TISSUE NECK W-95279\\2.000000-CONTRAST120CC3CCS90S DELAY-45898\n",
      "\n"
     ]
    },
    {
     "name": "stderr",
     "output_type": "stream",
     "text": [
      "Loading through DICOM files: 100%|███████████████████████████████████████████████████████| 2/2 [00:46<00:00, 23.22s/it]\n",
      "Loading through DICOM files:   0%|                                                               | 0/2 [00:00<?, ?it/s]"
     ]
    },
    {
     "name": "stdout",
     "output_type": "stream",
     "text": [
      "Loading from input\\HNSCC-01-0391\\08-10-2008-NA-002-99703\\1.000000-Series Description-45748\n",
      "Loading from input\\HNSCC-01-0391\\08-10-2008-NA-002-99703\\3.000000-CONTRAST120CC3CCS90S DELAY-36140\n"
     ]
    },
    {
     "name": "stderr",
     "output_type": "stream",
     "text": [
      "\r",
      "Loading through DICOM files: 100%|███████████████████████████████████████████████████████| 2/2 [00:14<00:00,  7.09s/it]"
     ]
    },
    {
     "name": "stdout",
     "output_type": "stream",
     "text": [
      "Compiling dictionaries together...\n",
      "Index 0, description CONTRAST120CC@3CC/S,90S DELAY  at input\\HNSCC-01-0391\\08-10-2008-NA-002-99703\\3.000000-CONTRAST120CC3CCS90S DELAY-36140\n",
      "1 unique series IDs were found. Default is index 0, to change use set_index(index)\n",
      "Loading images for CONTRAST120CC@3CC/S,90S DELAY  at \n",
      " input\\HNSCC-01-0391\\08-10-2008-NA-002-99703\\3.000000-CONTRAST120CC3CCS90S DELAY-36140\n",
      "\n"
     ]
    },
    {
     "name": "stderr",
     "output_type": "stream",
     "text": [
      "Loading through DICOM files: 100%|███████████████████████████████████████████████████████| 2/2 [00:47<00:00, 23.50s/it]\n",
      "Loading through DICOM files:   0%|                                                               | 0/2 [00:00<?, ?it/s]"
     ]
    },
    {
     "name": "stdout",
     "output_type": "stream",
     "text": [
      "Loading from input\\HNSCC-01-0392\\08-10-2008-NA-CT SOFT TISSUE NECK W-42415\\1.000000-Series Description-19020\n",
      "Loading from input\\HNSCC-01-0392\\08-10-2008-NA-CT SOFT TISSUE NECK W-42415\\2.000000-CONTRAST120CC3CCS90S DELAY-37777\n"
     ]
    },
    {
     "name": "stderr",
     "output_type": "stream",
     "text": [
      "\r",
      "Loading through DICOM files: 100%|███████████████████████████████████████████████████████| 2/2 [00:12<00:00,  6.11s/it]"
     ]
    },
    {
     "name": "stdout",
     "output_type": "stream",
     "text": [
      "Compiling dictionaries together...\n",
      "Index 0, description CONTRAST120CC@3CC/S,90S DELAY  at input\\HNSCC-01-0392\\08-10-2008-NA-CT SOFT TISSUE NECK W-42415\\2.000000-CONTRAST120CC3CCS90S DELAY-37777\n",
      "1 unique series IDs were found. Default is index 0, to change use set_index(index)\n",
      "Loading images for CONTRAST120CC@3CC/S,90S DELAY  at \n",
      " input\\HNSCC-01-0392\\08-10-2008-NA-CT SOFT TISSUE NECK W-42415\\2.000000-CONTRAST120CC3CCS90S DELAY-37777\n",
      "\n"
     ]
    },
    {
     "name": "stderr",
     "output_type": "stream",
     "text": [
      "Loading through DICOM files: 100%|███████████████████████████████████████████████████████| 2/2 [00:43<00:00, 21.92s/it]\n",
      "Loading through DICOM files:   0%|                                                               | 0/2 [00:00<?, ?it/s]"
     ]
    },
    {
     "name": "stdout",
     "output_type": "stream",
     "text": [
      "Loading from input\\HNSCC-01-0393\\08-10-2008-NA-CT SOFT TISSUE NECK W-41043\\1.000000-Series Description-96666\n",
      "Loading from input\\HNSCC-01-0393\\08-10-2008-NA-CT SOFT TISSUE NECK W-41043\\2.000000-CONTRAST120CC3CCS90S DELAY-47320\n"
     ]
    },
    {
     "name": "stderr",
     "output_type": "stream",
     "text": [
      "\r",
      "Loading through DICOM files: 100%|███████████████████████████████████████████████████████| 2/2 [00:15<00:00,  7.58s/it]"
     ]
    },
    {
     "name": "stdout",
     "output_type": "stream",
     "text": [
      "Compiling dictionaries together...\n",
      "Index 0, description CONTRAST120CC@3CC/S,90S DELAY  at input\\HNSCC-01-0393\\08-10-2008-NA-CT SOFT TISSUE NECK W-41043\\2.000000-CONTRAST120CC3CCS90S DELAY-47320\n",
      "1 unique series IDs were found. Default is index 0, to change use set_index(index)\n",
      "Loading images for CONTRAST120CC@3CC/S,90S DELAY  at \n",
      " input\\HNSCC-01-0393\\08-10-2008-NA-CT SOFT TISSUE NECK W-41043\\2.000000-CONTRAST120CC3CCS90S DELAY-47320\n",
      "\n"
     ]
    },
    {
     "name": "stderr",
     "output_type": "stream",
     "text": [
      "Loading through DICOM files: 100%|███████████████████████████████████████████████████████| 2/2 [00:48<00:00, 24.45s/it]\n",
      "Loading through DICOM files:   0%|                                                               | 0/2 [00:00<?, ?it/s]"
     ]
    },
    {
     "name": "stdout",
     "output_type": "stream",
     "text": [
      "Loading from input\\HNSCC-01-0394\\09-13-2009-NA-CT SOFT TISSUE NECK W-06274\\1.000000-Series Description-04026\n",
      "Loading from input\\HNSCC-01-0394\\09-13-2009-NA-CT SOFT TISSUE NECK W-06274\\2.000000-CONTRAST120CC3CCS90S DELAY-06651\n"
     ]
    },
    {
     "name": "stderr",
     "output_type": "stream",
     "text": [
      "\r",
      "Loading through DICOM files: 100%|███████████████████████████████████████████████████████| 2/2 [00:12<00:00,  6.18s/it]"
     ]
    },
    {
     "name": "stdout",
     "output_type": "stream",
     "text": [
      "Compiling dictionaries together...\n",
      "Index 0, description CONTRAST120CC@3CC/S,90S DELAY  at input\\HNSCC-01-0394\\09-13-2009-NA-CT SOFT TISSUE NECK W-06274\\2.000000-CONTRAST120CC3CCS90S DELAY-06651\n",
      "1 unique series IDs were found. Default is index 0, to change use set_index(index)\n",
      "Loading images for CONTRAST120CC@3CC/S,90S DELAY  at \n",
      " input\\HNSCC-01-0394\\09-13-2009-NA-CT SOFT TISSUE NECK W-06274\\2.000000-CONTRAST120CC3CCS90S DELAY-06651\n",
      "\n"
     ]
    },
    {
     "name": "stderr",
     "output_type": "stream",
     "text": [
      "Loading through DICOM files: 100%|███████████████████████████████████████████████████████| 2/2 [00:42<00:00, 21.34s/it]\n",
      "Loading through DICOM files:   0%|                                                               | 0/2 [00:00<?, ?it/s]"
     ]
    },
    {
     "name": "stdout",
     "output_type": "stream",
     "text": [
      "Loading from input\\HNSCC-01-0395\\08-10-2008-NA-CT SOFT TISSUE NECK W-09855\\1.000000-Series Description-75141\n",
      "Loading from input\\HNSCC-01-0395\\08-10-2008-NA-CT SOFT TISSUE NECK W-09855\\2.000000-CONTRAST120CC3CCS90S DELAY-22923\n"
     ]
    },
    {
     "name": "stderr",
     "output_type": "stream",
     "text": [
      "\r",
      "Loading through DICOM files: 100%|███████████████████████████████████████████████████████| 2/2 [00:13<00:00,  6.97s/it]"
     ]
    },
    {
     "name": "stdout",
     "output_type": "stream",
     "text": [
      "Compiling dictionaries together...\n",
      "Index 0, description CONTRAST120CC@3CC/S,90S DELAY  at input\\HNSCC-01-0395\\08-10-2008-NA-CT SOFT TISSUE NECK W-09855\\2.000000-CONTRAST120CC3CCS90S DELAY-22923\n",
      "1 unique series IDs were found. Default is index 0, to change use set_index(index)\n",
      "Loading images for CONTRAST120CC@3CC/S,90S DELAY  at \n",
      " input\\HNSCC-01-0395\\08-10-2008-NA-CT SOFT TISSUE NECK W-09855\\2.000000-CONTRAST120CC3CCS90S DELAY-22923\n",
      "\n"
     ]
    },
    {
     "name": "stderr",
     "output_type": "stream",
     "text": [
      "Loading through DICOM files: 100%|███████████████████████████████████████████████████████| 2/2 [00:46<00:00, 23.21s/it]\n",
      "Loading through DICOM files:  50%|███████████████████████████▌                           | 1/2 [00:00<00:00,  8.06it/s]"
     ]
    },
    {
     "name": "stdout",
     "output_type": "stream",
     "text": [
      "Loading from input\\HNSCC-01-0396\\09-13-2009-NA-CT SOFT TISSUE NECK W-55428\\2.000000-CONTRAST120CC3CCS90S DELAY-09614\n",
      "Loading from input\\HNSCC-01-0396\\09-13-2009-NA-CT SOFT TISSUE NECK W-55428\\1.000000-Series Description-37004\n"
     ]
    },
    {
     "name": "stderr",
     "output_type": "stream",
     "text": [
      "\r",
      "Loading through DICOM files: 100%|███████████████████████████████████████████████████████| 2/2 [00:14<00:00,  8.46s/it]"
     ]
    },
    {
     "name": "stdout",
     "output_type": "stream",
     "text": [
      "Compiling dictionaries together...\n",
      "Index 0, description CONTRAST120CC@3CC/S,90S DELAY  at input\\HNSCC-01-0396\\09-13-2009-NA-CT SOFT TISSUE NECK W-55428\\2.000000-CONTRAST120CC3CCS90S DELAY-09614\n",
      "1 unique series IDs were found. Default is index 0, to change use set_index(index)\n",
      "Loading images for CONTRAST120CC@3CC/S,90S DELAY  at \n",
      " input\\HNSCC-01-0396\\09-13-2009-NA-CT SOFT TISSUE NECK W-55428\\2.000000-CONTRAST120CC3CCS90S DELAY-09614\n",
      "\n"
     ]
    },
    {
     "name": "stderr",
     "output_type": "stream",
     "text": [
      "Loading through DICOM files: 100%|███████████████████████████████████████████████████████| 2/2 [00:49<00:00, 24.60s/it]\n",
      "Loading through DICOM files:   0%|                                                               | 0/2 [00:00<?, ?it/s]"
     ]
    },
    {
     "name": "stdout",
     "output_type": "stream",
     "text": [
      "Loading from input\\HNSCC-01-0397\\09-13-2009-NA-002-39132\\2.000000-CONTRAST120CC3CCS90S DELAY-93269Loading from input\\HNSCC-01-0397\\09-13-2009-NA-002-39132\\1.000000-Series Description-82535\n",
      "\n"
     ]
    },
    {
     "name": "stderr",
     "output_type": "stream",
     "text": [
      "\r",
      "Loading through DICOM files: 100%|███████████████████████████████████████████████████████| 2/2 [00:12<00:00,  6.49s/it]"
     ]
    },
    {
     "name": "stdout",
     "output_type": "stream",
     "text": [
      "Compiling dictionaries together...\n",
      "Index 0, description CONTRAST120CC@3CC/S,90S DELAY  at input\\HNSCC-01-0397\\09-13-2009-NA-002-39132\\2.000000-CONTRAST120CC3CCS90S DELAY-93269\n",
      "1 unique series IDs were found. Default is index 0, to change use set_index(index)\n",
      "Loading images for CONTRAST120CC@3CC/S,90S DELAY  at \n",
      " input\\HNSCC-01-0397\\09-13-2009-NA-002-39132\\2.000000-CONTRAST120CC3CCS90S DELAY-93269\n",
      "\n"
     ]
    },
    {
     "name": "stderr",
     "output_type": "stream",
     "text": [
      "Loading through DICOM files: 100%|███████████████████████████████████████████████████████| 2/2 [00:42<00:00, 21.36s/it]\n",
      "Loading through DICOM files:   0%|                                                               | 0/2 [00:00<?, ?it/s]"
     ]
    },
    {
     "name": "stdout",
     "output_type": "stream",
     "text": [
      "Loading from input\\HNSCC-01-0398\\09-13-2009-NA-CT SOFT TISSUE NECK W-40136\\1.000000-Series Description-16918\n",
      "Loading from input\\HNSCC-01-0398\\09-13-2009-NA-CT SOFT TISSUE NECK W-40136\\2.000000-CONTRAST120CC3CCS90S DELAY-10360\n"
     ]
    },
    {
     "name": "stderr",
     "output_type": "stream",
     "text": [
      "\r",
      "Loading through DICOM files: 100%|███████████████████████████████████████████████████████| 2/2 [00:12<00:00,  6.18s/it]"
     ]
    },
    {
     "name": "stdout",
     "output_type": "stream",
     "text": [
      "Compiling dictionaries together...\n",
      "Index 0, description CONTRAST120CC@3CC/S,90S DELAY  at input\\HNSCC-01-0398\\09-13-2009-NA-CT SOFT TISSUE NECK W-40136\\2.000000-CONTRAST120CC3CCS90S DELAY-10360\n",
      "1 unique series IDs were found. Default is index 0, to change use set_index(index)\n",
      "Loading images for CONTRAST120CC@3CC/S,90S DELAY  at \n",
      " input\\HNSCC-01-0398\\09-13-2009-NA-CT SOFT TISSUE NECK W-40136\\2.000000-CONTRAST120CC3CCS90S DELAY-10360\n",
      "\n"
     ]
    },
    {
     "name": "stderr",
     "output_type": "stream",
     "text": [
      "Loading through DICOM files: 100%|███████████████████████████████████████████████████████| 2/2 [00:41<00:00, 20.93s/it]\n",
      "Loading through DICOM files:   0%|                                                               | 0/2 [00:00<?, ?it/s]"
     ]
    },
    {
     "name": "stdout",
     "output_type": "stream",
     "text": [
      "Loading from input\\HNSCC-01-0399\\09-13-2009-NA-002-06080\\1.000000-Series Description-34169Loading from input\\HNSCC-01-0399\\09-13-2009-NA-002-06080\\2.000000-CONTRAST120CC3CCS90S DELAY-85758\n",
      "\n"
     ]
    },
    {
     "name": "stderr",
     "output_type": "stream",
     "text": [
      "\r",
      "Loading through DICOM files: 100%|███████████████████████████████████████████████████████| 2/2 [00:11<00:00,  5.55s/it]"
     ]
    },
    {
     "name": "stdout",
     "output_type": "stream",
     "text": [
      "Compiling dictionaries together...\n",
      "Index 0, description CONTRAST120CC@3CC/S,90S DELAY  at input\\HNSCC-01-0399\\09-13-2009-NA-002-06080\\2.000000-CONTRAST120CC3CCS90S DELAY-85758\n",
      "1 unique series IDs were found. Default is index 0, to change use set_index(index)\n",
      "Loading images for CONTRAST120CC@3CC/S,90S DELAY  at \n",
      " input\\HNSCC-01-0399\\09-13-2009-NA-002-06080\\2.000000-CONTRAST120CC3CCS90S DELAY-85758\n",
      "\n"
     ]
    },
    {
     "name": "stderr",
     "output_type": "stream",
     "text": [
      "Loading through DICOM files: 100%|███████████████████████████████████████████████████████| 2/2 [00:36<00:00, 18.50s/it]\n",
      "Loading through DICOM files:  50%|███████████████████████████▌                           | 1/2 [00:00<00:00,  8.07it/s]"
     ]
    },
    {
     "name": "stdout",
     "output_type": "stream",
     "text": [
      "Loading from input\\HNSCC-01-0400\\09-13-2009-NA-CT SOFT TISSUE NECK W-70933\\1.000000-Series Description-11862\n",
      "Loading from input\\HNSCC-01-0400\\09-13-2009-NA-CT SOFT TISSUE NECK W-70933\\2.000000-CONTRAST120CC3CCS90S DELAY-10680\n"
     ]
    },
    {
     "name": "stderr",
     "output_type": "stream",
     "text": [
      "\r",
      "Loading through DICOM files: 100%|███████████████████████████████████████████████████████| 2/2 [00:17<00:00, 10.33s/it]"
     ]
    },
    {
     "name": "stdout",
     "output_type": "stream",
     "text": [
      "Compiling dictionaries together...\n",
      "Index 0, description CONTRAST120CC@3CC/S,90S DELAY  at input\\HNSCC-01-0400\\09-13-2009-NA-CT SOFT TISSUE NECK W-70933\\2.000000-CONTRAST120CC3CCS90S DELAY-10680\n",
      "1 unique series IDs were found. Default is index 0, to change use set_index(index)\n",
      "Loading images for CONTRAST120CC@3CC/S,90S DELAY  at \n",
      " input\\HNSCC-01-0400\\09-13-2009-NA-CT SOFT TISSUE NECK W-70933\\2.000000-CONTRAST120CC3CCS90S DELAY-10680\n",
      "\n"
     ]
    },
    {
     "name": "stderr",
     "output_type": "stream",
     "text": [
      "Loading through DICOM files: 100%|███████████████████████████████████████████████████████| 2/2 [00:59<00:00, 29.52s/it]\n",
      "Loading through DICOM files:   0%|                                                               | 0/2 [00:00<?, ?it/s]"
     ]
    },
    {
     "name": "stdout",
     "output_type": "stream",
     "text": [
      "Loading from input\\HNSCC-01-0401\\09-13-2009-NA-CT SOFT TISSUE NECK W-96254\\1.000000-Series Description-17818\n",
      "Loading from input\\HNSCC-01-0401\\09-13-2009-NA-CT SOFT TISSUE NECK W-96254\\2.000000-CONTRAST120CC3CCS90S DELAY-13065\n"
     ]
    },
    {
     "name": "stderr",
     "output_type": "stream",
     "text": [
      "\r",
      "Loading through DICOM files: 100%|███████████████████████████████████████████████████████| 2/2 [00:12<00:00,  6.41s/it]"
     ]
    },
    {
     "name": "stdout",
     "output_type": "stream",
     "text": [
      "Compiling dictionaries together...\n",
      "Index 0, description CONTRAST120CC@3CC/S,90S DELAY  at input\\HNSCC-01-0401\\09-13-2009-NA-CT SOFT TISSUE NECK W-96254\\2.000000-CONTRAST120CC3CCS90S DELAY-13065\n",
      "1 unique series IDs were found. Default is index 0, to change use set_index(index)\n",
      "Loading images for CONTRAST120CC@3CC/S,90S DELAY  at \n",
      " input\\HNSCC-01-0401\\09-13-2009-NA-CT SOFT TISSUE NECK W-96254\\2.000000-CONTRAST120CC3CCS90S DELAY-13065\n",
      "\n"
     ]
    },
    {
     "name": "stderr",
     "output_type": "stream",
     "text": [
      "Loading through DICOM files: 100%|███████████████████████████████████████████████████████| 2/2 [00:43<00:00, 21.82s/it]\n",
      "Loading through DICOM files:   0%|                                                               | 0/2 [00:00<?, ?it/s]"
     ]
    },
    {
     "name": "stdout",
     "output_type": "stream",
     "text": [
      "Loading from input\\HNSCC-01-0402\\11-13-2011-NA-002-31264\\1.000000-Series Description-25319\n",
      "Loading from input\\HNSCC-01-0402\\11-13-2011-NA-002-31264\\2.000000-CONTRAST120CC3CCS90S DELAY-61829\n"
     ]
    },
    {
     "name": "stderr",
     "output_type": "stream",
     "text": [
      "\r",
      "Loading through DICOM files: 100%|███████████████████████████████████████████████████████| 2/2 [00:13<00:00,  6.84s/it]"
     ]
    },
    {
     "name": "stdout",
     "output_type": "stream",
     "text": [
      "Compiling dictionaries together...\n",
      "Index 0, description CONTRAST120CC@3CC/S,90S DELAY  at input\\HNSCC-01-0402\\11-13-2011-NA-002-31264\\2.000000-CONTRAST120CC3CCS90S DELAY-61829\n",
      "1 unique series IDs were found. Default is index 0, to change use set_index(index)\n",
      "Loading images for CONTRAST120CC@3CC/S,90S DELAY  at \n",
      " input\\HNSCC-01-0402\\11-13-2011-NA-002-31264\\2.000000-CONTRAST120CC3CCS90S DELAY-61829\n",
      "\n"
     ]
    },
    {
     "name": "stderr",
     "output_type": "stream",
     "text": [
      "Loading through DICOM files: 100%|███████████████████████████████████████████████████████| 2/2 [00:47<00:00, 23.98s/it]\n",
      "Loading through DICOM files:  50%|███████████████████████████▌                           | 1/2 [00:00<00:00,  8.85it/s]"
     ]
    },
    {
     "name": "stdout",
     "output_type": "stream",
     "text": [
      "Loading from input\\HNSCC-01-0403\\09-13-2009-NA-CT SOFT TISSUE NECK W-86295\\1.000000-Series Description-37782\n",
      "Loading from input\\HNSCC-01-0403\\09-13-2009-NA-CT SOFT TISSUE NECK W-86295\\2.000000-CONTRAST120CC3CCS90S DELAY-96541\n"
     ]
    },
    {
     "name": "stderr",
     "output_type": "stream",
     "text": [
      "\r",
      "Loading through DICOM files: 100%|███████████████████████████████████████████████████████| 2/2 [00:14<00:00,  8.22s/it]"
     ]
    },
    {
     "name": "stdout",
     "output_type": "stream",
     "text": [
      "Compiling dictionaries together...\n",
      "Index 0, description CONTRAST120CC@3CC/S,90S DELAY  at input\\HNSCC-01-0403\\09-13-2009-NA-CT SOFT TISSUE NECK W-86295\\2.000000-CONTRAST120CC3CCS90S DELAY-96541\n",
      "1 unique series IDs were found. Default is index 0, to change use set_index(index)\n",
      "Loading images for CONTRAST120CC@3CC/S,90S DELAY  at \n",
      " input\\HNSCC-01-0403\\09-13-2009-NA-CT SOFT TISSUE NECK W-86295\\2.000000-CONTRAST120CC3CCS90S DELAY-96541\n",
      "\n"
     ]
    },
    {
     "name": "stderr",
     "output_type": "stream",
     "text": [
      "Loading through DICOM files: 100%|███████████████████████████████████████████████████████| 2/2 [00:45<00:00, 22.89s/it]\n",
      "Loading through DICOM files:   0%|                                                               | 0/2 [00:00<?, ?it/s]"
     ]
    },
    {
     "name": "stdout",
     "output_type": "stream",
     "text": [
      "Loading from input\\HNSCC-01-0404\\09-13-2009-NA-OSF CT SFT TISS NECK-49273\\1.000000-Series Description-51417\n",
      "Loading from input\\HNSCC-01-0404\\09-13-2009-NA-OSF CT SFT TISS NECK-49273\\3.000000-Neck  3.0  B31s-19403\n"
     ]
    },
    {
     "name": "stderr",
     "output_type": "stream",
     "text": [
      "\r",
      "Loading through DICOM files: 100%|███████████████████████████████████████████████████████| 2/2 [00:06<00:00,  3.21s/it]"
     ]
    },
    {
     "name": "stdout",
     "output_type": "stream",
     "text": [
      "Compiling dictionaries together...\n",
      "Index 0, description Neck  3.0  B31s  at input\\HNSCC-01-0404\\09-13-2009-NA-OSF CT SFT TISS NECK-49273\\3.000000-Neck  3.0  B31s-19403\n",
      "1 unique series IDs were found. Default is index 0, to change use set_index(index)\n",
      "Loading images for Neck  3.0  B31s  at \n",
      " input\\HNSCC-01-0404\\09-13-2009-NA-OSF CT SFT TISS NECK-49273\\3.000000-Neck  3.0  B31s-19403\n",
      "\n"
     ]
    },
    {
     "name": "stderr",
     "output_type": "stream",
     "text": [
      "Loading through DICOM files: 100%|███████████████████████████████████████████████████████| 2/2 [00:23<00:00, 11.70s/it]\n",
      "Loading through DICOM files:   0%|                                                               | 0/2 [00:00<?, ?it/s]"
     ]
    },
    {
     "name": "stdout",
     "output_type": "stream",
     "text": [
      "Loading from input\\HNSCC-01-0405\\09-13-2009-NA-002-58647\\2.000000-CONTRAST120CC3CCS90S DELAY-22247\n",
      "Loading from input\\HNSCC-01-0405\\09-13-2009-NA-002-58647\\1.000000-Series Description-98242\n"
     ]
    },
    {
     "name": "stderr",
     "output_type": "stream",
     "text": [
      "\r",
      "Loading through DICOM files: 100%|███████████████████████████████████████████████████████| 2/2 [00:12<00:00,  6.11s/it]"
     ]
    },
    {
     "name": "stdout",
     "output_type": "stream",
     "text": [
      "Compiling dictionaries together...\n",
      "Index 0, description CONTRAST120CC@3CC/S,90S DELAY  at input\\HNSCC-01-0405\\09-13-2009-NA-002-58647\\2.000000-CONTRAST120CC3CCS90S DELAY-22247\n",
      "1 unique series IDs were found. Default is index 0, to change use set_index(index)\n",
      "Loading images for CONTRAST120CC@3CC/S,90S DELAY  at \n",
      " input\\HNSCC-01-0405\\09-13-2009-NA-002-58647\\2.000000-CONTRAST120CC3CCS90S DELAY-22247\n",
      "\n"
     ]
    },
    {
     "name": "stderr",
     "output_type": "stream",
     "text": [
      "Loading through DICOM files: 100%|███████████████████████████████████████████████████████| 2/2 [00:41<00:00, 20.90s/it]\n",
      "Loading through DICOM files:  50%|███████████████████████████▌                           | 1/2 [00:00<00:00,  8.00it/s]"
     ]
    },
    {
     "name": "stdout",
     "output_type": "stream",
     "text": [
      "Loading from input\\HNSCC-01-0406\\09-13-2009-NA-CT SOFT TISSUE NECK W-66394\\2.000000-CONTRAST120CC3CCS90S DELAY-25320\n",
      "Loading from input\\HNSCC-01-0406\\09-13-2009-NA-CT SOFT TISSUE NECK W-66394\\1.000000-Series Description-64829\n"
     ]
    },
    {
     "name": "stderr",
     "output_type": "stream",
     "text": [
      "\r",
      "Loading through DICOM files: 100%|███████████████████████████████████████████████████████| 2/2 [00:13<00:00,  7.71s/it]"
     ]
    },
    {
     "name": "stdout",
     "output_type": "stream",
     "text": [
      "Compiling dictionaries together...\n",
      "Index 0, description CONTRAST120CC@3CC/S,90S DELAY  at input\\HNSCC-01-0406\\09-13-2009-NA-CT SOFT TISSUE NECK W-66394\\2.000000-CONTRAST120CC3CCS90S DELAY-25320\n",
      "1 unique series IDs were found. Default is index 0, to change use set_index(index)\n",
      "Loading images for CONTRAST120CC@3CC/S,90S DELAY  at \n",
      " input\\HNSCC-01-0406\\09-13-2009-NA-CT SOFT TISSUE NECK W-66394\\2.000000-CONTRAST120CC3CCS90S DELAY-25320\n",
      "\n"
     ]
    },
    {
     "name": "stderr",
     "output_type": "stream",
     "text": [
      "Loading through DICOM files: 100%|███████████████████████████████████████████████████████| 2/2 [00:43<00:00, 21.70s/it]\n",
      "Loading through DICOM files:  50%|███████████████████████████▌                           | 1/2 [00:00<00:00,  5.74it/s]"
     ]
    },
    {
     "name": "stdout",
     "output_type": "stream",
     "text": [
      "Loading from input\\HNSCC-01-0407\\09-13-2009-NA-CT SOFT TISSUE NECK W-46040\\1.000000-Series Description-56221\n",
      "Loading from input\\HNSCC-01-0407\\09-13-2009-NA-CT SOFT TISSUE NECK W-46040\\2.000000-CONTRAST120CC3CCS90S DELAY-35297\n"
     ]
    },
    {
     "name": "stderr",
     "output_type": "stream",
     "text": [
      "\r",
      "Loading through DICOM files: 100%|███████████████████████████████████████████████████████| 2/2 [00:15<00:00,  8.97s/it]"
     ]
    },
    {
     "name": "stdout",
     "output_type": "stream",
     "text": [
      "Compiling dictionaries together...\n",
      "Index 0, description CONTRAST120CC@3CC/S,90S DELAY  at input\\HNSCC-01-0407\\09-13-2009-NA-CT SOFT TISSUE NECK W-46040\\2.000000-CONTRAST120CC3CCS90S DELAY-35297\n",
      "1 unique series IDs were found. Default is index 0, to change use set_index(index)\n",
      "Loading images for CONTRAST120CC@3CC/S,90S DELAY  at \n",
      " input\\HNSCC-01-0407\\09-13-2009-NA-CT SOFT TISSUE NECK W-46040\\2.000000-CONTRAST120CC3CCS90S DELAY-35297\n",
      "\n"
     ]
    },
    {
     "name": "stderr",
     "output_type": "stream",
     "text": [
      "Loading through DICOM files: 100%|███████████████████████████████████████████████████████| 2/2 [00:48<00:00, 24.26s/it]\n",
      "Loading through DICOM files:   0%|                                                               | 0/2 [00:00<?, ?it/s]"
     ]
    },
    {
     "name": "stdout",
     "output_type": "stream",
     "text": [
      "Loading from input\\HNSCC-01-0408\\09-13-2009-NA-CT SOFT TISSUE NECK W-91764\\2.000000-CONTRAST120CC3CCS90S DELAY-15767\n",
      "Loading from input\\HNSCC-01-0408\\09-13-2009-NA-CT SOFT TISSUE NECK W-91764\\1.000000-Series Description-63116\n"
     ]
    },
    {
     "name": "stderr",
     "output_type": "stream",
     "text": [
      "\r",
      "Loading through DICOM files: 100%|███████████████████████████████████████████████████████| 2/2 [00:15<00:00,  7.56s/it]"
     ]
    },
    {
     "name": "stdout",
     "output_type": "stream",
     "text": [
      "Compiling dictionaries together...\n",
      "Index 0, description CONTRAST120CC@3CC/S,90S DELAY  at input\\HNSCC-01-0408\\09-13-2009-NA-CT SOFT TISSUE NECK W-91764\\2.000000-CONTRAST120CC3CCS90S DELAY-15767\n",
      "1 unique series IDs were found. Default is index 0, to change use set_index(index)\n",
      "Loading images for CONTRAST120CC@3CC/S,90S DELAY  at \n",
      " input\\HNSCC-01-0408\\09-13-2009-NA-CT SOFT TISSUE NECK W-91764\\2.000000-CONTRAST120CC3CCS90S DELAY-15767\n",
      "\n"
     ]
    },
    {
     "name": "stderr",
     "output_type": "stream",
     "text": [
      "Loading through DICOM files: 100%|███████████████████████████████████████████████████████| 2/2 [00:49<00:00, 24.93s/it]\n",
      "Loading through DICOM files:   0%|                                                               | 0/2 [00:00<?, ?it/s]"
     ]
    },
    {
     "name": "stdout",
     "output_type": "stream",
     "text": [
      "Loading from input\\HNSCC-01-0409\\09-13-2009-NA-CT SOFT TISSUE NECK W-59781\\1.000000-Series Description-31625\n",
      "Loading from input\\HNSCC-01-0409\\09-13-2009-NA-CT SOFT TISSUE NECK W-59781\\2.000000-CONTRAST120CC3CCS90S DELAY-03349\n"
     ]
    },
    {
     "name": "stderr",
     "output_type": "stream",
     "text": [
      "\r",
      "Loading through DICOM files: 100%|███████████████████████████████████████████████████████| 2/2 [00:12<00:00,  6.09s/it]"
     ]
    },
    {
     "name": "stdout",
     "output_type": "stream",
     "text": [
      "Compiling dictionaries together...\n",
      "Index 0, description CONTRAST120CC@3CC/S,90S DELAY  at input\\HNSCC-01-0409\\09-13-2009-NA-CT SOFT TISSUE NECK W-59781\\2.000000-CONTRAST120CC3CCS90S DELAY-03349\n",
      "1 unique series IDs were found. Default is index 0, to change use set_index(index)\n",
      "Loading images for CONTRAST120CC@3CC/S,90S DELAY  at \n",
      " input\\HNSCC-01-0409\\09-13-2009-NA-CT SOFT TISSUE NECK W-59781\\2.000000-CONTRAST120CC3CCS90S DELAY-03349\n",
      "\n"
     ]
    },
    {
     "name": "stderr",
     "output_type": "stream",
     "text": [
      "Loading through DICOM files: 100%|███████████████████████████████████████████████████████| 2/2 [00:42<00:00, 21.47s/it]\n",
      "Loading through DICOM files:   0%|                                                               | 0/2 [00:00<?, ?it/s]"
     ]
    },
    {
     "name": "stdout",
     "output_type": "stream",
     "text": [
      "Loading from input\\HNSCC-01-0410\\09-13-2009-NA-CT SOFT TISSUE NECK W-41873\\1.000000-Series Description-91391\n",
      "Loading from input\\HNSCC-01-0410\\09-13-2009-NA-CT SOFT TISSUE NECK W-41873\\2.000000-CONTRAST120CC3CCS90S DELAY-86776\n"
     ]
    },
    {
     "name": "stderr",
     "output_type": "stream",
     "text": [
      "\r",
      "Loading through DICOM files: 100%|███████████████████████████████████████████████████████| 2/2 [00:14<00:00,  7.16s/it]"
     ]
    },
    {
     "name": "stdout",
     "output_type": "stream",
     "text": [
      "Compiling dictionaries together...\n",
      "Index 0, description CONTRAST120CC@3CC/S,90S DELAY  at input\\HNSCC-01-0410\\09-13-2009-NA-CT SOFT TISSUE NECK W-41873\\2.000000-CONTRAST120CC3CCS90S DELAY-86776\n",
      "1 unique series IDs were found. Default is index 0, to change use set_index(index)\n",
      "Loading images for CONTRAST120CC@3CC/S,90S DELAY  at \n",
      " input\\HNSCC-01-0410\\09-13-2009-NA-CT SOFT TISSUE NECK W-41873\\2.000000-CONTRAST120CC3CCS90S DELAY-86776\n",
      "\n"
     ]
    },
    {
     "name": "stderr",
     "output_type": "stream",
     "text": [
      "Loading through DICOM files: 100%|███████████████████████████████████████████████████████| 2/2 [00:49<00:00, 24.99s/it]\n",
      "Loading through DICOM files:   0%|                                                               | 0/2 [00:00<?, ?it/s]"
     ]
    },
    {
     "name": "stdout",
     "output_type": "stream",
     "text": [
      "Loading from input\\HNSCC-01-0411\\09-13-2009-NA-CT SOFT TISSUE NECK W-84420\\2.000000-CONTRAST120CC3CCS90S DELAY-70599\n",
      "Loading from input\\HNSCC-01-0411\\09-13-2009-NA-CT SOFT TISSUE NECK W-84420\\1.000000-Series Description-27516\n"
     ]
    },
    {
     "name": "stderr",
     "output_type": "stream",
     "text": [
      "\r",
      "Loading through DICOM files: 100%|███████████████████████████████████████████████████████| 2/2 [00:13<00:00,  6.87s/it]"
     ]
    },
    {
     "name": "stdout",
     "output_type": "stream",
     "text": [
      "Compiling dictionaries together...\n",
      "Index 0, description CONTRAST120CC@3CC/S,90S DELAY  at input\\HNSCC-01-0411\\09-13-2009-NA-CT SOFT TISSUE NECK W-84420\\2.000000-CONTRAST120CC3CCS90S DELAY-70599\n",
      "1 unique series IDs were found. Default is index 0, to change use set_index(index)\n",
      "Loading images for CONTRAST120CC@3CC/S,90S DELAY  at \n",
      " input\\HNSCC-01-0411\\09-13-2009-NA-CT SOFT TISSUE NECK W-84420\\2.000000-CONTRAST120CC3CCS90S DELAY-70599\n",
      "\n"
     ]
    },
    {
     "name": "stderr",
     "output_type": "stream",
     "text": [
      "Loading through DICOM files: 100%|███████████████████████████████████████████████████████| 2/2 [00:46<00:00, 23.04s/it]\n",
      "Loading through DICOM files:   0%|                                                               | 0/2 [00:00<?, ?it/s]"
     ]
    },
    {
     "name": "stdout",
     "output_type": "stream",
     "text": [
      "Loading from input\\HNSCC-01-0412\\09-13-2009-NA-CT SOFT TISSUE NECK W-09847\\1.000000-Series Description-53115\n",
      "Loading from input\\HNSCC-01-0412\\09-13-2009-NA-CT SOFT TISSUE NECK W-09847\\2.000000-CONTRAST120CC3CCS90S DELAY-32698\n"
     ]
    },
    {
     "name": "stderr",
     "output_type": "stream",
     "text": [
      "\r",
      "Loading through DICOM files: 100%|███████████████████████████████████████████████████████| 2/2 [00:14<00:00,  7.10s/it]"
     ]
    },
    {
     "name": "stdout",
     "output_type": "stream",
     "text": [
      "Compiling dictionaries together...\n",
      "Index 0, description CONTRAST120CC@3CC/S,90S DELAY  at input\\HNSCC-01-0412\\09-13-2009-NA-CT SOFT TISSUE NECK W-09847\\2.000000-CONTRAST120CC3CCS90S DELAY-32698\n",
      "1 unique series IDs were found. Default is index 0, to change use set_index(index)\n",
      "Loading images for CONTRAST120CC@3CC/S,90S DELAY  at \n",
      " input\\HNSCC-01-0412\\09-13-2009-NA-CT SOFT TISSUE NECK W-09847\\2.000000-CONTRAST120CC3CCS90S DELAY-32698\n",
      "\n"
     ]
    },
    {
     "name": "stderr",
     "output_type": "stream",
     "text": [
      "Loading through DICOM files: 100%|███████████████████████████████████████████████████████| 2/2 [00:47<00:00, 23.68s/it]\n",
      "Loading through DICOM files:  50%|███████████████████████████▌                           | 1/2 [00:00<00:00,  6.90it/s]"
     ]
    },
    {
     "name": "stdout",
     "output_type": "stream",
     "text": [
      "Loading from input\\HNSCC-01-0413\\09-13-2009-NA-CT MAXILLOFACIAL AREA-47519\\1.000000-Series Description-80760\n",
      "Loading from input\\HNSCC-01-0413\\09-13-2009-NA-CT MAXILLOFACIAL AREA-47519\\2.000000-CONTRAST120CC3CCS90S DELAY-55256\n"
     ]
    },
    {
     "name": "stderr",
     "output_type": "stream",
     "text": [
      "\r",
      "Loading through DICOM files: 100%|███████████████████████████████████████████████████████| 2/2 [00:19<00:00, 11.66s/it]"
     ]
    },
    {
     "name": "stdout",
     "output_type": "stream",
     "text": [
      "Compiling dictionaries together...\n",
      "Index 0, description CONTRAST120CC@3CC/S,90S DELAY  at input\\HNSCC-01-0413\\09-13-2009-NA-CT MAXILLOFACIAL AREA-47519\\2.000000-CONTRAST120CC3CCS90S DELAY-55256\n",
      "1 unique series IDs were found. Default is index 0, to change use set_index(index)\n",
      "Loading images for CONTRAST120CC@3CC/S,90S DELAY  at \n",
      " input\\HNSCC-01-0413\\09-13-2009-NA-CT MAXILLOFACIAL AREA-47519\\2.000000-CONTRAST120CC3CCS90S DELAY-55256\n",
      "\n"
     ]
    },
    {
     "name": "stderr",
     "output_type": "stream",
     "text": [
      "Loading through DICOM files: 100%|███████████████████████████████████████████████████████| 2/2 [01:05<00:00, 32.91s/it]\n",
      "Loading through DICOM files:  50%|███████████████████████████▌                           | 1/2 [00:00<00:00,  6.71it/s]"
     ]
    },
    {
     "name": "stdout",
     "output_type": "stream",
     "text": [
      "Loading from input\\HNSCC-01-0414\\09-13-2009-NA-CT SOFT TISSUE NECK W-45747\\2.000000-CONTRAST120CC3CCS90S DELAY-02852\n",
      "Loading from input\\HNSCC-01-0414\\09-13-2009-NA-CT SOFT TISSUE NECK W-45747\\1.000000-Series Description-54054\n"
     ]
    },
    {
     "name": "stderr",
     "output_type": "stream",
     "text": [
      "\r",
      "Loading through DICOM files: 100%|███████████████████████████████████████████████████████| 2/2 [00:15<00:00,  9.02s/it]"
     ]
    },
    {
     "name": "stdout",
     "output_type": "stream",
     "text": [
      "Compiling dictionaries together...\n",
      "Index 0, description CONTRAST120CC@3CC/S,90S DELAY  at input\\HNSCC-01-0414\\09-13-2009-NA-CT SOFT TISSUE NECK W-45747\\2.000000-CONTRAST120CC3CCS90S DELAY-02852\n",
      "1 unique series IDs were found. Default is index 0, to change use set_index(index)\n",
      "Loading images for CONTRAST120CC@3CC/S,90S DELAY  at \n",
      " input\\HNSCC-01-0414\\09-13-2009-NA-CT SOFT TISSUE NECK W-45747\\2.000000-CONTRAST120CC3CCS90S DELAY-02852\n",
      "\n"
     ]
    },
    {
     "name": "stderr",
     "output_type": "stream",
     "text": [
      "Loading through DICOM files: 100%|███████████████████████████████████████████████████████| 2/2 [00:53<00:00, 26.62s/it]\n",
      "Loading through DICOM files:   0%|                                                               | 0/2 [00:00<?, ?it/s]"
     ]
    },
    {
     "name": "stdout",
     "output_type": "stream",
     "text": [
      "Loading from input\\HNSCC-01-0415\\09-13-2009-NA-CT SOFT TISSUE NECK W-41115\\2.000000-CONTRAST120CC3CCS90S DELAY-99871\n",
      "Loading from input\\HNSCC-01-0415\\09-13-2009-NA-CT SOFT TISSUE NECK W-41115\\1.000000-Series Description-21573\n"
     ]
    },
    {
     "name": "stderr",
     "output_type": "stream",
     "text": [
      "\r",
      "Loading through DICOM files: 100%|███████████████████████████████████████████████████████| 2/2 [00:12<00:00,  6.03s/it]"
     ]
    },
    {
     "name": "stdout",
     "output_type": "stream",
     "text": [
      "Compiling dictionaries together...\n",
      "Index 0, description CONTRAST120CC@3CC/S,90S DELAY  at input\\HNSCC-01-0415\\09-13-2009-NA-CT SOFT TISSUE NECK W-41115\\2.000000-CONTRAST120CC3CCS90S DELAY-99871\n",
      "1 unique series IDs were found. Default is index 0, to change use set_index(index)\n",
      "Loading images for CONTRAST120CC@3CC/S,90S DELAY  at \n",
      " input\\HNSCC-01-0415\\09-13-2009-NA-CT SOFT TISSUE NECK W-41115\\2.000000-CONTRAST120CC3CCS90S DELAY-99871\n",
      "\n"
     ]
    },
    {
     "name": "stderr",
     "output_type": "stream",
     "text": [
      "Loading through DICOM files: 100%|███████████████████████████████████████████████████████| 2/2 [00:40<00:00, 20.25s/it]\n",
      "Loading through DICOM files:   0%|                                                               | 0/2 [00:00<?, ?it/s]"
     ]
    },
    {
     "name": "stdout",
     "output_type": "stream",
     "text": [
      "Loading from input\\HNSCC-01-0416\\09-13-2009-NA-007-28216\\1.000000-Series Description-76545\n",
      "Loading from input\\HNSCC-01-0416\\09-13-2009-NA-007-28216\\2.000000-CONTRAST120CC3CCS90S DELAY-11660\n"
     ]
    },
    {
     "name": "stderr",
     "output_type": "stream",
     "text": [
      "\r",
      "Loading through DICOM files: 100%|███████████████████████████████████████████████████████| 2/2 [00:17<00:00,  8.58s/it]"
     ]
    },
    {
     "name": "stdout",
     "output_type": "stream",
     "text": [
      "Compiling dictionaries together...\n",
      "Index 0, description CONTRAST120CC@3CC/S,90S DELAY  at input\\HNSCC-01-0416\\09-13-2009-NA-007-28216\\2.000000-CONTRAST120CC3CCS90S DELAY-11660\n",
      "1 unique series IDs were found. Default is index 0, to change use set_index(index)\n",
      "Loading images for CONTRAST120CC@3CC/S,90S DELAY  at \n",
      " input\\HNSCC-01-0416\\09-13-2009-NA-007-28216\\2.000000-CONTRAST120CC3CCS90S DELAY-11660\n",
      "\n"
     ]
    },
    {
     "name": "stderr",
     "output_type": "stream",
     "text": [
      "Loading through DICOM files: 100%|███████████████████████████████████████████████████████| 2/2 [00:58<00:00, 29.21s/it]\n",
      "Loading through DICOM files:  50%|███████████████████████████▌                           | 1/2 [00:00<00:00,  8.33it/s]"
     ]
    },
    {
     "name": "stdout",
     "output_type": "stream",
     "text": [
      "Loading from input\\HNSCC-01-0417\\09-13-2009-NA-CT MAXILLOFACIAL AREA-67274\\1.000000-Series Description-63975\n",
      "Loading from input\\HNSCC-01-0417\\09-13-2009-NA-CT MAXILLOFACIAL AREA-67274\\2.000000-CONTRAST120CC3CCS90S DELAY-02859\n"
     ]
    },
    {
     "name": "stderr",
     "output_type": "stream",
     "text": [
      "\r",
      "Loading through DICOM files: 100%|███████████████████████████████████████████████████████| 2/2 [00:20<00:00, 12.21s/it]"
     ]
    },
    {
     "name": "stdout",
     "output_type": "stream",
     "text": [
      "Compiling dictionaries together...\n",
      "Index 0, description CONTRAST120CC@3CC/S,90S DELAY  at input\\HNSCC-01-0417\\09-13-2009-NA-CT MAXILLOFACIAL AREA-67274\\2.000000-CONTRAST120CC3CCS90S DELAY-02859\n",
      "1 unique series IDs were found. Default is index 0, to change use set_index(index)\n",
      "Loading images for CONTRAST120CC@3CC/S,90S DELAY  at \n",
      " input\\HNSCC-01-0417\\09-13-2009-NA-CT MAXILLOFACIAL AREA-67274\\2.000000-CONTRAST120CC3CCS90S DELAY-02859\n",
      "\n"
     ]
    },
    {
     "name": "stderr",
     "output_type": "stream",
     "text": [
      "Loading through DICOM files: 100%|███████████████████████████████████████████████████████| 2/2 [01:04<00:00, 32.07s/it]\n",
      "Loading through DICOM files:   0%|                                                               | 0/2 [00:00<?, ?it/s]"
     ]
    },
    {
     "name": "stdout",
     "output_type": "stream",
     "text": [
      "Loading from input\\HNSCC-01-0418\\09-13-2009-NA-002-52138\\2.000000-CONTRAST120CC3CCS90S DELAY-40640\n",
      "Loading from input\\HNSCC-01-0418\\09-13-2009-NA-002-52138\\1.000000-Series Description-83021\n"
     ]
    },
    {
     "name": "stderr",
     "output_type": "stream",
     "text": [
      "\r",
      "Loading through DICOM files: 100%|███████████████████████████████████████████████████████| 2/2 [00:15<00:00,  7.81s/it]"
     ]
    },
    {
     "name": "stdout",
     "output_type": "stream",
     "text": [
      "Compiling dictionaries together...\n",
      "Index 0, description CONTRAST120CC@3CC/S,90S DELAY  at input\\HNSCC-01-0418\\09-13-2009-NA-002-52138\\2.000000-CONTRAST120CC3CCS90S DELAY-40640\n",
      "1 unique series IDs were found. Default is index 0, to change use set_index(index)\n",
      "Loading images for CONTRAST120CC@3CC/S,90S DELAY  at \n",
      " input\\HNSCC-01-0418\\09-13-2009-NA-002-52138\\2.000000-CONTRAST120CC3CCS90S DELAY-40640\n",
      "\n"
     ]
    },
    {
     "name": "stderr",
     "output_type": "stream",
     "text": [
      "Loading through DICOM files: 100%|███████████████████████████████████████████████████████| 2/2 [00:49<00:00, 24.60s/it]\n",
      "Loading through DICOM files:   0%|                                                               | 0/2 [00:00<?, ?it/s]"
     ]
    },
    {
     "name": "stdout",
     "output_type": "stream",
     "text": [
      "Loading from input\\HNSCC-01-0419\\09-13-2009-NA-002-87901\\1.000000-Series Description-37268\n",
      "Loading from input\\HNSCC-01-0419\\09-13-2009-NA-002-87901\\2.000000-CONTRAST120CC3CCS90S DELAY-00880\n"
     ]
    },
    {
     "name": "stderr",
     "output_type": "stream",
     "text": [
      "\r",
      "Loading through DICOM files: 100%|███████████████████████████████████████████████████████| 2/2 [00:14<00:00,  7.14s/it]"
     ]
    },
    {
     "name": "stdout",
     "output_type": "stream",
     "text": [
      "Compiling dictionaries together...\n",
      "Index 0, description CONTRAST120CC@3CC/S,90S DELAY  at input\\HNSCC-01-0419\\09-13-2009-NA-002-87901\\2.000000-CONTRAST120CC3CCS90S DELAY-00880\n",
      "1 unique series IDs were found. Default is index 0, to change use set_index(index)\n",
      "Loading images for CONTRAST120CC@3CC/S,90S DELAY  at \n",
      " input\\HNSCC-01-0419\\09-13-2009-NA-002-87901\\2.000000-CONTRAST120CC3CCS90S DELAY-00880\n",
      "\n"
     ]
    },
    {
     "name": "stderr",
     "output_type": "stream",
     "text": [
      "Loading through DICOM files: 100%|███████████████████████████████████████████████████████| 2/2 [00:50<00:00, 25.03s/it]\n",
      "Loading through DICOM files:  50%|███████████████████████████▌                           | 1/2 [00:00<00:00,  9.52it/s]"
     ]
    },
    {
     "name": "stdout",
     "output_type": "stream",
     "text": [
      "Loading from input\\HNSCC-01-0420\\09-13-2009-NA-CT SOFT TISSUE NECK W-83825\\1.000000-Series Description-75147\n",
      "Loading from input\\HNSCC-01-0420\\09-13-2009-NA-CT SOFT TISSUE NECK W-83825\\2.000000-CONTRAST120CC3CCS90S DELAY-81170\n"
     ]
    },
    {
     "name": "stderr",
     "output_type": "stream",
     "text": [
      "\r",
      "Loading through DICOM files: 100%|███████████████████████████████████████████████████████| 2/2 [00:14<00:00,  8.38s/it]"
     ]
    },
    {
     "name": "stdout",
     "output_type": "stream",
     "text": [
      "Compiling dictionaries together...\n",
      "Index 0, description CONTRAST120CC@3CC/S,90S DELAY  at input\\HNSCC-01-0420\\09-13-2009-NA-CT SOFT TISSUE NECK W-83825\\2.000000-CONTRAST120CC3CCS90S DELAY-81170\n",
      "1 unique series IDs were found. Default is index 0, to change use set_index(index)\n",
      "Loading images for CONTRAST120CC@3CC/S,90S DELAY  at \n",
      " input\\HNSCC-01-0420\\09-13-2009-NA-CT SOFT TISSUE NECK W-83825\\2.000000-CONTRAST120CC3CCS90S DELAY-81170\n",
      "\n"
     ]
    },
    {
     "name": "stderr",
     "output_type": "stream",
     "text": [
      "Loading through DICOM files: 100%|███████████████████████████████████████████████████████| 2/2 [00:51<00:00, 25.83s/it]\n",
      "Loading through DICOM files:   0%|                                                               | 0/2 [00:00<?, ?it/s]"
     ]
    },
    {
     "name": "stdout",
     "output_type": "stream",
     "text": [
      "Loading from input\\HNSCC-01-0421\\09-13-2009-NA-CT SOFT TISSUE NECK W-79011\\1.000000-Series Description-95252\n",
      "Loading from input\\HNSCC-01-0421\\09-13-2009-NA-CT SOFT TISSUE NECK W-79011\\2.000000-CONTRAST120CC3CCS90S DELAY-39843\n"
     ]
    },
    {
     "name": "stderr",
     "output_type": "stream",
     "text": [
      "\r",
      "Loading through DICOM files: 100%|███████████████████████████████████████████████████████| 2/2 [00:14<00:00,  7.11s/it]"
     ]
    },
    {
     "name": "stdout",
     "output_type": "stream",
     "text": [
      "Compiling dictionaries together...\n",
      "Index 0, description CONTRAST120CC@3CC/S,90S DELAY  at input\\HNSCC-01-0421\\09-13-2009-NA-CT SOFT TISSUE NECK W-79011\\2.000000-CONTRAST120CC3CCS90S DELAY-39843\n",
      "1 unique series IDs were found. Default is index 0, to change use set_index(index)\n",
      "Loading images for CONTRAST120CC@3CC/S,90S DELAY  at \n",
      " input\\HNSCC-01-0421\\09-13-2009-NA-CT SOFT TISSUE NECK W-79011\\2.000000-CONTRAST120CC3CCS90S DELAY-39843\n",
      "\n"
     ]
    },
    {
     "name": "stderr",
     "output_type": "stream",
     "text": [
      "Loading through DICOM files: 100%|███████████████████████████████████████████████████████| 2/2 [00:50<00:00, 25.33s/it]\n",
      "Loading through DICOM files:   0%|                                                               | 0/2 [00:00<?, ?it/s]"
     ]
    },
    {
     "name": "stdout",
     "output_type": "stream",
     "text": [
      "Loading from input\\HNSCC-01-0422\\09-13-2009-NA-002-79402\\1.000000-Series Description-11578\n",
      "Loading from input\\HNSCC-01-0422\\09-13-2009-NA-002-79402\\2.000000-CONTRAST120CC3CCS90S DELAY-63295\n"
     ]
    },
    {
     "name": "stderr",
     "output_type": "stream",
     "text": [
      "\r",
      "Loading through DICOM files: 100%|███████████████████████████████████████████████████████| 2/2 [00:12<00:00,  6.39s/it]"
     ]
    },
    {
     "name": "stdout",
     "output_type": "stream",
     "text": [
      "Compiling dictionaries together...\n",
      "Index 0, description CONTRAST120CC@3CC/S,90S DELAY  at input\\HNSCC-01-0422\\09-13-2009-NA-002-79402\\2.000000-CONTRAST120CC3CCS90S DELAY-63295\n",
      "1 unique series IDs were found. Default is index 0, to change use set_index(index)\n",
      "Loading images for CONTRAST120CC@3CC/S,90S DELAY  at \n",
      " input\\HNSCC-01-0422\\09-13-2009-NA-002-79402\\2.000000-CONTRAST120CC3CCS90S DELAY-63295\n",
      "\n"
     ]
    },
    {
     "name": "stderr",
     "output_type": "stream",
     "text": [
      "Loading through DICOM files: 100%|███████████████████████████████████████████████████████| 2/2 [00:41<00:00, 20.80s/it]\n",
      "Loading through DICOM files:   0%|                                                               | 0/2 [00:00<?, ?it/s]"
     ]
    },
    {
     "name": "stdout",
     "output_type": "stream",
     "text": [
      "Loading from input\\HNSCC-01-0423\\09-13-2009-NA-CT SOFT TISSUE NECK W-77638\\1.000000-Series Description-72938Loading from input\\HNSCC-01-0423\\09-13-2009-NA-CT SOFT TISSUE NECK W-77638\\2.000000-CONTRAST120CC3CCS90S DELAY-42798\n",
      "\n"
     ]
    },
    {
     "name": "stderr",
     "output_type": "stream",
     "text": [
      "\r",
      "Loading through DICOM files: 100%|███████████████████████████████████████████████████████| 2/2 [00:13<00:00,  6.79s/it]"
     ]
    },
    {
     "name": "stdout",
     "output_type": "stream",
     "text": [
      "Compiling dictionaries together...\n",
      "Index 0, description CONTRAST120CC@3CC/S,90S DELAY  at input\\HNSCC-01-0423\\09-13-2009-NA-CT SOFT TISSUE NECK W-77638\\2.000000-CONTRAST120CC3CCS90S DELAY-42798\n",
      "1 unique series IDs were found. Default is index 0, to change use set_index(index)\n",
      "Loading images for CONTRAST120CC@3CC/S,90S DELAY  at \n",
      " input\\HNSCC-01-0423\\09-13-2009-NA-CT SOFT TISSUE NECK W-77638\\2.000000-CONTRAST120CC3CCS90S DELAY-42798\n",
      "\n"
     ]
    },
    {
     "name": "stderr",
     "output_type": "stream",
     "text": [
      "Loading through DICOM files: 100%|███████████████████████████████████████████████████████| 2/2 [00:47<00:00, 23.69s/it]\n",
      "Loading through DICOM files:   0%|                                                               | 0/2 [00:00<?, ?it/s]"
     ]
    },
    {
     "name": "stdout",
     "output_type": "stream",
     "text": [
      "Loading from input\\HNSCC-01-0424\\09-13-2009-NA-002-82091\\1.000000-Series Description-92628\n",
      "Loading from input\\HNSCC-01-0424\\09-13-2009-NA-002-82091\\2.000000-CONTRAST120CC3CCS90S DELAY-19822\n"
     ]
    },
    {
     "name": "stderr",
     "output_type": "stream",
     "text": [
      "\r",
      "Loading through DICOM files: 100%|███████████████████████████████████████████████████████| 2/2 [00:14<00:00,  7.29s/it]"
     ]
    },
    {
     "name": "stdout",
     "output_type": "stream",
     "text": [
      "Compiling dictionaries together...\n",
      "Index 0, description CONTRAST120CC@3CC/S,90S DELAY  at input\\HNSCC-01-0424\\09-13-2009-NA-002-82091\\2.000000-CONTRAST120CC3CCS90S DELAY-19822\n",
      "1 unique series IDs were found. Default is index 0, to change use set_index(index)\n",
      "Loading images for CONTRAST120CC@3CC/S,90S DELAY  at \n",
      " input\\HNSCC-01-0424\\09-13-2009-NA-002-82091\\2.000000-CONTRAST120CC3CCS90S DELAY-19822\n",
      "\n"
     ]
    },
    {
     "name": "stderr",
     "output_type": "stream",
     "text": [
      "Loading through DICOM files: 100%|███████████████████████████████████████████████████████| 2/2 [00:48<00:00, 24.18s/it]\n",
      "Loading through DICOM files:  50%|███████████████████████████▌                           | 1/2 [00:00<00:00,  9.01it/s]"
     ]
    },
    {
     "name": "stdout",
     "output_type": "stream",
     "text": [
      "Loading from input\\HNSCC-01-0425\\09-13-2009-NA-CT SOFT TISSUE NECK W-95894\\1.000000-Series Description-45626\n",
      "Loading from input\\HNSCC-01-0425\\09-13-2009-NA-CT SOFT TISSUE NECK W-95894\\2.000000-CONTRAST120CC3CCS90S DELAY-61637\n"
     ]
    },
    {
     "name": "stderr",
     "output_type": "stream",
     "text": [
      "\r",
      "Loading through DICOM files: 100%|███████████████████████████████████████████████████████| 2/2 [00:11<00:00,  6.72s/it]"
     ]
    },
    {
     "name": "stdout",
     "output_type": "stream",
     "text": [
      "Compiling dictionaries together...\n",
      "Index 0, description CONTRAST120CC@3CC/S,90S DELAY  at input\\HNSCC-01-0425\\09-13-2009-NA-CT SOFT TISSUE NECK W-95894\\2.000000-CONTRAST120CC3CCS90S DELAY-61637\n",
      "1 unique series IDs were found. Default is index 0, to change use set_index(index)\n",
      "Loading images for CONTRAST120CC@3CC/S,90S DELAY  at \n",
      " input\\HNSCC-01-0425\\09-13-2009-NA-CT SOFT TISSUE NECK W-95894\\2.000000-CONTRAST120CC3CCS90S DELAY-61637\n",
      "\n"
     ]
    },
    {
     "name": "stderr",
     "output_type": "stream",
     "text": [
      "Loading through DICOM files: 100%|███████████████████████████████████████████████████████| 2/2 [00:40<00:00, 20.46s/it]\n",
      "Loading through DICOM files:  50%|███████████████████████████▌                           | 1/2 [00:00<00:00,  9.80it/s]"
     ]
    },
    {
     "name": "stdout",
     "output_type": "stream",
     "text": [
      "Loading from input\\HNSCC-01-0426\\09-13-2009-NA-CT SOFT TISSUE NECK W-71665\\2.000000-CONTRAST120CC3CCS90S DELAY-44114\n",
      "Loading from input\\HNSCC-01-0426\\09-13-2009-NA-CT SOFT TISSUE NECK W-71665\\1.000000-Series Description-66164\n"
     ]
    },
    {
     "name": "stderr",
     "output_type": "stream",
     "text": [
      "\r",
      "Loading through DICOM files: 100%|███████████████████████████████████████████████████████| 2/2 [00:12<00:00,  7.41s/it]"
     ]
    },
    {
     "name": "stdout",
     "output_type": "stream",
     "text": [
      "Compiling dictionaries together...\n",
      "Index 0, description CONTRAST120CC@3CC/S,90S DELAY  at input\\HNSCC-01-0426\\09-13-2009-NA-CT SOFT TISSUE NECK W-71665\\2.000000-CONTRAST120CC3CCS90S DELAY-44114\n",
      "1 unique series IDs were found. Default is index 0, to change use set_index(index)\n",
      "Loading images for CONTRAST120CC@3CC/S,90S DELAY  at \n",
      " input\\HNSCC-01-0426\\09-13-2009-NA-CT SOFT TISSUE NECK W-71665\\2.000000-CONTRAST120CC3CCS90S DELAY-44114\n",
      "\n"
     ]
    },
    {
     "name": "stderr",
     "output_type": "stream",
     "text": [
      "Loading through DICOM files: 100%|███████████████████████████████████████████████████████| 2/2 [00:43<00:00, 21.82s/it]\n",
      "Loading through DICOM files:   0%|                                                               | 0/2 [00:00<?, ?it/s]"
     ]
    },
    {
     "name": "stdout",
     "output_type": "stream",
     "text": [
      "Loading from input\\HNSCC-01-0427\\09-13-2009-NA-005-74336\\1.000000-Series Description-55206\n",
      "Loading from input\\HNSCC-01-0427\\09-13-2009-NA-005-74336\\3.000000-WITH-96785\n"
     ]
    },
    {
     "name": "stderr",
     "output_type": "stream",
     "text": [
      "\r",
      "Loading through DICOM files: 100%|███████████████████████████████████████████████████████| 2/2 [00:05<00:00,  2.68s/it]"
     ]
    },
    {
     "name": "stdout",
     "output_type": "stream",
     "text": [
      "Compiling dictionaries together...\n",
      "Index 0, description WITH at input\\HNSCC-01-0427\\09-13-2009-NA-005-74336\\3.000000-WITH-96785\n",
      "1 unique series IDs were found. Default is index 0, to change use set_index(index)\n",
      "Loading images for WITH at \n",
      " input\\HNSCC-01-0427\\09-13-2009-NA-005-74336\\3.000000-WITH-96785\n",
      "\n"
     ]
    },
    {
     "name": "stderr",
     "output_type": "stream",
     "text": [
      "Loading through DICOM files: 100%|███████████████████████████████████████████████████████| 2/2 [00:19<00:00,  9.89s/it]\n",
      "Loading through DICOM files:   0%|                                                               | 0/2 [00:00<?, ?it/s]"
     ]
    },
    {
     "name": "stdout",
     "output_type": "stream",
     "text": [
      "Loading from input\\HNSCC-01-0428\\09-13-2009-NA-CT SOFT TISSUE NECK W-98707\\2.000000-CONTRAST120CC3CCS90S DELAY-36577\n",
      "Loading from input\\HNSCC-01-0428\\09-13-2009-NA-CT SOFT TISSUE NECK W-98707\\1.000000-Series Description-87601\n"
     ]
    },
    {
     "name": "stderr",
     "output_type": "stream",
     "text": [
      "\r",
      "Loading through DICOM files: 100%|███████████████████████████████████████████████████████| 2/2 [00:15<00:00,  7.86s/it]"
     ]
    },
    {
     "name": "stdout",
     "output_type": "stream",
     "text": [
      "Compiling dictionaries together...\n",
      "Index 0, description CONTRAST120CC@3CC/S,90S DELAY  at input\\HNSCC-01-0428\\09-13-2009-NA-CT SOFT TISSUE NECK W-98707\\2.000000-CONTRAST120CC3CCS90S DELAY-36577\n",
      "1 unique series IDs were found. Default is index 0, to change use set_index(index)\n",
      "Loading images for CONTRAST120CC@3CC/S,90S DELAY  at \n",
      " input\\HNSCC-01-0428\\09-13-2009-NA-CT SOFT TISSUE NECK W-98707\\2.000000-CONTRAST120CC3CCS90S DELAY-36577\n",
      "\n"
     ]
    },
    {
     "name": "stderr",
     "output_type": "stream",
     "text": [
      "Loading through DICOM files: 100%|███████████████████████████████████████████████████████| 2/2 [00:51<00:00, 25.67s/it]\n",
      "Loading through DICOM files:  50%|███████████████████████████▌                           | 1/2 [00:00<00:00,  9.52it/s]"
     ]
    },
    {
     "name": "stdout",
     "output_type": "stream",
     "text": [
      "Loading from input\\HNSCC-01-0429\\09-13-2009-NA-CT MAXILLOFACIAL AREA-44210\\1.000000-Series Description-89880\n",
      "Loading from input\\HNSCC-01-0429\\09-13-2009-NA-CT MAXILLOFACIAL AREA-44210\\3.000000-CONTRAST120CC3CCS90S DELAY-20194\n"
     ]
    },
    {
     "name": "stderr",
     "output_type": "stream",
     "text": [
      "\r",
      "Loading through DICOM files: 100%|███████████████████████████████████████████████████████| 2/2 [00:19<00:00, 11.19s/it]"
     ]
    },
    {
     "name": "stdout",
     "output_type": "stream",
     "text": [
      "Compiling dictionaries together...\n",
      "Index 0, description CONTRAST120CC@3CC/S,90S DELAY  at input\\HNSCC-01-0429\\09-13-2009-NA-CT MAXILLOFACIAL AREA-44210\\3.000000-CONTRAST120CC3CCS90S DELAY-20194\n",
      "1 unique series IDs were found. Default is index 0, to change use set_index(index)\n",
      "Loading images for CONTRAST120CC@3CC/S,90S DELAY  at \n",
      " input\\HNSCC-01-0429\\09-13-2009-NA-CT MAXILLOFACIAL AREA-44210\\3.000000-CONTRAST120CC3CCS90S DELAY-20194\n",
      "\n"
     ]
    },
    {
     "name": "stderr",
     "output_type": "stream",
     "text": [
      "Loading through DICOM files: 100%|███████████████████████████████████████████████████████| 2/2 [01:00<00:00, 30.40s/it]\n",
      "Loading through DICOM files:   0%|                                                               | 0/2 [00:00<?, ?it/s]"
     ]
    },
    {
     "name": "stdout",
     "output_type": "stream",
     "text": [
      "Loading from input\\HNSCC-01-0430\\09-13-2009-NA-002-85640\\1.000000-Series Description-15165\n",
      "Loading from input\\HNSCC-01-0430\\09-13-2009-NA-002-85640\\2.000000-CONTRAST120CC3CCS90S DELAY-38822\n"
     ]
    },
    {
     "name": "stderr",
     "output_type": "stream",
     "text": [
      "Loading through DICOM files: 100%|███████████████████████████████████████████████████████| 2/2 [00:14<00:00,  8.68s/it]"
     ]
    },
    {
     "name": "stdout",
     "output_type": "stream",
     "text": [
      "Compiling dictionaries together...\n",
      "Index 0, description CONTRAST120CC@3CC/S,90S DELAY  at input\\HNSCC-01-0430\\09-13-2009-NA-002-85640\\2.000000-CONTRAST120CC3CCS90S DELAY-38822\n",
      "1 unique series IDs were found. Default is index 0, to change use set_index(index)\n",
      "Loading images for CONTRAST120CC@3CC/S,90S DELAY  at \n",
      " input\\HNSCC-01-0430\\09-13-2009-NA-002-85640\\2.000000-CONTRAST120CC3CCS90S DELAY-38822\n",
      "\n"
     ]
    },
    {
     "name": "stderr",
     "output_type": "stream",
     "text": [
      "Loading through DICOM files: 100%|███████████████████████████████████████████████████████| 2/2 [00:52<00:00, 26.29s/it]\n",
      "Loading through DICOM files:   0%|                                                               | 0/2 [00:00<?, ?it/s]"
     ]
    },
    {
     "name": "stdout",
     "output_type": "stream",
     "text": [
      "Loading from input\\HNSCC-01-0431\\09-13-2009-NA-CT MAXILLOFACIAL AREA-91027\\2.000000-CONTRAST120CC3CCS90S DELAY-13257\n",
      "Loading from input\\HNSCC-01-0431\\09-13-2009-NA-CT MAXILLOFACIAL AREA-91027\\1.000000-Series Description-82486\n"
     ]
    },
    {
     "name": "stderr",
     "output_type": "stream",
     "text": [
      "\r",
      "Loading through DICOM files: 100%|███████████████████████████████████████████████████████| 2/2 [00:24<00:00, 12.06s/it]"
     ]
    },
    {
     "name": "stdout",
     "output_type": "stream",
     "text": [
      "Compiling dictionaries together...\n",
      "Index 0, description CONTRAST120CC@3CC/S,90S DELAY  at input\\HNSCC-01-0431\\09-13-2009-NA-CT MAXILLOFACIAL AREA-91027\\2.000000-CONTRAST120CC3CCS90S DELAY-13257\n",
      "1 unique series IDs were found. Default is index 0, to change use set_index(index)\n",
      "Loading images for CONTRAST120CC@3CC/S,90S DELAY  at \n",
      " input\\HNSCC-01-0431\\09-13-2009-NA-CT MAXILLOFACIAL AREA-91027\\2.000000-CONTRAST120CC3CCS90S DELAY-13257\n",
      "\n"
     ]
    },
    {
     "name": "stderr",
     "output_type": "stream",
     "text": [
      "Loading through DICOM files: 100%|███████████████████████████████████████████████████████| 2/2 [01:14<00:00, 37.10s/it]\n",
      "Loading through DICOM files:   0%|                                                               | 0/2 [00:00<?, ?it/s]"
     ]
    },
    {
     "name": "stdout",
     "output_type": "stream",
     "text": [
      "Loading from input\\HNSCC-01-0432\\09-13-2009-NA-CT SOFT TISSUE NECK W-33762\\2.000000-CONTRAST120CC3CCS90S DELAY-70558\n",
      "Loading from input\\HNSCC-01-0432\\09-13-2009-NA-CT SOFT TISSUE NECK W-33762\\1.000000-Series Description-12859\n"
     ]
    },
    {
     "name": "stderr",
     "output_type": "stream",
     "text": [
      "\r",
      "Loading through DICOM files: 100%|███████████████████████████████████████████████████████| 2/2 [00:14<00:00,  7.22s/it]"
     ]
    },
    {
     "name": "stdout",
     "output_type": "stream",
     "text": [
      "Compiling dictionaries together...\n",
      "Index 0, description CONTRAST120CC@3CC/S,90S DELAY  at input\\HNSCC-01-0432\\09-13-2009-NA-CT SOFT TISSUE NECK W-33762\\2.000000-CONTRAST120CC3CCS90S DELAY-70558\n",
      "1 unique series IDs were found. Default is index 0, to change use set_index(index)\n",
      "Loading images for CONTRAST120CC@3CC/S,90S DELAY  at \n",
      " input\\HNSCC-01-0432\\09-13-2009-NA-CT SOFT TISSUE NECK W-33762\\2.000000-CONTRAST120CC3CCS90S DELAY-70558\n",
      "\n"
     ]
    },
    {
     "name": "stderr",
     "output_type": "stream",
     "text": [
      "Loading through DICOM files: 100%|███████████████████████████████████████████████████████| 2/2 [00:48<00:00, 24.17s/it]\n",
      "Loading through DICOM files:   0%|                                                               | 0/2 [00:00<?, ?it/s]"
     ]
    },
    {
     "name": "stdout",
     "output_type": "stream",
     "text": [
      "Loading from input\\HNSCC-01-0433\\09-13-2009-NA-CT SOFT TISSUE NECK W-04269\\1.000000-Series Description-82240\n",
      "Loading from input\\HNSCC-01-0433\\09-13-2009-NA-CT SOFT TISSUE NECK W-04269\\2.000000-CONTRAST120CC3CCS90S DELAY-06694\n"
     ]
    },
    {
     "name": "stderr",
     "output_type": "stream",
     "text": [
      "\r",
      "Loading through DICOM files: 100%|███████████████████████████████████████████████████████| 2/2 [00:14<00:00,  7.08s/it]"
     ]
    },
    {
     "name": "stdout",
     "output_type": "stream",
     "text": [
      "Compiling dictionaries together...\n",
      "Index 0, description CONTRAST120CC@3CC/S,90S DELAY  at input\\HNSCC-01-0433\\09-13-2009-NA-CT SOFT TISSUE NECK W-04269\\2.000000-CONTRAST120CC3CCS90S DELAY-06694\n",
      "1 unique series IDs were found. Default is index 0, to change use set_index(index)\n",
      "Loading images for CONTRAST120CC@3CC/S,90S DELAY  at \n",
      " input\\HNSCC-01-0433\\09-13-2009-NA-CT SOFT TISSUE NECK W-04269\\2.000000-CONTRAST120CC3CCS90S DELAY-06694\n",
      "\n"
     ]
    },
    {
     "name": "stderr",
     "output_type": "stream",
     "text": [
      "Loading through DICOM files: 100%|███████████████████████████████████████████████████████| 2/2 [00:48<00:00, 24.43s/it]\n",
      "Loading through DICOM files:   0%|                                                               | 0/2 [00:00<?, ?it/s]"
     ]
    },
    {
     "name": "stdout",
     "output_type": "stream",
     "text": [
      "Loading from input\\HNSCC-01-0434\\09-13-2009-NA-CT SOFT TISSUE NECK W-36497\\2.000000-CONTRAST120CC3CCS90S DELAY-71878\n",
      "Loading from input\\HNSCC-01-0434\\09-13-2009-NA-CT SOFT TISSUE NECK W-36497\\1.000000-Series Description-56775\n"
     ]
    },
    {
     "name": "stderr",
     "output_type": "stream",
     "text": [
      "\r",
      "Loading through DICOM files: 100%|███████████████████████████████████████████████████████| 2/2 [00:14<00:00,  7.19s/it]"
     ]
    },
    {
     "name": "stdout",
     "output_type": "stream",
     "text": [
      "Compiling dictionaries together...\n",
      "Index 0, description CONTRAST120CC@3CC/S,90S DELAY  at input\\HNSCC-01-0434\\09-13-2009-NA-CT SOFT TISSUE NECK W-36497\\2.000000-CONTRAST120CC3CCS90S DELAY-71878\n",
      "1 unique series IDs were found. Default is index 0, to change use set_index(index)\n",
      "Loading images for CONTRAST120CC@3CC/S,90S DELAY  at \n",
      " input\\HNSCC-01-0434\\09-13-2009-NA-CT SOFT TISSUE NECK W-36497\\2.000000-CONTRAST120CC3CCS90S DELAY-71878\n",
      "\n"
     ]
    },
    {
     "name": "stderr",
     "output_type": "stream",
     "text": [
      "Loading through DICOM files: 100%|███████████████████████████████████████████████████████| 2/2 [00:47<00:00, 23.81s/it]\n",
      "Loading through DICOM files:   0%|                                                               | 0/2 [00:00<?, ?it/s]"
     ]
    },
    {
     "name": "stdout",
     "output_type": "stream",
     "text": [
      "Loading from input\\HNSCC-01-0435\\09-13-2009-NA-CT SOFT TISSUE NECK W-71309\\1.000000-Series Description-34847\n",
      "Loading from input\\HNSCC-01-0435\\09-13-2009-NA-CT SOFT TISSUE NECK W-71309\\2.000000-CANTRAST120CC3CCS90S DELAY-64901\n"
     ]
    },
    {
     "name": "stderr",
     "output_type": "stream",
     "text": [
      "\r",
      "Loading through DICOM files: 100%|███████████████████████████████████████████████████████| 2/2 [00:21<00:00, 10.51s/it]"
     ]
    },
    {
     "name": "stdout",
     "output_type": "stream",
     "text": [
      "Compiling dictionaries together...\n",
      "Index 0, description CANTRAST120CC@3CC/S,90S DELAY  at input\\HNSCC-01-0435\\09-13-2009-NA-CT SOFT TISSUE NECK W-71309\\2.000000-CANTRAST120CC3CCS90S DELAY-64901\n",
      "1 unique series IDs were found. Default is index 0, to change use set_index(index)\n",
      "Loading images for CANTRAST120CC@3CC/S,90S DELAY  at \n",
      " input\\HNSCC-01-0435\\09-13-2009-NA-CT SOFT TISSUE NECK W-71309\\2.000000-CANTRAST120CC3CCS90S DELAY-64901\n",
      "\n"
     ]
    },
    {
     "name": "stderr",
     "output_type": "stream",
     "text": [
      "Loading through DICOM files: 100%|███████████████████████████████████████████████████████| 2/2 [01:04<00:00, 32.20s/it]\n",
      "Loading through DICOM files:   0%|                                                               | 0/2 [00:00<?, ?it/s]"
     ]
    },
    {
     "name": "stdout",
     "output_type": "stream",
     "text": [
      "Loading from input\\HNSCC-01-0436\\09-13-2009-NA-002-69887\\2.000000-CONTRAST120CC3CCS90S DELAY-63752\n",
      "Loading from input\\HNSCC-01-0436\\09-13-2009-NA-002-69887\\1.000000-Series Description-86050\n"
     ]
    },
    {
     "name": "stderr",
     "output_type": "stream",
     "text": [
      "\r",
      "Loading through DICOM files: 100%|███████████████████████████████████████████████████████| 2/2 [00:16<00:00,  8.27s/it]"
     ]
    },
    {
     "name": "stdout",
     "output_type": "stream",
     "text": [
      "Compiling dictionaries together...\n",
      "Index 0, description CONTRAST120CC@3CC/S,90S DELAY  at input\\HNSCC-01-0436\\09-13-2009-NA-002-69887\\2.000000-CONTRAST120CC3CCS90S DELAY-63752\n",
      "1 unique series IDs were found. Default is index 0, to change use set_index(index)\n",
      "Loading images for CONTRAST120CC@3CC/S,90S DELAY  at \n",
      " input\\HNSCC-01-0436\\09-13-2009-NA-002-69887\\2.000000-CONTRAST120CC3CCS90S DELAY-63752\n",
      "\n"
     ]
    },
    {
     "name": "stderr",
     "output_type": "stream",
     "text": [
      "Loading through DICOM files: 100%|███████████████████████████████████████████████████████| 2/2 [00:52<00:00, 26.12s/it]\n",
      "Loading through DICOM files:   0%|                                                               | 0/2 [00:00<?, ?it/s]"
     ]
    },
    {
     "name": "stdout",
     "output_type": "stream",
     "text": [
      "Loading from input\\HNSCC-01-0437\\09-13-2009-NA-OSF CT SFT TISS NECK-43502\\1.000000-Series Description-00592\n",
      "Loading from input\\HNSCC-01-0437\\09-13-2009-NA-OSF CT SFT TISS NECK-43502\\2.000000-NA-17768\n"
     ]
    },
    {
     "name": "stderr",
     "output_type": "stream",
     "text": [
      "\r",
      "Loading through DICOM files: 100%|███████████████████████████████████████████████████████| 2/2 [00:03<00:00,  1.97s/it]"
     ]
    },
    {
     "name": "stdout",
     "output_type": "stream",
     "text": [
      "Compiling dictionaries together...\n",
      "Index 0, description  at input\\HNSCC-01-0437\\09-13-2009-NA-OSF CT SFT TISS NECK-43502\\2.000000-NA-17768\n",
      "1 unique series IDs were found. Default is index 0, to change use set_index(index)\n",
      "Loading images for  at \n",
      " input\\HNSCC-01-0437\\09-13-2009-NA-OSF CT SFT TISS NECK-43502\\2.000000-NA-17768\n",
      "\n"
     ]
    },
    {
     "name": "stderr",
     "output_type": "stream",
     "text": [
      "Loading through DICOM files: 100%|███████████████████████████████████████████████████████| 2/2 [00:14<00:00,  7.05s/it]\n",
      "Loading through DICOM files:  50%|███████████████████████████▌                           | 1/2 [00:00<00:00,  9.26it/s]"
     ]
    },
    {
     "name": "stdout",
     "output_type": "stream",
     "text": [
      "Loading from input\\HNSCC-01-0438\\09-13-2009-NA-CT SOFT TISSUE NECK W-52409\\1.000000-Series Description-76221Loading from input\\HNSCC-01-0438\\09-13-2009-NA-CT SOFT TISSUE NECK W-52409\\2.000000-CONTRAST120CC3CCS90S DELAY-16749\n",
      "\n"
     ]
    },
    {
     "name": "stderr",
     "output_type": "stream",
     "text": [
      "\r",
      "Loading through DICOM files: 100%|███████████████████████████████████████████████████████| 2/2 [00:15<00:00,  9.08s/it]"
     ]
    },
    {
     "name": "stdout",
     "output_type": "stream",
     "text": [
      "Compiling dictionaries together...\n",
      "Index 0, description CONTRAST120CC@3CC/S,90S DELAY  at input\\HNSCC-01-0438\\09-13-2009-NA-CT SOFT TISSUE NECK W-52409\\2.000000-CONTRAST120CC3CCS90S DELAY-16749\n",
      "1 unique series IDs were found. Default is index 0, to change use set_index(index)\n",
      "Loading images for CONTRAST120CC@3CC/S,90S DELAY  at \n",
      " input\\HNSCC-01-0438\\09-13-2009-NA-CT SOFT TISSUE NECK W-52409\\2.000000-CONTRAST120CC3CCS90S DELAY-16749\n",
      "\n"
     ]
    },
    {
     "name": "stderr",
     "output_type": "stream",
     "text": [
      "Loading through DICOM files: 100%|███████████████████████████████████████████████████████| 2/2 [00:51<00:00, 25.85s/it]\n",
      "Loading through DICOM files:   0%|                                                               | 0/2 [00:00<?, ?it/s]"
     ]
    },
    {
     "name": "stdout",
     "output_type": "stream",
     "text": [
      "Loading from input\\HNSCC-01-0439\\09-13-2009-NA-CT MAXILLOFACIAL AREA-74405\\1.000000-Series Description-46299\n",
      "Loading from input\\HNSCC-01-0439\\09-13-2009-NA-CT MAXILLOFACIAL AREA-74405\\2.000000-CONTRAST120CC3CCS90S DELAY-05619\n"
     ]
    },
    {
     "name": "stderr",
     "output_type": "stream",
     "text": [
      "\r",
      "Loading through DICOM files: 100%|███████████████████████████████████████████████████████| 2/2 [00:19<00:00,  9.78s/it]"
     ]
    },
    {
     "name": "stdout",
     "output_type": "stream",
     "text": [
      "Compiling dictionaries together...\n",
      "Index 0, description CONTRAST120CC@3CC/S,90S DELAY  at input\\HNSCC-01-0439\\09-13-2009-NA-CT MAXILLOFACIAL AREA-74405\\2.000000-CONTRAST120CC3CCS90S DELAY-05619\n",
      "1 unique series IDs were found. Default is index 0, to change use set_index(index)\n",
      "Loading images for CONTRAST120CC@3CC/S,90S DELAY  at \n",
      " input\\HNSCC-01-0439\\09-13-2009-NA-CT MAXILLOFACIAL AREA-74405\\2.000000-CONTRAST120CC3CCS90S DELAY-05619\n",
      "\n"
     ]
    },
    {
     "name": "stderr",
     "output_type": "stream",
     "text": [
      "Loading through DICOM files: 100%|███████████████████████████████████████████████████████| 2/2 [01:01<00:00, 30.61s/it]\n",
      "Loading through DICOM files:   0%|                                                               | 0/2 [00:00<?, ?it/s]"
     ]
    },
    {
     "name": "stdout",
     "output_type": "stream",
     "text": [
      "Loading from input\\HNSCC-01-0440\\09-13-2009-NA-002-29961\\1.000000-Series Description-46751\n",
      "Loading from input\\HNSCC-01-0440\\09-13-2009-NA-002-29961\\2.000000-CONTRAST120CC3CCS90S DELAY-73204\n"
     ]
    },
    {
     "name": "stderr",
     "output_type": "stream",
     "text": [
      "\r",
      "Loading through DICOM files: 100%|███████████████████████████████████████████████████████| 2/2 [00:16<00:00,  8.07s/it]"
     ]
    },
    {
     "name": "stdout",
     "output_type": "stream",
     "text": [
      "Compiling dictionaries together...\n",
      "Index 0, description CONTRAST120CC@3CC/S,90S DELAY  at input\\HNSCC-01-0440\\09-13-2009-NA-002-29961\\2.000000-CONTRAST120CC3CCS90S DELAY-73204\n",
      "1 unique series IDs were found. Default is index 0, to change use set_index(index)\n",
      "Loading images for CONTRAST120CC@3CC/S,90S DELAY  at \n",
      " input\\HNSCC-01-0440\\09-13-2009-NA-002-29961\\2.000000-CONTRAST120CC3CCS90S DELAY-73204\n",
      "\n"
     ]
    },
    {
     "name": "stderr",
     "output_type": "stream",
     "text": [
      "Loading through DICOM files: 100%|███████████████████████████████████████████████████████| 2/2 [00:55<00:00, 27.76s/it]\n",
      "Loading through DICOM files:   0%|                                                               | 0/2 [00:00<?, ?it/s]"
     ]
    },
    {
     "name": "stdout",
     "output_type": "stream",
     "text": [
      "Loading from input\\HNSCC-01-0441\\09-13-2009-NA-002-97421\\2.000000-CONTRAST120CC3CCS90S DELAY-64089\n",
      "Loading from input\\HNSCC-01-0441\\09-13-2009-NA-002-97421\\1.000000-Series Description-96958\n"
     ]
    },
    {
     "name": "stderr",
     "output_type": "stream",
     "text": [
      "\r",
      "Loading through DICOM files: 100%|███████████████████████████████████████████████████████| 2/2 [00:20<00:00, 10.25s/it]"
     ]
    },
    {
     "name": "stdout",
     "output_type": "stream",
     "text": [
      "Compiling dictionaries together...\n",
      "Index 0, description CONTRAST120CC@3CC/S,90S DELAY  at input\\HNSCC-01-0441\\09-13-2009-NA-002-97421\\2.000000-CONTRAST120CC3CCS90S DELAY-64089\n",
      "1 unique series IDs were found. Default is index 0, to change use set_index(index)\n",
      "Loading images for CONTRAST120CC@3CC/S,90S DELAY  at \n",
      " input\\HNSCC-01-0441\\09-13-2009-NA-002-97421\\2.000000-CONTRAST120CC3CCS90S DELAY-64089\n",
      "\n"
     ]
    },
    {
     "name": "stderr",
     "output_type": "stream",
     "text": [
      "Loading through DICOM files: 100%|███████████████████████████████████████████████████████| 2/2 [01:08<00:00, 34.17s/it]\n",
      "Loading through DICOM files:   0%|                                                               | 0/2 [00:00<?, ?it/s]"
     ]
    },
    {
     "name": "stdout",
     "output_type": "stream",
     "text": [
      "Loading from input\\HNSCC-01-0442\\09-13-2009-NA-CT SOFT TISSUE NECK W-17556\\1.000000-Series Description-16804\n",
      "Loading from input\\HNSCC-01-0442\\09-13-2009-NA-CT SOFT TISSUE NECK W-17556\\2.000000-CONTRAST120CC3CCS90S DELAY-30285\n"
     ]
    },
    {
     "name": "stderr",
     "output_type": "stream",
     "text": [
      "\r",
      "Loading through DICOM files: 100%|███████████████████████████████████████████████████████| 2/2 [00:12<00:00,  6.15s/it]"
     ]
    },
    {
     "name": "stdout",
     "output_type": "stream",
     "text": [
      "Compiling dictionaries together...\n",
      "Index 0, description CONTRAST120CC@3CC/S,90S DELAY  at input\\HNSCC-01-0442\\09-13-2009-NA-CT SOFT TISSUE NECK W-17556\\2.000000-CONTRAST120CC3CCS90S DELAY-30285\n",
      "1 unique series IDs were found. Default is index 0, to change use set_index(index)\n",
      "Loading images for CONTRAST120CC@3CC/S,90S DELAY  at \n",
      " input\\HNSCC-01-0442\\09-13-2009-NA-CT SOFT TISSUE NECK W-17556\\2.000000-CONTRAST120CC3CCS90S DELAY-30285\n",
      "\n"
     ]
    },
    {
     "name": "stderr",
     "output_type": "stream",
     "text": [
      "Loading through DICOM files: 100%|███████████████████████████████████████████████████████| 2/2 [00:43<00:00, 21.55s/it]\n",
      "Loading through DICOM files:   0%|                                                               | 0/2 [00:00<?, ?it/s]"
     ]
    },
    {
     "name": "stdout",
     "output_type": "stream",
     "text": [
      "Loading from input\\HNSCC-01-0443\\08-10-2008-NA-CT SOFT TISSUE NECK W-58641\\1.000000-Series Description-11158\n",
      "Loading from input\\HNSCC-01-0443\\08-10-2008-NA-CT SOFT TISSUE NECK W-58641\\2.000000-CONTRAST120CC3CCS90S DELAY-47452\n"
     ]
    },
    {
     "name": "stderr",
     "output_type": "stream",
     "text": [
      "\r",
      "Loading through DICOM files: 100%|███████████████████████████████████████████████████████| 2/2 [00:17<00:00,  8.74s/it]"
     ]
    },
    {
     "name": "stdout",
     "output_type": "stream",
     "text": [
      "Compiling dictionaries together...\n",
      "Index 0, description CONTRAST120CC@3CC/S,90S DELAY  at input\\HNSCC-01-0443\\08-10-2008-NA-CT SOFT TISSUE NECK W-58641\\2.000000-CONTRAST120CC3CCS90S DELAY-47452\n",
      "1 unique series IDs were found. Default is index 0, to change use set_index(index)\n",
      "Loading images for CONTRAST120CC@3CC/S,90S DELAY  at \n",
      " input\\HNSCC-01-0443\\08-10-2008-NA-CT SOFT TISSUE NECK W-58641\\2.000000-CONTRAST120CC3CCS90S DELAY-47452\n",
      "\n"
     ]
    },
    {
     "name": "stderr",
     "output_type": "stream",
     "text": [
      "Loading through DICOM files: 100%|███████████████████████████████████████████████████████| 2/2 [01:00<00:00, 30.14s/it]\n",
      "Loading through DICOM files:  50%|███████████████████████████▌                           | 1/2 [00:00<00:00,  9.26it/s]"
     ]
    },
    {
     "name": "stdout",
     "output_type": "stream",
     "text": [
      "Loading from input\\HNSCC-01-0444\\09-13-2009-NA-CT SOFT TISSUE NECK W-08774\\1.000000-Series Description-51496\n",
      "Loading from input\\HNSCC-01-0444\\09-13-2009-NA-CT SOFT TISSUE NECK W-08774\\2.000000-CONTRAST120CC3CCS90S DELAY-67810\n"
     ]
    },
    {
     "name": "stderr",
     "output_type": "stream",
     "text": [
      "\r",
      "Loading through DICOM files: 100%|███████████████████████████████████████████████████████| 2/2 [00:16<00:00,  9.64s/it]"
     ]
    },
    {
     "name": "stdout",
     "output_type": "stream",
     "text": [
      "Compiling dictionaries together...\n",
      "Index 0, description CONTRAST120CC@3CC/S,90S DELAY  at input\\HNSCC-01-0444\\09-13-2009-NA-CT SOFT TISSUE NECK W-08774\\2.000000-CONTRAST120CC3CCS90S DELAY-67810\n",
      "1 unique series IDs were found. Default is index 0, to change use set_index(index)\n",
      "Loading images for CONTRAST120CC@3CC/S,90S DELAY  at \n",
      " input\\HNSCC-01-0444\\09-13-2009-NA-CT SOFT TISSUE NECK W-08774\\2.000000-CONTRAST120CC3CCS90S DELAY-67810\n",
      "\n"
     ]
    },
    {
     "name": "stderr",
     "output_type": "stream",
     "text": [
      "Loading through DICOM files: 100%|███████████████████████████████████████████████████████| 2/2 [00:57<00:00, 28.73s/it]\n",
      "Loading through DICOM files:   0%|                                                               | 0/2 [00:00<?, ?it/s]"
     ]
    },
    {
     "name": "stdout",
     "output_type": "stream",
     "text": [
      "Loading from input\\HNSCC-01-0445\\09-13-2009-NA-001-35693\\1.000000-Series Description-94288\n",
      "Loading from input\\HNSCC-01-0445\\09-13-2009-NA-001-35693\\2.000000-CONTRAST120CC3CCS90S DELAY-86475\n"
     ]
    },
    {
     "name": "stderr",
     "output_type": "stream",
     "text": [
      "\r",
      "Loading through DICOM files: 100%|███████████████████████████████████████████████████████| 2/2 [00:20<00:00, 10.31s/it]"
     ]
    },
    {
     "name": "stdout",
     "output_type": "stream",
     "text": [
      "Compiling dictionaries together...\n",
      "Index 0, description CONTRAST120CC@3CC/S,90S DELAY  at input\\HNSCC-01-0445\\09-13-2009-NA-001-35693\\2.000000-CONTRAST120CC3CCS90S DELAY-86475\n",
      "1 unique series IDs were found. Default is index 0, to change use set_index(index)\n",
      "Loading images for CONTRAST120CC@3CC/S,90S DELAY  at \n",
      " input\\HNSCC-01-0445\\09-13-2009-NA-001-35693\\2.000000-CONTRAST120CC3CCS90S DELAY-86475\n",
      "\n"
     ]
    },
    {
     "name": "stderr",
     "output_type": "stream",
     "text": [
      "Loading through DICOM files: 100%|███████████████████████████████████████████████████████| 2/2 [01:08<00:00, 34.05s/it]\n",
      "Loading through DICOM files:   0%|                                                               | 0/2 [00:00<?, ?it/s]"
     ]
    },
    {
     "name": "stdout",
     "output_type": "stream",
     "text": [
      "Loading from input\\HNSCC-01-0446\\09-13-2009-NA-OSF CT SFT TISS NECK-80246\\3.000000-STN WITH CONTRAST-12892\n",
      "Loading from input\\HNSCC-01-0446\\09-13-2009-NA-OSF CT SFT TISS NECK-80246\\1.000000-Series Description-08836\n"
     ]
    },
    {
     "name": "stderr",
     "output_type": "stream",
     "text": [
      "\r",
      "Loading through DICOM files: 100%|███████████████████████████████████████████████████████| 2/2 [00:06<00:00,  3.16s/it]"
     ]
    },
    {
     "name": "stdout",
     "output_type": "stream",
     "text": [
      "Compiling dictionaries together...\n",
      "Index 0, description STN WITH CONTRAST  at input\\HNSCC-01-0446\\09-13-2009-NA-OSF CT SFT TISS NECK-80246\\3.000000-STN WITH CONTRAST-12892\n",
      "1 unique series IDs were found. Default is index 0, to change use set_index(index)\n",
      "Loading images for STN WITH CONTRAST  at \n",
      " input\\HNSCC-01-0446\\09-13-2009-NA-OSF CT SFT TISS NECK-80246\\3.000000-STN WITH CONTRAST-12892\n",
      "\n"
     ]
    },
    {
     "name": "stderr",
     "output_type": "stream",
     "text": [
      "\n",
      "Loading through DICOM files:   0%|                                                               | 0/2 [00:00<?, ?it/s]\u001b[A\n",
      "Loading through DICOM files:  50%|███████████████████████████▌                           | 1/2 [00:00<00:00,  8.20it/s]\u001b[A"
     ]
    },
    {
     "name": "stdout",
     "output_type": "stream",
     "text": [
      "Loading from input\\HNSCC-01-0447\\09-13-2009-NA-CT SOFT TISSUE NECK W-91458\\1.000000-Series Description-05244\n",
      "Loading from input\\HNSCC-01-0447\\09-13-2009-NA-CT SOFT TISSUE NECK W-91458\\2.000000-CONTRAST120CC3CCS90S DELAY-23380\n"
     ]
    },
    {
     "name": "stderr",
     "output_type": "stream",
     "text": [
      "\n",
      "Loading through DICOM files: 100%|███████████████████████████████████████████████████████| 2/2 [00:15<00:00,  9.38s/it]\u001b[A"
     ]
    },
    {
     "name": "stdout",
     "output_type": "stream",
     "text": [
      "Compiling dictionaries together...\n",
      "Index 0, description CONTRAST120CC@3CC/S,90S DELAY  at input\\HNSCC-01-0447\\09-13-2009-NA-CT SOFT TISSUE NECK W-91458\\2.000000-CONTRAST120CC3CCS90S DELAY-23380\n",
      "1 unique series IDs were found. Default is index 0, to change use set_index(index)\n",
      "Loading images for CONTRAST120CC@3CC/S,90S DELAY  at \n",
      " input\\HNSCC-01-0447\\09-13-2009-NA-CT SOFT TISSUE NECK W-91458\\2.000000-CONTRAST120CC3CCS90S DELAY-23380\n",
      "\n"
     ]
    },
    {
     "name": "stderr",
     "output_type": "stream",
     "text": [
      "Loading through DICOM files: 100%|███████████████████████████████████████████████████████| 2/2 [01:21<00:00, 40.71s/it]\n",
      "Loading through DICOM files: 100%|███████████████████████████████████████████████████████| 2/2 [00:55<00:00, 27.52s/it]\n",
      "Loading through DICOM files:   0%|                                                               | 0/2 [00:00<?, ?it/s]"
     ]
    },
    {
     "name": "stdout",
     "output_type": "stream",
     "text": [
      "Loading from input\\HNSCC-01-0448\\09-13-2009-NA-CT SOFT TISSUE NECK W-26033\\4.000000-CONTRAST120CC3CCS90S DELAY-60526\n",
      "Loading from input\\HNSCC-01-0448\\09-13-2009-NA-CT SOFT TISSUE NECK W-26033\\1.000000-Series Description-40278\n"
     ]
    },
    {
     "name": "stderr",
     "output_type": "stream",
     "text": [
      "\r",
      "Loading through DICOM files: 100%|███████████████████████████████████████████████████████| 2/2 [00:16<00:00,  8.39s/it]"
     ]
    },
    {
     "name": "stdout",
     "output_type": "stream",
     "text": [
      "Compiling dictionaries together...\n",
      "Index 0, description CONTRAST120CC@3CC/S,90S DELAY  at input\\HNSCC-01-0448\\09-13-2009-NA-CT SOFT TISSUE NECK W-26033\\4.000000-CONTRAST120CC3CCS90S DELAY-60526\n",
      "1 unique series IDs were found. Default is index 0, to change use set_index(index)\n",
      "Loading images for CONTRAST120CC@3CC/S,90S DELAY  at \n",
      " input\\HNSCC-01-0448\\09-13-2009-NA-CT SOFT TISSUE NECK W-26033\\4.000000-CONTRAST120CC3CCS90S DELAY-60526\n",
      "\n"
     ]
    },
    {
     "name": "stderr",
     "output_type": "stream",
     "text": [
      "Loading through DICOM files: 100%|███████████████████████████████████████████████████████| 2/2 [00:54<00:00, 27.10s/it]\n",
      "Loading through DICOM files:   0%|                                                               | 0/2 [00:00<?, ?it/s]"
     ]
    },
    {
     "name": "stdout",
     "output_type": "stream",
     "text": [
      "Loading from input\\HNSCC-01-0449\\09-13-2009-NA-002-43976\\1.000000-Series Description-76406\n",
      "Loading from input\\HNSCC-01-0449\\09-13-2009-NA-002-43976\\2.000000-CONTRAST120CC3CCS90S DELAY-89628\n"
     ]
    },
    {
     "name": "stderr",
     "output_type": "stream",
     "text": [
      "\r",
      "Loading through DICOM files: 100%|███████████████████████████████████████████████████████| 2/2 [00:15<00:00,  7.73s/it]"
     ]
    },
    {
     "name": "stdout",
     "output_type": "stream",
     "text": [
      "Compiling dictionaries together...\n",
      "Index 0, description CONTRAST120CC@3CC/S,90S DELAY  at input\\HNSCC-01-0449\\09-13-2009-NA-002-43976\\2.000000-CONTRAST120CC3CCS90S DELAY-89628\n",
      "1 unique series IDs were found. Default is index 0, to change use set_index(index)\n",
      "Loading images for CONTRAST120CC@3CC/S,90S DELAY  at \n",
      " input\\HNSCC-01-0449\\09-13-2009-NA-002-43976\\2.000000-CONTRAST120CC3CCS90S DELAY-89628\n",
      "\n"
     ]
    },
    {
     "name": "stderr",
     "output_type": "stream",
     "text": [
      "Loading through DICOM files: 100%|███████████████████████████████████████████████████████| 2/2 [00:52<00:00, 26.27s/it]\n",
      "Loading through DICOM files:   0%|                                                               | 0/2 [00:00<?, ?it/s]"
     ]
    },
    {
     "name": "stdout",
     "output_type": "stream",
     "text": [
      "Loading from input\\HNSCC-01-0450\\09-13-2009-NA-002-18287\\1.000000-Series Description-93681\n",
      "Loading from input\\HNSCC-01-0450\\09-13-2009-NA-002-18287\\2.000000-CONTRAST120CC3CCS90S DELAY-06426\n"
     ]
    },
    {
     "name": "stderr",
     "output_type": "stream",
     "text": [
      "\r",
      "Loading through DICOM files: 100%|███████████████████████████████████████████████████████| 2/2 [00:13<00:00,  6.65s/it]"
     ]
    },
    {
     "name": "stdout",
     "output_type": "stream",
     "text": [
      "Compiling dictionaries together...\n",
      "Index 0, description CONTRAST120CC@3CC/S,90S DELAY  at input\\HNSCC-01-0450\\09-13-2009-NA-002-18287\\2.000000-CONTRAST120CC3CCS90S DELAY-06426\n",
      "1 unique series IDs were found. Default is index 0, to change use set_index(index)\n",
      "Loading images for CONTRAST120CC@3CC/S,90S DELAY  at \n",
      " input\\HNSCC-01-0450\\09-13-2009-NA-002-18287\\2.000000-CONTRAST120CC3CCS90S DELAY-06426\n",
      "\n"
     ]
    },
    {
     "name": "stderr",
     "output_type": "stream",
     "text": [
      "Loading through DICOM files: 100%|███████████████████████████████████████████████████████| 2/2 [00:45<00:00, 22.96s/it]\n",
      "Loading through DICOM files:   0%|                                                               | 0/2 [00:00<?, ?it/s]"
     ]
    },
    {
     "name": "stdout",
     "output_type": "stream",
     "text": [
      "Loading from input\\HNSCC-01-0451\\09-13-2009-NA-OSF CT SFT TISS NECK-76154\\1.000000-Series Description-00529\n",
      "Loading from input\\HNSCC-01-0451\\09-13-2009-NA-OSF CT SFT TISS NECK-76154\\7261.000000-NA-30890\n"
     ]
    },
    {
     "name": "stderr",
     "output_type": "stream",
     "text": [
      "\r",
      "Loading through DICOM files: 100%|███████████████████████████████████████████████████████| 2/2 [00:06<00:00,  3.35s/it]"
     ]
    },
    {
     "name": "stdout",
     "output_type": "stream",
     "text": [
      "Compiling dictionaries together...\n",
      "Index 0, description  at input\\HNSCC-01-0451\\09-13-2009-NA-OSF CT SFT TISS NECK-76154\\7261.000000-NA-30890\n",
      "1 unique series IDs were found. Default is index 0, to change use set_index(index)\n",
      "Loading images for  at \n",
      " input\\HNSCC-01-0451\\09-13-2009-NA-OSF CT SFT TISS NECK-76154\\7261.000000-NA-30890\n",
      "\n"
     ]
    },
    {
     "name": "stderr",
     "output_type": "stream",
     "text": [
      "Loading through DICOM files: 100%|███████████████████████████████████████████████████████| 2/2 [00:24<00:00, 12.29s/it]\n",
      "Loading through DICOM files:   0%|                                                               | 0/2 [00:00<?, ?it/s]"
     ]
    },
    {
     "name": "stdout",
     "output_type": "stream",
     "text": [
      "Loading from input\\HNSCC-01-0452\\09-13-2009-NA-CT SOFT TISSUE NECK W-17253\\2.000000-CONTRAST120CC3CCS90S DELAY-05901Loading from input\\HNSCC-01-0452\\09-13-2009-NA-CT SOFT TISSUE NECK W-17253\\1.000000-Series Description-21693\n",
      "\n"
     ]
    },
    {
     "name": "stderr",
     "output_type": "stream",
     "text": [
      "\r",
      "Loading through DICOM files: 100%|███████████████████████████████████████████████████████| 2/2 [00:14<00:00,  7.36s/it]"
     ]
    },
    {
     "name": "stdout",
     "output_type": "stream",
     "text": [
      "Compiling dictionaries together...\n",
      "Index 0, description CONTRAST120CC@3CC/S,90S DELAY  at input\\HNSCC-01-0452\\09-13-2009-NA-CT SOFT TISSUE NECK W-17253\\2.000000-CONTRAST120CC3CCS90S DELAY-05901\n",
      "1 unique series IDs were found. Default is index 0, to change use set_index(index)\n",
      "Loading images for CONTRAST120CC@3CC/S,90S DELAY  at \n",
      " input\\HNSCC-01-0452\\09-13-2009-NA-CT SOFT TISSUE NECK W-17253\\2.000000-CONTRAST120CC3CCS90S DELAY-05901\n",
      "\n"
     ]
    },
    {
     "name": "stderr",
     "output_type": "stream",
     "text": [
      "Loading through DICOM files: 100%|███████████████████████████████████████████████████████| 2/2 [00:51<00:00, 25.72s/it]\n",
      "Loading through DICOM files:   0%|                                                               | 0/2 [00:00<?, ?it/s]"
     ]
    },
    {
     "name": "stdout",
     "output_type": "stream",
     "text": [
      "Loading from input\\HNSCC-01-0453\\09-13-2009-NA-002-51408\\1.000000-Series Description-35066\n",
      "Loading from input\\HNSCC-01-0453\\09-13-2009-NA-002-51408\\2.000000-CONTRAST120CC3CCS90S DELAY-26994\n"
     ]
    },
    {
     "name": "stderr",
     "output_type": "stream",
     "text": [
      "\r",
      "Loading through DICOM files: 100%|███████████████████████████████████████████████████████| 2/2 [00:11<00:00,  5.74s/it]"
     ]
    },
    {
     "name": "stdout",
     "output_type": "stream",
     "text": [
      "Compiling dictionaries together...\n",
      "Index 0, description CONTRAST120CC@3CC/S,90S DELAY  at input\\HNSCC-01-0453\\09-13-2009-NA-002-51408\\2.000000-CONTRAST120CC3CCS90S DELAY-26994\n",
      "1 unique series IDs were found. Default is index 0, to change use set_index(index)\n",
      "Loading images for CONTRAST120CC@3CC/S,90S DELAY  at \n",
      " input\\HNSCC-01-0453\\09-13-2009-NA-002-51408\\2.000000-CONTRAST120CC3CCS90S DELAY-26994\n",
      "\n"
     ]
    },
    {
     "name": "stderr",
     "output_type": "stream",
     "text": [
      "Loading through DICOM files: 100%|███████████████████████████████████████████████████████| 2/2 [00:39<00:00, 19.57s/it]\n",
      "Loading through DICOM files:   0%|                                                               | 0/1 [00:00<?, ?it/s]"
     ]
    },
    {
     "name": "stdout",
     "output_type": "stream",
     "text": [
      "Loading from input\\HNSCC-01-0454\\09-13-2009-NA-CT SOFT TISSUE NECK W-54757\\2.000000-CONTRAST120CC3CCS90S DELAY-89703\n"
     ]
    },
    {
     "name": "stderr",
     "output_type": "stream",
     "text": [
      "\r",
      "Loading through DICOM files: 100%|███████████████████████████████████████████████████████| 1/1 [00:14<00:00, 14.55s/it]"
     ]
    },
    {
     "name": "stdout",
     "output_type": "stream",
     "text": [
      "Compiling dictionaries together...\n",
      "Index 0, description CONTRAST120CC@3CC/S,90S DELAY  at input\\HNSCC-01-0454\\09-13-2009-NA-CT SOFT TISSUE NECK W-54757\\2.000000-CONTRAST120CC3CCS90S DELAY-89703\n",
      "1 unique series IDs were found. Default is index 0, to change use set_index(index)\n",
      "Loading images for CONTRAST120CC@3CC/S,90S DELAY  at \n",
      " input\\HNSCC-01-0454\\09-13-2009-NA-CT SOFT TISSUE NECK W-54757\\2.000000-CONTRAST120CC3CCS90S DELAY-89703\n",
      "\n"
     ]
    },
    {
     "name": "stderr",
     "output_type": "stream",
     "text": [
      "Loading through DICOM files: 100%|███████████████████████████████████████████████████████| 1/1 [00:49<00:00, 49.42s/it]\n",
      "Loading through DICOM files:  50%|███████████████████████████▌                           | 1/2 [00:00<00:00,  9.62it/s]"
     ]
    },
    {
     "name": "stdout",
     "output_type": "stream",
     "text": [
      "Loading from input\\HNSCC-01-0455\\09-13-2009-NA-CT SOFT TISSUE NECK W-00939\\1.000000-Series Description-25600\n",
      "Loading from input\\HNSCC-01-0455\\09-13-2009-NA-CT SOFT TISSUE NECK W-00939\\2.000000-CONTRAST120CC3CCS90S DELAY-48251\n"
     ]
    },
    {
     "name": "stderr",
     "output_type": "stream",
     "text": [
      "\r",
      "Loading through DICOM files: 100%|███████████████████████████████████████████████████████| 2/2 [00:14<00:00,  8.36s/it]"
     ]
    },
    {
     "name": "stdout",
     "output_type": "stream",
     "text": [
      "Compiling dictionaries together...\n",
      "Index 0, description CONTRAST120CC@3CC/S,90S DELAY  at input\\HNSCC-01-0455\\09-13-2009-NA-CT SOFT TISSUE NECK W-00939\\2.000000-CONTRAST120CC3CCS90S DELAY-48251\n",
      "1 unique series IDs were found. Default is index 0, to change use set_index(index)\n",
      "Loading images for CONTRAST120CC@3CC/S,90S DELAY  at \n",
      " input\\HNSCC-01-0455\\09-13-2009-NA-CT SOFT TISSUE NECK W-00939\\2.000000-CONTRAST120CC3CCS90S DELAY-48251\n",
      "\n"
     ]
    },
    {
     "name": "stderr",
     "output_type": "stream",
     "text": [
      "Loading through DICOM files: 100%|███████████████████████████████████████████████████████| 2/2 [00:50<00:00, 25.13s/it]\n",
      "Loading through DICOM files:   0%|                                                               | 0/1 [00:00<?, ?it/s]"
     ]
    },
    {
     "name": "stdout",
     "output_type": "stream",
     "text": [
      "Loading from input\\HNSCC-01-0456\\09-13-2009-NA-CT MAXILLOFACIAL AREA-42834\\2.000000-CONTRAST120CC3CCS90S DELAY-76511\n"
     ]
    },
    {
     "name": "stderr",
     "output_type": "stream",
     "text": [
      "\r",
      "Loading through DICOM files: 100%|███████████████████████████████████████████████████████| 1/1 [00:18<00:00, 18.56s/it]"
     ]
    },
    {
     "name": "stdout",
     "output_type": "stream",
     "text": [
      "Compiling dictionaries together...\n",
      "Index 0, description CONTRAST120CC@3CC/S,90S DELAY  at input\\HNSCC-01-0456\\09-13-2009-NA-CT MAXILLOFACIAL AREA-42834\\2.000000-CONTRAST120CC3CCS90S DELAY-76511\n",
      "1 unique series IDs were found. Default is index 0, to change use set_index(index)\n",
      "Loading images for CONTRAST120CC@3CC/S,90S DELAY  at \n",
      " input\\HNSCC-01-0456\\09-13-2009-NA-CT MAXILLOFACIAL AREA-42834\\2.000000-CONTRAST120CC3CCS90S DELAY-76511\n",
      "\n"
     ]
    },
    {
     "name": "stderr",
     "output_type": "stream",
     "text": [
      "Loading through DICOM files: 100%|███████████████████████████████████████████████████████| 1/1 [01:03<00:00, 63.13s/it]\n",
      "Loading through DICOM files:   0%|                                                               | 0/2 [00:00<?, ?it/s]"
     ]
    },
    {
     "name": "stdout",
     "output_type": "stream",
     "text": [
      "Loading from input\\HNSCC-01-0457\\09-13-2009-NA-CT SOFT TISSUE NECK W-66988\\1.000000-Series Description-27721\n",
      "Loading from input\\HNSCC-01-0457\\09-13-2009-NA-CT SOFT TISSUE NECK W-66988\\2.000000-CONTRAST120CC3CCS90S DELAY-92715\n"
     ]
    },
    {
     "name": "stderr",
     "output_type": "stream",
     "text": [
      "\r",
      "Loading through DICOM files: 100%|███████████████████████████████████████████████████████| 2/2 [00:13<00:00,  6.66s/it]"
     ]
    },
    {
     "name": "stdout",
     "output_type": "stream",
     "text": [
      "Compiling dictionaries together...\n",
      "Index 0, description CONTRAST120CC@3CC/S,90S DELAY  at input\\HNSCC-01-0457\\09-13-2009-NA-CT SOFT TISSUE NECK W-66988\\2.000000-CONTRAST120CC3CCS90S DELAY-92715\n",
      "1 unique series IDs were found. Default is index 0, to change use set_index(index)\n",
      "Loading images for CONTRAST120CC@3CC/S,90S DELAY  at \n",
      " input\\HNSCC-01-0457\\09-13-2009-NA-CT SOFT TISSUE NECK W-66988\\2.000000-CONTRAST120CC3CCS90S DELAY-92715\n",
      "\n"
     ]
    },
    {
     "name": "stderr",
     "output_type": "stream",
     "text": [
      "Loading through DICOM files: 100%|███████████████████████████████████████████████████████| 2/2 [00:46<00:00, 23.34s/it]\n",
      "Loading through DICOM files:   0%|                                                               | 0/2 [00:00<?, ?it/s]"
     ]
    },
    {
     "name": "stdout",
     "output_type": "stream",
     "text": [
      "Loading from input\\HNSCC-01-0459\\09-13-2009-NA-020-33565\\2.000000-CONTRAST120CC3CCS90S DELAY-23867\n",
      "Loading from input\\HNSCC-01-0459\\09-13-2009-NA-020-33565\\1.000000-Series Description-35215\n"
     ]
    },
    {
     "name": "stderr",
     "output_type": "stream",
     "text": [
      "\r",
      "Loading through DICOM files: 100%|███████████████████████████████████████████████████████| 2/2 [00:05<00:00,  2.68s/it]"
     ]
    },
    {
     "name": "stdout",
     "output_type": "stream",
     "text": [
      "Compiling dictionaries together...\n",
      "Index 0, description CONTRAST120CC@3CC/S,90S DELAY  at input\\HNSCC-01-0459\\09-13-2009-NA-020-33565\\2.000000-CONTRAST120CC3CCS90S DELAY-23867\n",
      "1 unique series IDs were found. Default is index 0, to change use set_index(index)\n",
      "Loading images for CONTRAST120CC@3CC/S,90S DELAY  at \n",
      " input\\HNSCC-01-0459\\09-13-2009-NA-020-33565\\2.000000-CONTRAST120CC3CCS90S DELAY-23867\n",
      "\n"
     ]
    },
    {
     "name": "stderr",
     "output_type": "stream",
     "text": [
      "Loading through DICOM files: 100%|███████████████████████████████████████████████████████| 2/2 [00:17<00:00,  8.56s/it]\n",
      "Loading through DICOM files:   0%|                                                               | 0/2 [00:00<?, ?it/s]"
     ]
    },
    {
     "name": "stdout",
     "output_type": "stream",
     "text": [
      "Loading from input\\HNSCC-01-0460\\09-13-2009-NA-CT SOFT TISSUE NECK W-37141\\1.000000-Series Description-65540\n",
      "Loading from input\\HNSCC-01-0460\\09-13-2009-NA-CT SOFT TISSUE NECK W-37141\\2.000000-CONTRAST120CC3CCS90S DELAY-12863\n"
     ]
    },
    {
     "name": "stderr",
     "output_type": "stream",
     "text": [
      "\r",
      "Loading through DICOM files: 100%|███████████████████████████████████████████████████████| 2/2 [00:13<00:00,  6.88s/it]"
     ]
    },
    {
     "name": "stdout",
     "output_type": "stream",
     "text": [
      "Compiling dictionaries together...\n",
      "Index 0, description CONTRAST120CC@3CC/S,90S DELAY  at input\\HNSCC-01-0460\\09-13-2009-NA-CT SOFT TISSUE NECK W-37141\\2.000000-CONTRAST120CC3CCS90S DELAY-12863\n",
      "1 unique series IDs were found. Default is index 0, to change use set_index(index)\n",
      "Loading images for CONTRAST120CC@3CC/S,90S DELAY  at \n",
      " input\\HNSCC-01-0460\\09-13-2009-NA-CT SOFT TISSUE NECK W-37141\\2.000000-CONTRAST120CC3CCS90S DELAY-12863\n",
      "\n"
     ]
    },
    {
     "name": "stderr",
     "output_type": "stream",
     "text": [
      "Loading through DICOM files: 100%|███████████████████████████████████████████████████████| 2/2 [00:46<00:00, 23.25s/it]\n",
      "Loading through DICOM files:   0%|                                                               | 0/1 [00:00<?, ?it/s]"
     ]
    },
    {
     "name": "stdout",
     "output_type": "stream",
     "text": [
      "Loading from input\\HNSCC-01-0461\\09-13-2009-NA-OSF CT SFT TISS NECK-48685\\2.000000-NeckRoutine  3.0  B30s-33880\n"
     ]
    },
    {
     "name": "stderr",
     "output_type": "stream",
     "text": [
      "\r",
      "Loading through DICOM files: 100%|███████████████████████████████████████████████████████| 1/1 [00:04<00:00,  4.83s/it]"
     ]
    },
    {
     "name": "stdout",
     "output_type": "stream",
     "text": [
      "Compiling dictionaries together...\n",
      "Index 0, description NeckRoutine  3.0  B30s at input\\HNSCC-01-0461\\09-13-2009-NA-OSF CT SFT TISS NECK-48685\\2.000000-NeckRoutine  3.0  B30s-33880\n",
      "1 unique series IDs were found. Default is index 0, to change use set_index(index)\n",
      "Loading images for NeckRoutine  3.0  B30s at \n",
      " input\\HNSCC-01-0461\\09-13-2009-NA-OSF CT SFT TISS NECK-48685\\2.000000-NeckRoutine  3.0  B30s-33880\n",
      "\n"
     ]
    },
    {
     "name": "stderr",
     "output_type": "stream",
     "text": [
      "Loading through DICOM files: 100%|███████████████████████████████████████████████████████| 1/1 [00:16<00:00, 16.65s/it]\n",
      "Loading through DICOM files:   0%|                                                               | 0/2 [00:00<?, ?it/s]"
     ]
    },
    {
     "name": "stdout",
     "output_type": "stream",
     "text": [
      "Loading from input\\HNSCC-01-0462\\09-13-2009-NA-CT SOFT TISSUE NECK W-61532\\1.000000-Series Description-31105\n",
      "Loading from input\\HNSCC-01-0462\\09-13-2009-NA-CT SOFT TISSUE NECK W-61532\\2.000000-CONTRAST120CC3CCS90S DELAY-66548\n"
     ]
    },
    {
     "name": "stderr",
     "output_type": "stream",
     "text": [
      "\r",
      "Loading through DICOM files: 100%|███████████████████████████████████████████████████████| 2/2 [00:18<00:00,  9.02s/it]"
     ]
    },
    {
     "name": "stdout",
     "output_type": "stream",
     "text": [
      "Compiling dictionaries together...\n",
      "Index 0, description CONTRAST120CC@3CC/S,90S DELAY  at input\\HNSCC-01-0462\\09-13-2009-NA-CT SOFT TISSUE NECK W-61532\\2.000000-CONTRAST120CC3CCS90S DELAY-66548\n",
      "1 unique series IDs were found. Default is index 0, to change use set_index(index)\n",
      "Loading images for CONTRAST120CC@3CC/S,90S DELAY  at \n",
      " input\\HNSCC-01-0462\\09-13-2009-NA-CT SOFT TISSUE NECK W-61532\\2.000000-CONTRAST120CC3CCS90S DELAY-66548\n",
      "\n"
     ]
    },
    {
     "name": "stderr",
     "output_type": "stream",
     "text": [
      "Loading through DICOM files: 100%|███████████████████████████████████████████████████████| 2/2 [01:04<00:00, 32.41s/it]\n",
      "Loading through DICOM files:   0%|                                                               | 0/2 [00:00<?, ?it/s]"
     ]
    },
    {
     "name": "stdout",
     "output_type": "stream",
     "text": [
      "Loading from input\\HNSCC-01-0463\\09-13-2009-NA-002-88413\\1.000000-Series Description-49957\n",
      "Loading from input\\HNSCC-01-0463\\09-13-2009-NA-002-88413\\2.000000-CONTRAST120CC3CCS90S DELAY-80609\n"
     ]
    },
    {
     "name": "stderr",
     "output_type": "stream",
     "text": [
      "\r",
      "Loading through DICOM files: 100%|███████████████████████████████████████████████████████| 2/2 [00:20<00:00, 10.42s/it]"
     ]
    },
    {
     "name": "stdout",
     "output_type": "stream",
     "text": [
      "Compiling dictionaries together...\n",
      "Index 0, description CONTRAST120CC@3CC/S,90S DELAY  at input\\HNSCC-01-0463\\09-13-2009-NA-002-88413\\2.000000-CONTRAST120CC3CCS90S DELAY-80609\n",
      "1 unique series IDs were found. Default is index 0, to change use set_index(index)\n",
      "Loading images for CONTRAST120CC@3CC/S,90S DELAY  at \n",
      " input\\HNSCC-01-0463\\09-13-2009-NA-002-88413\\2.000000-CONTRAST120CC3CCS90S DELAY-80609\n",
      "\n"
     ]
    },
    {
     "name": "stderr",
     "output_type": "stream",
     "text": [
      "Loading through DICOM files: 100%|███████████████████████████████████████████████████████| 2/2 [01:04<00:00, 32.48s/it]\n",
      "Loading through DICOM files:   0%|                                                               | 0/2 [00:00<?, ?it/s]"
     ]
    },
    {
     "name": "stdout",
     "output_type": "stream",
     "text": [
      "Loading from input\\HNSCC-01-0464\\09-13-2009-NA-005-25858\\2.000000-Neck 3.0  CE  Standard-85954\n",
      "Loading from input\\HNSCC-01-0464\\09-13-2009-NA-005-25858\\1.000000-Series Description-74119\n"
     ]
    },
    {
     "name": "stderr",
     "output_type": "stream",
     "text": [
      "\r",
      "Loading through DICOM files: 100%|███████████████████████████████████████████████████████| 2/2 [00:06<00:00,  3.43s/it]"
     ]
    },
    {
     "name": "stdout",
     "output_type": "stream",
     "text": [
      "Compiling dictionaries together...\n",
      "Index 0, description Neck 3.0  CE  Standard at input\\HNSCC-01-0464\\09-13-2009-NA-005-25858\\2.000000-Neck 3.0  CE  Standard-85954\n",
      "1 unique series IDs were found. Default is index 0, to change use set_index(index)\n",
      "Loading images for Neck 3.0  CE  Standard at \n",
      " input\\HNSCC-01-0464\\09-13-2009-NA-005-25858\\2.000000-Neck 3.0  CE  Standard-85954\n",
      "\n"
     ]
    },
    {
     "name": "stderr",
     "output_type": "stream",
     "text": [
      "Loading through DICOM files: 100%|███████████████████████████████████████████████████████| 2/2 [00:23<00:00, 11.96s/it]\n",
      "Loading through DICOM files:  50%|███████████████████████████▌                           | 1/2 [00:00<00:00,  8.85it/s]"
     ]
    },
    {
     "name": "stdout",
     "output_type": "stream",
     "text": [
      "Loading from input\\HNSCC-01-0465\\09-13-2009-NA-CT SOFT TISSUE NECK W-80067\\2.000000-CONTRAST120CC3CCS90S DELAY-03649\n",
      "Loading from input\\HNSCC-01-0465\\09-13-2009-NA-CT SOFT TISSUE NECK W-80067\\1.000000-Series Description-24222\n"
     ]
    },
    {
     "name": "stderr",
     "output_type": "stream",
     "text": [
      "\r",
      "Loading through DICOM files: 100%|███████████████████████████████████████████████████████| 2/2 [00:14<00:00,  8.78s/it]"
     ]
    },
    {
     "name": "stdout",
     "output_type": "stream",
     "text": [
      "Compiling dictionaries together...\n",
      "Index 0, description CONTRAST120CC@3CC/S,90S DELAY  at input\\HNSCC-01-0465\\09-13-2009-NA-CT SOFT TISSUE NECK W-80067\\2.000000-CONTRAST120CC3CCS90S DELAY-03649\n",
      "1 unique series IDs were found. Default is index 0, to change use set_index(index)\n",
      "Loading images for CONTRAST120CC@3CC/S,90S DELAY  at \n",
      " input\\HNSCC-01-0465\\09-13-2009-NA-CT SOFT TISSUE NECK W-80067\\2.000000-CONTRAST120CC3CCS90S DELAY-03649\n",
      "\n"
     ]
    },
    {
     "name": "stderr",
     "output_type": "stream",
     "text": [
      "Loading through DICOM files: 100%|███████████████████████████████████████████████████████| 2/2 [00:52<00:00, 26.32s/it]\n",
      "Loading through DICOM files:   0%|                                                               | 0/2 [00:00<?, ?it/s]"
     ]
    },
    {
     "name": "stdout",
     "output_type": "stream",
     "text": [
      "Loading from input\\HNSCC-01-0466\\09-13-2009-NA-CT SOFT TISSUE NECK W-99435\\2.000000-CONTRAST120CC3CCS90S DELAY-44812\n",
      "Loading from input\\HNSCC-01-0466\\09-13-2009-NA-CT SOFT TISSUE NECK W-99435\\1.000000-Series Description-03903\n"
     ]
    },
    {
     "name": "stderr",
     "output_type": "stream",
     "text": [
      "\r",
      "Loading through DICOM files: 100%|███████████████████████████████████████████████████████| 2/2 [00:14<00:00,  7.14s/it]"
     ]
    },
    {
     "name": "stdout",
     "output_type": "stream",
     "text": [
      "Compiling dictionaries together...\n",
      "Index 0, description CONTRAST120CC@3CC/S,90S DELAY  at input\\HNSCC-01-0466\\09-13-2009-NA-CT SOFT TISSUE NECK W-99435\\2.000000-CONTRAST120CC3CCS90S DELAY-44812\n",
      "1 unique series IDs were found. Default is index 0, to change use set_index(index)\n",
      "Loading images for CONTRAST120CC@3CC/S,90S DELAY  at \n",
      " input\\HNSCC-01-0466\\09-13-2009-NA-CT SOFT TISSUE NECK W-99435\\2.000000-CONTRAST120CC3CCS90S DELAY-44812\n",
      "\n"
     ]
    },
    {
     "name": "stderr",
     "output_type": "stream",
     "text": [
      "Loading through DICOM files: 100%|███████████████████████████████████████████████████████| 2/2 [00:51<00:00, 25.62s/it]\n",
      "Loading through DICOM files:   0%|                                                               | 0/2 [00:00<?, ?it/s]"
     ]
    },
    {
     "name": "stdout",
     "output_type": "stream",
     "text": [
      "Loading from input\\HNSCC-01-0467\\09-13-2009-NA-NECK ORAL-16464\\2.000000-CONTRAST120CC3CCS90S DELAY-85829\n",
      "Loading from input\\HNSCC-01-0467\\09-13-2009-NA-NECK ORAL-16464\\1.000000-Series Description-82017\n"
     ]
    },
    {
     "name": "stderr",
     "output_type": "stream",
     "text": [
      "\r",
      "Loading through DICOM files: 100%|███████████████████████████████████████████████████████| 2/2 [00:15<00:00,  7.84s/it]"
     ]
    },
    {
     "name": "stdout",
     "output_type": "stream",
     "text": [
      "Compiling dictionaries together...\n",
      "Index 0, description CONTRAST120CC@3CC/S,90S DELAY  at input\\HNSCC-01-0467\\09-13-2009-NA-NECK ORAL-16464\\2.000000-CONTRAST120CC3CCS90S DELAY-85829\n",
      "1 unique series IDs were found. Default is index 0, to change use set_index(index)\n",
      "Loading images for CONTRAST120CC@3CC/S,90S DELAY  at \n",
      " input\\HNSCC-01-0467\\09-13-2009-NA-NECK ORAL-16464\\2.000000-CONTRAST120CC3CCS90S DELAY-85829\n",
      "\n"
     ]
    },
    {
     "name": "stderr",
     "output_type": "stream",
     "text": [
      "Loading through DICOM files: 100%|███████████████████████████████████████████████████████| 2/2 [00:56<00:00, 28.14s/it]\n",
      "Loading through DICOM files:   0%|                                                               | 0/2 [00:00<?, ?it/s]"
     ]
    },
    {
     "name": "stdout",
     "output_type": "stream",
     "text": [
      "Loading from input\\HNSCC-01-0468\\09-13-2009-NA-CT SOFT TISSUE NECK W-05770\\1.000000-Series Description-11460\n",
      "Loading from input\\HNSCC-01-0468\\09-13-2009-NA-CT SOFT TISSUE NECK W-05770\\2.000000-CONTRAST120CC3CCS90S DELAY-85325\n"
     ]
    },
    {
     "name": "stderr",
     "output_type": "stream",
     "text": [
      "\r",
      "Loading through DICOM files: 100%|███████████████████████████████████████████████████████| 2/2 [00:14<00:00,  7.09s/it]"
     ]
    },
    {
     "name": "stdout",
     "output_type": "stream",
     "text": [
      "Compiling dictionaries together...\n",
      "Index 0, description CONTRAST120CC@3CC/S,90S DELAY  at input\\HNSCC-01-0468\\09-13-2009-NA-CT SOFT TISSUE NECK W-05770\\2.000000-CONTRAST120CC3CCS90S DELAY-85325\n",
      "1 unique series IDs were found. Default is index 0, to change use set_index(index)\n",
      "Loading images for CONTRAST120CC@3CC/S,90S DELAY  at \n",
      " input\\HNSCC-01-0468\\09-13-2009-NA-CT SOFT TISSUE NECK W-05770\\2.000000-CONTRAST120CC3CCS90S DELAY-85325\n",
      "\n"
     ]
    },
    {
     "name": "stderr",
     "output_type": "stream",
     "text": [
      "Loading through DICOM files: 100%|███████████████████████████████████████████████████████| 2/2 [00:51<00:00, 25.79s/it]\n",
      "Loading through DICOM files:   0%|                                                               | 0/2 [00:00<?, ?it/s]"
     ]
    },
    {
     "name": "stdout",
     "output_type": "stream",
     "text": [
      "Loading from input\\HNSCC-01-0469\\09-13-2009-NA-CT SOFT TISSUE NECK W-93168\\1.000000-Series Description-15429\n",
      "Loading from input\\HNSCC-01-0469\\09-13-2009-NA-CT SOFT TISSUE NECK W-93168\\2.000000-CONTRAST120CC3CCS90S DELAY-65640\n"
     ]
    },
    {
     "name": "stderr",
     "output_type": "stream",
     "text": [
      "\r",
      "Loading through DICOM files: 100%|███████████████████████████████████████████████████████| 2/2 [00:14<00:00,  7.06s/it]"
     ]
    },
    {
     "name": "stdout",
     "output_type": "stream",
     "text": [
      "Compiling dictionaries together...\n",
      "Index 0, description CONTRAST120CC@3CC/S,90S DELAY  at input\\HNSCC-01-0469\\09-13-2009-NA-CT SOFT TISSUE NECK W-93168\\2.000000-CONTRAST120CC3CCS90S DELAY-65640\n",
      "1 unique series IDs were found. Default is index 0, to change use set_index(index)\n",
      "Loading images for CONTRAST120CC@3CC/S,90S DELAY  at \n",
      " input\\HNSCC-01-0469\\09-13-2009-NA-CT SOFT TISSUE NECK W-93168\\2.000000-CONTRAST120CC3CCS90S DELAY-65640\n",
      "\n"
     ]
    },
    {
     "name": "stderr",
     "output_type": "stream",
     "text": [
      "Loading through DICOM files: 100%|███████████████████████████████████████████████████████| 2/2 [00:46<00:00, 23.46s/it]\n",
      "Loading through DICOM files:  50%|███████████████████████████▌                           | 1/2 [00:00<00:00,  9.80it/s]"
     ]
    },
    {
     "name": "stdout",
     "output_type": "stream",
     "text": [
      "Loading from input\\HNSCC-01-0470\\09-13-2009-NA-008-42830\\2.000000-CONTRAST120CC3CCS90S DELAY-64593Loading from input\\HNSCC-01-0470\\09-13-2009-NA-008-42830\\1.000000-Series Description-29851\n",
      "\n"
     ]
    },
    {
     "name": "stderr",
     "output_type": "stream",
     "text": [
      "\r",
      "Loading through DICOM files: 100%|███████████████████████████████████████████████████████| 2/2 [00:15<00:00,  9.01s/it]"
     ]
    },
    {
     "name": "stdout",
     "output_type": "stream",
     "text": [
      "Compiling dictionaries together...\n",
      "Index 0, description CONTRAST120CC@3CC/S,90S DELAY  at input\\HNSCC-01-0470\\09-13-2009-NA-008-42830\\2.000000-CONTRAST120CC3CCS90S DELAY-64593\n",
      "1 unique series IDs were found. Default is index 0, to change use set_index(index)\n",
      "Loading images for CONTRAST120CC@3CC/S,90S DELAY  at \n",
      " input\\HNSCC-01-0470\\09-13-2009-NA-008-42830\\2.000000-CONTRAST120CC3CCS90S DELAY-64593\n",
      "\n"
     ]
    },
    {
     "name": "stderr",
     "output_type": "stream",
     "text": [
      "Loading through DICOM files: 100%|███████████████████████████████████████████████████████| 2/2 [00:53<00:00, 26.85s/it]\n",
      "Loading through DICOM files:   0%|                                                               | 0/2 [00:00<?, ?it/s]"
     ]
    },
    {
     "name": "stdout",
     "output_type": "stream",
     "text": [
      "Loading from input\\HNSCC-01-0471\\09-13-2009-NA-002-87122\\2.000000-CONTRAST120CC3CCS90S DELAY-58045\n",
      "Loading from input\\HNSCC-01-0471\\09-13-2009-NA-002-87122\\1.000000-Series Description-15719\n"
     ]
    },
    {
     "name": "stderr",
     "output_type": "stream",
     "text": [
      "\r",
      "Loading through DICOM files: 100%|███████████████████████████████████████████████████████| 2/2 [00:14<00:00,  7.35s/it]"
     ]
    },
    {
     "name": "stdout",
     "output_type": "stream",
     "text": [
      "Compiling dictionaries together...\n",
      "Index 0, description CONTRAST120CC@3CC/S,90S DELAY  at input\\HNSCC-01-0471\\09-13-2009-NA-002-87122\\2.000000-CONTRAST120CC3CCS90S DELAY-58045\n",
      "1 unique series IDs were found. Default is index 0, to change use set_index(index)\n",
      "Loading images for CONTRAST120CC@3CC/S,90S DELAY  at \n",
      " input\\HNSCC-01-0471\\09-13-2009-NA-002-87122\\2.000000-CONTRAST120CC3CCS90S DELAY-58045\n",
      "\n"
     ]
    },
    {
     "name": "stderr",
     "output_type": "stream",
     "text": [
      "Loading through DICOM files: 100%|███████████████████████████████████████████████████████| 2/2 [00:52<00:00, 26.35s/it]\n",
      "Loading through DICOM files:   0%|                                                               | 0/2 [00:00<?, ?it/s]"
     ]
    },
    {
     "name": "stdout",
     "output_type": "stream",
     "text": [
      "Loading from input\\HNSCC-01-0472\\09-13-2009-NA-002-38817\\1.000000-Series Description-08399\n",
      "Loading from input\\HNSCC-01-0472\\09-13-2009-NA-002-38817\\2.000000-CONTRAST120CC3CCS90S DELAY-67653\n"
     ]
    },
    {
     "name": "stderr",
     "output_type": "stream",
     "text": [
      "Loading through DICOM files: 100%|███████████████████████████████████████████████████████| 2/2 [00:29<00:00, 16.80s/it]"
     ]
    },
    {
     "name": "stdout",
     "output_type": "stream",
     "text": [
      "Compiling dictionaries together...\n",
      "Index 0, description CONTRAST120CC@3CC/S,90S DELAY  at input\\HNSCC-01-0472\\09-13-2009-NA-002-38817\\2.000000-CONTRAST120CC3CCS90S DELAY-67653\n",
      "1 unique series IDs were found. Default is index 0, to change use set_index(index)\n",
      "Loading images for CONTRAST120CC@3CC/S,90S DELAY  at \n",
      " input\\HNSCC-01-0472\\09-13-2009-NA-002-38817\\2.000000-CONTRAST120CC3CCS90S DELAY-67653\n",
      "\n"
     ]
    },
    {
     "name": "stderr",
     "output_type": "stream",
     "text": [
      "Loading through DICOM files: 100%|███████████████████████████████████████████████████████| 2/2 [01:05<00:00, 32.72s/it]\n",
      "Loading through DICOM files:   0%|                                                               | 0/2 [00:00<?, ?it/s]"
     ]
    },
    {
     "name": "stdout",
     "output_type": "stream",
     "text": [
      "Loading from input\\HNSCC-01-0473\\09-13-2009-NA-CT SOFT TISSUE NECK W-99302\\1.000000-Series Description-03745\n",
      "Loading from input\\HNSCC-01-0473\\09-13-2009-NA-CT SOFT TISSUE NECK W-99302\\2.000000-CONTRAST120CC3CCS90S DELAY-54993\n"
     ]
    },
    {
     "name": "stderr",
     "output_type": "stream",
     "text": [
      "\r",
      "Loading through DICOM files: 100%|███████████████████████████████████████████████████████| 2/2 [00:18<00:00,  9.17s/it]"
     ]
    },
    {
     "name": "stdout",
     "output_type": "stream",
     "text": [
      "Compiling dictionaries together...\n",
      "Index 0, description CONTRAST120CC@3CC/S,90S DELAY  at input\\HNSCC-01-0473\\09-13-2009-NA-CT SOFT TISSUE NECK W-99302\\2.000000-CONTRAST120CC3CCS90S DELAY-54993\n",
      "1 unique series IDs were found. Default is index 0, to change use set_index(index)\n",
      "Loading images for CONTRAST120CC@3CC/S,90S DELAY  at \n",
      " input\\HNSCC-01-0473\\09-13-2009-NA-CT SOFT TISSUE NECK W-99302\\2.000000-CONTRAST120CC3CCS90S DELAY-54993\n",
      "\n"
     ]
    },
    {
     "name": "stderr",
     "output_type": "stream",
     "text": [
      "Loading through DICOM files: 100%|███████████████████████████████████████████████████████| 2/2 [00:57<00:00, 28.74s/it]\n",
      "Loading through DICOM files:   0%|                                                               | 0/2 [00:00<?, ?it/s]"
     ]
    },
    {
     "name": "stdout",
     "output_type": "stream",
     "text": [
      "Loading from input\\HNSCC-01-0474\\09-13-2009-NA-CT SOFT TISSUE NECK W-78982\\1.000000-Series Description-49413\n",
      "Loading from input\\HNSCC-01-0474\\09-13-2009-NA-CT SOFT TISSUE NECK W-78982\\2.000000-CONTRAST120CC3CCS90S DELAY-19337\n"
     ]
    },
    {
     "name": "stderr",
     "output_type": "stream",
     "text": [
      "\r",
      "Loading through DICOM files: 100%|███████████████████████████████████████████████████████| 2/2 [00:21<00:00, 10.88s/it]"
     ]
    },
    {
     "name": "stdout",
     "output_type": "stream",
     "text": [
      "Compiling dictionaries together...\n",
      "Index 0, description CONTRAST120CC@3CC/S,90S DELAY  at input\\HNSCC-01-0474\\09-13-2009-NA-CT SOFT TISSUE NECK W-78982\\2.000000-CONTRAST120CC3CCS90S DELAY-19337\n",
      "1 unique series IDs were found. Default is index 0, to change use set_index(index)\n",
      "Loading images for CONTRAST120CC@3CC/S,90S DELAY  at \n",
      " input\\HNSCC-01-0474\\09-13-2009-NA-CT SOFT TISSUE NECK W-78982\\2.000000-CONTRAST120CC3CCS90S DELAY-19337\n",
      "\n"
     ]
    },
    {
     "name": "stderr",
     "output_type": "stream",
     "text": [
      "Loading through DICOM files: 100%|███████████████████████████████████████████████████████| 2/2 [01:04<00:00, 32.10s/it]\n",
      "Loading through DICOM files:   0%|                                                               | 0/2 [00:00<?, ?it/s]"
     ]
    },
    {
     "name": "stdout",
     "output_type": "stream",
     "text": [
      "Loading from input\\HNSCC-01-0475\\10-10-2010-NA-CT SOFT TISSUE NECK W-08028\\1.000000-Series Description-36739\n",
      "Loading from input\\HNSCC-01-0475\\10-10-2010-NA-CT SOFT TISSUE NECK W-08028\\2.000000-CONTRAST120CC3CCS90S DELAY-46762\n"
     ]
    },
    {
     "name": "stderr",
     "output_type": "stream",
     "text": [
      "\r",
      "Loading through DICOM files: 100%|███████████████████████████████████████████████████████| 2/2 [00:17<00:00,  8.75s/it]"
     ]
    },
    {
     "name": "stdout",
     "output_type": "stream",
     "text": [
      "Compiling dictionaries together...\n",
      "Index 0, description CONTRAST120CC@3CC/S,90S DELAY  at input\\HNSCC-01-0475\\10-10-2010-NA-CT SOFT TISSUE NECK W-08028\\2.000000-CONTRAST120CC3CCS90S DELAY-46762\n",
      "1 unique series IDs were found. Default is index 0, to change use set_index(index)\n",
      "Loading images for CONTRAST120CC@3CC/S,90S DELAY  at \n",
      " input\\HNSCC-01-0475\\10-10-2010-NA-CT SOFT TISSUE NECK W-08028\\2.000000-CONTRAST120CC3CCS90S DELAY-46762\n",
      "\n"
     ]
    },
    {
     "name": "stderr",
     "output_type": "stream",
     "text": [
      "Loading through DICOM files: 100%|███████████████████████████████████████████████████████| 2/2 [00:52<00:00, 26.47s/it]\n",
      "Loading through DICOM files:   0%|                                                               | 0/1 [00:00<?, ?it/s]"
     ]
    },
    {
     "name": "stdout",
     "output_type": "stream",
     "text": [
      "Loading from input\\HNSCC-01-0476\\10-10-2010-NA-CT SOFT TISSUE NECK W-34901\\2.000000-CONTRAST120CC3CCS90S DELAY-04237\n"
     ]
    },
    {
     "name": "stderr",
     "output_type": "stream",
     "text": [
      "\r",
      "Loading through DICOM files: 100%|███████████████████████████████████████████████████████| 1/1 [00:21<00:00, 21.97s/it]"
     ]
    },
    {
     "name": "stdout",
     "output_type": "stream",
     "text": [
      "Compiling dictionaries together...\n",
      "Index 0, description CONTRAST120CC@3CC/S,90S DELAY  at input\\HNSCC-01-0476\\10-10-2010-NA-CT SOFT TISSUE NECK W-34901\\2.000000-CONTRAST120CC3CCS90S DELAY-04237\n",
      "1 unique series IDs were found. Default is index 0, to change use set_index(index)\n",
      "Loading images for CONTRAST120CC@3CC/S,90S DELAY  at \n",
      " input\\HNSCC-01-0476\\10-10-2010-NA-CT SOFT TISSUE NECK W-34901\\2.000000-CONTRAST120CC3CCS90S DELAY-04237\n",
      "\n"
     ]
    },
    {
     "name": "stderr",
     "output_type": "stream",
     "text": [
      "Loading through DICOM files: 100%|███████████████████████████████████████████████████████| 1/1 [01:00<00:00, 60.58s/it]\n",
      "Loading through DICOM files:  50%|███████████████████████████▌                           | 1/2 [00:00<00:00,  9.01it/s]"
     ]
    },
    {
     "name": "stdout",
     "output_type": "stream",
     "text": [
      "Loading from input\\HNSCC-01-0477\\10-10-2010-NA-NECK ORAL WC-72703\\2.000000-CONTRAST120CC3CCS90S DELAY-97601\n",
      "Loading from input\\HNSCC-01-0477\\10-10-2010-NA-NECK ORAL WC-72703\\1.000000-Series Description-46358\n"
     ]
    },
    {
     "name": "stderr",
     "output_type": "stream",
     "text": [
      "\r",
      "Loading through DICOM files: 100%|███████████████████████████████████████████████████████| 2/2 [00:20<00:00, 12.08s/it]"
     ]
    },
    {
     "name": "stdout",
     "output_type": "stream",
     "text": [
      "Compiling dictionaries together...\n",
      "Index 0, description CONTRAST120CC@3CC/S,90S DELAY  at input\\HNSCC-01-0477\\10-10-2010-NA-NECK ORAL WC-72703\\2.000000-CONTRAST120CC3CCS90S DELAY-97601\n",
      "1 unique series IDs were found. Default is index 0, to change use set_index(index)\n",
      "Loading images for CONTRAST120CC@3CC/S,90S DELAY  at \n",
      " input\\HNSCC-01-0477\\10-10-2010-NA-NECK ORAL WC-72703\\2.000000-CONTRAST120CC3CCS90S DELAY-97601\n",
      "\n"
     ]
    },
    {
     "name": "stderr",
     "output_type": "stream",
     "text": [
      "Loading through DICOM files: 100%|███████████████████████████████████████████████████████| 2/2 [00:59<00:00, 29.58s/it]\n",
      "Loading through DICOM files:   0%|                                                               | 0/2 [00:00<?, ?it/s]"
     ]
    },
    {
     "name": "stdout",
     "output_type": "stream",
     "text": [
      "Loading from input\\HNSCC-01-0478\\10-10-2010-NA-CT SOFT TISSUE NECK W-24544\\1.000000-Series Description-37440\n",
      "Loading from input\\HNSCC-01-0478\\10-10-2010-NA-CT SOFT TISSUE NECK W-24544\\2.000000-CONTRAST120CC3CCS90S DELAY-57328\n"
     ]
    },
    {
     "name": "stderr",
     "output_type": "stream",
     "text": [
      "\r",
      "Loading through DICOM files: 100%|███████████████████████████████████████████████████████| 2/2 [00:14<00:00,  7.13s/it]"
     ]
    },
    {
     "name": "stdout",
     "output_type": "stream",
     "text": [
      "Compiling dictionaries together...\n",
      "Index 0, description CONTRAST120CC@3CC/S,90S DELAY  at input\\HNSCC-01-0478\\10-10-2010-NA-CT SOFT TISSUE NECK W-24544\\2.000000-CONTRAST120CC3CCS90S DELAY-57328\n",
      "1 unique series IDs were found. Default is index 0, to change use set_index(index)\n",
      "Loading images for CONTRAST120CC@3CC/S,90S DELAY  at \n",
      " input\\HNSCC-01-0478\\10-10-2010-NA-CT SOFT TISSUE NECK W-24544\\2.000000-CONTRAST120CC3CCS90S DELAY-57328\n",
      "\n"
     ]
    },
    {
     "name": "stderr",
     "output_type": "stream",
     "text": [
      "Loading through DICOM files: 100%|███████████████████████████████████████████████████████| 2/2 [00:45<00:00, 22.63s/it]\n",
      "Loading through DICOM files:   0%|                                                               | 0/2 [00:00<?, ?it/s]"
     ]
    },
    {
     "name": "stdout",
     "output_type": "stream",
     "text": [
      "Loading from input\\HNSCC-01-0479\\10-10-2010-NA-002-59782\\2.000000-CONTRAST120CC3CCS90S DELAY-57587\n",
      "Loading from input\\HNSCC-01-0479\\10-10-2010-NA-002-59782\\1.000000-Series Description-86042\n"
     ]
    },
    {
     "name": "stderr",
     "output_type": "stream",
     "text": [
      "\r",
      "Loading through DICOM files: 100%|███████████████████████████████████████████████████████| 2/2 [00:20<00:00, 10.11s/it]"
     ]
    },
    {
     "name": "stdout",
     "output_type": "stream",
     "text": [
      "Compiling dictionaries together...\n",
      "Index 0, description CONTRAST120CC@3CC/S,90S DELAY  at input\\HNSCC-01-0479\\10-10-2010-NA-002-59782\\2.000000-CONTRAST120CC3CCS90S DELAY-57587\n",
      "1 unique series IDs were found. Default is index 0, to change use set_index(index)\n",
      "Loading images for CONTRAST120CC@3CC/S,90S DELAY  at \n",
      " input\\HNSCC-01-0479\\10-10-2010-NA-002-59782\\2.000000-CONTRAST120CC3CCS90S DELAY-57587\n",
      "\n"
     ]
    },
    {
     "name": "stderr",
     "output_type": "stream",
     "text": [
      "Loading through DICOM files: 100%|███████████████████████████████████████████████████████| 2/2 [00:57<00:00, 28.67s/it]\n",
      "Loading through DICOM files:   0%|                                                               | 0/2 [00:00<?, ?it/s]"
     ]
    },
    {
     "name": "stdout",
     "output_type": "stream",
     "text": [
      "Loading from input\\HNSCC-01-0480\\10-10-2010-NA-CT SOFT TISSUE NECK W-96380\\1.000000-Series Description-25947\n",
      "Loading from input\\HNSCC-01-0480\\10-10-2010-NA-CT SOFT TISSUE NECK W-96380\\2.000000-CONTRAST120CC3CCS90S DELAY-89566\n"
     ]
    },
    {
     "name": "stderr",
     "output_type": "stream",
     "text": [
      "\r",
      "Loading through DICOM files: 100%|███████████████████████████████████████████████████████| 2/2 [00:16<00:00,  8.41s/it]"
     ]
    },
    {
     "name": "stdout",
     "output_type": "stream",
     "text": [
      "Compiling dictionaries together...\n",
      "Index 0, description CONTRAST120CC@3CC/S,90S DELAY  at input\\HNSCC-01-0480\\10-10-2010-NA-CT SOFT TISSUE NECK W-96380\\2.000000-CONTRAST120CC3CCS90S DELAY-89566\n",
      "1 unique series IDs were found. Default is index 0, to change use set_index(index)\n",
      "Loading images for CONTRAST120CC@3CC/S,90S DELAY  at \n",
      " input\\HNSCC-01-0480\\10-10-2010-NA-CT SOFT TISSUE NECK W-96380\\2.000000-CONTRAST120CC3CCS90S DELAY-89566\n",
      "\n"
     ]
    },
    {
     "name": "stderr",
     "output_type": "stream",
     "text": [
      "Loading through DICOM files: 100%|███████████████████████████████████████████████████████| 2/2 [00:48<00:00, 24.23s/it]\n",
      "Loading through DICOM files:   0%|                                                               | 0/2 [00:00<?, ?it/s]"
     ]
    },
    {
     "name": "stdout",
     "output_type": "stream",
     "text": [
      "Loading from input\\HNSCC-01-0481\\10-10-2010-NA-CT SOFT TISSUE NECK W-38673\\1.000000-fixed holes-19658\n",
      "Loading from input\\HNSCC-01-0481\\10-10-2010-NA-CT SOFT TISSUE NECK W-38673\\2.000000-CONTRAST120CC3CCS90S DELAY-37254\n"
     ]
    },
    {
     "name": "stderr",
     "output_type": "stream",
     "text": [
      "Loading through DICOM files: 100%|███████████████████████████████████████████████████████| 2/2 [00:21<00:00, 12.76s/it]"
     ]
    },
    {
     "name": "stdout",
     "output_type": "stream",
     "text": [
      "Compiling dictionaries together...\n",
      "Index 0, description CONTRAST120CC@3CC/S,90S DELAY  at input\\HNSCC-01-0481\\10-10-2010-NA-CT SOFT TISSUE NECK W-38673\\2.000000-CONTRAST120CC3CCS90S DELAY-37254\n",
      "1 unique series IDs were found. Default is index 0, to change use set_index(index)\n",
      "Loading images for CONTRAST120CC@3CC/S,90S DELAY  at \n",
      " input\\HNSCC-01-0481\\10-10-2010-NA-CT SOFT TISSUE NECK W-38673\\2.000000-CONTRAST120CC3CCS90S DELAY-37254\n",
      "\n"
     ]
    },
    {
     "name": "stderr",
     "output_type": "stream",
     "text": [
      "Loading through DICOM files: 100%|███████████████████████████████████████████████████████| 2/2 [01:03<00:00, 31.77s/it]\n",
      "Loading through DICOM files:   0%|                                                               | 0/2 [00:00<?, ?it/s]"
     ]
    },
    {
     "name": "stdout",
     "output_type": "stream",
     "text": [
      "Loading from input\\HNSCC-01-0482\\10-10-2010-NA-OSF CT SFT TISS NECK-11168\\1.000000-Series Description-86924\n",
      "Loading from input\\HNSCC-01-0482\\10-10-2010-NA-OSF CT SFT TISS NECK-11168\\3.000000-NeckRoutine-34294\n"
     ]
    },
    {
     "name": "stderr",
     "output_type": "stream",
     "text": [
      "\r",
      "Loading through DICOM files: 100%|███████████████████████████████████████████████████████| 2/2 [00:08<00:00,  4.28s/it]"
     ]
    },
    {
     "name": "stdout",
     "output_type": "stream",
     "text": [
      "Compiling dictionaries together...\n",
      "Index 0, description NeckRoutine  at input\\HNSCC-01-0482\\10-10-2010-NA-OSF CT SFT TISS NECK-11168\\3.000000-NeckRoutine-34294\n",
      "1 unique series IDs were found. Default is index 0, to change use set_index(index)\n",
      "Loading images for NeckRoutine  at \n",
      " input\\HNSCC-01-0482\\10-10-2010-NA-OSF CT SFT TISS NECK-11168\\3.000000-NeckRoutine-34294\n",
      "\n"
     ]
    },
    {
     "name": "stderr",
     "output_type": "stream",
     "text": [
      "Loading through DICOM files: 100%|███████████████████████████████████████████████████████| 2/2 [00:23<00:00, 11.74s/it]\n",
      "Loading through DICOM files:  50%|███████████████████████████▌                           | 1/2 [00:00<00:00,  9.96it/s]"
     ]
    },
    {
     "name": "stdout",
     "output_type": "stream",
     "text": [
      "Loading from input\\HNSCC-01-0483\\10-10-2010-NA-CT SOFT TISSUE NECK W-60530\\2.000000-CONTRAST120CC3CCS90S DELAY-96181\n",
      "Loading from input\\HNSCC-01-0483\\10-10-2010-NA-CT SOFT TISSUE NECK W-60530\\1.000000-Series Description-52971\n"
     ]
    },
    {
     "name": "stderr",
     "output_type": "stream",
     "text": [
      "\r",
      "Loading through DICOM files: 100%|███████████████████████████████████████████████████████| 2/2 [00:16<00:00,  9.77s/it]"
     ]
    },
    {
     "name": "stdout",
     "output_type": "stream",
     "text": [
      "Compiling dictionaries together...\n",
      "Index 0, description CONTRAST120CC@3CC/S,90S DELAY  at input\\HNSCC-01-0483\\10-10-2010-NA-CT SOFT TISSUE NECK W-60530\\2.000000-CONTRAST120CC3CCS90S DELAY-96181\n",
      "1 unique series IDs were found. Default is index 0, to change use set_index(index)\n",
      "Loading images for CONTRAST120CC@3CC/S,90S DELAY  at \n",
      " input\\HNSCC-01-0483\\10-10-2010-NA-CT SOFT TISSUE NECK W-60530\\2.000000-CONTRAST120CC3CCS90S DELAY-96181\n",
      "\n"
     ]
    },
    {
     "name": "stderr",
     "output_type": "stream",
     "text": [
      "Loading through DICOM files: 100%|███████████████████████████████████████████████████████| 2/2 [00:49<00:00, 24.90s/it]\n",
      "Loading through DICOM files:   0%|                                                               | 0/2 [00:00<?, ?it/s]"
     ]
    },
    {
     "name": "stdout",
     "output_type": "stream",
     "text": [
      "Loading from input\\HNSCC-01-0484\\10-10-2010-NA-005-37328\\1.000000-Series Description-94372\n",
      "Loading from input\\HNSCC-01-0484\\10-10-2010-NA-005-37328\\3.000000-NA-53066\n"
     ]
    },
    {
     "name": "stderr",
     "output_type": "stream",
     "text": [
      "\r",
      "Loading through DICOM files: 100%|███████████████████████████████████████████████████████| 2/2 [00:05<00:00,  2.55s/it]"
     ]
    },
    {
     "name": "stdout",
     "output_type": "stream",
     "text": [
      "Compiling dictionaries together...\n",
      "Index 0, description None at input\\HNSCC-01-0484\\10-10-2010-NA-005-37328\\3.000000-NA-53066\n",
      "1 unique series IDs were found. Default is index 0, to change use set_index(index)\n",
      "Loading images for None at \n",
      " input\\HNSCC-01-0484\\10-10-2010-NA-005-37328\\3.000000-NA-53066\n",
      "\n"
     ]
    },
    {
     "name": "stderr",
     "output_type": "stream",
     "text": [
      "Loading through DICOM files: 100%|███████████████████████████████████████████████████████| 2/2 [00:15<00:00,  7.54s/it]\n",
      "Loading through DICOM files:  50%|███████████████████████████▌                           | 1/2 [00:00<00:00,  8.84it/s]"
     ]
    },
    {
     "name": "stdout",
     "output_type": "stream",
     "text": [
      "Loading from input\\HNSCC-01-0485\\10-10-2010-NA-CT SOFT TISSUE NECK W-09046\\2.000000-CONTRAST120CC3CCS90S DELAY-40697\n",
      "Loading from input\\HNSCC-01-0485\\10-10-2010-NA-CT SOFT TISSUE NECK W-09046\\1.000000-Series Description-70299\n"
     ]
    },
    {
     "name": "stderr",
     "output_type": "stream",
     "text": [
      "\r",
      "Loading through DICOM files: 100%|███████████████████████████████████████████████████████| 2/2 [00:16<00:00,  9.50s/it]"
     ]
    },
    {
     "name": "stdout",
     "output_type": "stream",
     "text": [
      "Compiling dictionaries together...\n",
      "Index 0, description CONTRAST120CC@3CC/S,90S DELAY  at input\\HNSCC-01-0485\\10-10-2010-NA-CT SOFT TISSUE NECK W-09046\\2.000000-CONTRAST120CC3CCS90S DELAY-40697\n",
      "1 unique series IDs were found. Default is index 0, to change use set_index(index)\n",
      "Loading images for CONTRAST120CC@3CC/S,90S DELAY  at \n",
      " input\\HNSCC-01-0485\\10-10-2010-NA-CT SOFT TISSUE NECK W-09046\\2.000000-CONTRAST120CC3CCS90S DELAY-40697\n",
      "\n"
     ]
    },
    {
     "name": "stderr",
     "output_type": "stream",
     "text": [
      "Loading through DICOM files: 100%|███████████████████████████████████████████████████████| 2/2 [00:48<00:00, 24.40s/it]\n",
      "Loading through DICOM files:   0%|                                                               | 0/2 [00:00<?, ?it/s]"
     ]
    },
    {
     "name": "stdout",
     "output_type": "stream",
     "text": [
      "Loading from input\\HNSCC-01-0486\\10-10-2010-NA-CT SOFT TISSUE NECK W-24828\\1.000000-Series Description-76072\n",
      "Loading from input\\HNSCC-01-0486\\10-10-2010-NA-CT SOFT TISSUE NECK W-24828\\2.000000-CONTRAST120CC3CCS90S DELAY-60447\n"
     ]
    },
    {
     "name": "stderr",
     "output_type": "stream",
     "text": [
      "\r",
      "Loading through DICOM files: 100%|███████████████████████████████████████████████████████| 2/2 [00:21<00:00, 10.85s/it]"
     ]
    },
    {
     "name": "stdout",
     "output_type": "stream",
     "text": [
      "Compiling dictionaries together...\n",
      "Index 0, description CONTRAST120CC@3CC/S,90S DELAY  at input\\HNSCC-01-0486\\10-10-2010-NA-CT SOFT TISSUE NECK W-24828\\2.000000-CONTRAST120CC3CCS90S DELAY-60447\n",
      "1 unique series IDs were found. Default is index 0, to change use set_index(index)\n",
      "Loading images for CONTRAST120CC@3CC/S,90S DELAY  at \n",
      " input\\HNSCC-01-0486\\10-10-2010-NA-CT SOFT TISSUE NECK W-24828\\2.000000-CONTRAST120CC3CCS90S DELAY-60447\n",
      "\n"
     ]
    },
    {
     "name": "stderr",
     "output_type": "stream",
     "text": [
      "Loading through DICOM files: 100%|███████████████████████████████████████████████████████| 2/2 [01:00<00:00, 30.04s/it]\n",
      "Loading through DICOM files:   0%|                                                               | 0/2 [00:00<?, ?it/s]"
     ]
    },
    {
     "name": "stdout",
     "output_type": "stream",
     "text": [
      "Loading from input\\HNSCC-01-0487\\10-10-2010-NA-OSF CT SFT TISS NECK-34691\\4.000000-C NECK-81024\n",
      "Loading from input\\HNSCC-01-0487\\10-10-2010-NA-OSF CT SFT TISS NECK-34691\\1.000000-Series Description-94222\n"
     ]
    },
    {
     "name": "stderr",
     "output_type": "stream",
     "text": [
      "\r",
      "Loading through DICOM files: 100%|███████████████████████████████████████████████████████| 2/2 [00:04<00:00,  2.30s/it]"
     ]
    },
    {
     "name": "stdout",
     "output_type": "stream",
     "text": [
      "Compiling dictionaries together...\n",
      "Index 0, description +C NECK  at input\\HNSCC-01-0487\\10-10-2010-NA-OSF CT SFT TISS NECK-34691\\4.000000-C NECK-81024\n",
      "1 unique series IDs were found. Default is index 0, to change use set_index(index)\n",
      "Loading images for +C NECK  at \n",
      " input\\HNSCC-01-0487\\10-10-2010-NA-OSF CT SFT TISS NECK-34691\\4.000000-C NECK-81024\n",
      "\n"
     ]
    },
    {
     "name": "stderr",
     "output_type": "stream",
     "text": [
      "Loading through DICOM files: 100%|███████████████████████████████████████████████████████| 2/2 [00:14<00:00,  7.14s/it]\n",
      "Loading through DICOM files:  50%|███████████████████████████▌                           | 1/2 [00:00<00:00,  8.58it/s]"
     ]
    },
    {
     "name": "stdout",
     "output_type": "stream",
     "text": [
      "Loading from input\\HNSCC-01-0488\\10-10-2010-NA-CT SOFT TISSUE NECK W-78706\\1.000000-Series Description-36035\n",
      "Loading from input\\HNSCC-01-0488\\10-10-2010-NA-CT SOFT TISSUE NECK W-78706\\2.000000-CONTRAST120CC3CCS90S DELAY-40266\n"
     ]
    },
    {
     "name": "stderr",
     "output_type": "stream",
     "text": [
      "\r",
      "Loading through DICOM files: 100%|███████████████████████████████████████████████████████| 2/2 [00:16<00:00,  9.80s/it]"
     ]
    },
    {
     "name": "stdout",
     "output_type": "stream",
     "text": [
      "Compiling dictionaries together...\n",
      "Index 0, description CONTRAST120CC@3CC/S,90S DELAY  at input\\HNSCC-01-0488\\10-10-2010-NA-CT SOFT TISSUE NECK W-78706\\2.000000-CONTRAST120CC3CCS90S DELAY-40266\n",
      "1 unique series IDs were found. Default is index 0, to change use set_index(index)\n",
      "Loading images for CONTRAST120CC@3CC/S,90S DELAY  at \n",
      " input\\HNSCC-01-0488\\10-10-2010-NA-CT SOFT TISSUE NECK W-78706\\2.000000-CONTRAST120CC3CCS90S DELAY-40266\n",
      "\n"
     ]
    },
    {
     "name": "stderr",
     "output_type": "stream",
     "text": [
      "Loading through DICOM files: 100%|███████████████████████████████████████████████████████| 2/2 [00:48<00:00, 24.41s/it]\n",
      "Loading through DICOM files:   0%|                                                               | 0/2 [00:00<?, ?it/s]"
     ]
    },
    {
     "name": "stdout",
     "output_type": "stream",
     "text": [
      "Loading from input\\HNSCC-01-0489\\10-10-2010-NA-CT SOFT TISSUE NECK W-92458\\2.000000-CONTRAST120CC3CCS90S DELAY-40193\n",
      "Loading from input\\HNSCC-01-0489\\10-10-2010-NA-CT SOFT TISSUE NECK W-92458\\1.000000-Series Description-35238\n"
     ]
    },
    {
     "name": "stderr",
     "output_type": "stream",
     "text": [
      "\r",
      "Loading through DICOM files: 100%|███████████████████████████████████████████████████████| 2/2 [00:15<00:00,  7.81s/it]"
     ]
    },
    {
     "name": "stdout",
     "output_type": "stream",
     "text": [
      "Compiling dictionaries together...\n",
      "Index 0, description CONTRAST120CC@3CC/S,90S DELAY  at input\\HNSCC-01-0489\\10-10-2010-NA-CT SOFT TISSUE NECK W-92458\\2.000000-CONTRAST120CC3CCS90S DELAY-40193\n",
      "1 unique series IDs were found. Default is index 0, to change use set_index(index)\n",
      "Loading images for CONTRAST120CC@3CC/S,90S DELAY  at \n",
      " input\\HNSCC-01-0489\\10-10-2010-NA-CT SOFT TISSUE NECK W-92458\\2.000000-CONTRAST120CC3CCS90S DELAY-40193\n",
      "\n"
     ]
    },
    {
     "name": "stderr",
     "output_type": "stream",
     "text": [
      "Loading through DICOM files: 100%|███████████████████████████████████████████████████████| 2/2 [00:48<00:00, 24.26s/it]\n",
      "Loading through DICOM files:   0%|                                                               | 0/2 [00:00<?, ?it/s]"
     ]
    },
    {
     "name": "stdout",
     "output_type": "stream",
     "text": [
      "Loading from input\\HNSCC-01-0491\\10-10-2010-NA-CT SOFT TISSUE NECK W-69337\\2.000000-CONTRAST120CC3CCS90S DELAY-28863\n",
      "Loading from input\\HNSCC-01-0491\\10-10-2010-NA-CT SOFT TISSUE NECK W-69337\\1.000000-Series Description-43899\n"
     ]
    },
    {
     "name": "stderr",
     "output_type": "stream",
     "text": [
      "\r",
      "Loading through DICOM files: 100%|███████████████████████████████████████████████████████| 2/2 [00:15<00:00,  7.95s/it]"
     ]
    },
    {
     "name": "stdout",
     "output_type": "stream",
     "text": [
      "Compiling dictionaries together...\n",
      "Index 0, description CONTRAST120CC@3CC/S,90S DELAY  at input\\HNSCC-01-0491\\10-10-2010-NA-CT SOFT TISSUE NECK W-69337\\2.000000-CONTRAST120CC3CCS90S DELAY-28863\n",
      "1 unique series IDs were found. Default is index 0, to change use set_index(index)\n",
      "Loading images for CONTRAST120CC@3CC/S,90S DELAY  at \n",
      " input\\HNSCC-01-0491\\10-10-2010-NA-CT SOFT TISSUE NECK W-69337\\2.000000-CONTRAST120CC3CCS90S DELAY-28863\n",
      "\n"
     ]
    },
    {
     "name": "stderr",
     "output_type": "stream",
     "text": [
      "Loading through DICOM files: 100%|███████████████████████████████████████████████████████| 2/2 [00:50<00:00, 25.02s/it]\n",
      "Loading through DICOM files:   0%|                                                               | 0/2 [00:00<?, ?it/s]"
     ]
    },
    {
     "name": "stdout",
     "output_type": "stream",
     "text": [
      "Loading from input\\HNSCC-01-0492\\10-10-2010-NA-OSF CT SFT TISS NECK-86012\\1.000000-Series Description-61786Loading from input\\HNSCC-01-0492\\10-10-2010-NA-OSF CT SFT TISS NECK-86012\\4.000000-C NECK-24459\n",
      "\n"
     ]
    },
    {
     "name": "stderr",
     "output_type": "stream",
     "text": [
      "\r",
      "Loading through DICOM files: 100%|███████████████████████████████████████████████████████| 2/2 [00:04<00:00,  2.25s/it]"
     ]
    },
    {
     "name": "stdout",
     "output_type": "stream",
     "text": [
      "Compiling dictionaries together...\n",
      "Index 0, description +C NECK  at input\\HNSCC-01-0492\\10-10-2010-NA-OSF CT SFT TISS NECK-86012\\4.000000-C NECK-24459\n",
      "1 unique series IDs were found. Default is index 0, to change use set_index(index)\n",
      "Loading images for +C NECK  at \n",
      " input\\HNSCC-01-0492\\10-10-2010-NA-OSF CT SFT TISS NECK-86012\\4.000000-C NECK-24459\n",
      "\n"
     ]
    },
    {
     "name": "stderr",
     "output_type": "stream",
     "text": [
      "\n",
      "Loading through DICOM files:   0%|                                                               | 0/2 [00:00<?, ?it/s]\u001b[A"
     ]
    },
    {
     "name": "stdout",
     "output_type": "stream",
     "text": [
      "Loading from input\\HNSCC-01-0493\\10-10-2010-NA-CT SOFT TISSUE NECK W-01714\\1.000000-Series Description-99607\n",
      "Loading from input\\HNSCC-01-0493\\10-10-2010-NA-CT SOFT TISSUE NECK W-01714\\2.000000-CONTRAST120CC3CCS90S DELAY-19320\n"
     ]
    },
    {
     "name": "stderr",
     "output_type": "stream",
     "text": [
      "\n",
      "Loading through DICOM files: 100%|███████████████████████████████████████████████████████| 2/2 [00:13<00:00,  6.85s/it]\u001b[A"
     ]
    },
    {
     "name": "stdout",
     "output_type": "stream",
     "text": [
      "Compiling dictionaries together...\n",
      "Index 0, description CONTRAST120CC@3CC/S,90S DELAY  at input\\HNSCC-01-0493\\10-10-2010-NA-CT SOFT TISSUE NECK W-01714\\2.000000-CONTRAST120CC3CCS90S DELAY-19320\n",
      "1 unique series IDs were found. Default is index 0, to change use set_index(index)\n",
      "Loading images for CONTRAST120CC@3CC/S,90S DELAY  at \n",
      " input\\HNSCC-01-0493\\10-10-2010-NA-CT SOFT TISSUE NECK W-01714\\2.000000-CONTRAST120CC3CCS90S DELAY-19320\n",
      "\n"
     ]
    },
    {
     "name": "stderr",
     "output_type": "stream",
     "text": [
      "Loading through DICOM files: 100%|███████████████████████████████████████████████████████| 2/2 [01:04<00:00, 32.30s/it]\n",
      "Loading through DICOM files: 100%|███████████████████████████████████████████████████████| 2/2 [00:47<00:00, 23.69s/it]\n",
      "Loading through DICOM files:   0%|                                                               | 0/2 [00:00<?, ?it/s]"
     ]
    },
    {
     "name": "stdout",
     "output_type": "stream",
     "text": [
      "Loading from input\\HNSCC-01-0494\\10-10-2010-NA-001-69416\\1.000000-Series Description-72405\n",
      "Loading from input\\HNSCC-01-0494\\10-10-2010-NA-001-69416\\2.000000-CONTRAST120CC3CCS90S DELAY-31818\n"
     ]
    },
    {
     "name": "stderr",
     "output_type": "stream",
     "text": [
      "\r",
      "Loading through DICOM files: 100%|███████████████████████████████████████████████████████| 2/2 [00:21<00:00, 10.58s/it]"
     ]
    },
    {
     "name": "stdout",
     "output_type": "stream",
     "text": [
      "Compiling dictionaries together...\n",
      "Index 0, description CONTRAST120CC@3CC/S,90S DELAY  at input\\HNSCC-01-0494\\10-10-2010-NA-001-69416\\2.000000-CONTRAST120CC3CCS90S DELAY-31818\n",
      "1 unique series IDs were found. Default is index 0, to change use set_index(index)\n",
      "Loading images for CONTRAST120CC@3CC/S,90S DELAY  at \n",
      " input\\HNSCC-01-0494\\10-10-2010-NA-001-69416\\2.000000-CONTRAST120CC3CCS90S DELAY-31818\n",
      "\n"
     ]
    },
    {
     "name": "stderr",
     "output_type": "stream",
     "text": [
      "Loading through DICOM files: 100%|███████████████████████████████████████████████████████| 2/2 [01:07<00:00, 33.52s/it]\n",
      "Loading through DICOM files:  50%|███████████████████████████▌                           | 1/2 [00:00<00:00,  6.58it/s]"
     ]
    },
    {
     "name": "stdout",
     "output_type": "stream",
     "text": [
      "Loading from input\\HNSCC-01-0495\\10-10-2010-NA-002-05662\\1.000000-Series Description-24496\n",
      "Loading from input\\HNSCC-01-0495\\10-10-2010-NA-002-05662\\2.000000-CONTRAST120CC3CCS90S DELAY-23937\n"
     ]
    },
    {
     "name": "stderr",
     "output_type": "stream",
     "text": [
      "\r",
      "Loading through DICOM files: 100%|███████████████████████████████████████████████████████| 2/2 [00:17<00:00, 10.37s/it]"
     ]
    },
    {
     "name": "stdout",
     "output_type": "stream",
     "text": [
      "Compiling dictionaries together...\n",
      "Index 0, description CONTRAST120CC@3CC/S,90S DELAY  at input\\HNSCC-01-0495\\10-10-2010-NA-002-05662\\2.000000-CONTRAST120CC3CCS90S DELAY-23937\n",
      "1 unique series IDs were found. Default is index 0, to change use set_index(index)\n",
      "Loading images for CONTRAST120CC@3CC/S,90S DELAY  at \n",
      " input\\HNSCC-01-0495\\10-10-2010-NA-002-05662\\2.000000-CONTRAST120CC3CCS90S DELAY-23937\n",
      "\n"
     ]
    },
    {
     "name": "stderr",
     "output_type": "stream",
     "text": [
      "Loading through DICOM files: 100%|███████████████████████████████████████████████████████| 2/2 [00:53<00:00, 26.97s/it]\n",
      "Loading through DICOM files:   0%|                                                               | 0/2 [00:00<?, ?it/s]"
     ]
    },
    {
     "name": "stdout",
     "output_type": "stream",
     "text": [
      "Loading from input\\HNSCC-01-0496\\10-10-2010-NA-002-72416\\2.000000-CONTRAST120CC3CCS90S DELAY-72106\n",
      "Loading from input\\HNSCC-01-0496\\10-10-2010-NA-002-72416\\1.000000-Series Description-27010\n"
     ]
    },
    {
     "name": "stderr",
     "output_type": "stream",
     "text": [
      "\r",
      "Loading through DICOM files: 100%|███████████████████████████████████████████████████████| 2/2 [00:16<00:00,  8.39s/it]"
     ]
    },
    {
     "name": "stdout",
     "output_type": "stream",
     "text": [
      "Compiling dictionaries together...\n",
      "Index 0, description CONTRAST120CC@3CC/S,90S DELAY  at input\\HNSCC-01-0496\\10-10-2010-NA-002-72416\\2.000000-CONTRAST120CC3CCS90S DELAY-72106\n",
      "1 unique series IDs were found. Default is index 0, to change use set_index(index)\n",
      "Loading images for CONTRAST120CC@3CC/S,90S DELAY  at \n",
      " input\\HNSCC-01-0496\\10-10-2010-NA-002-72416\\2.000000-CONTRAST120CC3CCS90S DELAY-72106\n",
      "\n"
     ]
    },
    {
     "name": "stderr",
     "output_type": "stream",
     "text": [
      "Loading through DICOM files: 100%|███████████████████████████████████████████████████████| 2/2 [00:52<00:00, 26.00s/it]\n",
      "Loading through DICOM files:  50%|███████████████████████████▌                           | 1/2 [00:00<00:00,  8.40it/s]"
     ]
    },
    {
     "name": "stdout",
     "output_type": "stream",
     "text": [
      "Loading from input\\HNSCC-01-0497\\10-10-2010-NA-OSF CT SFT TISS NECK-07761\\1.000000-Series Description-06971\n",
      "Loading from input\\HNSCC-01-0497\\10-10-2010-NA-OSF CT SFT TISS NECK-07761\\5.000000-NA-07466\n"
     ]
    },
    {
     "name": "stderr",
     "output_type": "stream",
     "text": [
      "\r",
      "Loading through DICOM files: 100%|███████████████████████████████████████████████████████| 2/2 [00:39<00:00, 23.30s/it]"
     ]
    },
    {
     "name": "stdout",
     "output_type": "stream",
     "text": [
      "Compiling dictionaries together...\n",
      "Index 0, description None at input\\HNSCC-01-0497\\10-10-2010-NA-OSF CT SFT TISS NECK-07761\\5.000000-NA-07466\n",
      "1 unique series IDs were found. Default is index 0, to change use set_index(index)\n",
      "Loading images for None at \n",
      " input\\HNSCC-01-0497\\10-10-2010-NA-OSF CT SFT TISS NECK-07761\\5.000000-NA-07466\n",
      "\n"
     ]
    },
    {
     "name": "stderr",
     "output_type": "stream",
     "text": [
      "Loading through DICOM files: 100%|███████████████████████████████████████████████████████| 2/2 [01:48<00:00, 54.15s/it]\n",
      "Loading through DICOM files:   0%|                                                               | 0/2 [00:00<?, ?it/s]"
     ]
    },
    {
     "name": "stdout",
     "output_type": "stream",
     "text": [
      "Loading from input\\HNSCC-01-0498\\10-10-2010-NA-OSF CT SFT TISS NECK-53654\\2.000000-SOFT TISSUE NECK-11549Loading from input\\HNSCC-01-0498\\10-10-2010-NA-OSF CT SFT TISS NECK-53654\\1.000000-Series Description-06105\n",
      "\n"
     ]
    },
    {
     "name": "stderr",
     "output_type": "stream",
     "text": [
      "\r",
      "Loading through DICOM files: 100%|███████████████████████████████████████████████████████| 2/2 [00:04<00:00,  2.08s/it]"
     ]
    },
    {
     "name": "stdout",
     "output_type": "stream",
     "text": [
      "Compiling dictionaries together...\n",
      "Index 0, description SOFT TISSUE NECK at input\\HNSCC-01-0498\\10-10-2010-NA-OSF CT SFT TISS NECK-53654\\2.000000-SOFT TISSUE NECK-11549\n",
      "1 unique series IDs were found. Default is index 0, to change use set_index(index)\n",
      "Loading images for SOFT TISSUE NECK at \n",
      " input\\HNSCC-01-0498\\10-10-2010-NA-OSF CT SFT TISS NECK-53654\\2.000000-SOFT TISSUE NECK-11549\n",
      "\n"
     ]
    },
    {
     "name": "stderr",
     "output_type": "stream",
     "text": [
      "Loading through DICOM files: 100%|███████████████████████████████████████████████████████| 2/2 [00:13<00:00,  6.66s/it]\n",
      "Loading through DICOM files:   0%|                                                               | 0/1 [00:00<?, ?it/s]"
     ]
    },
    {
     "name": "stdout",
     "output_type": "stream",
     "text": [
      "Loading from input\\HNSCC-01-0499\\10-10-2010-NA-CT SOFT TISSUE NECK W-02750\\2.000000-CONTRAST120CC3CCS90S DELAY-19435\n"
     ]
    },
    {
     "name": "stderr",
     "output_type": "stream",
     "text": [
      "\r",
      "Loading through DICOM files: 100%|███████████████████████████████████████████████████████| 1/1 [00:18<00:00, 18.81s/it]"
     ]
    },
    {
     "name": "stdout",
     "output_type": "stream",
     "text": [
      "Compiling dictionaries together...\n",
      "Index 0, description CONTRAST120CC@3CC/S,90S DELAY  at input\\HNSCC-01-0499\\10-10-2010-NA-CT SOFT TISSUE NECK W-02750\\2.000000-CONTRAST120CC3CCS90S DELAY-19435\n",
      "1 unique series IDs were found. Default is index 0, to change use set_index(index)\n",
      "Loading images for CONTRAST120CC@3CC/S,90S DELAY  at \n",
      " input\\HNSCC-01-0499\\10-10-2010-NA-CT SOFT TISSUE NECK W-02750\\2.000000-CONTRAST120CC3CCS90S DELAY-19435\n",
      "\n"
     ]
    },
    {
     "name": "stderr",
     "output_type": "stream",
     "text": [
      "Loading through DICOM files: 100%|███████████████████████████████████████████████████████| 1/1 [00:55<00:00, 55.81s/it]\n",
      "Loading through DICOM files:  50%|███████████████████████████▌                           | 1/2 [00:00<00:00,  8.33it/s]"
     ]
    },
    {
     "name": "stdout",
     "output_type": "stream",
     "text": [
      "Loading from input\\HNSCC-01-0500\\10-10-2010-NA-002-17521\\2.000000-CONTRAST120CC3CCS90S DELAY-26099\n",
      "Loading from input\\HNSCC-01-0500\\10-10-2010-NA-002-17521\\1.000000-Series Description-29389\n"
     ]
    },
    {
     "name": "stderr",
     "output_type": "stream",
     "text": [
      "\r",
      "Loading through DICOM files: 100%|███████████████████████████████████████████████████████| 2/2 [00:14<00:00,  8.78s/it]"
     ]
    },
    {
     "name": "stdout",
     "output_type": "stream",
     "text": [
      "Compiling dictionaries together...\n",
      "Index 0, description CONTRAST120CC@3CC/S,90S DELAY  at input\\HNSCC-01-0500\\10-10-2010-NA-002-17521\\2.000000-CONTRAST120CC3CCS90S DELAY-26099\n",
      "1 unique series IDs were found. Default is index 0, to change use set_index(index)\n",
      "Loading images for CONTRAST120CC@3CC/S,90S DELAY  at \n",
      " input\\HNSCC-01-0500\\10-10-2010-NA-002-17521\\2.000000-CONTRAST120CC3CCS90S DELAY-26099\n",
      "\n"
     ]
    },
    {
     "name": "stderr",
     "output_type": "stream",
     "text": [
      "Loading through DICOM files: 100%|███████████████████████████████████████████████████████| 2/2 [00:46<00:00, 23.30s/it]\n",
      "Loading through DICOM files:   0%|                                                               | 0/2 [00:00<?, ?it/s]"
     ]
    },
    {
     "name": "stdout",
     "output_type": "stream",
     "text": [
      "Loading from input\\HNSCC-01-0502\\10-10-2010-NA-CT SOFT TISSUE NECK W-23691\\2.000000-CONTRAST120CC3CCS90S DELAY-43134\n",
      "Loading from input\\HNSCC-01-0502\\10-10-2010-NA-CT SOFT TISSUE NECK W-23691\\1.000000-Series Description-52936\n"
     ]
    },
    {
     "name": "stderr",
     "output_type": "stream",
     "text": [
      "\r",
      "Loading through DICOM files: 100%|███████████████████████████████████████████████████████| 2/2 [00:15<00:00,  7.95s/it]"
     ]
    },
    {
     "name": "stdout",
     "output_type": "stream",
     "text": [
      "Compiling dictionaries together...\n",
      "Index 0, description CONTRAST120CC@3CC/S,90S DELAY  at input\\HNSCC-01-0502\\10-10-2010-NA-CT SOFT TISSUE NECK W-23691\\2.000000-CONTRAST120CC3CCS90S DELAY-43134\n",
      "1 unique series IDs were found. Default is index 0, to change use set_index(index)\n",
      "Loading images for CONTRAST120CC@3CC/S,90S DELAY  at \n",
      " input\\HNSCC-01-0502\\10-10-2010-NA-CT SOFT TISSUE NECK W-23691\\2.000000-CONTRAST120CC3CCS90S DELAY-43134\n",
      "\n"
     ]
    },
    {
     "name": "stderr",
     "output_type": "stream",
     "text": [
      "Loading through DICOM files: 100%|███████████████████████████████████████████████████████| 2/2 [00:49<00:00, 24.59s/it]\n",
      "Loading through DICOM files:   0%|                                                               | 0/2 [00:00<?, ?it/s]"
     ]
    },
    {
     "name": "stdout",
     "output_type": "stream",
     "text": [
      "Loading from input\\HNSCC-01-0503\\10-10-2010-NA-CT SOFT TISSUE NECK W-96594\\2.000000-CONTRAST120CC3CCS90S DELAY-50316\n",
      "Loading from input\\HNSCC-01-0503\\10-10-2010-NA-CT SOFT TISSUE NECK W-96594\\1.000000-Series Description-09144\n"
     ]
    },
    {
     "name": "stderr",
     "output_type": "stream",
     "text": [
      "\r",
      "Loading through DICOM files: 100%|███████████████████████████████████████████████████████| 2/2 [00:20<00:00, 10.30s/it]"
     ]
    },
    {
     "name": "stdout",
     "output_type": "stream",
     "text": [
      "Compiling dictionaries together...\n",
      "Index 0, description CONTRAST120CC@3CC/S,90S DELAY  at input\\HNSCC-01-0503\\10-10-2010-NA-CT SOFT TISSUE NECK W-96594\\2.000000-CONTRAST120CC3CCS90S DELAY-50316\n",
      "1 unique series IDs were found. Default is index 0, to change use set_index(index)\n",
      "Loading images for CONTRAST120CC@3CC/S,90S DELAY  at \n",
      " input\\HNSCC-01-0503\\10-10-2010-NA-CT SOFT TISSUE NECK W-96594\\2.000000-CONTRAST120CC3CCS90S DELAY-50316\n",
      "\n"
     ]
    },
    {
     "name": "stderr",
     "output_type": "stream",
     "text": [
      "Loading through DICOM files: 100%|███████████████████████████████████████████████████████| 2/2 [01:00<00:00, 30.06s/it]\n",
      "Loading through DICOM files:   0%|                                                               | 0/2 [00:00<?, ?it/s]"
     ]
    },
    {
     "name": "stdout",
     "output_type": "stream",
     "text": [
      "Loading from input\\HNSCC-01-0504\\10-10-2010-NA-CT SOFT TISSUE NECK W-08322\\1.000000-Series Description-99534\n",
      "Loading from input\\HNSCC-01-0504\\10-10-2010-NA-CT SOFT TISSUE NECK W-08322\\2.000000-CONTRAST120CC3CCS90S DELAY-28943\n"
     ]
    },
    {
     "name": "stderr",
     "output_type": "stream",
     "text": [
      "\r",
      "Loading through DICOM files: 100%|███████████████████████████████████████████████████████| 2/2 [00:17<00:00,  8.52s/it]"
     ]
    },
    {
     "name": "stdout",
     "output_type": "stream",
     "text": [
      "Compiling dictionaries together...\n",
      "Index 0, description CONTRAST120CC@3CC/S,90S DELAY  at input\\HNSCC-01-0504\\10-10-2010-NA-CT SOFT TISSUE NECK W-08322\\2.000000-CONTRAST120CC3CCS90S DELAY-28943\n",
      "1 unique series IDs were found. Default is index 0, to change use set_index(index)\n",
      "Loading images for CONTRAST120CC@3CC/S,90S DELAY  at \n",
      " input\\HNSCC-01-0504\\10-10-2010-NA-CT SOFT TISSUE NECK W-08322\\2.000000-CONTRAST120CC3CCS90S DELAY-28943\n",
      "\n"
     ]
    },
    {
     "name": "stderr",
     "output_type": "stream",
     "text": [
      "Loading through DICOM files: 100%|███████████████████████████████████████████████████████| 2/2 [00:53<00:00, 26.97s/it]\n",
      "Loading through DICOM files:   0%|                                                               | 0/2 [00:00<?, ?it/s]"
     ]
    },
    {
     "name": "stdout",
     "output_type": "stream",
     "text": [
      "Loading from input\\HNSCC-01-0505\\10-10-2010-NA-CT SOFT TISSUE NECK W-26217\\1.000000-Series Description-95612\n",
      "Loading from input\\HNSCC-01-0505\\10-10-2010-NA-CT SOFT TISSUE NECK W-26217\\2.000000-CONTRAST120CC3CCS90S DELAY-86112\n"
     ]
    },
    {
     "name": "stderr",
     "output_type": "stream",
     "text": [
      "\r",
      "Loading through DICOM files: 100%|███████████████████████████████████████████████████████| 2/2 [00:18<00:00,  9.02s/it]"
     ]
    },
    {
     "name": "stdout",
     "output_type": "stream",
     "text": [
      "Compiling dictionaries together...\n",
      "Index 0, description CONTRAST120CC@3CC/S,90S DELAY  at input\\HNSCC-01-0505\\10-10-2010-NA-CT SOFT TISSUE NECK W-26217\\2.000000-CONTRAST120CC3CCS90S DELAY-86112\n",
      "1 unique series IDs were found. Default is index 0, to change use set_index(index)\n",
      "Loading images for CONTRAST120CC@3CC/S,90S DELAY  at \n",
      " input\\HNSCC-01-0505\\10-10-2010-NA-CT SOFT TISSUE NECK W-26217\\2.000000-CONTRAST120CC3CCS90S DELAY-86112\n",
      "\n"
     ]
    },
    {
     "name": "stderr",
     "output_type": "stream",
     "text": [
      "Loading through DICOM files: 100%|███████████████████████████████████████████████████████| 2/2 [00:51<00:00, 25.93s/it]\n",
      "Loading through DICOM files:   0%|                                                               | 0/2 [00:00<?, ?it/s]"
     ]
    },
    {
     "name": "stdout",
     "output_type": "stream",
     "text": [
      "Loading from input\\HNSCC-01-0506\\10-10-2010-NA-CT SOFT TISSUE NECK W-71696\\1.000000-Series Description-64146Loading from input\\HNSCC-01-0506\\10-10-2010-NA-CT SOFT TISSUE NECK W-71696\\2.000000-CONTRAST120CC3CCS90S DELAY-50625\n",
      "\n"
     ]
    },
    {
     "name": "stderr",
     "output_type": "stream",
     "text": [
      "\r",
      "Loading through DICOM files: 100%|███████████████████████████████████████████████████████| 2/2 [00:16<00:00,  8.47s/it]"
     ]
    },
    {
     "name": "stdout",
     "output_type": "stream",
     "text": [
      "Compiling dictionaries together...\n",
      "Index 0, description CONTRAST120CC@3CC/S,90S DELAY  at input\\HNSCC-01-0506\\10-10-2010-NA-CT SOFT TISSUE NECK W-71696\\2.000000-CONTRAST120CC3CCS90S DELAY-50625\n",
      "1 unique series IDs were found. Default is index 0, to change use set_index(index)\n",
      "Loading images for CONTRAST120CC@3CC/S,90S DELAY  at \n",
      " input\\HNSCC-01-0506\\10-10-2010-NA-CT SOFT TISSUE NECK W-71696\\2.000000-CONTRAST120CC3CCS90S DELAY-50625\n",
      "\n"
     ]
    },
    {
     "name": "stderr",
     "output_type": "stream",
     "text": [
      "Loading through DICOM files: 100%|███████████████████████████████████████████████████████| 2/2 [00:54<00:00, 27.26s/it]\n",
      "Loading through DICOM files:   0%|                                                               | 0/2 [00:00<?, ?it/s]"
     ]
    },
    {
     "name": "stdout",
     "output_type": "stream",
     "text": [
      "Loading from input\\HNSCC-01-0507\\10-10-2010-NA-CT SOFT TISSUE NECK W-74895\\2.000000-CONTRAST120CC3CCS90S DELAY-90684\n",
      "Loading from input\\HNSCC-01-0507\\10-10-2010-NA-CT SOFT TISSUE NECK W-74895\\1.000000-Series Description-71283\n"
     ]
    },
    {
     "name": "stderr",
     "output_type": "stream",
     "text": [
      "\r",
      "Loading through DICOM files: 100%|███████████████████████████████████████████████████████| 2/2 [00:13<00:00,  6.76s/it]"
     ]
    },
    {
     "name": "stdout",
     "output_type": "stream",
     "text": [
      "Compiling dictionaries together...\n",
      "Index 0, description CONTRAST120CC@3CC/S,90S DELAY  at input\\HNSCC-01-0507\\10-10-2010-NA-CT SOFT TISSUE NECK W-74895\\2.000000-CONTRAST120CC3CCS90S DELAY-90684\n",
      "1 unique series IDs were found. Default is index 0, to change use set_index(index)\n",
      "Loading images for CONTRAST120CC@3CC/S,90S DELAY  at \n",
      " input\\HNSCC-01-0507\\10-10-2010-NA-CT SOFT TISSUE NECK W-74895\\2.000000-CONTRAST120CC3CCS90S DELAY-90684\n",
      "\n"
     ]
    },
    {
     "name": "stderr",
     "output_type": "stream",
     "text": [
      "Loading through DICOM files: 100%|███████████████████████████████████████████████████████| 2/2 [00:40<00:00, 20.15s/it]\n",
      "Loading through DICOM files:   0%|                                                               | 0/2 [00:00<?, ?it/s]"
     ]
    },
    {
     "name": "stdout",
     "output_type": "stream",
     "text": [
      "Loading from input\\HNSCC-01-0508\\10-10-2010-NA-CT SOFT TISSUE NECK W-03650\\1.000000-Series Description-86025\n",
      "Loading from input\\HNSCC-01-0508\\10-10-2010-NA-CT SOFT TISSUE NECK W-03650\\2.000000-CONTRAST120CC3CCS90S DELAY-03616\n"
     ]
    },
    {
     "name": "stderr",
     "output_type": "stream",
     "text": [
      "\r",
      "Loading through DICOM files: 100%|███████████████████████████████████████████████████████| 2/2 [00:22<00:00, 11.35s/it]"
     ]
    },
    {
     "name": "stdout",
     "output_type": "stream",
     "text": [
      "Compiling dictionaries together...\n",
      "Index 0, description CONTRAST120CC@3CC/S,90S DELAY  at input\\HNSCC-01-0508\\10-10-2010-NA-CT SOFT TISSUE NECK W-03650\\2.000000-CONTRAST120CC3CCS90S DELAY-03616\n",
      "1 unique series IDs were found. Default is index 0, to change use set_index(index)\n",
      "Loading images for CONTRAST120CC@3CC/S,90S DELAY  at \n",
      " input\\HNSCC-01-0508\\10-10-2010-NA-CT SOFT TISSUE NECK W-03650\\2.000000-CONTRAST120CC3CCS90S DELAY-03616\n",
      "\n"
     ]
    },
    {
     "name": "stderr",
     "output_type": "stream",
     "text": [
      "Loading through DICOM files: 100%|███████████████████████████████████████████████████████| 2/2 [01:04<00:00, 32.11s/it]\n",
      "Loading through DICOM files:  50%|███████████████████████████▌                           | 1/2 [00:00<00:00,  7.89it/s]"
     ]
    },
    {
     "name": "stdout",
     "output_type": "stream",
     "text": [
      "Loading from input\\HNSCC-01-0509\\10-10-2010-NA-002-50173\\2.000000-CONTRAST120CC3CCS90S DELAY-91913\n",
      "Loading from input\\HNSCC-01-0509\\10-10-2010-NA-002-50173\\1.000000-Series Description-25898\n"
     ]
    },
    {
     "name": "stderr",
     "output_type": "stream",
     "text": [
      "\r",
      "Loading through DICOM files: 100%|███████████████████████████████████████████████████████| 2/2 [00:18<00:00, 10.84s/it]"
     ]
    },
    {
     "name": "stdout",
     "output_type": "stream",
     "text": [
      "Compiling dictionaries together...\n",
      "Index 0, description CONTRAST120CC@3CC/S,90S DELAY  at input\\HNSCC-01-0509\\10-10-2010-NA-002-50173\\2.000000-CONTRAST120CC3CCS90S DELAY-91913\n",
      "1 unique series IDs were found. Default is index 0, to change use set_index(index)\n",
      "Loading images for CONTRAST120CC@3CC/S,90S DELAY  at \n",
      " input\\HNSCC-01-0509\\10-10-2010-NA-002-50173\\2.000000-CONTRAST120CC3CCS90S DELAY-91913\n",
      "\n"
     ]
    },
    {
     "name": "stderr",
     "output_type": "stream",
     "text": [
      "Loading through DICOM files: 100%|███████████████████████████████████████████████████████| 2/2 [00:57<00:00, 28.89s/it]\n",
      "Loading through DICOM files:   0%|                                                               | 0/2 [00:00<?, ?it/s]"
     ]
    },
    {
     "name": "stdout",
     "output_type": "stream",
     "text": [
      "Loading from input\\HNSCC-01-0510\\10-10-2010-NA-CT SOFT TISSUE NECK W-68559\\1.000000-Series Description-96198\n",
      "Loading from input\\HNSCC-01-0510\\10-10-2010-NA-CT SOFT TISSUE NECK W-68559\\2.000000-CONTRAST120CC3CCS90S DELAY-69475\n"
     ]
    },
    {
     "name": "stderr",
     "output_type": "stream",
     "text": [
      "\r",
      "Loading through DICOM files: 100%|███████████████████████████████████████████████████████| 2/2 [00:18<00:00,  9.15s/it]"
     ]
    },
    {
     "name": "stdout",
     "output_type": "stream",
     "text": [
      "Compiling dictionaries together...\n",
      "Index 0, description CONTRAST120CC@3CC/S,90S DELAY  at input\\HNSCC-01-0510\\10-10-2010-NA-CT SOFT TISSUE NECK W-68559\\2.000000-CONTRAST120CC3CCS90S DELAY-69475\n",
      "1 unique series IDs were found. Default is index 0, to change use set_index(index)\n",
      "Loading images for CONTRAST120CC@3CC/S,90S DELAY  at \n",
      " input\\HNSCC-01-0510\\10-10-2010-NA-CT SOFT TISSUE NECK W-68559\\2.000000-CONTRAST120CC3CCS90S DELAY-69475\n",
      "\n"
     ]
    },
    {
     "name": "stderr",
     "output_type": "stream",
     "text": [
      "Loading through DICOM files: 100%|███████████████████████████████████████████████████████| 2/2 [00:54<00:00, 27.09s/it]\n",
      "Loading through DICOM files:   0%|                                                               | 0/2 [00:00<?, ?it/s]"
     ]
    },
    {
     "name": "stdout",
     "output_type": "stream",
     "text": [
      "Loading from input\\HNSCC-01-0511\\10-10-2010-NA-OSF CT SFT TISS NECK-23439\\4.000000-NA-61524\n",
      "Loading from input\\HNSCC-01-0511\\10-10-2010-NA-OSF CT SFT TISS NECK-23439\\1.000000-Series Description-58616\n"
     ]
    },
    {
     "name": "stderr",
     "output_type": "stream",
     "text": [
      "Loading through DICOM files: 100%|███████████████████████████████████████████████████████| 2/2 [00:08<00:00,  5.14s/it]"
     ]
    },
    {
     "name": "stdout",
     "output_type": "stream",
     "text": [
      "Compiling dictionaries together...\n",
      "Index 0, description  at input\\HNSCC-01-0511\\10-10-2010-NA-OSF CT SFT TISS NECK-23439\\4.000000-NA-61524\n",
      "1 unique series IDs were found. Default is index 0, to change use set_index(index)\n",
      "Loading images for  at \n",
      " input\\HNSCC-01-0511\\10-10-2010-NA-OSF CT SFT TISS NECK-23439\\4.000000-NA-61524\n",
      "\n"
     ]
    },
    {
     "name": "stderr",
     "output_type": "stream",
     "text": [
      "Loading through DICOM files: 100%|███████████████████████████████████████████████████████| 2/2 [00:23<00:00, 11.76s/it]\n",
      "Loading through DICOM files:   0%|                                                               | 0/2 [00:00<?, ?it/s]"
     ]
    },
    {
     "name": "stdout",
     "output_type": "stream",
     "text": [
      "Loading from input\\HNSCC-01-0512\\10-10-2010-NA-SFT tissue neck oral-78084\\2.000000-CONTRAST120CC3CCS90S DELAY-12050\n",
      "Loading from input\\HNSCC-01-0512\\10-10-2010-NA-SFT tissue neck oral-78084\\1.000000-Series Description-69805\n"
     ]
    },
    {
     "name": "stderr",
     "output_type": "stream",
     "text": [
      "\r",
      "Loading through DICOM files: 100%|███████████████████████████████████████████████████████| 2/2 [00:19<00:00,  9.53s/it]"
     ]
    },
    {
     "name": "stdout",
     "output_type": "stream",
     "text": [
      "Compiling dictionaries together...\n",
      "Index 0, description CONTRAST120CC@3CC/S,90S DELAY  at input\\HNSCC-01-0512\\10-10-2010-NA-SFT tissue neck oral-78084\\2.000000-CONTRAST120CC3CCS90S DELAY-12050\n",
      "1 unique series IDs were found. Default is index 0, to change use set_index(index)\n",
      "Loading images for CONTRAST120CC@3CC/S,90S DELAY  at \n",
      " input\\HNSCC-01-0512\\10-10-2010-NA-SFT tissue neck oral-78084\\2.000000-CONTRAST120CC3CCS90S DELAY-12050\n",
      "\n"
     ]
    },
    {
     "name": "stderr",
     "output_type": "stream",
     "text": [
      "Loading through DICOM files: 100%|███████████████████████████████████████████████████████| 2/2 [00:56<00:00, 28.19s/it]\n",
      "Loading through DICOM files:   0%|                                                               | 0/2 [00:00<?, ?it/s]"
     ]
    },
    {
     "name": "stdout",
     "output_type": "stream",
     "text": [
      "Loading from input\\HNSCC-01-0513\\10-10-2010-NA-CT SOFT TISSUE NECK W-22611\\1.000000-Series Description-09840\n",
      "Loading from input\\HNSCC-01-0513\\10-10-2010-NA-CT SOFT TISSUE NECK W-22611\\2.000000-CONTRAST120CC3CCS90S DELAY-36754\n"
     ]
    },
    {
     "name": "stderr",
     "output_type": "stream",
     "text": [
      "\r",
      "Loading through DICOM files: 100%|███████████████████████████████████████████████████████| 2/2 [00:16<00:00,  8.18s/it]"
     ]
    },
    {
     "name": "stdout",
     "output_type": "stream",
     "text": [
      "Compiling dictionaries together...\n",
      "Index 0, description CONTRAST120CC@3CC/S,90S DELAY  at input\\HNSCC-01-0513\\10-10-2010-NA-CT SOFT TISSUE NECK W-22611\\2.000000-CONTRAST120CC3CCS90S DELAY-36754\n",
      "1 unique series IDs were found. Default is index 0, to change use set_index(index)\n",
      "Loading images for CONTRAST120CC@3CC/S,90S DELAY  at \n",
      " input\\HNSCC-01-0513\\10-10-2010-NA-CT SOFT TISSUE NECK W-22611\\2.000000-CONTRAST120CC3CCS90S DELAY-36754\n",
      "\n"
     ]
    },
    {
     "name": "stderr",
     "output_type": "stream",
     "text": [
      "Loading through DICOM files: 100%|███████████████████████████████████████████████████████| 2/2 [00:49<00:00, 24.66s/it]\n",
      "Loading through DICOM files:  50%|███████████████████████████▌                           | 1/2 [00:00<00:00,  9.88it/s]"
     ]
    },
    {
     "name": "stdout",
     "output_type": "stream",
     "text": [
      "Loading from input\\HNSCC-01-0514\\10-10-2010-NA-CT HN SKINSCALP-74190\\2.000000-CONTRAST120CC3CCS90S DELAY-10416Loading from input\\HNSCC-01-0514\\10-10-2010-NA-CT HN SKINSCALP-74190\\1.000000-Series Description-87628\n",
      "\n"
     ]
    },
    {
     "name": "stderr",
     "output_type": "stream",
     "text": [
      "\r",
      "Loading through DICOM files: 100%|███████████████████████████████████████████████████████| 2/2 [00:22<00:00, 13.22s/it]"
     ]
    },
    {
     "name": "stdout",
     "output_type": "stream",
     "text": [
      "Compiling dictionaries together...\n",
      "Index 0, description CONTRAST120CC@3CC/S,90S DELAY  at input\\HNSCC-01-0514\\10-10-2010-NA-CT HN SKINSCALP-74190\\2.000000-CONTRAST120CC3CCS90S DELAY-10416\n",
      "1 unique series IDs were found. Default is index 0, to change use set_index(index)\n",
      "Loading images for CONTRAST120CC@3CC/S,90S DELAY  at \n",
      " input\\HNSCC-01-0514\\10-10-2010-NA-CT HN SKINSCALP-74190\\2.000000-CONTRAST120CC3CCS90S DELAY-10416\n",
      "\n"
     ]
    },
    {
     "name": "stderr",
     "output_type": "stream",
     "text": [
      "Loading through DICOM files: 100%|███████████████████████████████████████████████████████| 2/2 [01:04<00:00, 32.17s/it]\n",
      "Loading through DICOM files:  50%|███████████████████████████▌                           | 1/2 [00:00<00:00,  8.20it/s]"
     ]
    },
    {
     "name": "stdout",
     "output_type": "stream",
     "text": [
      "Loading from input\\HNSCC-01-0516\\10-10-2010-NA-001-57265\\2.000000-CONTRAST120CC3CCS90S DELAY-90545\n",
      "Loading from input\\HNSCC-01-0516\\10-10-2010-NA-001-57265\\1.000000-Series Description-72118\n"
     ]
    },
    {
     "name": "stderr",
     "output_type": "stream",
     "text": [
      "\r",
      "Loading through DICOM files: 100%|███████████████████████████████████████████████████████| 2/2 [00:20<00:00, 12.21s/it]"
     ]
    },
    {
     "name": "stdout",
     "output_type": "stream",
     "text": [
      "Compiling dictionaries together...\n",
      "Index 0, description CONTRAST120CC@3CC/S,90S DELAY  at input\\HNSCC-01-0516\\10-10-2010-NA-001-57265\\2.000000-CONTRAST120CC3CCS90S DELAY-90545\n",
      "1 unique series IDs were found. Default is index 0, to change use set_index(index)\n",
      "Loading images for CONTRAST120CC@3CC/S,90S DELAY  at \n",
      " input\\HNSCC-01-0516\\10-10-2010-NA-001-57265\\2.000000-CONTRAST120CC3CCS90S DELAY-90545\n",
      "\n"
     ]
    },
    {
     "name": "stderr",
     "output_type": "stream",
     "text": [
      "Loading through DICOM files: 100%|███████████████████████████████████████████████████████| 2/2 [01:02<00:00, 31.20s/it]\n",
      "Loading through DICOM files:   0%|                                                               | 0/2 [00:00<?, ?it/s]"
     ]
    },
    {
     "name": "stdout",
     "output_type": "stream",
     "text": [
      "Loading from input\\HNSCC-01-0517\\10-10-2010-NA-CT SOFT TISSUE NECK W-52751\\1.000000-Series Description-56634\n",
      "Loading from input\\HNSCC-01-0517\\10-10-2010-NA-CT SOFT TISSUE NECK W-52751\\2.000000-CONTRAST120CC3CCS90S DELAY-79792\n"
     ]
    },
    {
     "name": "stderr",
     "output_type": "stream",
     "text": [
      "\r",
      "Loading through DICOM files: 100%|███████████████████████████████████████████████████████| 2/2 [00:16<00:00,  8.24s/it]"
     ]
    },
    {
     "name": "stdout",
     "output_type": "stream",
     "text": [
      "Compiling dictionaries together...\n",
      "Index 0, description CONTRAST120CC@3CC/S,90S DELAY  at input\\HNSCC-01-0517\\10-10-2010-NA-CT SOFT TISSUE NECK W-52751\\2.000000-CONTRAST120CC3CCS90S DELAY-79792\n",
      "1 unique series IDs were found. Default is index 0, to change use set_index(index)\n",
      "Loading images for CONTRAST120CC@3CC/S,90S DELAY  at \n",
      " input\\HNSCC-01-0517\\10-10-2010-NA-CT SOFT TISSUE NECK W-52751\\2.000000-CONTRAST120CC3CCS90S DELAY-79792\n",
      "\n"
     ]
    },
    {
     "name": "stderr",
     "output_type": "stream",
     "text": [
      "Loading through DICOM files: 100%|███████████████████████████████████████████████████████| 2/2 [00:51<00:00, 25.95s/it]\n",
      "Loading through DICOM files:  50%|███████████████████████████▌                           | 1/2 [00:00<00:00,  9.35it/s]"
     ]
    },
    {
     "name": "stdout",
     "output_type": "stream",
     "text": [
      "Loading from input\\HNSCC-01-0518\\10-10-2010-NA-CT SOFT TISSUE NECK W-37973\\2.000000-CONTRAST120CC3CCS90S DELAY-37385\n",
      "Loading from input\\HNSCC-01-0518\\10-10-2010-NA-CT SOFT TISSUE NECK W-37973\\1.000000-Series Description-24961\n"
     ]
    },
    {
     "name": "stderr",
     "output_type": "stream",
     "text": [
      "\r",
      "Loading through DICOM files: 100%|███████████████████████████████████████████████████████| 2/2 [00:14<00:00,  8.37s/it]"
     ]
    },
    {
     "name": "stdout",
     "output_type": "stream",
     "text": [
      "Compiling dictionaries together...\n",
      "Index 0, description CONTRAST120CC@3CC/S,90S DELAY  at input\\HNSCC-01-0518\\10-10-2010-NA-CT SOFT TISSUE NECK W-37973\\2.000000-CONTRAST120CC3CCS90S DELAY-37385\n",
      "1 unique series IDs were found. Default is index 0, to change use set_index(index)\n",
      "Loading images for CONTRAST120CC@3CC/S,90S DELAY  at \n",
      " input\\HNSCC-01-0518\\10-10-2010-NA-CT SOFT TISSUE NECK W-37973\\2.000000-CONTRAST120CC3CCS90S DELAY-37385\n",
      "\n"
     ]
    },
    {
     "name": "stderr",
     "output_type": "stream",
     "text": [
      "Loading through DICOM files: 100%|███████████████████████████████████████████████████████| 2/2 [00:44<00:00, 22.07s/it]\n",
      "Loading through DICOM files:   0%|                                                               | 0/2 [00:00<?, ?it/s]"
     ]
    },
    {
     "name": "stdout",
     "output_type": "stream",
     "text": [
      "Loading from input\\HNSCC-01-0519\\10-10-2010-NA-CT SOFT TISSUE NECK W-67244\\2.000000-CONTRAST120CC3CCS90S DELAY-66501\n",
      "Loading from input\\HNSCC-01-0519\\10-10-2010-NA-CT SOFT TISSUE NECK W-67244\\1.000000-Series Description-09423\n"
     ]
    },
    {
     "name": "stderr",
     "output_type": "stream",
     "text": [
      "Loading through DICOM files: 100%|███████████████████████████████████████████████████████| 2/2 [00:17<00:00, 10.13s/it]"
     ]
    },
    {
     "name": "stdout",
     "output_type": "stream",
     "text": [
      "Compiling dictionaries together...\n",
      "Index 0, description CONTRAST120CC@3CC/S,90S DELAY  at input\\HNSCC-01-0519\\10-10-2010-NA-CT SOFT TISSUE NECK W-67244\\2.000000-CONTRAST120CC3CCS90S DELAY-66501\n",
      "1 unique series IDs were found. Default is index 0, to change use set_index(index)\n",
      "Loading images for CONTRAST120CC@3CC/S,90S DELAY  at \n",
      " input\\HNSCC-01-0519\\10-10-2010-NA-CT SOFT TISSUE NECK W-67244\\2.000000-CONTRAST120CC3CCS90S DELAY-66501\n",
      "\n"
     ]
    },
    {
     "name": "stderr",
     "output_type": "stream",
     "text": [
      "Loading through DICOM files: 100%|███████████████████████████████████████████████████████| 2/2 [00:55<00:00, 27.58s/it]\n",
      "Loading through DICOM files:   0%|                                                               | 0/2 [00:00<?, ?it/s]"
     ]
    },
    {
     "name": "stdout",
     "output_type": "stream",
     "text": [
      "Loading from input\\HNSCC-01-0521\\10-10-2010-NA-002-92552\\1.000000-Series Description-78637\n",
      "Loading from input\\HNSCC-01-0521\\10-10-2010-NA-002-92552\\2.000000-CONTRAST120CC3CCS90S DELAY-56558\n"
     ]
    },
    {
     "name": "stderr",
     "output_type": "stream",
     "text": [
      "\r",
      "Loading through DICOM files: 100%|███████████████████████████████████████████████████████| 2/2 [00:13<00:00,  6.63s/it]"
     ]
    },
    {
     "name": "stdout",
     "output_type": "stream",
     "text": [
      "Compiling dictionaries together...\n",
      "Index 0, description CONTRAST120CC@3CC/S,90S DELAY  at input\\HNSCC-01-0521\\10-10-2010-NA-002-92552\\2.000000-CONTRAST120CC3CCS90S DELAY-56558\n",
      "1 unique series IDs were found. Default is index 0, to change use set_index(index)\n",
      "Loading images for CONTRAST120CC@3CC/S,90S DELAY  at \n",
      " input\\HNSCC-01-0521\\10-10-2010-NA-002-92552\\2.000000-CONTRAST120CC3CCS90S DELAY-56558\n",
      "\n"
     ]
    },
    {
     "name": "stderr",
     "output_type": "stream",
     "text": [
      "Loading through DICOM files: 100%|███████████████████████████████████████████████████████| 2/2 [00:42<00:00, 21.45s/it]\n",
      "Loading through DICOM files:  50%|███████████████████████████▌                           | 1/2 [00:00<00:00,  7.31it/s]"
     ]
    },
    {
     "name": "stdout",
     "output_type": "stream",
     "text": [
      "Loading from input\\HNSCC-01-0522\\10-10-2010-NA-CT SOFT TISSUE NECK W-79243\\2.000000-CONTRAST120CC3CCS90S DELAY-69529\n",
      "Loading from input\\HNSCC-01-0522\\10-10-2010-NA-CT SOFT TISSUE NECK W-79243\\1.000000-fixed-99493\n"
     ]
    },
    {
     "name": "stderr",
     "output_type": "stream",
     "text": [
      "\r",
      "Loading through DICOM files: 100%|███████████████████████████████████████████████████████| 2/2 [00:15<00:00,  9.23s/it]"
     ]
    },
    {
     "name": "stdout",
     "output_type": "stream",
     "text": [
      "Compiling dictionaries together...\n",
      "Index 0, description CONTRAST120CC@3CC/S,90S DELAY  at input\\HNSCC-01-0522\\10-10-2010-NA-CT SOFT TISSUE NECK W-79243\\2.000000-CONTRAST120CC3CCS90S DELAY-69529\n",
      "1 unique series IDs were found. Default is index 0, to change use set_index(index)\n",
      "Loading images for CONTRAST120CC@3CC/S,90S DELAY  at \n",
      " input\\HNSCC-01-0522\\10-10-2010-NA-CT SOFT TISSUE NECK W-79243\\2.000000-CONTRAST120CC3CCS90S DELAY-69529\n",
      "\n"
     ]
    },
    {
     "name": "stderr",
     "output_type": "stream",
     "text": [
      "Loading through DICOM files: 100%|███████████████████████████████████████████████████████| 2/2 [00:51<00:00, 25.82s/it]\n",
      "Loading through DICOM files:  50%|███████████████████████████▌                           | 1/2 [00:00<00:00,  9.71it/s]"
     ]
    },
    {
     "name": "stdout",
     "output_type": "stream",
     "text": [
      "Loading from input\\HNSCC-01-0523\\10-10-2010-NA-CT SOFT TISSUE NECK W-97462\\1.000000-Series Description-15490\n",
      "Loading from input\\HNSCC-01-0523\\10-10-2010-NA-CT SOFT TISSUE NECK W-97462\\2.000000-CONTRAST120CC3CCS90S DELAY-65745\n"
     ]
    },
    {
     "name": "stderr",
     "output_type": "stream",
     "text": [
      "\r",
      "Loading through DICOM files: 100%|███████████████████████████████████████████████████████| 2/2 [00:14<00:00,  8.66s/it]"
     ]
    },
    {
     "name": "stdout",
     "output_type": "stream",
     "text": [
      "Compiling dictionaries together...\n",
      "Index 0, description CONTRAST120CC@3CC/S,90S DELAY  at input\\HNSCC-01-0523\\10-10-2010-NA-CT SOFT TISSUE NECK W-97462\\2.000000-CONTRAST120CC3CCS90S DELAY-65745\n",
      "1 unique series IDs were found. Default is index 0, to change use set_index(index)\n",
      "Loading images for CONTRAST120CC@3CC/S,90S DELAY  at \n",
      " input\\HNSCC-01-0523\\10-10-2010-NA-CT SOFT TISSUE NECK W-97462\\2.000000-CONTRAST120CC3CCS90S DELAY-65745\n",
      "\n"
     ]
    },
    {
     "name": "stderr",
     "output_type": "stream",
     "text": [
      "Loading through DICOM files: 100%|███████████████████████████████████████████████████████| 2/2 [00:49<00:00, 24.66s/it]\n",
      "Loading through DICOM files:   0%|                                                               | 0/2 [00:00<?, ?it/s]"
     ]
    },
    {
     "name": "stdout",
     "output_type": "stream",
     "text": [
      "Loading from input\\HNSCC-01-0524\\10-10-2010-NA-CT SOFT TISSUE NECK W-46417\\1.000000-Series Description-87998\n",
      "Loading from input\\HNSCC-01-0524\\10-10-2010-NA-CT SOFT TISSUE NECK W-46417\\2.000000-CONTRAST120CC3CCS90S DELAY-43962\n"
     ]
    },
    {
     "name": "stderr",
     "output_type": "stream",
     "text": [
      "\r",
      "Loading through DICOM files: 100%|███████████████████████████████████████████████████████| 2/2 [00:19<00:00,  9.71s/it]"
     ]
    },
    {
     "name": "stdout",
     "output_type": "stream",
     "text": [
      "Compiling dictionaries together...\n",
      "Index 0, description CONTRAST120CC@3CC/S,90S DELAY  at input\\HNSCC-01-0524\\10-10-2010-NA-CT SOFT TISSUE NECK W-46417\\2.000000-CONTRAST120CC3CCS90S DELAY-43962\n",
      "1 unique series IDs were found. Default is index 0, to change use set_index(index)\n",
      "Loading images for CONTRAST120CC@3CC/S,90S DELAY  at \n",
      " input\\HNSCC-01-0524\\10-10-2010-NA-CT SOFT TISSUE NECK W-46417\\2.000000-CONTRAST120CC3CCS90S DELAY-43962\n",
      "\n"
     ]
    },
    {
     "name": "stderr",
     "output_type": "stream",
     "text": [
      "Loading through DICOM files: 100%|███████████████████████████████████████████████████████| 2/2 [00:56<00:00, 28.09s/it]\n",
      "Loading through DICOM files:  50%|███████████████████████████▌                           | 1/2 [00:00<00:00,  9.71it/s]"
     ]
    },
    {
     "name": "stdout",
     "output_type": "stream",
     "text": [
      "Loading from input\\HNSCC-01-0525\\10-10-2010-NA-002-37682\\2.000000-CONTRAST120CC3CCS90S DELAY-33778\n",
      "Loading from input\\HNSCC-01-0525\\10-10-2010-NA-002-37682\\1.000000-Series Description-75209\n"
     ]
    },
    {
     "name": "stderr",
     "output_type": "stream",
     "text": [
      "\r",
      "Loading through DICOM files: 100%|███████████████████████████████████████████████████████| 2/2 [00:14<00:00,  8.42s/it]"
     ]
    },
    {
     "name": "stdout",
     "output_type": "stream",
     "text": [
      "Compiling dictionaries together...\n",
      "Index 0, description CONTRAST120CC@3CC/S,90S DELAY  at input\\HNSCC-01-0525\\10-10-2010-NA-002-37682\\2.000000-CONTRAST120CC3CCS90S DELAY-33778\n",
      "1 unique series IDs were found. Default is index 0, to change use set_index(index)\n",
      "Loading images for CONTRAST120CC@3CC/S,90S DELAY  at \n",
      " input\\HNSCC-01-0525\\10-10-2010-NA-002-37682\\2.000000-CONTRAST120CC3CCS90S DELAY-33778\n",
      "\n"
     ]
    },
    {
     "name": "stderr",
     "output_type": "stream",
     "text": [
      "Loading through DICOM files: 100%|███████████████████████████████████████████████████████| 2/2 [00:43<00:00, 21.54s/it]\n",
      "Loading through DICOM files:  50%|███████████████████████████▌                           | 1/2 [00:00<00:00,  7.85it/s]"
     ]
    },
    {
     "name": "stdout",
     "output_type": "stream",
     "text": [
      "Loading from input\\HNSCC-01-0526\\10-10-2010-NA-CT SOFT TISSUE NECK W-92693\\2.000000-CONTRAST120CC3CCS90S DELAY-29116\n",
      "Loading from input\\HNSCC-01-0526\\10-10-2010-NA-CT SOFT TISSUE NECK W-92693\\1.000000-Series Description-38793\n"
     ]
    },
    {
     "name": "stderr",
     "output_type": "stream",
     "text": [
      "\r",
      "Loading through DICOM files: 100%|███████████████████████████████████████████████████████| 2/2 [00:16<00:00,  9.94s/it]"
     ]
    },
    {
     "name": "stdout",
     "output_type": "stream",
     "text": [
      "Compiling dictionaries together...\n",
      "Index 0, description CONTRAST120CC@3CC/S,90S DELAY  at input\\HNSCC-01-0526\\10-10-2010-NA-CT SOFT TISSUE NECK W-92693\\2.000000-CONTRAST120CC3CCS90S DELAY-29116\n",
      "1 unique series IDs were found. Default is index 0, to change use set_index(index)\n",
      "Loading images for CONTRAST120CC@3CC/S,90S DELAY  at \n",
      " input\\HNSCC-01-0526\\10-10-2010-NA-CT SOFT TISSUE NECK W-92693\\2.000000-CONTRAST120CC3CCS90S DELAY-29116\n",
      "\n"
     ]
    },
    {
     "name": "stderr",
     "output_type": "stream",
     "text": [
      "Loading through DICOM files: 100%|███████████████████████████████████████████████████████| 2/2 [00:52<00:00, 26.33s/it]\n",
      "Loading through DICOM files:   0%|                                                               | 0/2 [00:00<?, ?it/s]"
     ]
    },
    {
     "name": "stdout",
     "output_type": "stream",
     "text": [
      "Loading from input\\HNSCC-01-0527\\10-10-2010-NA-CT SOFT TISSUE NECK W-29301\\1.000000-Series Description-92936\n",
      "Loading from input\\HNSCC-01-0527\\10-10-2010-NA-CT SOFT TISSUE NECK W-29301\\2.000000-CONTRAST120CC3CCS90S DELAY-61567\n"
     ]
    },
    {
     "name": "stderr",
     "output_type": "stream",
     "text": [
      "\r",
      "Loading through DICOM files: 100%|███████████████████████████████████████████████████████| 2/2 [00:17<00:00,  8.83s/it]"
     ]
    },
    {
     "name": "stdout",
     "output_type": "stream",
     "text": [
      "Compiling dictionaries together...\n",
      "Index 0, description CONTRAST120CC@3CC/S,90S DELAY  at input\\HNSCC-01-0527\\10-10-2010-NA-CT SOFT TISSUE NECK W-29301\\2.000000-CONTRAST120CC3CCS90S DELAY-61567\n",
      "1 unique series IDs were found. Default is index 0, to change use set_index(index)\n",
      "Loading images for CONTRAST120CC@3CC/S,90S DELAY  at \n",
      " input\\HNSCC-01-0527\\10-10-2010-NA-CT SOFT TISSUE NECK W-29301\\2.000000-CONTRAST120CC3CCS90S DELAY-61567\n",
      "\n"
     ]
    },
    {
     "name": "stderr",
     "output_type": "stream",
     "text": [
      "Loading through DICOM files: 100%|███████████████████████████████████████████████████████| 2/2 [00:50<00:00, 25.40s/it]\n",
      "Loading through DICOM files:  50%|███████████████████████████▌                           | 1/2 [00:00<00:00,  6.51it/s]"
     ]
    },
    {
     "name": "stdout",
     "output_type": "stream",
     "text": [
      "Loading from input\\HNSCC-01-0528\\10-10-2010-NA-002-99688\\2.000000-CONTRAST120CC3CCS90S DELAY-90926\n",
      "Loading from input\\HNSCC-01-0528\\10-10-2010-NA-002-99688\\1.000000-Series Description-56524\n"
     ]
    },
    {
     "name": "stderr",
     "output_type": "stream",
     "text": [
      "\r",
      "Loading through DICOM files: 100%|███████████████████████████████████████████████████████| 2/2 [00:16<00:00,  9.60s/it]"
     ]
    },
    {
     "name": "stdout",
     "output_type": "stream",
     "text": [
      "Compiling dictionaries together...\n",
      "Index 0, description CONTRAST120CC@3CC/S,90S DELAY  at input\\HNSCC-01-0528\\10-10-2010-NA-002-99688\\2.000000-CONTRAST120CC3CCS90S DELAY-90926\n",
      "1 unique series IDs were found. Default is index 0, to change use set_index(index)\n",
      "Loading images for CONTRAST120CC@3CC/S,90S DELAY  at \n",
      " input\\HNSCC-01-0528\\10-10-2010-NA-002-99688\\2.000000-CONTRAST120CC3CCS90S DELAY-90926\n",
      "\n"
     ]
    },
    {
     "name": "stderr",
     "output_type": "stream",
     "text": [
      "Loading through DICOM files: 100%|███████████████████████████████████████████████████████| 2/2 [00:44<00:00, 22.33s/it]\n",
      "Loading through DICOM files:   0%|                                                               | 0/2 [00:00<?, ?it/s]"
     ]
    },
    {
     "name": "stdout",
     "output_type": "stream",
     "text": [
      "Loading from input\\HNSCC-01-0529\\10-10-2010-NA-002-50164\\2.000000-CONTRAST120CC3CCS90S DELAY-81065\n",
      "Loading from input\\HNSCC-01-0529\\10-10-2010-NA-002-50164\\1.000000-Series Description-10483\n"
     ]
    },
    {
     "name": "stderr",
     "output_type": "stream",
     "text": [
      "\r",
      "Loading through DICOM files: 100%|███████████████████████████████████████████████████████| 2/2 [00:19<00:00,  9.50s/it]"
     ]
    },
    {
     "name": "stdout",
     "output_type": "stream",
     "text": [
      "Compiling dictionaries together...\n",
      "Index 0, description CONTRAST120CC@3CC/S,90S DELAY  at input\\HNSCC-01-0529\\10-10-2010-NA-002-50164\\2.000000-CONTRAST120CC3CCS90S DELAY-81065\n",
      "1 unique series IDs were found. Default is index 0, to change use set_index(index)\n",
      "Loading images for CONTRAST120CC@3CC/S,90S DELAY  at \n",
      " input\\HNSCC-01-0529\\10-10-2010-NA-002-50164\\2.000000-CONTRAST120CC3CCS90S DELAY-81065\n",
      "\n"
     ]
    },
    {
     "name": "stderr",
     "output_type": "stream",
     "text": [
      "Loading through DICOM files: 100%|███████████████████████████████████████████████████████| 2/2 [00:53<00:00, 26.85s/it]\n",
      "Loading through DICOM files:  50%|███████████████████████████▌                           | 1/2 [00:00<00:00,  9.89it/s]"
     ]
    },
    {
     "name": "stdout",
     "output_type": "stream",
     "text": [
      "Loading from input\\HNSCC-01-0530\\10-10-2010-NA-CT SOFT TISSUE NECK W-53880\\2.000000-CONTRAST120CC3CCS90S DELAY-25870\n",
      "Loading from input\\HNSCC-01-0530\\10-10-2010-NA-CT SOFT TISSUE NECK W-53880\\1.000000-Series Description-97966\n"
     ]
    },
    {
     "name": "stderr",
     "output_type": "stream",
     "text": [
      "\r",
      "Loading through DICOM files: 100%|███████████████████████████████████████████████████████| 2/2 [00:26<00:00, 15.86s/it]"
     ]
    },
    {
     "name": "stdout",
     "output_type": "stream",
     "text": [
      "Compiling dictionaries together...\n",
      "Index 0, description CONTRAST120CC@3CC/S,90S DELAY  at input\\HNSCC-01-0530\\10-10-2010-NA-CT SOFT TISSUE NECK W-53880\\2.000000-CONTRAST120CC3CCS90S DELAY-25870\n",
      "1 unique series IDs were found. Default is index 0, to change use set_index(index)\n",
      "Loading images for CONTRAST120CC@3CC/S,90S DELAY  at \n",
      " input\\HNSCC-01-0530\\10-10-2010-NA-CT SOFT TISSUE NECK W-53880\\2.000000-CONTRAST120CC3CCS90S DELAY-25870\n",
      "\n"
     ]
    },
    {
     "name": "stderr",
     "output_type": "stream",
     "text": [
      "Loading through DICOM files: 100%|███████████████████████████████████████████████████████| 2/2 [01:13<00:00, 36.71s/it]\n",
      "Loading through DICOM files:  50%|███████████████████████████▌                           | 1/2 [00:00<00:00,  9.26it/s]"
     ]
    },
    {
     "name": "stdout",
     "output_type": "stream",
     "text": [
      "Loading from input\\HNSCC-01-0531\\10-10-2010-NA-CT HN ORALNASO-84207\\2.000000-CONTRAST120CC3CCS90S DELAY-19560\n",
      "Loading from input\\HNSCC-01-0531\\10-10-2010-NA-CT HN ORALNASO-84207\\1.000000-Series Description-32704\n"
     ]
    },
    {
     "name": "stderr",
     "output_type": "stream",
     "text": [
      "\r",
      "Loading through DICOM files: 100%|███████████████████████████████████████████████████████| 2/2 [00:17<00:00, 10.00s/it]"
     ]
    },
    {
     "name": "stdout",
     "output_type": "stream",
     "text": [
      "Compiling dictionaries together...\n",
      "Index 0, description CONTRAST120CC@3CC/S,90S DELAY  at input\\HNSCC-01-0531\\10-10-2010-NA-CT HN ORALNASO-84207\\2.000000-CONTRAST120CC3CCS90S DELAY-19560\n",
      "1 unique series IDs were found. Default is index 0, to change use set_index(index)\n",
      "Loading images for CONTRAST120CC@3CC/S,90S DELAY  at \n",
      " input\\HNSCC-01-0531\\10-10-2010-NA-CT HN ORALNASO-84207\\2.000000-CONTRAST120CC3CCS90S DELAY-19560\n",
      "\n"
     ]
    },
    {
     "name": "stderr",
     "output_type": "stream",
     "text": [
      "Loading through DICOM files: 100%|███████████████████████████████████████████████████████| 2/2 [00:55<00:00, 27.68s/it]\n",
      "Loading through DICOM files:  50%|███████████████████████████▌                           | 1/2 [00:00<00:00,  6.17it/s]"
     ]
    },
    {
     "name": "stdout",
     "output_type": "stream",
     "text": [
      "Loading from input\\HNSCC-01-0532\\10-10-2010-NA-CT SOFT TISSUE NECK W-85345\\2.000000-CONTRAST120CC3CCS90S DELAY-89591\n",
      "Loading from input\\HNSCC-01-0532\\10-10-2010-NA-CT SOFT TISSUE NECK W-85345\\1.000000-Series Description-78262\n"
     ]
    },
    {
     "name": "stderr",
     "output_type": "stream",
     "text": [
      "\r",
      "Loading through DICOM files: 100%|███████████████████████████████████████████████████████| 2/2 [00:20<00:00, 12.06s/it]"
     ]
    },
    {
     "name": "stdout",
     "output_type": "stream",
     "text": [
      "Compiling dictionaries together...\n",
      "Index 0, description CONTRAST120CC@3CC/S,90S DELAY  at input\\HNSCC-01-0532\\10-10-2010-NA-CT SOFT TISSUE NECK W-85345\\2.000000-CONTRAST120CC3CCS90S DELAY-89591\n",
      "1 unique series IDs were found. Default is index 0, to change use set_index(index)\n",
      "Loading images for CONTRAST120CC@3CC/S,90S DELAY  at \n",
      " input\\HNSCC-01-0532\\10-10-2010-NA-CT SOFT TISSUE NECK W-85345\\2.000000-CONTRAST120CC3CCS90S DELAY-89591\n",
      "\n"
     ]
    },
    {
     "name": "stderr",
     "output_type": "stream",
     "text": [
      "Loading through DICOM files: 100%|███████████████████████████████████████████████████████| 2/2 [01:02<00:00, 31.02s/it]\n",
      "Loading through DICOM files:   0%|                                                               | 0/2 [00:00<?, ?it/s]"
     ]
    },
    {
     "name": "stdout",
     "output_type": "stream",
     "text": [
      "Loading from input\\HNSCC-01-0534\\10-10-2010-NA-CT SOFT TISSUE NECK W-43953\\1.000000-Series Description-33064Loading from input\\HNSCC-01-0534\\10-10-2010-NA-CT SOFT TISSUE NECK W-43953\\2.000000-CONTRAST120CC3CCS90S DELAY-20193\n",
      "\n"
     ]
    },
    {
     "name": "stderr",
     "output_type": "stream",
     "text": [
      "\r",
      "Loading through DICOM files: 100%|███████████████████████████████████████████████████████| 2/2 [00:18<00:00,  9.43s/it]"
     ]
    },
    {
     "name": "stdout",
     "output_type": "stream",
     "text": [
      "Compiling dictionaries together...\n",
      "Index 0, description CONTRAST120CC@3CC/S,90S DELAY  at input\\HNSCC-01-0534\\10-10-2010-NA-CT SOFT TISSUE NECK W-43953\\2.000000-CONTRAST120CC3CCS90S DELAY-20193\n",
      "1 unique series IDs were found. Default is index 0, to change use set_index(index)\n",
      "Loading images for CONTRAST120CC@3CC/S,90S DELAY  at \n",
      " input\\HNSCC-01-0534\\10-10-2010-NA-CT SOFT TISSUE NECK W-43953\\2.000000-CONTRAST120CC3CCS90S DELAY-20193\n",
      "\n"
     ]
    },
    {
     "name": "stderr",
     "output_type": "stream",
     "text": [
      "Loading through DICOM files: 100%|███████████████████████████████████████████████████████| 2/2 [00:52<00:00, 26.23s/it]\n",
      "Loading through DICOM files:  50%|███████████████████████████▌                           | 1/2 [00:00<00:00,  9.88it/s]"
     ]
    },
    {
     "name": "stdout",
     "output_type": "stream",
     "text": [
      "Loading from input\\HNSCC-01-0535\\10-10-2010-NA-005-84208\\1.000000-Series Description-56997Loading from input\\HNSCC-01-0535\\10-10-2010-NA-005-84208\\3.000000-NECK  CONTRAST-72146\n",
      "\n"
     ]
    },
    {
     "name": "stderr",
     "output_type": "stream",
     "text": [
      "\r",
      "Loading through DICOM files: 100%|███████████████████████████████████████████████████████| 2/2 [00:07<00:00,  4.35s/it]"
     ]
    },
    {
     "name": "stdout",
     "output_type": "stream",
     "text": [
      "Compiling dictionaries together...\n",
      "Index 0, description NECK + CONTRAST  at input\\HNSCC-01-0535\\10-10-2010-NA-005-84208\\3.000000-NECK  CONTRAST-72146\n",
      "1 unique series IDs were found. Default is index 0, to change use set_index(index)\n",
      "Loading images for NECK + CONTRAST  at \n",
      " input\\HNSCC-01-0535\\10-10-2010-NA-005-84208\\3.000000-NECK  CONTRAST-72146\n",
      "\n"
     ]
    },
    {
     "name": "stderr",
     "output_type": "stream",
     "text": [
      "\n",
      "Loading through DICOM files: 100%|███████████████████████████████████████████████████████| 2/2 [00:29<00:00, 14.70s/it]\u001b[A\n",
      "\n",
      "Loading through DICOM files:  50%|███████████████████████████▌                           | 1/2 [00:00<00:00,  7.59it/s]\u001b[A"
     ]
    },
    {
     "name": "stdout",
     "output_type": "stream",
     "text": [
      "Loading from input\\HNSCC-01-0536\\10-10-2010-NA-CT SOFT TISSUE NECK W-53656\\2.000000-CONTRAST120CC3CCS90S DELAY-36285\n",
      "Loading from input\\HNSCC-01-0536\\10-10-2010-NA-CT SOFT TISSUE NECK W-53656\\1.000000-Series Description-45684\n"
     ]
    },
    {
     "name": "stderr",
     "output_type": "stream",
     "text": [
      "\n",
      "Loading through DICOM files: 100%|███████████████████████████████████████████████████████| 2/2 [00:18<00:00, 10.79s/it]\u001b[A"
     ]
    },
    {
     "name": "stdout",
     "output_type": "stream",
     "text": [
      "Compiling dictionaries together...\n",
      "Index 0, description CONTRAST120CC@3CC/S,90S DELAY  at input\\HNSCC-01-0536\\10-10-2010-NA-CT SOFT TISSUE NECK W-53656\\2.000000-CONTRAST120CC3CCS90S DELAY-36285\n",
      "1 unique series IDs were found. Default is index 0, to change use set_index(index)\n",
      "Loading images for CONTRAST120CC@3CC/S,90S DELAY  at \n",
      " input\\HNSCC-01-0536\\10-10-2010-NA-CT SOFT TISSUE NECK W-53656\\2.000000-CONTRAST120CC3CCS90S DELAY-36285\n",
      "\n"
     ]
    },
    {
     "name": "stderr",
     "output_type": "stream",
     "text": [
      "Loading through DICOM files: 100%|███████████████████████████████████████████████████████| 2/2 [00:52<00:00, 26.38s/it]\n",
      "Loading through DICOM files:   0%|                                                               | 0/2 [00:00<?, ?it/s]"
     ]
    },
    {
     "name": "stdout",
     "output_type": "stream",
     "text": [
      "Loading from input\\HNSCC-01-0537\\11-13-2011-NA-CT SOFT TISSUE NECK W-85502\\1.000000-Series Description-60533\n",
      "Loading from input\\HNSCC-01-0537\\11-13-2011-NA-CT SOFT TISSUE NECK W-85502\\2.000000-CONTRAST120CC3CCS90S DELAY-25286\n"
     ]
    },
    {
     "name": "stderr",
     "output_type": "stream",
     "text": [
      "\r",
      "Loading through DICOM files: 100%|███████████████████████████████████████████████████████| 2/2 [00:15<00:00,  7.94s/it]"
     ]
    },
    {
     "name": "stdout",
     "output_type": "stream",
     "text": [
      "Compiling dictionaries together...\n",
      "Index 0, description CONTRAST120CC@3CC/S,90S DELAY  at input\\HNSCC-01-0537\\11-13-2011-NA-CT SOFT TISSUE NECK W-85502\\2.000000-CONTRAST120CC3CCS90S DELAY-25286\n",
      "1 unique series IDs were found. Default is index 0, to change use set_index(index)\n",
      "Loading images for CONTRAST120CC@3CC/S,90S DELAY  at \n",
      " input\\HNSCC-01-0537\\11-13-2011-NA-CT SOFT TISSUE NECK W-85502\\2.000000-CONTRAST120CC3CCS90S DELAY-25286\n",
      "\n"
     ]
    },
    {
     "name": "stderr",
     "output_type": "stream",
     "text": [
      "Loading through DICOM files: 100%|███████████████████████████████████████████████████████| 2/2 [00:51<00:00, 25.81s/it]\n",
      "Loading through DICOM files:   0%|                                                               | 0/2 [00:00<?, ?it/s]"
     ]
    },
    {
     "name": "stdout",
     "output_type": "stream",
     "text": [
      "Loading from input\\HNSCC-01-0538\\10-10-2010-NA-CT SOFT TISSUE NECK W-23915\\1.000000-Series Description-30298\n",
      "Loading from input\\HNSCC-01-0538\\10-10-2010-NA-CT SOFT TISSUE NECK W-23915\\2.000000-CONTRAST120CC3CCS90S DELAY-99922\n"
     ]
    },
    {
     "name": "stderr",
     "output_type": "stream",
     "text": [
      "\r",
      "Loading through DICOM files: 100%|███████████████████████████████████████████████████████| 2/2 [00:18<00:00,  9.31s/it]"
     ]
    },
    {
     "name": "stdout",
     "output_type": "stream",
     "text": [
      "Compiling dictionaries together...\n",
      "Index 0, description CONTRAST120CC@3CC/S,90S DELAY  at input\\HNSCC-01-0538\\10-10-2010-NA-CT SOFT TISSUE NECK W-23915\\2.000000-CONTRAST120CC3CCS90S DELAY-99922\n",
      "1 unique series IDs were found. Default is index 0, to change use set_index(index)\n",
      "Loading images for CONTRAST120CC@3CC/S,90S DELAY  at \n",
      " input\\HNSCC-01-0538\\10-10-2010-NA-CT SOFT TISSUE NECK W-23915\\2.000000-CONTRAST120CC3CCS90S DELAY-99922\n",
      "\n"
     ]
    },
    {
     "name": "stderr",
     "output_type": "stream",
     "text": [
      "Loading through DICOM files: 100%|███████████████████████████████████████████████████████| 2/2 [00:53<00:00, 26.55s/it]\n",
      "Loading through DICOM files:   0%|                                                               | 0/2 [00:00<?, ?it/s]"
     ]
    },
    {
     "name": "stdout",
     "output_type": "stream",
     "text": [
      "Loading from input\\HNSCC-01-0539\\10-10-2010-NA-002-04706\\1.000000-Series Description-39127\n",
      "Loading from input\\HNSCC-01-0539\\10-10-2010-NA-002-04706\\2.000000-CONTRAST120CC3CCS90S DELAY-98340\n"
     ]
    },
    {
     "name": "stderr",
     "output_type": "stream",
     "text": [
      "\r",
      "Loading through DICOM files: 100%|███████████████████████████████████████████████████████| 2/2 [00:19<00:00,  9.57s/it]"
     ]
    },
    {
     "name": "stdout",
     "output_type": "stream",
     "text": [
      "Compiling dictionaries together...\n",
      "Index 0, description CONTRAST120CC@3CC/S,90S DELAY  at input\\HNSCC-01-0539\\10-10-2010-NA-002-04706\\2.000000-CONTRAST120CC3CCS90S DELAY-98340\n",
      "1 unique series IDs were found. Default is index 0, to change use set_index(index)\n",
      "Loading images for CONTRAST120CC@3CC/S,90S DELAY  at \n",
      " input\\HNSCC-01-0539\\10-10-2010-NA-002-04706\\2.000000-CONTRAST120CC3CCS90S DELAY-98340\n",
      "\n"
     ]
    },
    {
     "name": "stderr",
     "output_type": "stream",
     "text": [
      "Loading through DICOM files: 100%|███████████████████████████████████████████████████████| 2/2 [00:58<00:00, 29.03s/it]\n",
      "Loading through DICOM files:  50%|███████████████████████████▌                           | 1/2 [00:00<00:00,  7.69it/s]"
     ]
    },
    {
     "name": "stdout",
     "output_type": "stream",
     "text": [
      "Loading from input\\HNSCC-01-0540\\10-10-2010-NA-CT SOFT TISSUE NECK W-61361\\2.000000-CONTRAST120CC3CCS90S DELAY-26261\n",
      "Loading from input\\HNSCC-01-0540\\10-10-2010-NA-CT SOFT TISSUE NECK W-61361\\1.000000-Series Description-75279\n"
     ]
    },
    {
     "name": "stderr",
     "output_type": "stream",
     "text": [
      "\r",
      "Loading through DICOM files: 100%|███████████████████████████████████████████████████████| 2/2 [00:16<00:00,  9.73s/it]"
     ]
    },
    {
     "name": "stdout",
     "output_type": "stream",
     "text": [
      "Compiling dictionaries together...\n",
      "Index 0, description CONTRAST120CC@3CC/S,90S DELAY  at input\\HNSCC-01-0540\\10-10-2010-NA-CT SOFT TISSUE NECK W-61361\\2.000000-CONTRAST120CC3CCS90S DELAY-26261\n",
      "1 unique series IDs were found. Default is index 0, to change use set_index(index)\n",
      "Loading images for CONTRAST120CC@3CC/S,90S DELAY  at \n",
      " input\\HNSCC-01-0540\\10-10-2010-NA-CT SOFT TISSUE NECK W-61361\\2.000000-CONTRAST120CC3CCS90S DELAY-26261\n",
      "\n"
     ]
    },
    {
     "name": "stderr",
     "output_type": "stream",
     "text": [
      "Loading through DICOM files: 100%|███████████████████████████████████████████████████████| 2/2 [00:47<00:00, 23.98s/it]\n",
      "Loading through DICOM files:  50%|███████████████████████████▌                           | 1/2 [00:00<00:00,  9.26it/s]"
     ]
    },
    {
     "name": "stdout",
     "output_type": "stream",
     "text": [
      "Loading from input\\HNSCC-01-0541\\10-10-2010-NA-CT SOFT TISSUE NECK W-80834\\1.000000-Series Description-91909\n",
      "Loading from input\\HNSCC-01-0541\\10-10-2010-NA-CT SOFT TISSUE NECK W-80834\\2.000000-CONTRAST120CC3CCS90S DELAY-14194\n"
     ]
    },
    {
     "name": "stderr",
     "output_type": "stream",
     "text": [
      "\r",
      "Loading through DICOM files: 100%|███████████████████████████████████████████████████████| 2/2 [00:19<00:00, 11.46s/it]"
     ]
    },
    {
     "name": "stdout",
     "output_type": "stream",
     "text": [
      "Compiling dictionaries together...\n",
      "Index 0, description CONTRAST120CC@3CC/S,90S DELAY  at input\\HNSCC-01-0541\\10-10-2010-NA-CT SOFT TISSUE NECK W-80834\\2.000000-CONTRAST120CC3CCS90S DELAY-14194\n",
      "1 unique series IDs were found. Default is index 0, to change use set_index(index)\n",
      "Loading images for CONTRAST120CC@3CC/S,90S DELAY  at \n",
      " input\\HNSCC-01-0541\\10-10-2010-NA-CT SOFT TISSUE NECK W-80834\\2.000000-CONTRAST120CC3CCS90S DELAY-14194\n",
      "\n"
     ]
    },
    {
     "name": "stderr",
     "output_type": "stream",
     "text": [
      "Loading through DICOM files: 100%|███████████████████████████████████████████████████████| 2/2 [01:01<00:00, 30.56s/it]\n",
      "Loading through DICOM files:   0%|                                                               | 0/2 [00:00<?, ?it/s]"
     ]
    },
    {
     "name": "stdout",
     "output_type": "stream",
     "text": [
      "Loading from input\\HNSCC-01-0542\\10-10-2010-NA-CT SOFT TISSUE NECK W-64766\\1.000000-Series Description-26715\n",
      "Loading from input\\HNSCC-01-0542\\10-10-2010-NA-CT SOFT TISSUE NECK W-64766\\2.000000-CONTRAST120CC3CCS90S DELAY-64697\n"
     ]
    },
    {
     "name": "stderr",
     "output_type": "stream",
     "text": [
      "\r",
      "Loading through DICOM files: 100%|███████████████████████████████████████████████████████| 2/2 [00:21<00:00, 10.86s/it]"
     ]
    },
    {
     "name": "stdout",
     "output_type": "stream",
     "text": [
      "Compiling dictionaries together...\n",
      "Index 0, description CONTRAST120CC@3CC/S,90S DELAY  at input\\HNSCC-01-0542\\10-10-2010-NA-CT SOFT TISSUE NECK W-64766\\2.000000-CONTRAST120CC3CCS90S DELAY-64697\n",
      "1 unique series IDs were found. Default is index 0, to change use set_index(index)\n",
      "Loading images for CONTRAST120CC@3CC/S,90S DELAY  at \n",
      " input\\HNSCC-01-0542\\10-10-2010-NA-CT SOFT TISSUE NECK W-64766\\2.000000-CONTRAST120CC3CCS90S DELAY-64697\n",
      "\n"
     ]
    },
    {
     "name": "stderr",
     "output_type": "stream",
     "text": [
      "Loading through DICOM files: 100%|███████████████████████████████████████████████████████| 2/2 [01:03<00:00, 31.75s/it]\n",
      "Loading through DICOM files:   0%|                                                               | 0/2 [00:00<?, ?it/s]"
     ]
    },
    {
     "name": "stdout",
     "output_type": "stream",
     "text": [
      "Loading from input\\HNSCC-01-0543\\11-13-2011-NA-002-05746\\1.000000-Series Description-03355\n",
      "Loading from input\\HNSCC-01-0543\\11-13-2011-NA-002-05746\\2.000000-CONTRAST120CC3CCS90S DELAY-15073\n"
     ]
    },
    {
     "name": "stderr",
     "output_type": "stream",
     "text": [
      "\r",
      "Loading through DICOM files: 100%|███████████████████████████████████████████████████████| 2/2 [00:15<00:00,  7.72s/it]"
     ]
    },
    {
     "name": "stdout",
     "output_type": "stream",
     "text": [
      "Compiling dictionaries together...\n",
      "Index 0, description CONTRAST120CC@3CC/S,90S DELAY  at input\\HNSCC-01-0543\\11-13-2011-NA-002-05746\\2.000000-CONTRAST120CC3CCS90S DELAY-15073\n",
      "1 unique series IDs were found. Default is index 0, to change use set_index(index)\n",
      "Loading images for CONTRAST120CC@3CC/S,90S DELAY  at \n",
      " input\\HNSCC-01-0543\\11-13-2011-NA-002-05746\\2.000000-CONTRAST120CC3CCS90S DELAY-15073\n",
      "\n"
     ]
    },
    {
     "name": "stderr",
     "output_type": "stream",
     "text": [
      "Loading through DICOM files: 100%|███████████████████████████████████████████████████████| 2/2 [00:49<00:00, 24.56s/it]\n",
      "Loading through DICOM files:   0%|                                                               | 0/2 [00:00<?, ?it/s]"
     ]
    },
    {
     "name": "stdout",
     "output_type": "stream",
     "text": [
      "Loading from input\\HNSCC-01-0544\\10-10-2010-NA-CT SOFT TISSUE NECK W-49899\\2.000000-CONTRAST120CC3CCS90S DELAY-22396Loading from input\\HNSCC-01-0544\\10-10-2010-NA-CT SOFT TISSUE NECK W-49899\\1.000000-fixed holes-41669\n",
      "\n"
     ]
    },
    {
     "name": "stderr",
     "output_type": "stream",
     "text": [
      "\r",
      "Loading through DICOM files: 100%|███████████████████████████████████████████████████████| 2/2 [00:15<00:00,  7.84s/it]"
     ]
    },
    {
     "name": "stdout",
     "output_type": "stream",
     "text": [
      "Compiling dictionaries together...\n",
      "Index 0, description CONTRAST120CC@3CC/S,90S DELAY  at input\\HNSCC-01-0544\\10-10-2010-NA-CT SOFT TISSUE NECK W-49899\\2.000000-CONTRAST120CC3CCS90S DELAY-22396\n",
      "1 unique series IDs were found. Default is index 0, to change use set_index(index)\n",
      "Loading images for CONTRAST120CC@3CC/S,90S DELAY  at \n",
      " input\\HNSCC-01-0544\\10-10-2010-NA-CT SOFT TISSUE NECK W-49899\\2.000000-CONTRAST120CC3CCS90S DELAY-22396\n",
      "\n"
     ]
    },
    {
     "name": "stderr",
     "output_type": "stream",
     "text": [
      "Loading through DICOM files: 100%|███████████████████████████████████████████████████████| 2/2 [00:48<00:00, 24.29s/it]\n",
      "Loading through DICOM files:   0%|                                                               | 0/2 [00:00<?, ?it/s]"
     ]
    },
    {
     "name": "stdout",
     "output_type": "stream",
     "text": [
      "Loading from input\\HNSCC-01-0545\\10-10-2010-NA-002-47630\\1.000000-Series Description-25783\n",
      "Loading from input\\HNSCC-01-0545\\10-10-2010-NA-002-47630\\2.000000-CONTRAST120CC3CCS90S DELAY-08115\n"
     ]
    },
    {
     "name": "stderr",
     "output_type": "stream",
     "text": [
      "\r",
      "Loading through DICOM files: 100%|███████████████████████████████████████████████████████| 2/2 [00:20<00:00, 10.11s/it]"
     ]
    },
    {
     "name": "stdout",
     "output_type": "stream",
     "text": [
      "Compiling dictionaries together...\n",
      "Index 0, description CONTRAST120CC@3CC/S,90S DELAY  at input\\HNSCC-01-0545\\10-10-2010-NA-002-47630\\2.000000-CONTRAST120CC3CCS90S DELAY-08115\n",
      "1 unique series IDs were found. Default is index 0, to change use set_index(index)\n",
      "Loading images for CONTRAST120CC@3CC/S,90S DELAY  at \n",
      " input\\HNSCC-01-0545\\10-10-2010-NA-002-47630\\2.000000-CONTRAST120CC3CCS90S DELAY-08115\n",
      "\n"
     ]
    },
    {
     "name": "stderr",
     "output_type": "stream",
     "text": [
      "Loading through DICOM files: 100%|███████████████████████████████████████████████████████| 2/2 [00:53<00:00, 26.66s/it]\n",
      "Loading through DICOM files:   0%|                                                               | 0/2 [00:00<?, ?it/s]"
     ]
    },
    {
     "name": "stdout",
     "output_type": "stream",
     "text": [
      "Loading from input\\HNSCC-01-0546\\10-10-2010-NA-002-60977\\1.000000-Series Description-20499\n",
      "Loading from input\\HNSCC-01-0546\\10-10-2010-NA-002-60977\\2.000000-CONTRAST120CC3CCS90S DELAY-38215\n"
     ]
    },
    {
     "name": "stderr",
     "output_type": "stream",
     "text": [
      "\r",
      "Loading through DICOM files: 100%|███████████████████████████████████████████████████████| 2/2 [00:17<00:00,  8.93s/it]"
     ]
    },
    {
     "name": "stdout",
     "output_type": "stream",
     "text": [
      "Compiling dictionaries together...\n",
      "Index 0, description CONTRAST120CC@3CC/S,90S DELAY  at input\\HNSCC-01-0546\\10-10-2010-NA-002-60977\\2.000000-CONTRAST120CC3CCS90S DELAY-38215\n",
      "1 unique series IDs were found. Default is index 0, to change use set_index(index)\n",
      "Loading images for CONTRAST120CC@3CC/S,90S DELAY  at \n",
      " input\\HNSCC-01-0546\\10-10-2010-NA-002-60977\\2.000000-CONTRAST120CC3CCS90S DELAY-38215\n",
      "\n"
     ]
    },
    {
     "name": "stderr",
     "output_type": "stream",
     "text": [
      "Loading through DICOM files: 100%|███████████████████████████████████████████████████████| 2/2 [00:50<00:00, 25.20s/it]\n",
      "Loading through DICOM files:  50%|███████████████████████████▌                           | 1/2 [00:00<00:00,  7.24it/s]"
     ]
    },
    {
     "name": "stdout",
     "output_type": "stream",
     "text": [
      "Loading from input\\HNSCC-01-0547\\10-10-2010-NA-CT SOFT TISSUE NECK W-98214\\1.000000-Series Description-23674\n",
      "Loading from input\\HNSCC-01-0547\\10-10-2010-NA-CT SOFT TISSUE NECK W-98214\\2.000000-CONTRAST120CC3CCS90S DELAY-95305\n"
     ]
    },
    {
     "name": "stderr",
     "output_type": "stream",
     "text": [
      "\r",
      "Loading through DICOM files: 100%|███████████████████████████████████████████████████████| 2/2 [00:17<00:00, 10.25s/it]"
     ]
    },
    {
     "name": "stdout",
     "output_type": "stream",
     "text": [
      "Compiling dictionaries together...\n",
      "Index 0, description CONTRAST120CC@3CC/S,90S DELAY  at input\\HNSCC-01-0547\\10-10-2010-NA-CT SOFT TISSUE NECK W-98214\\2.000000-CONTRAST120CC3CCS90S DELAY-95305\n",
      "1 unique series IDs were found. Default is index 0, to change use set_index(index)\n",
      "Loading images for CONTRAST120CC@3CC/S,90S DELAY  at \n",
      " input\\HNSCC-01-0547\\10-10-2010-NA-CT SOFT TISSUE NECK W-98214\\2.000000-CONTRAST120CC3CCS90S DELAY-95305\n",
      "\n"
     ]
    },
    {
     "name": "stderr",
     "output_type": "stream",
     "text": [
      "Loading through DICOM files: 100%|███████████████████████████████████████████████████████| 2/2 [00:52<00:00, 26.10s/it]\n",
      "Loading through DICOM files:   0%|                                                               | 0/2 [00:00<?, ?it/s]"
     ]
    },
    {
     "name": "stdout",
     "output_type": "stream",
     "text": [
      "Loading from input\\HNSCC-01-0548\\10-10-2010-NA-CT SOFT TISSUE NECK W-01923\\1.000000-Series Description-33706\n",
      "Loading from input\\HNSCC-01-0548\\10-10-2010-NA-CT SOFT TISSUE NECK W-01923\\2.000000-CONTRAST120CC3CCS90S DELAY-90963\n"
     ]
    },
    {
     "name": "stderr",
     "output_type": "stream",
     "text": [
      "\r",
      "Loading through DICOM files: 100%|███████████████████████████████████████████████████████| 2/2 [00:23<00:00, 11.89s/it]"
     ]
    },
    {
     "name": "stdout",
     "output_type": "stream",
     "text": [
      "Compiling dictionaries together...\n",
      "Index 0, description CONTRAST120CC@3CC/S,90S DELAY  at input\\HNSCC-01-0548\\10-10-2010-NA-CT SOFT TISSUE NECK W-01923\\2.000000-CONTRAST120CC3CCS90S DELAY-90963\n",
      "1 unique series IDs were found. Default is index 0, to change use set_index(index)\n",
      "Loading images for CONTRAST120CC@3CC/S,90S DELAY  at \n",
      " input\\HNSCC-01-0548\\10-10-2010-NA-CT SOFT TISSUE NECK W-01923\\2.000000-CONTRAST120CC3CCS90S DELAY-90963\n",
      "\n"
     ]
    },
    {
     "name": "stderr",
     "output_type": "stream",
     "text": [
      "Loading through DICOM files: 100%|███████████████████████████████████████████████████████| 2/2 [01:02<00:00, 31.29s/it]\n",
      "Loading through DICOM files:   0%|                                                               | 0/2 [00:00<?, ?it/s]"
     ]
    },
    {
     "name": "stdout",
     "output_type": "stream",
     "text": [
      "Loading from input\\HNSCC-01-0549\\10-10-2010-NA-002-59978\\2.000000-CONTRAST120CC3CCS90S DELAY-92691\n",
      "Loading from input\\HNSCC-01-0549\\10-10-2010-NA-002-59978\\1.000000-Series Description-67418\n"
     ]
    },
    {
     "name": "stderr",
     "output_type": "stream",
     "text": [
      "\r",
      "Loading through DICOM files: 100%|███████████████████████████████████████████████████████| 2/2 [00:26<00:00, 13.47s/it]"
     ]
    },
    {
     "name": "stdout",
     "output_type": "stream",
     "text": [
      "Compiling dictionaries together...\n",
      "Index 0, description CONTRAST120CC@3CC/S,90S DELAY  at input\\HNSCC-01-0549\\10-10-2010-NA-002-59978\\2.000000-CONTRAST120CC3CCS90S DELAY-92691\n",
      "1 unique series IDs were found. Default is index 0, to change use set_index(index)\n",
      "Loading images for CONTRAST120CC@3CC/S,90S DELAY  at \n",
      " input\\HNSCC-01-0549\\10-10-2010-NA-002-59978\\2.000000-CONTRAST120CC3CCS90S DELAY-92691\n",
      "\n"
     ]
    },
    {
     "name": "stderr",
     "output_type": "stream",
     "text": [
      "Loading through DICOM files: 100%|███████████████████████████████████████████████████████| 2/2 [01:03<00:00, 32.00s/it]\n",
      "Loading through DICOM files:   0%|                                                               | 0/1 [00:00<?, ?it/s]"
     ]
    },
    {
     "name": "stdout",
     "output_type": "stream",
     "text": [
      "Loading from input\\HNSCC-01-0550\\10-10-2010-NA-CT SOFT TISSUE NECK W-16642\\2.000000-CONTRAST120CC3CCS90S DELAY-31864\n"
     ]
    },
    {
     "name": "stderr",
     "output_type": "stream",
     "text": [
      "\r",
      "Loading through DICOM files: 100%|███████████████████████████████████████████████████████| 1/1 [00:27<00:00, 27.96s/it]"
     ]
    },
    {
     "name": "stdout",
     "output_type": "stream",
     "text": [
      "Compiling dictionaries together...\n",
      "Index 0, description CONTRAST120CC@3CC/S,90S DELAY  at input\\HNSCC-01-0550\\10-10-2010-NA-CT SOFT TISSUE NECK W-16642\\2.000000-CONTRAST120CC3CCS90S DELAY-31864\n",
      "1 unique series IDs were found. Default is index 0, to change use set_index(index)\n",
      "Loading images for CONTRAST120CC@3CC/S,90S DELAY  at \n",
      " input\\HNSCC-01-0550\\10-10-2010-NA-CT SOFT TISSUE NECK W-16642\\2.000000-CONTRAST120CC3CCS90S DELAY-31864\n",
      "\n"
     ]
    },
    {
     "name": "stderr",
     "output_type": "stream",
     "text": [
      "Loading through DICOM files: 100%|███████████████████████████████████████████████████████| 1/1 [01:08<00:00, 68.36s/it]\n",
      "Loading through DICOM files:   0%|                                                               | 0/2 [00:00<?, ?it/s]"
     ]
    },
    {
     "name": "stdout",
     "output_type": "stream",
     "text": [
      "Loading from input\\HNSCC-01-0551\\10-10-2010-NA-005-58436\\3.000000-FC12-15942\n",
      "Loading from input\\HNSCC-01-0551\\10-10-2010-NA-005-58436\\1.000000-Series Description-55454\n"
     ]
    },
    {
     "name": "stderr",
     "output_type": "stream",
     "text": [
      "\r",
      "Loading through DICOM files: 100%|███████████████████████████████████████████████████████| 2/2 [00:10<00:00,  5.30s/it]"
     ]
    },
    {
     "name": "stdout",
     "output_type": "stream",
     "text": [
      "Compiling dictionaries together...\n",
      "Index 0, description //FC12 at input\\HNSCC-01-0551\\10-10-2010-NA-005-58436\\3.000000-FC12-15942\n",
      "1 unique series IDs were found. Default is index 0, to change use set_index(index)\n",
      "Loading images for //FC12 at \n",
      " input\\HNSCC-01-0551\\10-10-2010-NA-005-58436\\3.000000-FC12-15942\n",
      "\n"
     ]
    },
    {
     "name": "stderr",
     "output_type": "stream",
     "text": [
      "Loading through DICOM files: 100%|███████████████████████████████████████████████████████| 2/2 [00:27<00:00, 13.64s/it]\n",
      "Loading through DICOM files:  50%|███████████████████████████▌                           | 1/2 [00:00<00:00,  9.90it/s]"
     ]
    },
    {
     "name": "stdout",
     "output_type": "stream",
     "text": [
      "Loading from input\\HNSCC-01-0552\\11-13-2011-NA-004-97068\\1.000000-Series Description-45922Loading from input\\HNSCC-01-0552\\11-13-2011-NA-004-97068\\2.000000-CONTRAST120CC3CCS90S DELAY-66804\n",
      "\n"
     ]
    },
    {
     "name": "stderr",
     "output_type": "stream",
     "text": [
      "\r",
      "Loading through DICOM files: 100%|███████████████████████████████████████████████████████| 2/2 [00:25<00:00, 15.17s/it]"
     ]
    },
    {
     "name": "stdout",
     "output_type": "stream",
     "text": [
      "Compiling dictionaries together...\n",
      "Index 0, description CONTRAST120CC@3CC/S,90S DELAY  at input\\HNSCC-01-0552\\11-13-2011-NA-004-97068\\2.000000-CONTRAST120CC3CCS90S DELAY-66804\n",
      "1 unique series IDs were found. Default is index 0, to change use set_index(index)\n",
      "Loading images for CONTRAST120CC@3CC/S,90S DELAY  at \n",
      " input\\HNSCC-01-0552\\11-13-2011-NA-004-97068\\2.000000-CONTRAST120CC3CCS90S DELAY-66804\n",
      "\n"
     ]
    },
    {
     "name": "stderr",
     "output_type": "stream",
     "text": [
      "Loading through DICOM files: 100%|███████████████████████████████████████████████████████| 2/2 [01:01<00:00, 30.78s/it]\n",
      "Loading through DICOM files:   0%|                                                               | 0/2 [00:00<?, ?it/s]"
     ]
    },
    {
     "name": "stdout",
     "output_type": "stream",
     "text": [
      "Loading from input\\HNSCC-01-0553\\11-13-2011-NA-005-91358\\2.000000-NECK 2.5MM-68635\n",
      "Loading from input\\HNSCC-01-0553\\11-13-2011-NA-005-91358\\1.000000-Series Description-91074\n"
     ]
    },
    {
     "name": "stderr",
     "output_type": "stream",
     "text": [
      "\r",
      "Loading through DICOM files: 100%|███████████████████████████████████████████████████████| 2/2 [00:07<00:00,  3.53s/it]"
     ]
    },
    {
     "name": "stdout",
     "output_type": "stream",
     "text": [
      "Compiling dictionaries together...\n",
      "Index 0, description NECK 2.5MM at input\\HNSCC-01-0553\\11-13-2011-NA-005-91358\\2.000000-NECK 2.5MM-68635\n",
      "1 unique series IDs were found. Default is index 0, to change use set_index(index)\n",
      "Loading images for NECK 2.5MM at \n",
      " input\\HNSCC-01-0553\\11-13-2011-NA-005-91358\\2.000000-NECK 2.5MM-68635\n",
      "\n"
     ]
    },
    {
     "name": "stderr",
     "output_type": "stream",
     "text": [
      "Loading through DICOM files: 100%|███████████████████████████████████████████████████████| 2/2 [00:19<00:00,  9.50s/it]\n",
      "Loading through DICOM files:   0%|                                                               | 0/2 [00:00<?, ?it/s]"
     ]
    },
    {
     "name": "stdout",
     "output_type": "stream",
     "text": [
      "Loading from input\\HNSCC-01-0554\\11-13-2011-NA-002-49293\\1.000000-Series Description-77249\n",
      "Loading from input\\HNSCC-01-0554\\11-13-2011-NA-002-49293\\2.000000-CONTRAST120CC3CCS90S DELAY-50145\n"
     ]
    },
    {
     "name": "stderr",
     "output_type": "stream",
     "text": [
      "Loading through DICOM files: 100%|███████████████████████████████████████████████████████| 2/2 [00:16<00:00,  9.40s/it]"
     ]
    },
    {
     "name": "stdout",
     "output_type": "stream",
     "text": [
      "Compiling dictionaries together...\n",
      "Index 0, description CONTRAST120CC@3CC/S,90S DELAY  at input\\HNSCC-01-0554\\11-13-2011-NA-002-49293\\2.000000-CONTRAST120CC3CCS90S DELAY-50145\n",
      "1 unique series IDs were found. Default is index 0, to change use set_index(index)\n",
      "Loading images for CONTRAST120CC@3CC/S,90S DELAY  at \n",
      " input\\HNSCC-01-0554\\11-13-2011-NA-002-49293\\2.000000-CONTRAST120CC3CCS90S DELAY-50145\n",
      "\n"
     ]
    },
    {
     "name": "stderr",
     "output_type": "stream",
     "text": [
      "Loading through DICOM files: 100%|███████████████████████████████████████████████████████| 2/2 [00:47<00:00, 23.88s/it]\n",
      "Loading through DICOM files:   0%|                                                               | 0/2 [00:00<?, ?it/s]"
     ]
    },
    {
     "name": "stdout",
     "output_type": "stream",
     "text": [
      "Loading from input\\HNSCC-01-0555\\11-13-2011-NA-002-72067\\2.000000-CONTRAST120CC3CCS90S DELAY-45357\n",
      "Loading from input\\HNSCC-01-0555\\11-13-2011-NA-002-72067\\1.000000-Series Description-84426\n"
     ]
    },
    {
     "name": "stderr",
     "output_type": "stream",
     "text": [
      "\r",
      "Loading through DICOM files: 100%|███████████████████████████████████████████████████████| 2/2 [00:26<00:00, 13.41s/it]"
     ]
    },
    {
     "name": "stdout",
     "output_type": "stream",
     "text": [
      "Compiling dictionaries together...\n",
      "Index 0, description CONTRAST120CC@3CC/S,90S DELAY  at input\\HNSCC-01-0555\\11-13-2011-NA-002-72067\\2.000000-CONTRAST120CC3CCS90S DELAY-45357\n",
      "1 unique series IDs were found. Default is index 0, to change use set_index(index)\n",
      "Loading images for CONTRAST120CC@3CC/S,90S DELAY  at \n",
      " input\\HNSCC-01-0555\\11-13-2011-NA-002-72067\\2.000000-CONTRAST120CC3CCS90S DELAY-45357\n",
      "\n"
     ]
    },
    {
     "name": "stderr",
     "output_type": "stream",
     "text": [
      "Loading through DICOM files: 100%|███████████████████████████████████████████████████████| 2/2 [01:12<00:00, 36.24s/it]\n",
      "Loading through DICOM files:  50%|███████████████████████████▌                           | 1/2 [00:00<00:00,  8.77it/s]"
     ]
    },
    {
     "name": "stdout",
     "output_type": "stream",
     "text": [
      "Loading from input\\HNSCC-01-0556\\11-13-2011-NA-002-96482\\1.000000-Series Description-82395\n",
      "Loading from input\\HNSCC-01-0556\\11-13-2011-NA-002-96482\\2.000000-CONTRAST120CC3CCS90S DELAY-42584\n"
     ]
    },
    {
     "name": "stderr",
     "output_type": "stream",
     "text": [
      "\r",
      "Loading through DICOM files: 100%|███████████████████████████████████████████████████████| 2/2 [00:22<00:00, 13.02s/it]"
     ]
    },
    {
     "name": "stdout",
     "output_type": "stream",
     "text": [
      "Compiling dictionaries together...\n",
      "Index 0, description CONTRAST120CC@3CC/S,90S DELAY  at input\\HNSCC-01-0556\\11-13-2011-NA-002-96482\\2.000000-CONTRAST120CC3CCS90S DELAY-42584\n",
      "1 unique series IDs were found. Default is index 0, to change use set_index(index)\n",
      "Loading images for CONTRAST120CC@3CC/S,90S DELAY  at \n",
      " input\\HNSCC-01-0556\\11-13-2011-NA-002-96482\\2.000000-CONTRAST120CC3CCS90S DELAY-42584\n",
      "\n"
     ]
    },
    {
     "name": "stderr",
     "output_type": "stream",
     "text": [
      "Loading through DICOM files: 100%|███████████████████████████████████████████████████████| 2/2 [01:02<00:00, 31.30s/it]\n",
      "Loading through DICOM files:   0%|                                                               | 0/2 [00:00<?, ?it/s]"
     ]
    },
    {
     "name": "stdout",
     "output_type": "stream",
     "text": [
      "Loading from input\\HNSCC-01-0557\\11-13-2011-NA-002-45300\\1.000000-Series Description-30101Loading from input\\HNSCC-01-0557\\11-13-2011-NA-002-45300\\2.000000-CONTRAST120CC3CCS90S DELAY-97464\n",
      "\n"
     ]
    },
    {
     "name": "stderr",
     "output_type": "stream",
     "text": [
      "\r",
      "Loading through DICOM files: 100%|███████████████████████████████████████████████████████| 2/2 [00:20<00:00, 10.08s/it]"
     ]
    },
    {
     "name": "stdout",
     "output_type": "stream",
     "text": [
      "Compiling dictionaries together...\n",
      "Index 0, description CONTRAST120CC@3CC/S,90S DELAY  at input\\HNSCC-01-0557\\11-13-2011-NA-002-45300\\2.000000-CONTRAST120CC3CCS90S DELAY-97464\n",
      "1 unique series IDs were found. Default is index 0, to change use set_index(index)\n",
      "Loading images for CONTRAST120CC@3CC/S,90S DELAY  at \n",
      " input\\HNSCC-01-0557\\11-13-2011-NA-002-45300\\2.000000-CONTRAST120CC3CCS90S DELAY-97464\n",
      "\n"
     ]
    },
    {
     "name": "stderr",
     "output_type": "stream",
     "text": [
      "Loading through DICOM files: 100%|███████████████████████████████████████████████████████| 2/2 [00:55<00:00, 27.57s/it]\n",
      "Loading through DICOM files:   0%|                                                               | 0/2 [00:00<?, ?it/s]"
     ]
    },
    {
     "name": "stdout",
     "output_type": "stream",
     "text": [
      "Loading from input\\HNSCC-01-0558\\11-13-2011-NA-002-56327\\1.000000-Series Description-52252\n",
      "Loading from input\\HNSCC-01-0558\\11-13-2011-NA-002-56327\\2.000000-CONTRAST120CC3CCS90S DELAY-06007\n"
     ]
    },
    {
     "name": "stderr",
     "output_type": "stream",
     "text": [
      "\r",
      "Loading through DICOM files: 100%|███████████████████████████████████████████████████████| 2/2 [00:22<00:00, 11.30s/it]"
     ]
    },
    {
     "name": "stdout",
     "output_type": "stream",
     "text": [
      "Compiling dictionaries together...\n",
      "Index 0, description CONTRAST120CC@3CC/S,90S DELAY  at input\\HNSCC-01-0558\\11-13-2011-NA-002-56327\\2.000000-CONTRAST120CC3CCS90S DELAY-06007\n",
      "1 unique series IDs were found. Default is index 0, to change use set_index(index)\n",
      "Loading images for CONTRAST120CC@3CC/S,90S DELAY  at \n",
      " input\\HNSCC-01-0558\\11-13-2011-NA-002-56327\\2.000000-CONTRAST120CC3CCS90S DELAY-06007\n",
      "\n"
     ]
    },
    {
     "name": "stderr",
     "output_type": "stream",
     "text": [
      "Loading through DICOM files: 100%|███████████████████████████████████████████████████████| 2/2 [00:59<00:00, 29.54s/it]\n",
      "Loading through DICOM files:  50%|███████████████████████████▌                           | 1/2 [00:00<00:00,  8.85it/s]"
     ]
    },
    {
     "name": "stdout",
     "output_type": "stream",
     "text": [
      "Loading from input\\HNSCC-01-0559\\11-13-2011-NA-002-23579\\2.000000-CONTRAST120CC3CCS90S DELAY-10621\n",
      "Loading from input\\HNSCC-01-0559\\11-13-2011-NA-002-23579\\1.000000-Series Description-19320\n"
     ]
    },
    {
     "name": "stderr",
     "output_type": "stream",
     "text": [
      "\r",
      "Loading through DICOM files: 100%|███████████████████████████████████████████████████████| 2/2 [00:24<00:00, 14.14s/it]"
     ]
    },
    {
     "name": "stdout",
     "output_type": "stream",
     "text": [
      "Compiling dictionaries together...\n",
      "Index 0, description CONTRAST120CC@3CC/S,90S DELAY  at input\\HNSCC-01-0559\\11-13-2011-NA-002-23579\\2.000000-CONTRAST120CC3CCS90S DELAY-10621\n",
      "1 unique series IDs were found. Default is index 0, to change use set_index(index)\n",
      "Loading images for CONTRAST120CC@3CC/S,90S DELAY  at \n",
      " input\\HNSCC-01-0559\\11-13-2011-NA-002-23579\\2.000000-CONTRAST120CC3CCS90S DELAY-10621\n",
      "\n"
     ]
    },
    {
     "name": "stderr",
     "output_type": "stream",
     "text": [
      "Loading through DICOM files: 100%|███████████████████████████████████████████████████████| 2/2 [01:02<00:00, 31.45s/it]\n",
      "Loading through DICOM files:   0%|                                                               | 0/2 [00:00<?, ?it/s]"
     ]
    },
    {
     "name": "stdout",
     "output_type": "stream",
     "text": [
      "Loading from input\\HNSCC-01-0560\\11-13-2011-NA-002-57292\\1.000000-Series Description-40228\n",
      "Loading from input\\HNSCC-01-0560\\11-13-2011-NA-002-57292\\2.000000-CONTRAST120CC3CCS90S DELAY-23453\n"
     ]
    },
    {
     "name": "stderr",
     "output_type": "stream",
     "text": [
      "\r",
      "Loading through DICOM files: 100%|███████████████████████████████████████████████████████| 2/2 [00:18<00:00,  9.15s/it]"
     ]
    },
    {
     "name": "stdout",
     "output_type": "stream",
     "text": [
      "Compiling dictionaries together...\n",
      "Index 0, description CONTRAST120CC@3CC/S,90S DELAY  at input\\HNSCC-01-0560\\11-13-2011-NA-002-57292\\2.000000-CONTRAST120CC3CCS90S DELAY-23453\n",
      "1 unique series IDs were found. Default is index 0, to change use set_index(index)\n",
      "Loading images for CONTRAST120CC@3CC/S,90S DELAY  at \n",
      " input\\HNSCC-01-0560\\11-13-2011-NA-002-57292\\2.000000-CONTRAST120CC3CCS90S DELAY-23453\n",
      "\n"
     ]
    },
    {
     "name": "stderr",
     "output_type": "stream",
     "text": [
      "Loading through DICOM files: 100%|███████████████████████████████████████████████████████| 2/2 [00:54<00:00, 27.36s/it]\n",
      "Loading through DICOM files:   0%|                                                               | 0/2 [00:00<?, ?it/s]"
     ]
    },
    {
     "name": "stdout",
     "output_type": "stream",
     "text": [
      "Loading from input\\HNSCC-01-0561\\11-13-2011-NA-005-72320\\1.000000-Series Description-74948\n",
      "Loading from input\\HNSCC-01-0561\\11-13-2011-NA-005-72320\\3.000000-Neck WC  3.0  B30s ST-62746\n"
     ]
    },
    {
     "name": "stderr",
     "output_type": "stream",
     "text": [
      "\r",
      "Loading through DICOM files: 100%|███████████████████████████████████████████████████████| 2/2 [00:04<00:00,  2.26s/it]"
     ]
    },
    {
     "name": "stdout",
     "output_type": "stream",
     "text": [
      "Compiling dictionaries together...\n",
      "Index 0, description Neck W/C  3.0  B30s ST at input\\HNSCC-01-0561\\11-13-2011-NA-005-72320\\3.000000-Neck WC  3.0  B30s ST-62746\n",
      "1 unique series IDs were found. Default is index 0, to change use set_index(index)\n",
      "Loading images for Neck W/C  3.0  B30s ST at \n",
      " input\\HNSCC-01-0561\\11-13-2011-NA-005-72320\\3.000000-Neck WC  3.0  B30s ST-62746\n",
      "\n"
     ]
    },
    {
     "name": "stderr",
     "output_type": "stream",
     "text": [
      "Loading through DICOM files: 100%|███████████████████████████████████████████████████████| 2/2 [00:15<00:00,  7.74s/it]\n",
      "Loading through DICOM files:   0%|                                                               | 0/2 [00:00<?, ?it/s]"
     ]
    },
    {
     "name": "stdout",
     "output_type": "stream",
     "text": [
      "Loading from input\\HNSCC-01-0562\\11-13-2011-NA-002-75841\\1.000000-Series Description-18079\n",
      "Loading from input\\HNSCC-01-0562\\11-13-2011-NA-002-75841\\2.000000-CONTRAST120CC3CCS90S DELAY-42130\n"
     ]
    },
    {
     "name": "stderr",
     "output_type": "stream",
     "text": [
      "\r",
      "Loading through DICOM files: 100%|███████████████████████████████████████████████████████| 2/2 [00:19<00:00,  9.80s/it]"
     ]
    },
    {
     "name": "stdout",
     "output_type": "stream",
     "text": [
      "Compiling dictionaries together...\n",
      "Index 0, description CONTRAST120CC@3CC/S,90S DELAY  at input\\HNSCC-01-0562\\11-13-2011-NA-002-75841\\2.000000-CONTRAST120CC3CCS90S DELAY-42130\n",
      "1 unique series IDs were found. Default is index 0, to change use set_index(index)\n",
      "Loading images for CONTRAST120CC@3CC/S,90S DELAY  at \n",
      " input\\HNSCC-01-0562\\11-13-2011-NA-002-75841\\2.000000-CONTRAST120CC3CCS90S DELAY-42130\n",
      "\n"
     ]
    },
    {
     "name": "stderr",
     "output_type": "stream",
     "text": [
      "Loading through DICOM files: 100%|███████████████████████████████████████████████████████| 2/2 [00:58<00:00, 29.16s/it]\n",
      "Loading through DICOM files:   0%|                                                               | 0/2 [00:00<?, ?it/s]"
     ]
    },
    {
     "name": "stdout",
     "output_type": "stream",
     "text": [
      "Loading from input\\HNSCC-01-0563\\11-13-2011-NA-002-90334\\2.000000-CONTRAST120CC3CCS90S DELAY-36401\n",
      "Loading from input\\HNSCC-01-0563\\11-13-2011-NA-002-90334\\1.000000-Series Description-63038\n"
     ]
    },
    {
     "name": "stderr",
     "output_type": "stream",
     "text": [
      "\r",
      "Loading through DICOM files: 100%|███████████████████████████████████████████████████████| 2/2 [00:18<00:00,  9.17s/it]"
     ]
    },
    {
     "name": "stdout",
     "output_type": "stream",
     "text": [
      "Compiling dictionaries together...\n",
      "Index 0, description CONTRAST120CC@3CC/S,90S DELAY  at input\\HNSCC-01-0563\\11-13-2011-NA-002-90334\\2.000000-CONTRAST120CC3CCS90S DELAY-36401\n",
      "1 unique series IDs were found. Default is index 0, to change use set_index(index)\n",
      "Loading images for CONTRAST120CC@3CC/S,90S DELAY  at \n",
      " input\\HNSCC-01-0563\\11-13-2011-NA-002-90334\\2.000000-CONTRAST120CC3CCS90S DELAY-36401\n",
      "\n"
     ]
    },
    {
     "name": "stderr",
     "output_type": "stream",
     "text": [
      "Loading through DICOM files: 100%|███████████████████████████████████████████████████████| 2/2 [00:48<00:00, 24.41s/it]\n",
      "Loading through DICOM files:  50%|███████████████████████████▌                           | 1/2 [00:00<00:00,  8.33it/s]"
     ]
    },
    {
     "name": "stdout",
     "output_type": "stream",
     "text": [
      "Loading from input\\HNSCC-01-0564\\11-13-2011-NA-002-71131\\2.000000-CONTRAST120CC3CCS90S DELAY-86553\n",
      "Loading from input\\HNSCC-01-0564\\11-13-2011-NA-002-71131\\1.000000-Series Description-39225\n"
     ]
    },
    {
     "name": "stderr",
     "output_type": "stream",
     "text": [
      "\r",
      "Loading through DICOM files: 100%|███████████████████████████████████████████████████████| 2/2 [00:16<00:00,  9.46s/it]"
     ]
    },
    {
     "name": "stdout",
     "output_type": "stream",
     "text": [
      "Compiling dictionaries together...\n",
      "Index 0, description CONTRAST120CC@3CC/S,90S DELAY  at input\\HNSCC-01-0564\\11-13-2011-NA-002-71131\\2.000000-CONTRAST120CC3CCS90S DELAY-86553\n",
      "1 unique series IDs were found. Default is index 0, to change use set_index(index)\n",
      "Loading images for CONTRAST120CC@3CC/S,90S DELAY  at \n",
      " input\\HNSCC-01-0564\\11-13-2011-NA-002-71131\\2.000000-CONTRAST120CC3CCS90S DELAY-86553\n",
      "\n"
     ]
    },
    {
     "name": "stderr",
     "output_type": "stream",
     "text": [
      "Loading through DICOM files: 100%|███████████████████████████████████████████████████████| 2/2 [00:55<00:00, 27.90s/it]\n",
      "Loading through DICOM files:   0%|                                                               | 0/2 [00:00<?, ?it/s]"
     ]
    },
    {
     "name": "stdout",
     "output_type": "stream",
     "text": [
      "Loading from input\\HNSCC-01-0565\\11-13-2011-NA-008-31497\\2.000000-CONTRAST120CC3CCS90S DELAY-48775Loading from input\\HNSCC-01-0565\\11-13-2011-NA-008-31497\\1.000000-Series Description-98834\n",
      "\n"
     ]
    },
    {
     "name": "stderr",
     "output_type": "stream",
     "text": [
      "\r",
      "Loading through DICOM files: 100%|███████████████████████████████████████████████████████| 2/2 [00:23<00:00, 11.69s/it]"
     ]
    },
    {
     "name": "stdout",
     "output_type": "stream",
     "text": [
      "Compiling dictionaries together...\n",
      "Index 0, description CONTRAST120CC@3CC/S,90S DELAY  at input\\HNSCC-01-0565\\11-13-2011-NA-008-31497\\2.000000-CONTRAST120CC3CCS90S DELAY-48775\n",
      "1 unique series IDs were found. Default is index 0, to change use set_index(index)\n",
      "Loading images for CONTRAST120CC@3CC/S,90S DELAY  at \n",
      " input\\HNSCC-01-0565\\11-13-2011-NA-008-31497\\2.000000-CONTRAST120CC3CCS90S DELAY-48775\n",
      "\n"
     ]
    },
    {
     "name": "stderr",
     "output_type": "stream",
     "text": [
      "Loading through DICOM files: 100%|███████████████████████████████████████████████████████| 2/2 [01:13<00:00, 36.54s/it]\n",
      "Loading through DICOM files:   0%|                                                               | 0/2 [00:00<?, ?it/s]"
     ]
    },
    {
     "name": "stdout",
     "output_type": "stream",
     "text": [
      "Loading from input\\HNSCC-01-0566\\11-13-2011-NA-002-09008\\1.000000-Series Description-77552\n",
      "Loading from input\\HNSCC-01-0566\\11-13-2011-NA-002-09008\\2.000000-CONTRAST120CC3CCS90S DELAY-73401\n"
     ]
    },
    {
     "name": "stderr",
     "output_type": "stream",
     "text": [
      "\r",
      "Loading through DICOM files: 100%|███████████████████████████████████████████████████████| 2/2 [00:16<00:00,  8.13s/it]"
     ]
    },
    {
     "name": "stdout",
     "output_type": "stream",
     "text": [
      "Compiling dictionaries together...\n",
      "Index 0, description CONTRAST120CC@3CC/S,90S DELAY  at input\\HNSCC-01-0566\\11-13-2011-NA-002-09008\\2.000000-CONTRAST120CC3CCS90S DELAY-73401\n",
      "1 unique series IDs were found. Default is index 0, to change use set_index(index)\n",
      "Loading images for CONTRAST120CC@3CC/S,90S DELAY  at \n",
      " input\\HNSCC-01-0566\\11-13-2011-NA-002-09008\\2.000000-CONTRAST120CC3CCS90S DELAY-73401\n",
      "\n"
     ]
    },
    {
     "name": "stderr",
     "output_type": "stream",
     "text": [
      "Loading through DICOM files: 100%|███████████████████████████████████████████████████████| 2/2 [00:50<00:00, 25.23s/it]\n",
      "Loading through DICOM files:   0%|                                                               | 0/2 [00:00<?, ?it/s]"
     ]
    },
    {
     "name": "stdout",
     "output_type": "stream",
     "text": [
      "Loading from input\\HNSCC-01-0567\\11-13-2011-NA-NECKORAL-90519\\1.000000-Series Description-21008\n",
      "Loading from input\\HNSCC-01-0567\\11-13-2011-NA-NECKORAL-90519\\2.000000-CONTRAST120CC3CCS90S DELAY-25563\n"
     ]
    },
    {
     "name": "stderr",
     "output_type": "stream",
     "text": [
      "\r",
      "Loading through DICOM files: 100%|███████████████████████████████████████████████████████| 2/2 [00:17<00:00,  8.79s/it]"
     ]
    },
    {
     "name": "stdout",
     "output_type": "stream",
     "text": [
      "Compiling dictionaries together...\n",
      "Index 0, description CONTRAST120CC@3CC/S,90S DELAY  at input\\HNSCC-01-0567\\11-13-2011-NA-NECKORAL-90519\\2.000000-CONTRAST120CC3CCS90S DELAY-25563\n",
      "1 unique series IDs were found. Default is index 0, to change use set_index(index)\n",
      "Loading images for CONTRAST120CC@3CC/S,90S DELAY  at \n",
      " input\\HNSCC-01-0567\\11-13-2011-NA-NECKORAL-90519\\2.000000-CONTRAST120CC3CCS90S DELAY-25563\n",
      "\n"
     ]
    },
    {
     "name": "stderr",
     "output_type": "stream",
     "text": [
      "Loading through DICOM files: 100%|███████████████████████████████████████████████████████| 2/2 [00:56<00:00, 28.01s/it]\n",
      "Loading through DICOM files:   0%|                                                               | 0/2 [00:00<?, ?it/s]"
     ]
    },
    {
     "name": "stdout",
     "output_type": "stream",
     "text": [
      "Loading from input\\HNSCC-01-0568\\11-13-2011-NA-CT Soft Tissue Neck W-63996\\1.000000-Series Description-85139\n",
      "Loading from input\\HNSCC-01-0568\\11-13-2011-NA-CT Soft Tissue Neck W-63996\\2.000000-Soft Tissue Neck-51093\n"
     ]
    },
    {
     "name": "stderr",
     "output_type": "stream",
     "text": [
      "\r",
      "Loading through DICOM files: 100%|███████████████████████████████████████████████████████| 2/2 [00:06<00:00,  3.01s/it]"
     ]
    },
    {
     "name": "stdout",
     "output_type": "stream",
     "text": [
      "Compiling dictionaries together...\n",
      "Index 0, description Soft Tissue Neck at input\\HNSCC-01-0568\\11-13-2011-NA-CT Soft Tissue Neck W-63996\\2.000000-Soft Tissue Neck-51093\n",
      "1 unique series IDs were found. Default is index 0, to change use set_index(index)\n",
      "Loading images for Soft Tissue Neck at \n",
      " input\\HNSCC-01-0568\\11-13-2011-NA-CT Soft Tissue Neck W-63996\\2.000000-Soft Tissue Neck-51093\n",
      "\n"
     ]
    },
    {
     "name": "stderr",
     "output_type": "stream",
     "text": [
      "\n",
      "Loading through DICOM files:   0%|                                                               | 0/2 [00:00<?, ?it/s]\u001b[A\n",
      "Loading through DICOM files:  50%|███████████████████████████▌                           | 1/2 [00:00<00:00,  5.59it/s]\u001b[A"
     ]
    },
    {
     "name": "stdout",
     "output_type": "stream",
     "text": [
      "Loading from input\\HNSCC-01-0570\\11-13-2011-NA-CT ORALNASO-86685\\2.000000-CONTRAST120CC3CCS90S DELAY-10960\n",
      "Loading from input\\HNSCC-01-0570\\11-13-2011-NA-CT ORALNASO-86685\\1.000000-Series Description-14675\n"
     ]
    },
    {
     "name": "stderr",
     "output_type": "stream",
     "text": [
      "\n",
      "Loading through DICOM files: 100%|███████████████████████████████████████████████████████| 2/2 [00:20<00:00, 12.19s/it]\u001b[A"
     ]
    },
    {
     "name": "stdout",
     "output_type": "stream",
     "text": [
      "Compiling dictionaries together...\n",
      "Index 0, description CONTRAST120CC@3CC/S,90S DELAY  at input\\HNSCC-01-0570\\11-13-2011-NA-CT ORALNASO-86685\\2.000000-CONTRAST120CC3CCS90S DELAY-10960\n",
      "1 unique series IDs were found. Default is index 0, to change use set_index(index)\n",
      "Loading images for CONTRAST120CC@3CC/S,90S DELAY  at \n",
      " input\\HNSCC-01-0570\\11-13-2011-NA-CT ORALNASO-86685\\2.000000-CONTRAST120CC3CCS90S DELAY-10960\n",
      "\n"
     ]
    },
    {
     "name": "stderr",
     "output_type": "stream",
     "text": [
      "Loading through DICOM files: 100%|███████████████████████████████████████████████████████| 2/2 [01:24<00:00, 42.33s/it]\n",
      "Loading through DICOM files: 100%|███████████████████████████████████████████████████████| 2/2 [01:01<00:00, 30.67s/it]\n",
      "Loading through DICOM files:   0%|                                                               | 0/2 [00:00<?, ?it/s]"
     ]
    },
    {
     "name": "stdout",
     "output_type": "stream",
     "text": [
      "Loading from input\\HNSCC-01-0571\\11-13-2011-NA-002-26168\\1.000000-Series Description-15348\n",
      "Loading from input\\HNSCC-01-0571\\11-13-2011-NA-002-26168\\2.000000-CONTRAST120CC3CCS90S DELAY-94292\n"
     ]
    },
    {
     "name": "stderr",
     "output_type": "stream",
     "text": [
      "\r",
      "Loading through DICOM files: 100%|███████████████████████████████████████████████████████| 2/2 [00:16<00:00,  8.41s/it]"
     ]
    },
    {
     "name": "stdout",
     "output_type": "stream",
     "text": [
      "Compiling dictionaries together...\n",
      "Index 0, description CONTRAST120CC@3CC/S,90S DELAY  at input\\HNSCC-01-0571\\11-13-2011-NA-002-26168\\2.000000-CONTRAST120CC3CCS90S DELAY-94292\n",
      "1 unique series IDs were found. Default is index 0, to change use set_index(index)\n",
      "Loading images for CONTRAST120CC@3CC/S,90S DELAY  at \n",
      " input\\HNSCC-01-0571\\11-13-2011-NA-002-26168\\2.000000-CONTRAST120CC3CCS90S DELAY-94292\n",
      "\n"
     ]
    },
    {
     "name": "stderr",
     "output_type": "stream",
     "text": [
      "Loading through DICOM files: 100%|███████████████████████████████████████████████████████| 2/2 [00:49<00:00, 24.98s/it]\n",
      "Loading through DICOM files:  50%|███████████████████████████▌                           | 1/2 [00:00<00:00,  7.25it/s]"
     ]
    },
    {
     "name": "stdout",
     "output_type": "stream",
     "text": [
      "Loading from input\\HNSCC-01-0572\\11-13-2011-NA-002-01786\\2.000000-CONTRAST120CC3CCS90S DELAY-04866\n",
      "Loading from input\\HNSCC-01-0572\\11-13-2011-NA-002-01786\\1.000000-Series Description-85482\n"
     ]
    },
    {
     "name": "stderr",
     "output_type": "stream",
     "text": [
      "\r",
      "Loading through DICOM files: 100%|███████████████████████████████████████████████████████| 2/2 [00:17<00:00, 10.15s/it]"
     ]
    },
    {
     "name": "stdout",
     "output_type": "stream",
     "text": [
      "Compiling dictionaries together...\n",
      "Index 0, description CONTRAST120CC@3CC/S,90S DELAY  at input\\HNSCC-01-0572\\11-13-2011-NA-002-01786\\2.000000-CONTRAST120CC3CCS90S DELAY-04866\n",
      "1 unique series IDs were found. Default is index 0, to change use set_index(index)\n",
      "Loading images for CONTRAST120CC@3CC/S,90S DELAY  at \n",
      " input\\HNSCC-01-0572\\11-13-2011-NA-002-01786\\2.000000-CONTRAST120CC3CCS90S DELAY-04866\n",
      "\n"
     ]
    },
    {
     "name": "stderr",
     "output_type": "stream",
     "text": [
      "Loading through DICOM files: 100%|███████████████████████████████████████████████████████| 2/2 [00:56<00:00, 28.03s/it]\n",
      "Loading through DICOM files:   0%|                                                               | 0/2 [00:00<?, ?it/s]"
     ]
    },
    {
     "name": "stdout",
     "output_type": "stream",
     "text": [
      "Loading from input\\HNSCC-01-0573\\11-13-2011-NA-005-63645\\2.000000-ST NECK WCO DIR-76492\n",
      "Loading from input\\HNSCC-01-0573\\11-13-2011-NA-005-63645\\1.000000-Series Description-18262\n"
     ]
    },
    {
     "name": "stderr",
     "output_type": "stream",
     "text": [
      "\r",
      "Loading through DICOM files: 100%|███████████████████████████████████████████████████████| 2/2 [00:07<00:00,  3.76s/it]"
     ]
    },
    {
     "name": "stdout",
     "output_type": "stream",
     "text": [
      "Compiling dictionaries together...\n",
      "Index 0, description ST NECK WCO DIR  at input\\HNSCC-01-0573\\11-13-2011-NA-005-63645\\2.000000-ST NECK WCO DIR-76492\n",
      "1 unique series IDs were found. Default is index 0, to change use set_index(index)\n",
      "Loading images for ST NECK WCO DIR  at \n",
      " input\\HNSCC-01-0573\\11-13-2011-NA-005-63645\\2.000000-ST NECK WCO DIR-76492\n",
      "\n"
     ]
    },
    {
     "name": "stderr",
     "output_type": "stream",
     "text": [
      "Loading through DICOM files: 100%|███████████████████████████████████████████████████████| 2/2 [00:22<00:00, 11.17s/it]\n",
      "Loading through DICOM files:   0%|                                                               | 0/2 [00:00<?, ?it/s]"
     ]
    },
    {
     "name": "stdout",
     "output_type": "stream",
     "text": [
      "Loading from input\\HNSCC-01-0574\\11-13-2011-NA-002-79532\\1.000000-Series Description-73757\n",
      "Loading from input\\HNSCC-01-0574\\11-13-2011-NA-002-79532\\2.000000-CONTRAST120CC3CCS90S DELAY-80867\n"
     ]
    },
    {
     "name": "stderr",
     "output_type": "stream",
     "text": [
      "Loading through DICOM files: 100%|███████████████████████████████████████████████████████| 2/2 [00:18<00:00, 10.59s/it]"
     ]
    },
    {
     "name": "stdout",
     "output_type": "stream",
     "text": [
      "Compiling dictionaries together...\n",
      "Index 0, description CONTRAST120CC@3CC/S,90S DELAY  at input\\HNSCC-01-0574\\11-13-2011-NA-002-79532\\2.000000-CONTRAST120CC3CCS90S DELAY-80867\n",
      "1 unique series IDs were found. Default is index 0, to change use set_index(index)\n",
      "Loading images for CONTRAST120CC@3CC/S,90S DELAY  at \n",
      " input\\HNSCC-01-0574\\11-13-2011-NA-002-79532\\2.000000-CONTRAST120CC3CCS90S DELAY-80867\n",
      "\n"
     ]
    },
    {
     "name": "stderr",
     "output_type": "stream",
     "text": [
      "Loading through DICOM files: 100%|███████████████████████████████████████████████████████| 2/2 [00:53<00:00, 26.53s/it]\n",
      "Loading through DICOM files:   0%|                                                               | 0/2 [00:00<?, ?it/s]"
     ]
    },
    {
     "name": "stdout",
     "output_type": "stream",
     "text": [
      "Loading from input\\HNSCC-01-0576\\11-13-2011-NA-005-18815\\2.000000-Soft Tissue Neck-63595\n",
      "Loading from input\\HNSCC-01-0576\\11-13-2011-NA-005-18815\\1.000000-Series Description-30645\n"
     ]
    },
    {
     "name": "stderr",
     "output_type": "stream",
     "text": [
      "Loading through DICOM files: 100%|███████████████████████████████████████████████████████| 2/2 [00:07<00:00,  4.11s/it]"
     ]
    },
    {
     "name": "stdout",
     "output_type": "stream",
     "text": [
      "Compiling dictionaries together...\n",
      "Index 0, description Soft Tissue Neck at input\\HNSCC-01-0576\\11-13-2011-NA-005-18815\\2.000000-Soft Tissue Neck-63595\n",
      "1 unique series IDs were found. Default is index 0, to change use set_index(index)\n",
      "Loading images for Soft Tissue Neck at \n",
      " input\\HNSCC-01-0576\\11-13-2011-NA-005-18815\\2.000000-Soft Tissue Neck-63595\n",
      "\n"
     ]
    },
    {
     "name": "stderr",
     "output_type": "stream",
     "text": [
      "Loading through DICOM files: 100%|███████████████████████████████████████████████████████| 2/2 [00:20<00:00, 10.03s/it]\n",
      "Loading through DICOM files:   0%|                                                               | 0/2 [00:00<?, ?it/s]"
     ]
    },
    {
     "name": "stdout",
     "output_type": "stream",
     "text": [
      "Loading from input\\HNSCC-01-0577\\11-13-2011-NA-005-36613\\1.000000-Series Description-70892\n",
      "Loading from input\\HNSCC-01-0577\\11-13-2011-NA-005-36613\\3.000000-Neck dental 3.0 B30s-49653\n"
     ]
    },
    {
     "name": "stderr",
     "output_type": "stream",
     "text": [
      "\r",
      "Loading through DICOM files: 100%|███████████████████████████████████████████████████████| 2/2 [00:03<00:00,  1.90s/it]"
     ]
    },
    {
     "name": "stdout",
     "output_type": "stream",
     "text": [
      "Compiling dictionaries together...\n",
      "Index 0, description Neck dental 3.0 B30s at input\\HNSCC-01-0577\\11-13-2011-NA-005-36613\\3.000000-Neck dental 3.0 B30s-49653\n",
      "1 unique series IDs were found. Default is index 0, to change use set_index(index)\n",
      "Loading images for Neck dental 3.0 B30s at \n",
      " input\\HNSCC-01-0577\\11-13-2011-NA-005-36613\\3.000000-Neck dental 3.0 B30s-49653\n",
      "\n"
     ]
    },
    {
     "name": "stderr",
     "output_type": "stream",
     "text": [
      "Loading through DICOM files: 100%|███████████████████████████████████████████████████████| 2/2 [00:13<00:00,  6.62s/it]\n",
      "Loading through DICOM files:   0%|                                                               | 0/2 [00:00<?, ?it/s]"
     ]
    },
    {
     "name": "stdout",
     "output_type": "stream",
     "text": [
      "Loading from input\\HNSCC-01-0578\\11-13-2011-NA-002-17643\\1.000000-Series Description-91558\n",
      "Loading from input\\HNSCC-01-0578\\11-13-2011-NA-002-17643\\2.000000-CONTRAST120CC3CCS90S DELAY-61698\n"
     ]
    },
    {
     "name": "stderr",
     "output_type": "stream",
     "text": [
      "\r",
      "Loading through DICOM files: 100%|███████████████████████████████████████████████████████| 2/2 [00:08<00:00,  4.21s/it]"
     ]
    },
    {
     "name": "stdout",
     "output_type": "stream",
     "text": [
      "Compiling dictionaries together...\n",
      "Index 0, description CONTRAST120CC@3CC/S,90S DELAY  at input\\HNSCC-01-0578\\11-13-2011-NA-002-17643\\2.000000-CONTRAST120CC3CCS90S DELAY-61698\n",
      "1 unique series IDs were found. Default is index 0, to change use set_index(index)\n",
      "Loading images for CONTRAST120CC@3CC/S,90S DELAY  at \n",
      " input\\HNSCC-01-0578\\11-13-2011-NA-002-17643\\2.000000-CONTRAST120CC3CCS90S DELAY-61698\n",
      "\n"
     ]
    },
    {
     "name": "stderr",
     "output_type": "stream",
     "text": [
      "Loading through DICOM files: 100%|███████████████████████████████████████████████████████| 2/2 [00:21<00:00, 10.63s/it]\n",
      "Loading through DICOM files:   0%|                                                               | 0/2 [00:00<?, ?it/s]"
     ]
    },
    {
     "name": "stdout",
     "output_type": "stream",
     "text": [
      "Loading from input\\HNSCC-01-0579\\11-13-2011-NA-017-53359\\2.000000-CONTRAST120CC3CCS90S DELAY-69457\n",
      "Loading from input\\HNSCC-01-0579\\11-13-2011-NA-017-53359\\1.000000-Series Description-39920\n"
     ]
    },
    {
     "name": "stderr",
     "output_type": "stream",
     "text": [
      "\r",
      "Loading through DICOM files: 100%|███████████████████████████████████████████████████████| 2/2 [00:21<00:00, 10.81s/it]"
     ]
    },
    {
     "name": "stdout",
     "output_type": "stream",
     "text": [
      "Compiling dictionaries together...\n",
      "Index 0, description CONTRAST120CC@3CC/S,90S DELAY  at input\\HNSCC-01-0579\\11-13-2011-NA-017-53359\\2.000000-CONTRAST120CC3CCS90S DELAY-69457\n",
      "1 unique series IDs were found. Default is index 0, to change use set_index(index)\n",
      "Loading images for CONTRAST120CC@3CC/S,90S DELAY  at \n",
      " input\\HNSCC-01-0579\\11-13-2011-NA-017-53359\\2.000000-CONTRAST120CC3CCS90S DELAY-69457\n",
      "\n"
     ]
    },
    {
     "name": "stderr",
     "output_type": "stream",
     "text": [
      "Loading through DICOM files: 100%|███████████████████████████████████████████████████████| 2/2 [01:04<00:00, 32.31s/it]\n",
      "Loading through DICOM files:  50%|███████████████████████████▌                           | 1/2 [00:00<00:00,  9.01it/s]"
     ]
    },
    {
     "name": "stdout",
     "output_type": "stream",
     "text": [
      "Loading from input\\HNSCC-01-0580\\11-13-2011-NA-002-29567\\2.000000-CONTRAST120CC3CCS90S DELAY-07837\n",
      "Loading from input\\HNSCC-01-0580\\11-13-2011-NA-002-29567\\1.000000-Series Description-13634\n"
     ]
    },
    {
     "name": "stderr",
     "output_type": "stream",
     "text": [
      "\r",
      "Loading through DICOM files: 100%|███████████████████████████████████████████████████████| 2/2 [00:20<00:00, 12.19s/it]"
     ]
    },
    {
     "name": "stdout",
     "output_type": "stream",
     "text": [
      "Compiling dictionaries together...\n",
      "Index 0, description CONTRAST120CC@3CC/S,90S DELAY  at input\\HNSCC-01-0580\\11-13-2011-NA-002-29567\\2.000000-CONTRAST120CC3CCS90S DELAY-07837\n",
      "1 unique series IDs were found. Default is index 0, to change use set_index(index)\n",
      "Loading images for CONTRAST120CC@3CC/S,90S DELAY  at \n",
      " input\\HNSCC-01-0580\\11-13-2011-NA-002-29567\\2.000000-CONTRAST120CC3CCS90S DELAY-07837\n",
      "\n"
     ]
    },
    {
     "name": "stderr",
     "output_type": "stream",
     "text": [
      "Loading through DICOM files: 100%|███████████████████████████████████████████████████████| 2/2 [01:05<00:00, 32.65s/it]\n",
      "Loading through DICOM files:   0%|                                                               | 0/2 [00:00<?, ?it/s]"
     ]
    },
    {
     "name": "stdout",
     "output_type": "stream",
     "text": [
      "Loading from input\\HNSCC-01-0581\\11-13-2011-NA-002-05745\\1.000000-Series Description-69083\n",
      "Loading from input\\HNSCC-01-0581\\11-13-2011-NA-002-05745\\2.000000-CONTRAST120CC3CCS90S DELAY-25133\n"
     ]
    },
    {
     "name": "stderr",
     "output_type": "stream",
     "text": [
      "\r",
      "Loading through DICOM files: 100%|███████████████████████████████████████████████████████| 2/2 [00:19<00:00,  9.81s/it]"
     ]
    },
    {
     "name": "stdout",
     "output_type": "stream",
     "text": [
      "Compiling dictionaries together...\n",
      "Index 0, description CONTRAST120CC@3CC/S,90S DELAY  at input\\HNSCC-01-0581\\11-13-2011-NA-002-05745\\2.000000-CONTRAST120CC3CCS90S DELAY-25133\n",
      "1 unique series IDs were found. Default is index 0, to change use set_index(index)\n",
      "Loading images for CONTRAST120CC@3CC/S,90S DELAY  at \n",
      " input\\HNSCC-01-0581\\11-13-2011-NA-002-05745\\2.000000-CONTRAST120CC3CCS90S DELAY-25133\n",
      "\n"
     ]
    },
    {
     "name": "stderr",
     "output_type": "stream",
     "text": [
      "Loading through DICOM files: 100%|███████████████████████████████████████████████████████| 2/2 [00:57<00:00, 28.58s/it]\n",
      "Loading through DICOM files:   0%|                                                               | 0/2 [00:00<?, ?it/s]"
     ]
    },
    {
     "name": "stdout",
     "output_type": "stream",
     "text": [
      "Loading from input\\HNSCC-01-0582\\11-13-2011-NA-005-62302\\2.000000-NECK WC-72369\n",
      "Loading from input\\HNSCC-01-0582\\11-13-2011-NA-005-62302\\1.000000-Series Description-71931\n"
     ]
    },
    {
     "name": "stderr",
     "output_type": "stream",
     "text": [
      "\r",
      "Loading through DICOM files: 100%|███████████████████████████████████████████████████████| 2/2 [00:05<00:00,  2.51s/it]"
     ]
    },
    {
     "name": "stdout",
     "output_type": "stream",
     "text": [
      "Compiling dictionaries together...\n",
      "Index 0, description NECK W/C at input\\HNSCC-01-0582\\11-13-2011-NA-005-62302\\2.000000-NECK WC-72369\n",
      "1 unique series IDs were found. Default is index 0, to change use set_index(index)\n",
      "Loading images for NECK W/C at \n",
      " input\\HNSCC-01-0582\\11-13-2011-NA-005-62302\\2.000000-NECK WC-72369\n",
      "\n"
     ]
    },
    {
     "name": "stderr",
     "output_type": "stream",
     "text": [
      "Loading through DICOM files: 100%|███████████████████████████████████████████████████████| 2/2 [00:17<00:00,  8.88s/it]\n",
      "Loading through DICOM files:   0%|                                                               | 0/2 [00:00<?, ?it/s]"
     ]
    },
    {
     "name": "stdout",
     "output_type": "stream",
     "text": [
      "Loading from input\\HNSCC-01-0583\\11-13-2011-NA-002-54989\\2.000000-CONTRAST120CC3CCS90S DELAY-51427\n",
      "Loading from input\\HNSCC-01-0583\\11-13-2011-NA-002-54989\\1.000000-Series Description-66775\n"
     ]
    },
    {
     "name": "stderr",
     "output_type": "stream",
     "text": [
      "\r",
      "Loading through DICOM files: 100%|███████████████████████████████████████████████████████| 2/2 [00:19<00:00,  9.73s/it]"
     ]
    },
    {
     "name": "stdout",
     "output_type": "stream",
     "text": [
      "Compiling dictionaries together...\n",
      "Index 0, description CONTRAST120CC@3CC/S,90S DELAY  at input\\HNSCC-01-0583\\11-13-2011-NA-002-54989\\2.000000-CONTRAST120CC3CCS90S DELAY-51427\n",
      "1 unique series IDs were found. Default is index 0, to change use set_index(index)\n",
      "Loading images for CONTRAST120CC@3CC/S,90S DELAY  at \n",
      " input\\HNSCC-01-0583\\11-13-2011-NA-002-54989\\2.000000-CONTRAST120CC3CCS90S DELAY-51427\n",
      "\n"
     ]
    },
    {
     "name": "stderr",
     "output_type": "stream",
     "text": [
      "Loading through DICOM files: 100%|███████████████████████████████████████████████████████| 2/2 [00:54<00:00, 27.08s/it]\n",
      "Loading through DICOM files:  50%|███████████████████████████▌                           | 1/2 [00:00<00:00,  8.55it/s]"
     ]
    },
    {
     "name": "stdout",
     "output_type": "stream",
     "text": [
      "Loading from input\\HNSCC-01-0584\\11-13-2011-NA-002-96505\\2.000000-CONTRAST120CC3CCS90S DELAY-21292\n",
      "Loading from input\\HNSCC-01-0584\\11-13-2011-NA-002-96505\\1.000000-Series Description-65702\n"
     ]
    },
    {
     "name": "stderr",
     "output_type": "stream",
     "text": [
      "\r",
      "Loading through DICOM files: 100%|███████████████████████████████████████████████████████| 2/2 [00:19<00:00, 11.49s/it]"
     ]
    },
    {
     "name": "stdout",
     "output_type": "stream",
     "text": [
      "Compiling dictionaries together...\n",
      "Index 0, description CONTRAST120CC@3CC/S,90S DELAY  at input\\HNSCC-01-0584\\11-13-2011-NA-002-96505\\2.000000-CONTRAST120CC3CCS90S DELAY-21292\n",
      "1 unique series IDs were found. Default is index 0, to change use set_index(index)\n",
      "Loading images for CONTRAST120CC@3CC/S,90S DELAY  at \n",
      " input\\HNSCC-01-0584\\11-13-2011-NA-002-96505\\2.000000-CONTRAST120CC3CCS90S DELAY-21292\n",
      "\n"
     ]
    },
    {
     "name": "stderr",
     "output_type": "stream",
     "text": [
      "Loading through DICOM files: 100%|███████████████████████████████████████████████████████| 2/2 [00:59<00:00, 29.52s/it]\n",
      "Loading through DICOM files:  50%|███████████████████████████▌                           | 1/2 [00:00<00:00,  9.80it/s]"
     ]
    },
    {
     "name": "stdout",
     "output_type": "stream",
     "text": [
      "Loading from input\\HNSCC-01-0585\\11-13-2011-NA-002-91843\\1.000000-Series Description-60376Loading from input\\HNSCC-01-0585\\11-13-2011-NA-002-91843\\2.000000-CONTRAST120CC3CCS90S DELAY-91096\n",
      "\n"
     ]
    },
    {
     "name": "stderr",
     "output_type": "stream",
     "text": [
      "\r",
      "Loading through DICOM files: 100%|███████████████████████████████████████████████████████| 2/2 [00:17<00:00, 10.56s/it]"
     ]
    },
    {
     "name": "stdout",
     "output_type": "stream",
     "text": [
      "Compiling dictionaries together...\n",
      "Index 0, description CONTRAST120CC@3CC/S,90S DELAY  at input\\HNSCC-01-0585\\11-13-2011-NA-002-91843\\2.000000-CONTRAST120CC3CCS90S DELAY-91096\n",
      "1 unique series IDs were found. Default is index 0, to change use set_index(index)\n",
      "Loading images for CONTRAST120CC@3CC/S,90S DELAY  at \n",
      " input\\HNSCC-01-0585\\11-13-2011-NA-002-91843\\2.000000-CONTRAST120CC3CCS90S DELAY-91096\n",
      "\n"
     ]
    },
    {
     "name": "stderr",
     "output_type": "stream",
     "text": [
      "Loading through DICOM files: 100%|███████████████████████████████████████████████████████| 2/2 [00:53<00:00, 26.91s/it]\n",
      "Loading through DICOM files:   0%|                                                               | 0/2 [00:00<?, ?it/s]"
     ]
    },
    {
     "name": "stdout",
     "output_type": "stream",
     "text": [
      "Loading from input\\HNSCC-01-0587\\11-13-2011-NA-002-59853\\2.000000-CONTRAST120CC3CCS90S DELAY-58443\n",
      "Loading from input\\HNSCC-01-0587\\11-13-2011-NA-002-59853\\1.000000-Series Description-77725\n"
     ]
    },
    {
     "name": "stderr",
     "output_type": "stream",
     "text": [
      "\r",
      "Loading through DICOM files: 100%|███████████████████████████████████████████████████████| 2/2 [00:21<00:00, 10.75s/it]"
     ]
    },
    {
     "name": "stdout",
     "output_type": "stream",
     "text": [
      "Compiling dictionaries together...\n",
      "Index 0, description CONTRAST120CC@3CC/S,90S DELAY  at input\\HNSCC-01-0587\\11-13-2011-NA-002-59853\\2.000000-CONTRAST120CC3CCS90S DELAY-58443\n",
      "1 unique series IDs were found. Default is index 0, to change use set_index(index)\n",
      "Loading images for CONTRAST120CC@3CC/S,90S DELAY  at \n",
      " input\\HNSCC-01-0587\\11-13-2011-NA-002-59853\\2.000000-CONTRAST120CC3CCS90S DELAY-58443\n",
      "\n"
     ]
    },
    {
     "name": "stderr",
     "output_type": "stream",
     "text": [
      "Loading through DICOM files: 100%|███████████████████████████████████████████████████████| 2/2 [00:59<00:00, 29.93s/it]\n",
      "Loading through DICOM files:   0%|                                                               | 0/2 [00:00<?, ?it/s]"
     ]
    },
    {
     "name": "stdout",
     "output_type": "stream",
     "text": [
      "Loading from input\\HNSCC-01-0588\\11-13-2011-NA-002-34671\\2.000000-CONTRAST120CC3CCS90S DELAY-44873\n",
      "Loading from input\\HNSCC-01-0588\\11-13-2011-NA-002-34671\\1.000000-Series Description-60243\n"
     ]
    },
    {
     "name": "stderr",
     "output_type": "stream",
     "text": [
      "\r",
      "Loading through DICOM files: 100%|███████████████████████████████████████████████████████| 2/2 [00:15<00:00,  7.76s/it]"
     ]
    },
    {
     "name": "stdout",
     "output_type": "stream",
     "text": [
      "Compiling dictionaries together...\n",
      "Index 0, description CONTRAST120CC@3CC/S,90S DELAY  at input\\HNSCC-01-0588\\11-13-2011-NA-002-34671\\2.000000-CONTRAST120CC3CCS90S DELAY-44873\n",
      "1 unique series IDs were found. Default is index 0, to change use set_index(index)\n",
      "Loading images for CONTRAST120CC@3CC/S,90S DELAY  at \n",
      " input\\HNSCC-01-0588\\11-13-2011-NA-002-34671\\2.000000-CONTRAST120CC3CCS90S DELAY-44873\n",
      "\n"
     ]
    },
    {
     "name": "stderr",
     "output_type": "stream",
     "text": [
      "Loading through DICOM files: 100%|███████████████████████████████████████████████████████| 2/2 [00:48<00:00, 24.00s/it]\n",
      "Loading through DICOM files:   0%|                                                               | 0/2 [00:00<?, ?it/s]"
     ]
    },
    {
     "name": "stdout",
     "output_type": "stream",
     "text": [
      "Loading from input\\HNSCC-01-0589\\11-13-2011-NA-005-75859\\1.000000-Series Description-99356\n",
      "Loading from input\\HNSCC-01-0589\\11-13-2011-NA-005-75859\\1021.000000-NA-91518\n"
     ]
    },
    {
     "name": "stderr",
     "output_type": "stream",
     "text": [
      "\r",
      "Loading through DICOM files: 100%|███████████████████████████████████████████████████████| 2/2 [00:09<00:00,  4.57s/it]"
     ]
    },
    {
     "name": "stdout",
     "output_type": "stream",
     "text": [
      "Compiling dictionaries together...\n",
      "Index 0, description  at input\\HNSCC-01-0589\\11-13-2011-NA-005-75859\\1021.000000-NA-91518\n",
      "1 unique series IDs were found. Default is index 0, to change use set_index(index)\n",
      "Loading images for  at \n",
      " input\\HNSCC-01-0589\\11-13-2011-NA-005-75859\\1021.000000-NA-91518\n",
      "\n"
     ]
    },
    {
     "name": "stderr",
     "output_type": "stream",
     "text": [
      "Loading through DICOM files: 100%|███████████████████████████████████████████████████████| 2/2 [00:24<00:00, 12.19s/it]\n",
      "Loading through DICOM files:   0%|                                                               | 0/2 [00:00<?, ?it/s]"
     ]
    },
    {
     "name": "stdout",
     "output_type": "stream",
     "text": [
      "Loading from input\\HNSCC-01-0590\\11-13-2011-NA-002-35710\\1.000000-Series Description-86372\n",
      "Loading from input\\HNSCC-01-0590\\11-13-2011-NA-002-35710\\2.000000-CONTRAST120CC3CCS90S DELAY-21543\n"
     ]
    },
    {
     "name": "stderr",
     "output_type": "stream",
     "text": [
      "Loading through DICOM files: 100%|███████████████████████████████████████████████████████| 2/2 [00:21<00:00, 12.60s/it]"
     ]
    },
    {
     "name": "stdout",
     "output_type": "stream",
     "text": [
      "Compiling dictionaries together...\n",
      "Index 0, description CONTRAST120CC@3CC/S,90S DELAY  at input\\HNSCC-01-0590\\11-13-2011-NA-002-35710\\2.000000-CONTRAST120CC3CCS90S DELAY-21543\n",
      "1 unique series IDs were found. Default is index 0, to change use set_index(index)\n",
      "Loading images for CONTRAST120CC@3CC/S,90S DELAY  at \n",
      " input\\HNSCC-01-0590\\11-13-2011-NA-002-35710\\2.000000-CONTRAST120CC3CCS90S DELAY-21543\n",
      "\n"
     ]
    },
    {
     "name": "stderr",
     "output_type": "stream",
     "text": [
      "Loading through DICOM files: 100%|███████████████████████████████████████████████████████| 2/2 [01:03<00:00, 31.62s/it]\n",
      "Loading through DICOM files:   0%|                                                               | 0/2 [00:00<?, ?it/s]"
     ]
    },
    {
     "name": "stdout",
     "output_type": "stream",
     "text": [
      "Loading from input\\HNSCC-01-0591\\11-13-2011-NA-002-72465\\2.000000-CONTRAST120CC3CCS90S DELAY-64006\n",
      "Loading from input\\HNSCC-01-0591\\11-13-2011-NA-002-72465\\1.000000-Series Description-03850\n"
     ]
    },
    {
     "name": "stderr",
     "output_type": "stream",
     "text": [
      "\r",
      "Loading through DICOM files: 100%|███████████████████████████████████████████████████████| 2/2 [00:20<00:00, 10.11s/it]"
     ]
    },
    {
     "name": "stdout",
     "output_type": "stream",
     "text": [
      "Compiling dictionaries together...\n",
      "Index 0, description CONTRAST120CC@3CC/S,90S DELAY  at input\\HNSCC-01-0591\\11-13-2011-NA-002-72465\\2.000000-CONTRAST120CC3CCS90S DELAY-64006\n",
      "1 unique series IDs were found. Default is index 0, to change use set_index(index)\n",
      "Loading images for CONTRAST120CC@3CC/S,90S DELAY  at \n",
      " input\\HNSCC-01-0591\\11-13-2011-NA-002-72465\\2.000000-CONTRAST120CC3CCS90S DELAY-64006\n",
      "\n"
     ]
    },
    {
     "name": "stderr",
     "output_type": "stream",
     "text": [
      "Loading through DICOM files: 100%|███████████████████████████████████████████████████████| 2/2 [00:59<00:00, 30.00s/it]\n",
      "Loading through DICOM files:  50%|███████████████████████████▌                           | 1/2 [00:00<00:00,  7.69it/s]"
     ]
    },
    {
     "name": "stdout",
     "output_type": "stream",
     "text": [
      "Loading from input\\HNSCC-01-0592\\12-16-2012-NA-002-55221\\1.000000-Series Description-82258\n",
      "Loading from input\\HNSCC-01-0592\\12-16-2012-NA-002-55221\\2.000000-CONTRAST120CC3CCS90S DELAY-87963\n"
     ]
    },
    {
     "name": "stderr",
     "output_type": "stream",
     "text": [
      "\r",
      "Loading through DICOM files: 100%|███████████████████████████████████████████████████████| 2/2 [00:22<00:00, 13.26s/it]"
     ]
    },
    {
     "name": "stdout",
     "output_type": "stream",
     "text": [
      "Compiling dictionaries together...\n",
      "Index 0, description CONTRAST120CC@3CC/S,90S DELAY  at input\\HNSCC-01-0592\\12-16-2012-NA-002-55221\\2.000000-CONTRAST120CC3CCS90S DELAY-87963\n",
      "1 unique series IDs were found. Default is index 0, to change use set_index(index)\n",
      "Loading images for CONTRAST120CC@3CC/S,90S DELAY  at \n",
      " input\\HNSCC-01-0592\\12-16-2012-NA-002-55221\\2.000000-CONTRAST120CC3CCS90S DELAY-87963\n",
      "\n"
     ]
    },
    {
     "name": "stderr",
     "output_type": "stream",
     "text": [
      "Loading through DICOM files: 100%|███████████████████████████████████████████████████████| 2/2 [01:03<00:00, 31.74s/it]\n",
      "Loading through DICOM files:  50%|███████████████████████████▌                           | 1/2 [00:00<00:00,  9.17it/s]"
     ]
    },
    {
     "name": "stdout",
     "output_type": "stream",
     "text": [
      "Loading from input\\HNSCC-01-0593\\12-16-2012-NA-003-11030\\1.000000-Series Description-20264\n",
      "Loading from input\\HNSCC-01-0593\\12-16-2012-NA-003-11030\\2.000000-CONTRAST120CC3CCS90S DELAY-96229\n"
     ]
    },
    {
     "name": "stderr",
     "output_type": "stream",
     "text": [
      "\r",
      "Loading through DICOM files: 100%|███████████████████████████████████████████████████████| 2/2 [00:24<00:00, 14.25s/it]"
     ]
    },
    {
     "name": "stdout",
     "output_type": "stream",
     "text": [
      "Compiling dictionaries together...\n",
      "Index 0, description CONTRAST120CC@3CC/S,90S DELAY  at input\\HNSCC-01-0593\\12-16-2012-NA-003-11030\\2.000000-CONTRAST120CC3CCS90S DELAY-96229\n",
      "1 unique series IDs were found. Default is index 0, to change use set_index(index)\n",
      "Loading images for CONTRAST120CC@3CC/S,90S DELAY  at \n",
      " input\\HNSCC-01-0593\\12-16-2012-NA-003-11030\\2.000000-CONTRAST120CC3CCS90S DELAY-96229\n",
      "\n"
     ]
    },
    {
     "name": "stderr",
     "output_type": "stream",
     "text": [
      "Loading through DICOM files: 100%|███████████████████████████████████████████████████████| 2/2 [01:06<00:00, 33.12s/it]\n",
      "Loading through DICOM files:   0%|                                                               | 0/2 [00:00<?, ?it/s]"
     ]
    },
    {
     "name": "stdout",
     "output_type": "stream",
     "text": [
      "Loading from input\\HNSCC-01-0594\\12-16-2012-NA-005-39446\\5.000000-POST SOFT TISSUE NECK-65785Loading from input\\HNSCC-01-0594\\12-16-2012-NA-005-39446\\1.000000-Series Description-66946\n",
      "\n"
     ]
    },
    {
     "name": "stderr",
     "output_type": "stream",
     "text": [
      "\r",
      "Loading through DICOM files: 100%|███████████████████████████████████████████████████████| 2/2 [00:02<00:00,  1.40s/it]"
     ]
    },
    {
     "name": "stdout",
     "output_type": "stream",
     "text": [
      "Compiling dictionaries together...\n",
      "Index 0, description POST SOFT TISSUE NECK  at input\\HNSCC-01-0594\\12-16-2012-NA-005-39446\\5.000000-POST SOFT TISSUE NECK-65785\n",
      "1 unique series IDs were found. Default is index 0, to change use set_index(index)\n",
      "Loading images for POST SOFT TISSUE NECK  at \n",
      " input\\HNSCC-01-0594\\12-16-2012-NA-005-39446\\5.000000-POST SOFT TISSUE NECK-65785\n",
      "\n"
     ]
    },
    {
     "name": "stderr",
     "output_type": "stream",
     "text": [
      "Loading through DICOM files: 100%|███████████████████████████████████████████████████████| 2/2 [00:10<00:00,  5.22s/it]\n",
      "Loading through DICOM files:  50%|███████████████████████████▌                           | 1/2 [00:00<00:00,  9.01it/s]"
     ]
    },
    {
     "name": "stdout",
     "output_type": "stream",
     "text": [
      "Loading from input\\HNSCC-01-0595\\11-13-2011-NA-003-21073\\3.000000-CONTRAST120CC3CCS90S DELAY-98359\n",
      "Loading from input\\HNSCC-01-0595\\11-13-2011-NA-003-21073\\1.000000-Series Description-89116\n"
     ]
    },
    {
     "name": "stderr",
     "output_type": "stream",
     "text": [
      "\r",
      "Loading through DICOM files: 100%|███████████████████████████████████████████████████████| 2/2 [00:18<00:00, 10.85s/it]"
     ]
    },
    {
     "name": "stdout",
     "output_type": "stream",
     "text": [
      "Compiling dictionaries together...\n",
      "Index 0, description CONTRAST120CC@3CC/S,90S DELAY  at input\\HNSCC-01-0595\\11-13-2011-NA-003-21073\\3.000000-CONTRAST120CC3CCS90S DELAY-98359\n",
      "1 unique series IDs were found. Default is index 0, to change use set_index(index)\n",
      "Loading images for CONTRAST120CC@3CC/S,90S DELAY  at \n",
      " input\\HNSCC-01-0595\\11-13-2011-NA-003-21073\\3.000000-CONTRAST120CC3CCS90S DELAY-98359\n",
      "\n"
     ]
    },
    {
     "name": "stderr",
     "output_type": "stream",
     "text": [
      "Loading through DICOM files: 100%|███████████████████████████████████████████████████████| 2/2 [01:00<00:00, 30.26s/it]\n",
      "Loading through DICOM files:   0%|                                                               | 0/2 [00:00<?, ?it/s]"
     ]
    },
    {
     "name": "stdout",
     "output_type": "stream",
     "text": [
      "Loading from input\\HNSCC-01-0596\\12-16-2012-NA-CT SOFT TISSUE NECK W-18584\\1.000000-Series Description-20597\n",
      "Loading from input\\HNSCC-01-0596\\12-16-2012-NA-CT SOFT TISSUE NECK W-18584\\2.000000-CONTRAST120CC3CCS90S DELAY-84343\n"
     ]
    },
    {
     "name": "stderr",
     "output_type": "stream",
     "text": [
      "\r",
      "Loading through DICOM files: 100%|███████████████████████████████████████████████████████| 2/2 [00:14<00:00,  7.08s/it]"
     ]
    },
    {
     "name": "stdout",
     "output_type": "stream",
     "text": [
      "Compiling dictionaries together...\n",
      "Index 0, description CONTRAST120CC@3CC/S,90S DELAY  at input\\HNSCC-01-0596\\12-16-2012-NA-CT SOFT TISSUE NECK W-18584\\2.000000-CONTRAST120CC3CCS90S DELAY-84343\n",
      "1 unique series IDs were found. Default is index 0, to change use set_index(index)\n",
      "Loading images for CONTRAST120CC@3CC/S,90S DELAY  at \n",
      " input\\HNSCC-01-0596\\12-16-2012-NA-CT SOFT TISSUE NECK W-18584\\2.000000-CONTRAST120CC3CCS90S DELAY-84343\n",
      "\n"
     ]
    },
    {
     "name": "stderr",
     "output_type": "stream",
     "text": [
      "Loading through DICOM files: 100%|███████████████████████████████████████████████████████| 2/2 [00:47<00:00, 23.84s/it]\n",
      "Loading through DICOM files:  50%|███████████████████████████▌                           | 1/2 [00:00<00:00,  9.35it/s]"
     ]
    },
    {
     "name": "stdout",
     "output_type": "stream",
     "text": [
      "Loading from input\\HNSCC-01-0597\\12-16-2012-NA-002-36970\\2.000000-CONTRAST120CC3CCS90S DELAY-60397\n",
      "Loading from input\\HNSCC-01-0597\\12-16-2012-NA-002-36970\\1.000000-Series Description-68519\n"
     ]
    },
    {
     "name": "stderr",
     "output_type": "stream",
     "text": [
      "\r",
      "Loading through DICOM files: 100%|███████████████████████████████████████████████████████| 2/2 [00:17<00:00, 10.24s/it]"
     ]
    },
    {
     "name": "stdout",
     "output_type": "stream",
     "text": [
      "Compiling dictionaries together...\n",
      "Index 0, description CONTRAST120CC@3CC/S,90S DELAY  at input\\HNSCC-01-0597\\12-16-2012-NA-002-36970\\2.000000-CONTRAST120CC3CCS90S DELAY-60397\n",
      "1 unique series IDs were found. Default is index 0, to change use set_index(index)\n",
      "Loading images for CONTRAST120CC@3CC/S,90S DELAY  at \n",
      " input\\HNSCC-01-0597\\12-16-2012-NA-002-36970\\2.000000-CONTRAST120CC3CCS90S DELAY-60397\n",
      "\n"
     ]
    },
    {
     "name": "stderr",
     "output_type": "stream",
     "text": [
      "Loading through DICOM files: 100%|███████████████████████████████████████████████████████| 2/2 [00:53<00:00, 26.85s/it]\n",
      "Loading through DICOM files:   0%|                                                               | 0/2 [00:00<?, ?it/s]"
     ]
    },
    {
     "name": "stdout",
     "output_type": "stream",
     "text": [
      "Loading from input\\HNSCC-01-0598\\12-16-2012-NA-002-19107\\1.000000-Series Description-76769\n",
      "Loading from input\\HNSCC-01-0598\\12-16-2012-NA-002-19107\\2.000000-CONTRAST120CC3CCS90S DELAY-64884\n"
     ]
    },
    {
     "name": "stderr",
     "output_type": "stream",
     "text": [
      "\r",
      "Loading through DICOM files: 100%|███████████████████████████████████████████████████████| 2/2 [00:20<00:00, 10.30s/it]"
     ]
    },
    {
     "name": "stdout",
     "output_type": "stream",
     "text": [
      "Compiling dictionaries together...\n",
      "Index 0, description CONTRAST120CC@3CC/S,90S DELAY  at input\\HNSCC-01-0598\\12-16-2012-NA-002-19107\\2.000000-CONTRAST120CC3CCS90S DELAY-64884\n",
      "1 unique series IDs were found. Default is index 0, to change use set_index(index)\n",
      "Loading images for CONTRAST120CC@3CC/S,90S DELAY  at \n",
      " input\\HNSCC-01-0598\\12-16-2012-NA-002-19107\\2.000000-CONTRAST120CC3CCS90S DELAY-64884\n",
      "\n"
     ]
    },
    {
     "name": "stderr",
     "output_type": "stream",
     "text": [
      "Loading through DICOM files: 100%|███████████████████████████████████████████████████████| 2/2 [00:54<00:00, 27.30s/it]\n",
      "Loading through DICOM files:   0%|                                                               | 0/2 [00:00<?, ?it/s]"
     ]
    },
    {
     "name": "stdout",
     "output_type": "stream",
     "text": [
      "Loading from input\\HNSCC-01-0599\\12-16-2012-NA-002-22723\\1.000000-Series Description-72323\n",
      "Loading from input\\HNSCC-01-0599\\12-16-2012-NA-002-22723\\2.000000-ORALNASOPHARYNX-10510\n"
     ]
    },
    {
     "name": "stderr",
     "output_type": "stream",
     "text": [
      "\r",
      "Loading through DICOM files: 100%|███████████████████████████████████████████████████████| 2/2 [00:13<00:00,  6.99s/it]"
     ]
    },
    {
     "name": "stdout",
     "output_type": "stream",
     "text": [
      "Compiling dictionaries together...\n",
      "Index 0, description ORAL/NASOPHARYNX at input\\HNSCC-01-0599\\12-16-2012-NA-002-22723\\2.000000-ORALNASOPHARYNX-10510\n",
      "1 unique series IDs were found. Default is index 0, to change use set_index(index)\n",
      "Loading images for ORAL/NASOPHARYNX at \n",
      " input\\HNSCC-01-0599\\12-16-2012-NA-002-22723\\2.000000-ORALNASOPHARYNX-10510\n",
      "\n"
     ]
    },
    {
     "name": "stderr",
     "output_type": "stream",
     "text": [
      "Loading through DICOM files: 100%|███████████████████████████████████████████████████████| 2/2 [00:46<00:00, 23.36s/it]\n",
      "Loading through DICOM files:   0%|                                                               | 0/2 [00:00<?, ?it/s]"
     ]
    },
    {
     "name": "stdout",
     "output_type": "stream",
     "text": [
      "Loading from input\\HNSCC-01-0600\\12-16-2012-NA-006-41457\\1.000000-Series Description-15163Loading from input\\HNSCC-01-0600\\12-16-2012-NA-006-41457\\2.000000-Soft Tissue Neck-32270\n",
      "\n"
     ]
    },
    {
     "name": "stderr",
     "output_type": "stream",
     "text": [
      "\r",
      "Loading through DICOM files: 100%|███████████████████████████████████████████████████████| 2/2 [00:03<00:00,  1.86s/it]"
     ]
    },
    {
     "name": "stdout",
     "output_type": "stream",
     "text": [
      "Compiling dictionaries together...\n",
      "Index 0, description Soft Tissue Neck at input\\HNSCC-01-0600\\12-16-2012-NA-006-41457\\2.000000-Soft Tissue Neck-32270\n",
      "1 unique series IDs were found. Default is index 0, to change use set_index(index)\n",
      "Loading images for Soft Tissue Neck at \n",
      " input\\HNSCC-01-0600\\12-16-2012-NA-006-41457\\2.000000-Soft Tissue Neck-32270\n",
      "\n"
     ]
    },
    {
     "name": "stderr",
     "output_type": "stream",
     "text": [
      "Loading through DICOM files: 100%|███████████████████████████████████████████████████████| 2/2 [00:12<00:00,  6.07s/it]\n",
      "Loading through DICOM files:  50%|███████████████████████████▌                           | 1/2 [00:00<00:00,  5.49it/s]"
     ]
    },
    {
     "name": "stdout",
     "output_type": "stream",
     "text": [
      "Loading from input\\HNSCC-01-0601\\12-16-2012-NA-CT HN ORALNASO-68014\\1.000000-Series Description-73942\n",
      "Loading from input\\HNSCC-01-0601\\12-16-2012-NA-CT HN ORALNASO-68014\\2.000000-ORAL-NASOPHARYNX-55878\n"
     ]
    },
    {
     "name": "stderr",
     "output_type": "stream",
     "text": [
      "\r",
      "Loading through DICOM files: 100%|███████████████████████████████████████████████████████| 2/2 [00:14<00:00,  8.61s/it]"
     ]
    },
    {
     "name": "stdout",
     "output_type": "stream",
     "text": [
      "Compiling dictionaries together...\n",
      "Index 0, description ORAL-NASOPHARYNX at input\\HNSCC-01-0601\\12-16-2012-NA-CT HN ORALNASO-68014\\2.000000-ORAL-NASOPHARYNX-55878\n",
      "1 unique series IDs were found. Default is index 0, to change use set_index(index)\n",
      "Loading images for ORAL-NASOPHARYNX at \n",
      " input\\HNSCC-01-0601\\12-16-2012-NA-CT HN ORALNASO-68014\\2.000000-ORAL-NASOPHARYNX-55878\n",
      "\n"
     ]
    },
    {
     "name": "stderr",
     "output_type": "stream",
     "text": [
      "Loading through DICOM files: 100%|███████████████████████████████████████████████████████| 2/2 [00:50<00:00, 25.03s/it]\n",
      "Loading through DICOM files:  50%|███████████████████████████▌                           | 1/2 [00:00<00:00,  9.35it/s]"
     ]
    },
    {
     "name": "stdout",
     "output_type": "stream",
     "text": [
      "Loading from input\\HNSCC-01-0602\\12-16-2012-NA-002-86236\\1.000000-Series Description-55421Loading from input\\HNSCC-01-0602\\12-16-2012-NA-002-86236\\2.000000-ORAL-NASOPHARYNX-95400\n",
      "\n"
     ]
    },
    {
     "name": "stderr",
     "output_type": "stream",
     "text": [
      "\r",
      "Loading through DICOM files: 100%|███████████████████████████████████████████████████████| 2/2 [00:16<00:00,  9.77s/it]"
     ]
    },
    {
     "name": "stdout",
     "output_type": "stream",
     "text": [
      "Compiling dictionaries together...\n",
      "Index 0, description ORAL-NASOPHARYNX at input\\HNSCC-01-0602\\12-16-2012-NA-002-86236\\2.000000-ORAL-NASOPHARYNX-95400\n",
      "1 unique series IDs were found. Default is index 0, to change use set_index(index)\n",
      "Loading images for ORAL-NASOPHARYNX at \n",
      " input\\HNSCC-01-0602\\12-16-2012-NA-002-86236\\2.000000-ORAL-NASOPHARYNX-95400\n",
      "\n"
     ]
    },
    {
     "name": "stderr",
     "output_type": "stream",
     "text": [
      "Loading through DICOM files: 100%|███████████████████████████████████████████████████████| 2/2 [00:54<00:00, 27.11s/it]\n",
      "Loading through DICOM files:   0%|                                                               | 0/2 [00:00<?, ?it/s]"
     ]
    },
    {
     "name": "stdout",
     "output_type": "stream",
     "text": [
      "Loading from input\\HNSCC-01-0603\\12-16-2012-NA-015-58114\\2.000000-ORALNASOPHARYNX-76303\n",
      "Loading from input\\HNSCC-01-0603\\12-16-2012-NA-015-58114\\1.000000-Series Description-33222\n"
     ]
    },
    {
     "name": "stderr",
     "output_type": "stream",
     "text": [
      "\r",
      "Loading through DICOM files: 100%|███████████████████████████████████████████████████████| 2/2 [00:16<00:00,  8.03s/it]"
     ]
    },
    {
     "name": "stdout",
     "output_type": "stream",
     "text": [
      "Compiling dictionaries together...\n",
      "Index 0, description ORAL/NASOPHARYNX at input\\HNSCC-01-0603\\12-16-2012-NA-015-58114\\2.000000-ORALNASOPHARYNX-76303\n",
      "1 unique series IDs were found. Default is index 0, to change use set_index(index)\n",
      "Loading images for ORAL/NASOPHARYNX at \n",
      " input\\HNSCC-01-0603\\12-16-2012-NA-015-58114\\2.000000-ORALNASOPHARYNX-76303\n",
      "\n"
     ]
    },
    {
     "name": "stderr",
     "output_type": "stream",
     "text": [
      "Loading through DICOM files: 100%|███████████████████████████████████████████████████████| 2/2 [00:49<00:00, 24.89s/it]\n",
      "Loading through DICOM files:  50%|███████████████████████████▌                           | 1/2 [00:00<00:00,  9.52it/s]"
     ]
    },
    {
     "name": "stdout",
     "output_type": "stream",
     "text": [
      "Loading from input\\HNSCC-01-0604\\12-16-2012-NA-002-23228\\1.000000-Series Description-26809\n",
      "Loading from input\\HNSCC-01-0604\\12-16-2012-NA-002-23228\\2.000000-ORALNASOPHARYNX-19407\n"
     ]
    },
    {
     "name": "stderr",
     "output_type": "stream",
     "text": [
      "\r",
      "Loading through DICOM files: 100%|███████████████████████████████████████████████████████| 2/2 [00:15<00:00,  9.15s/it]"
     ]
    },
    {
     "name": "stdout",
     "output_type": "stream",
     "text": [
      "Compiling dictionaries together...\n",
      "Index 0, description ORAL/NASOPHARYNX at input\\HNSCC-01-0604\\12-16-2012-NA-002-23228\\2.000000-ORALNASOPHARYNX-19407\n",
      "1 unique series IDs were found. Default is index 0, to change use set_index(index)\n",
      "Loading images for ORAL/NASOPHARYNX at \n",
      " input\\HNSCC-01-0604\\12-16-2012-NA-002-23228\\2.000000-ORALNASOPHARYNX-19407\n",
      "\n"
     ]
    },
    {
     "name": "stderr",
     "output_type": "stream",
     "text": [
      "Loading through DICOM files: 100%|███████████████████████████████████████████████████████| 2/2 [00:45<00:00, 22.85s/it]\n",
      "Loading through DICOM files:   0%|                                                               | 0/2 [00:00<?, ?it/s]"
     ]
    },
    {
     "name": "stdout",
     "output_type": "stream",
     "text": [
      "Loading from input\\HNSCC-01-0605\\12-16-2012-NA-002-59744\\1.000000-Series Description-84067\n",
      "Loading from input\\HNSCC-01-0605\\12-16-2012-NA-002-59744\\2.000000-ORALNASOPHARYNX-86404\n"
     ]
    },
    {
     "name": "stderr",
     "output_type": "stream",
     "text": [
      "\r",
      "Loading through DICOM files: 100%|███████████████████████████████████████████████████████| 2/2 [00:17<00:00,  8.72s/it]"
     ]
    },
    {
     "name": "stdout",
     "output_type": "stream",
     "text": [
      "Compiling dictionaries together...\n",
      "Index 0, description ORAL/NASOPHARYNX at input\\HNSCC-01-0605\\12-16-2012-NA-002-59744\\2.000000-ORALNASOPHARYNX-86404\n",
      "1 unique series IDs were found. Default is index 0, to change use set_index(index)\n",
      "Loading images for ORAL/NASOPHARYNX at \n",
      " input\\HNSCC-01-0605\\12-16-2012-NA-002-59744\\2.000000-ORALNASOPHARYNX-86404\n",
      "\n"
     ]
    },
    {
     "name": "stderr",
     "output_type": "stream",
     "text": [
      "Loading through DICOM files: 100%|███████████████████████████████████████████████████████| 2/2 [00:57<00:00, 28.68s/it]\n",
      "Loading through DICOM files:   0%|                                                               | 0/2 [00:00<?, ?it/s]"
     ]
    },
    {
     "name": "stdout",
     "output_type": "stream",
     "text": [
      "Loading from input\\HNSCC-01-0606\\12-16-2012-NA-005-22055\\1.000000-Series Description-32551\n",
      "Loading from input\\HNSCC-01-0606\\12-16-2012-NA-005-22055\\2.000000-Soft Tissue Neck-71251\n"
     ]
    },
    {
     "name": "stderr",
     "output_type": "stream",
     "text": [
      "\r",
      "Loading through DICOM files: 100%|███████████████████████████████████████████████████████| 2/2 [00:05<00:00,  2.78s/it]"
     ]
    },
    {
     "name": "stdout",
     "output_type": "stream",
     "text": [
      "Compiling dictionaries together...\n",
      "Index 0, description Soft Tissue Neck at input\\HNSCC-01-0606\\12-16-2012-NA-005-22055\\2.000000-Soft Tissue Neck-71251\n",
      "1 unique series IDs were found. Default is index 0, to change use set_index(index)\n",
      "Loading images for Soft Tissue Neck at \n",
      " input\\HNSCC-01-0606\\12-16-2012-NA-005-22055\\2.000000-Soft Tissue Neck-71251\n",
      "\n"
     ]
    },
    {
     "name": "stderr",
     "output_type": "stream",
     "text": [
      "Loading through DICOM files: 100%|███████████████████████████████████████████████████████| 2/2 [00:19<00:00,  9.79s/it]\n",
      "Loading through DICOM files:   0%|                                                               | 0/2 [00:00<?, ?it/s]"
     ]
    },
    {
     "name": "stdout",
     "output_type": "stream",
     "text": [
      "Loading from input\\HNSCC-01-0607\\12-16-2012-NA-005-84708\\1.000000-Series Description-09467\n",
      "Loading from input\\HNSCC-01-0607\\12-16-2012-NA-005-84708\\2.000000-Axials-09387\n"
     ]
    },
    {
     "name": "stderr",
     "output_type": "stream",
     "text": [
      "\r",
      "Loading through DICOM files: 100%|███████████████████████████████████████████████████████| 2/2 [00:08<00:00,  4.05s/it]"
     ]
    },
    {
     "name": "stdout",
     "output_type": "stream",
     "text": [
      "Compiling dictionaries together...\n",
      "Index 0, description Axials at input\\HNSCC-01-0607\\12-16-2012-NA-005-84708\\2.000000-Axials-09387\n",
      "1 unique series IDs were found. Default is index 0, to change use set_index(index)\n",
      "Loading images for Axials at \n",
      " input\\HNSCC-01-0607\\12-16-2012-NA-005-84708\\2.000000-Axials-09387\n",
      "\n"
     ]
    },
    {
     "name": "stderr",
     "output_type": "stream",
     "text": [
      "\n",
      "Loading through DICOM files: 100%|███████████████████████████████████████████████████████| 2/2 [00:33<00:00, 16.57s/it]\u001b[A\n",
      "\n",
      "Loading through DICOM files:  50%|███████████████████████████▌                           | 1/2 [00:00<00:00,  8.33it/s]\u001b[A"
     ]
    },
    {
     "name": "stdout",
     "output_type": "stream",
     "text": [
      "Loading from input\\HNSCC-01-0608\\12-16-2012-NA-002-69720\\1.000000-Series Description-54277\n",
      "Loading from input\\HNSCC-01-0608\\12-16-2012-NA-002-69720\\2.000000-ORALNASOPHARYNX-63150\n"
     ]
    },
    {
     "name": "stderr",
     "output_type": "stream",
     "text": [
      "\n",
      "Loading through DICOM files: 100%|███████████████████████████████████████████████████████| 2/2 [00:22<00:00, 13.25s/it]\u001b[A"
     ]
    },
    {
     "name": "stdout",
     "output_type": "stream",
     "text": [
      "Compiling dictionaries together...\n",
      "Index 0, description ORAL/NASOPHARYNX at input\\HNSCC-01-0608\\12-16-2012-NA-002-69720\\2.000000-ORALNASOPHARYNX-63150\n",
      "1 unique series IDs were found. Default is index 0, to change use set_index(index)\n",
      "Loading images for ORAL/NASOPHARYNX at \n",
      " input\\HNSCC-01-0608\\12-16-2012-NA-002-69720\\2.000000-ORALNASOPHARYNX-63150\n",
      "\n"
     ]
    },
    {
     "name": "stderr",
     "output_type": "stream",
     "text": [
      "Loading through DICOM files: 100%|███████████████████████████████████████████████████████| 2/2 [01:02<00:00, 31.40s/it]\n",
      "Loading through DICOM files:  50%|███████████████████████████▌                           | 1/2 [00:00<00:00,  9.35it/s]"
     ]
    },
    {
     "name": "stdout",
     "output_type": "stream",
     "text": [
      "Loading from input\\HNSCC-01-0609\\12-16-2012-NA-004-60937\\2.000000-ORALNASOPHARYNX-08290\n",
      "Loading from input\\HNSCC-01-0609\\12-16-2012-NA-004-60937\\1.000000-Series Description-41219\n"
     ]
    },
    {
     "name": "stderr",
     "output_type": "stream",
     "text": [
      "\r",
      "Loading through DICOM files: 100%|███████████████████████████████████████████████████████| 2/2 [00:21<00:00, 12.45s/it]"
     ]
    },
    {
     "name": "stdout",
     "output_type": "stream",
     "text": [
      "Compiling dictionaries together...\n",
      "Index 0, description ORAL/NASOPHARYNX at input\\HNSCC-01-0609\\12-16-2012-NA-004-60937\\2.000000-ORALNASOPHARYNX-08290\n",
      "1 unique series IDs were found. Default is index 0, to change use set_index(index)\n",
      "Loading images for ORAL/NASOPHARYNX at \n",
      " input\\HNSCC-01-0609\\12-16-2012-NA-004-60937\\2.000000-ORALNASOPHARYNX-08290\n",
      "\n"
     ]
    },
    {
     "name": "stderr",
     "output_type": "stream",
     "text": [
      "Loading through DICOM files: 100%|███████████████████████████████████████████████████████| 2/2 [01:00<00:00, 30.04s/it]\n",
      "Loading through DICOM files:   0%|                                                               | 0/2 [00:00<?, ?it/s]"
     ]
    },
    {
     "name": "stdout",
     "output_type": "stream",
     "text": [
      "Loading from input\\HNSCC-01-0610\\12-16-2012-NA-002-08399\\2.000000-ORALNASOPHARYNX-00335Loading from input\\HNSCC-01-0610\\12-16-2012-NA-002-08399\\1.000000-Series Description-95262\n",
      "\n"
     ]
    },
    {
     "name": "stderr",
     "output_type": "stream",
     "text": [
      "\r",
      "Loading through DICOM files: 100%|███████████████████████████████████████████████████████| 2/2 [00:17<00:00,  8.66s/it]"
     ]
    },
    {
     "name": "stdout",
     "output_type": "stream",
     "text": [
      "Compiling dictionaries together...\n",
      "Index 0, description ORAL/NASOPHARYNX at input\\HNSCC-01-0610\\12-16-2012-NA-002-08399\\2.000000-ORALNASOPHARYNX-00335\n",
      "1 unique series IDs were found. Default is index 0, to change use set_index(index)\n",
      "Loading images for ORAL/NASOPHARYNX at \n",
      " input\\HNSCC-01-0610\\12-16-2012-NA-002-08399\\2.000000-ORALNASOPHARYNX-00335\n",
      "\n"
     ]
    },
    {
     "name": "stderr",
     "output_type": "stream",
     "text": [
      "Loading through DICOM files: 100%|███████████████████████████████████████████████████████| 2/2 [00:52<00:00, 26.30s/it]\n",
      "Loading through DICOM files:  50%|███████████████████████████▌                           | 1/2 [00:00<00:00,  9.33it/s]"
     ]
    },
    {
     "name": "stdout",
     "output_type": "stream",
     "text": [
      "Loading from input\\HNSCC-01-0611\\12-16-2012-NA-002-53894\\2.000000-ORALNASOHARYNX-33852\n",
      "Loading from input\\HNSCC-01-0611\\12-16-2012-NA-002-53894\\1.000000-Series Description-51863\n"
     ]
    },
    {
     "name": "stderr",
     "output_type": "stream",
     "text": [
      "\r",
      "Loading through DICOM files: 100%|███████████████████████████████████████████████████████| 2/2 [00:14<00:00,  8.79s/it]"
     ]
    },
    {
     "name": "stdout",
     "output_type": "stream",
     "text": [
      "Compiling dictionaries together...\n",
      "Index 0, description ORAL/NASOHARYNX  at input\\HNSCC-01-0611\\12-16-2012-NA-002-53894\\2.000000-ORALNASOHARYNX-33852\n",
      "1 unique series IDs were found. Default is index 0, to change use set_index(index)\n",
      "Loading images for ORAL/NASOHARYNX  at \n",
      " input\\HNSCC-01-0611\\12-16-2012-NA-002-53894\\2.000000-ORALNASOHARYNX-33852\n",
      "\n"
     ]
    },
    {
     "name": "stderr",
     "output_type": "stream",
     "text": [
      "Loading through DICOM files: 100%|███████████████████████████████████████████████████████| 2/2 [00:42<00:00, 21.45s/it]\n",
      "Loading through DICOM files:  50%|███████████████████████████▌                           | 1/2 [00:00<00:00,  9.95it/s]"
     ]
    },
    {
     "name": "stdout",
     "output_type": "stream",
     "text": [
      "Loading from input\\HNSCC-01-0612\\12-16-2012-NA-002-20275\\1.000000-Series Description-00201\n",
      "Loading from input\\HNSCC-01-0612\\12-16-2012-NA-002-20275\\2.000000-ORALNASOHARYNX-58292\n"
     ]
    },
    {
     "name": "stderr",
     "output_type": "stream",
     "text": [
      "\r",
      "Loading through DICOM files: 100%|███████████████████████████████████████████████████████| 2/2 [00:20<00:00, 11.84s/it]"
     ]
    },
    {
     "name": "stdout",
     "output_type": "stream",
     "text": [
      "Compiling dictionaries together...\n",
      "Index 0, description ORAL/NASOHARYNX  at input\\HNSCC-01-0612\\12-16-2012-NA-002-20275\\2.000000-ORALNASOHARYNX-58292\n",
      "1 unique series IDs were found. Default is index 0, to change use set_index(index)\n",
      "Loading images for ORAL/NASOHARYNX  at \n",
      " input\\HNSCC-01-0612\\12-16-2012-NA-002-20275\\2.000000-ORALNASOHARYNX-58292\n",
      "\n"
     ]
    },
    {
     "name": "stderr",
     "output_type": "stream",
     "text": [
      "Loading through DICOM files: 100%|███████████████████████████████████████████████████████| 2/2 [00:57<00:00, 28.55s/it]\n",
      "Loading through DICOM files:   0%|                                                               | 0/2 [00:00<?, ?it/s]"
     ]
    },
    {
     "name": "stdout",
     "output_type": "stream",
     "text": [
      "Loading from input\\HNSCC-01-0613\\12-16-2012-NA-005-71787\\3.000000-NECK HELICAL-47679\n",
      "Loading from input\\HNSCC-01-0613\\12-16-2012-NA-005-71787\\1.000000-Series Description-30249\n"
     ]
    },
    {
     "name": "stderr",
     "output_type": "stream",
     "text": [
      "\r",
      "Loading through DICOM files: 100%|███████████████████████████████████████████████████████| 2/2 [00:07<00:00,  3.77s/it]"
     ]
    },
    {
     "name": "stdout",
     "output_type": "stream",
     "text": [
      "Compiling dictionaries together...\n",
      "Index 0, description NECK HELICAL at input\\HNSCC-01-0613\\12-16-2012-NA-005-71787\\3.000000-NECK HELICAL-47679\n",
      "1 unique series IDs were found. Default is index 0, to change use set_index(index)\n",
      "Loading images for NECK HELICAL at \n",
      " input\\HNSCC-01-0613\\12-16-2012-NA-005-71787\\3.000000-NECK HELICAL-47679\n",
      "\n"
     ]
    },
    {
     "name": "stderr",
     "output_type": "stream",
     "text": [
      "Loading through DICOM files: 100%|███████████████████████████████████████████████████████| 2/2 [00:22<00:00, 11.30s/it]\n",
      "Loading through DICOM files:  50%|███████████████████████████▌                           | 1/2 [00:00<00:00,  7.24it/s]"
     ]
    },
    {
     "name": "stdout",
     "output_type": "stream",
     "text": [
      "Loading from input\\HNSCC-01-0614\\12-16-2012-NA-003-05104\\2.000000-ORALNASOPHARYNX-85078Loading from input\\HNSCC-01-0614\\12-16-2012-NA-003-05104\\1.000000-Series Description-99221\n",
      "\n"
     ]
    },
    {
     "name": "stderr",
     "output_type": "stream",
     "text": [
      "\r",
      "Loading through DICOM files: 100%|███████████████████████████████████████████████████████| 2/2 [00:19<00:00, 11.15s/it]"
     ]
    },
    {
     "name": "stdout",
     "output_type": "stream",
     "text": [
      "Compiling dictionaries together...\n",
      "Index 0, description ORAL/NASOPHARYNX at input\\HNSCC-01-0614\\12-16-2012-NA-003-05104\\2.000000-ORALNASOPHARYNX-85078\n",
      "1 unique series IDs were found. Default is index 0, to change use set_index(index)\n",
      "Loading images for ORAL/NASOPHARYNX at \n",
      " input\\HNSCC-01-0614\\12-16-2012-NA-003-05104\\2.000000-ORALNASOPHARYNX-85078\n",
      "\n"
     ]
    },
    {
     "name": "stderr",
     "output_type": "stream",
     "text": [
      "Loading through DICOM files: 100%|███████████████████████████████████████████████████████| 2/2 [00:52<00:00, 26.46s/it]\n",
      "Loading through DICOM files:   0%|                                                               | 0/2 [00:00<?, ?it/s]"
     ]
    },
    {
     "name": "stdout",
     "output_type": "stream",
     "text": [
      "Loading from input\\HNSCC-01-0615\\12-16-2012-NA-002-19740\\1.000000-Series Description-41174\n",
      "Loading from input\\HNSCC-01-0615\\12-16-2012-NA-002-19740\\2.000000-ORALNASOHARYNX-15752\n"
     ]
    },
    {
     "name": "stderr",
     "output_type": "stream",
     "text": [
      "\r",
      "Loading through DICOM files: 100%|███████████████████████████████████████████████████████| 2/2 [00:15<00:00,  7.59s/it]"
     ]
    },
    {
     "name": "stdout",
     "output_type": "stream",
     "text": [
      "Compiling dictionaries together...\n",
      "Index 0, description ORAL/NASOHARYNX  at input\\HNSCC-01-0615\\12-16-2012-NA-002-19740\\2.000000-ORALNASOHARYNX-15752\n",
      "1 unique series IDs were found. Default is index 0, to change use set_index(index)\n",
      "Loading images for ORAL/NASOHARYNX  at \n",
      " input\\HNSCC-01-0615\\12-16-2012-NA-002-19740\\2.000000-ORALNASOHARYNX-15752\n",
      "\n"
     ]
    },
    {
     "name": "stderr",
     "output_type": "stream",
     "text": [
      "Loading through DICOM files: 100%|███████████████████████████████████████████████████████| 2/2 [00:46<00:00, 23.43s/it]\n",
      "Loading through DICOM files:   0%|                                                               | 0/2 [00:00<?, ?it/s]"
     ]
    },
    {
     "name": "stdout",
     "output_type": "stream",
     "text": [
      "Loading from input\\HNSCC-01-0616\\12-16-2012-NA-002-10904\\2.000000-ORALNASOHARYNX-96594\n",
      "Loading from input\\HNSCC-01-0616\\12-16-2012-NA-002-10904\\1.000000-Series Description-68717\n"
     ]
    },
    {
     "name": "stderr",
     "output_type": "stream",
     "text": [
      "\r",
      "Loading through DICOM files: 100%|███████████████████████████████████████████████████████| 2/2 [00:14<00:00,  7.14s/it]"
     ]
    },
    {
     "name": "stdout",
     "output_type": "stream",
     "text": [
      "Compiling dictionaries together...\n",
      "Index 0, description ORAL/NASOHARYNX  at input\\HNSCC-01-0616\\12-16-2012-NA-002-10904\\2.000000-ORALNASOHARYNX-96594\n",
      "1 unique series IDs were found. Default is index 0, to change use set_index(index)\n",
      "Loading images for ORAL/NASOHARYNX  at \n",
      " input\\HNSCC-01-0616\\12-16-2012-NA-002-10904\\2.000000-ORALNASOHARYNX-96594\n",
      "\n"
     ]
    },
    {
     "name": "stderr",
     "output_type": "stream",
     "text": [
      "Loading through DICOM files: 100%|███████████████████████████████████████████████████████| 2/2 [00:43<00:00, 21.64s/it]\n",
      "Loading through DICOM files:   0%|                                                               | 0/2 [00:00<?, ?it/s]"
     ]
    },
    {
     "name": "stdout",
     "output_type": "stream",
     "text": [
      "Loading from input\\HNSCC-01-0617\\12-16-2012-NA-017-27939\\1.000000-Series Description-76692Loading from input\\HNSCC-01-0617\\12-16-2012-NA-017-27939\\2.000000-ORALNASOPHARYNX-41991\n",
      "\n"
     ]
    },
    {
     "name": "stderr",
     "output_type": "stream",
     "text": [
      "\r",
      "Loading through DICOM files: 100%|███████████████████████████████████████████████████████| 2/2 [00:19<00:00,  9.63s/it]"
     ]
    },
    {
     "name": "stdout",
     "output_type": "stream",
     "text": [
      "Compiling dictionaries together...\n",
      "Index 0, description ORAL/NASOPHARYNX at input\\HNSCC-01-0617\\12-16-2012-NA-017-27939\\2.000000-ORALNASOPHARYNX-41991\n",
      "1 unique series IDs were found. Default is index 0, to change use set_index(index)\n",
      "Loading images for ORAL/NASOPHARYNX at \n",
      " input\\HNSCC-01-0617\\12-16-2012-NA-017-27939\\2.000000-ORALNASOPHARYNX-41991\n",
      "\n"
     ]
    },
    {
     "name": "stderr",
     "output_type": "stream",
     "text": [
      "Loading through DICOM files: 100%|███████████████████████████████████████████████████████| 2/2 [00:58<00:00, 29.26s/it]\n",
      "Loading through DICOM files:   0%|                                                               | 0/2 [00:00<?, ?it/s]"
     ]
    },
    {
     "name": "stdout",
     "output_type": "stream",
     "text": [
      "Loading from input\\HNSCC-01-0618\\12-16-2012-NA-002-07039\\1.000000-Series Description-61143\n",
      "Loading from input\\HNSCC-01-0618\\12-16-2012-NA-002-07039\\2.000000-ORALNASOPHARYNX-35559\n"
     ]
    },
    {
     "name": "stderr",
     "output_type": "stream",
     "text": [
      "\r",
      "Loading through DICOM files: 100%|███████████████████████████████████████████████████████| 2/2 [00:18<00:00,  9.30s/it]"
     ]
    },
    {
     "name": "stdout",
     "output_type": "stream",
     "text": [
      "Compiling dictionaries together...\n",
      "Index 0, description ORAL/NASOPHARYNX at input\\HNSCC-01-0618\\12-16-2012-NA-002-07039\\2.000000-ORALNASOPHARYNX-35559\n",
      "1 unique series IDs were found. Default is index 0, to change use set_index(index)\n",
      "Loading images for ORAL/NASOPHARYNX at \n",
      " input\\HNSCC-01-0618\\12-16-2012-NA-002-07039\\2.000000-ORALNASOPHARYNX-35559\n",
      "\n"
     ]
    },
    {
     "name": "stderr",
     "output_type": "stream",
     "text": [
      "Loading through DICOM files: 100%|███████████████████████████████████████████████████████| 2/2 [00:54<00:00, 27.35s/it]\n",
      "Loading through DICOM files:   0%|                                                               | 0/2 [00:00<?, ?it/s]"
     ]
    },
    {
     "name": "stdout",
     "output_type": "stream",
     "text": [
      "Loading from input\\HNSCC-01-0619\\12-16-2012-NA-CT SOFT TISSUE NECK C-43284\\1.000000-Series Description-71109\n",
      "Loading from input\\HNSCC-01-0619\\12-16-2012-NA-CT SOFT TISSUE NECK C-43284\\3.000000-Neck 3.0  CE-13902\n"
     ]
    },
    {
     "name": "stderr",
     "output_type": "stream",
     "text": [
      "\r",
      "Loading through DICOM files: 100%|███████████████████████████████████████████████████████| 2/2 [00:04<00:00,  2.18s/it]"
     ]
    },
    {
     "name": "stdout",
     "output_type": "stream",
     "text": [
      "Compiling dictionaries together...\n",
      "Index 0, description Neck 3.0  CE at input\\HNSCC-01-0619\\12-16-2012-NA-CT SOFT TISSUE NECK C-43284\\3.000000-Neck 3.0  CE-13902\n",
      "1 unique series IDs were found. Default is index 0, to change use set_index(index)\n",
      "Loading images for Neck 3.0  CE at \n",
      " input\\HNSCC-01-0619\\12-16-2012-NA-CT SOFT TISSUE NECK C-43284\\3.000000-Neck 3.0  CE-13902\n",
      "\n"
     ]
    },
    {
     "name": "stderr",
     "output_type": "stream",
     "text": [
      "\n",
      "Loading through DICOM files:   0%|                                                               | 0/2 [00:00<?, ?it/s]\u001b[A"
     ]
    },
    {
     "name": "stdout",
     "output_type": "stream",
     "text": [
      "Loading from input\\HNSCC-01-0620\\12-16-2012-NA-002-29827\\2.000000-ORALNASOPHARYNX-84704\n",
      "Loading from input\\HNSCC-01-0620\\12-16-2012-NA-002-29827\\1.000000-Series Description-33092\n"
     ]
    },
    {
     "name": "stderr",
     "output_type": "stream",
     "text": [
      "\n",
      "Loading through DICOM files: 100%|███████████████████████████████████████████████████████| 2/2 [00:17<00:00,  8.57s/it]\u001b[A"
     ]
    },
    {
     "name": "stdout",
     "output_type": "stream",
     "text": [
      "Compiling dictionaries together...\n",
      "Index 0, description ORAL/NASOPHARYNX at input\\HNSCC-01-0620\\12-16-2012-NA-002-29827\\2.000000-ORALNASOPHARYNX-84704\n",
      "1 unique series IDs were found. Default is index 0, to change use set_index(index)\n",
      "Loading images for ORAL/NASOPHARYNX at \n",
      " input\\HNSCC-01-0620\\12-16-2012-NA-002-29827\\2.000000-ORALNASOPHARYNX-84704\n",
      "\n"
     ]
    },
    {
     "name": "stderr",
     "output_type": "stream",
     "text": [
      "Loading through DICOM files: 100%|███████████████████████████████████████████████████████| 2/2 [01:06<00:00, 33.21s/it]\n",
      "Loading through DICOM files: 100%|███████████████████████████████████████████████████████| 2/2 [00:50<00:00, 25.01s/it]\n",
      "Loading through DICOM files:   0%|                                                               | 0/2 [00:00<?, ?it/s]"
     ]
    },
    {
     "name": "stdout",
     "output_type": "stream",
     "text": [
      "Loading from input\\HNSCC-01-0621\\12-16-2012-NA-002-27174\\1.000000-Series Description-04163\n",
      "Loading from input\\HNSCC-01-0621\\12-16-2012-NA-002-27174\\2.000000-LARYNX-55816\n"
     ]
    },
    {
     "name": "stderr",
     "output_type": "stream",
     "text": [
      "\r",
      "Loading through DICOM files: 100%|███████████████████████████████████████████████████████| 2/2 [00:22<00:00, 11.28s/it]"
     ]
    },
    {
     "name": "stdout",
     "output_type": "stream",
     "text": [
      "Compiling dictionaries together...\n",
      "Index 0, description LARYNX at input\\HNSCC-01-0621\\12-16-2012-NA-002-27174\\2.000000-LARYNX-55816\n",
      "1 unique series IDs were found. Default is index 0, to change use set_index(index)\n",
      "Loading images for LARYNX at \n",
      " input\\HNSCC-01-0621\\12-16-2012-NA-002-27174\\2.000000-LARYNX-55816\n",
      "\n"
     ]
    },
    {
     "name": "stderr",
     "output_type": "stream",
     "text": [
      "Loading through DICOM files: 100%|███████████████████████████████████████████████████████| 2/2 [00:59<00:00, 29.94s/it]\n",
      "Loading through DICOM files:  50%|███████████████████████████▌                           | 1/2 [00:00<00:00,  7.87it/s]"
     ]
    },
    {
     "name": "stdout",
     "output_type": "stream",
     "text": [
      "Loading from input\\HNSCC-01-0622\\12-16-2012-NA-002-21081\\2.000000-ORALNASOPHARYNX-85394\n",
      "Loading from input\\HNSCC-01-0622\\12-16-2012-NA-002-21081\\1.000000-Series Description-52871\n"
     ]
    },
    {
     "name": "stderr",
     "output_type": "stream",
     "text": [
      "\r",
      "Loading through DICOM files: 100%|███████████████████████████████████████████████████████| 2/2 [00:25<00:00, 15.18s/it]"
     ]
    },
    {
     "name": "stdout",
     "output_type": "stream",
     "text": [
      "Compiling dictionaries together...\n",
      "Index 0, description ORAL/NASOPHARYNX at input\\HNSCC-01-0622\\12-16-2012-NA-002-21081\\2.000000-ORALNASOPHARYNX-85394\n",
      "1 unique series IDs were found. Default is index 0, to change use set_index(index)\n",
      "Loading images for ORAL/NASOPHARYNX at \n",
      " input\\HNSCC-01-0622\\12-16-2012-NA-002-21081\\2.000000-ORALNASOPHARYNX-85394\n",
      "\n"
     ]
    },
    {
     "name": "stderr",
     "output_type": "stream",
     "text": [
      "Loading through DICOM files: 100%|███████████████████████████████████████████████████████| 2/2 [01:12<00:00, 36.09s/it]\n",
      "Loading through DICOM files:  50%|███████████████████████████▌                           | 1/2 [00:00<00:00,  6.45it/s]"
     ]
    },
    {
     "name": "stdout",
     "output_type": "stream",
     "text": [
      "Loading from input\\HNSCC-01-0623\\12-16-2012-NA-002-37042\\1.000000-Series Description-42412\n",
      "Loading from input\\HNSCC-01-0623\\12-16-2012-NA-002-37042\\2.000000-LARYNX-45429\n"
     ]
    },
    {
     "name": "stderr",
     "output_type": "stream",
     "text": [
      "\r",
      "Loading through DICOM files: 100%|███████████████████████████████████████████████████████| 2/2 [00:18<00:00, 10.67s/it]"
     ]
    },
    {
     "name": "stdout",
     "output_type": "stream",
     "text": [
      "Compiling dictionaries together...\n",
      "Index 0, description LARYNX at input\\HNSCC-01-0623\\12-16-2012-NA-002-37042\\2.000000-LARYNX-45429\n",
      "1 unique series IDs were found. Default is index 0, to change use set_index(index)\n",
      "Loading images for LARYNX at \n",
      " input\\HNSCC-01-0623\\12-16-2012-NA-002-37042\\2.000000-LARYNX-45429\n",
      "\n"
     ]
    },
    {
     "name": "stderr",
     "output_type": "stream",
     "text": [
      "Loading through DICOM files: 100%|███████████████████████████████████████████████████████| 2/2 [00:52<00:00, 26.47s/it]\n",
      "Loading through DICOM files:   0%|                                                               | 0/2 [00:00<?, ?it/s]"
     ]
    },
    {
     "name": "stdout",
     "output_type": "stream",
     "text": [
      "Loading from input\\HNSCC-01-0624\\12-16-2012-NA-005-94524\\1.000000-Series Description-41097\n",
      "Loading from input\\HNSCC-01-0624\\12-16-2012-NA-005-94524\\2.000000-Soft Tissue Neck-73109\n"
     ]
    },
    {
     "name": "stderr",
     "output_type": "stream",
     "text": [
      "\r",
      "Loading through DICOM files: 100%|███████████████████████████████████████████████████████| 2/2 [00:05<00:00,  2.93s/it]"
     ]
    },
    {
     "name": "stdout",
     "output_type": "stream",
     "text": [
      "Compiling dictionaries together...\n",
      "Index 0, description Soft Tissue Neck at input\\HNSCC-01-0624\\12-16-2012-NA-005-94524\\2.000000-Soft Tissue Neck-73109\n",
      "1 unique series IDs were found. Default is index 0, to change use set_index(index)\n",
      "Loading images for Soft Tissue Neck at \n",
      " input\\HNSCC-01-0624\\12-16-2012-NA-005-94524\\2.000000-Soft Tissue Neck-73109\n",
      "\n"
     ]
    },
    {
     "name": "stderr",
     "output_type": "stream",
     "text": [
      "Loading through DICOM files: 100%|███████████████████████████████████████████████████████| 2/2 [00:17<00:00,  8.99s/it]\n",
      "Loading through DICOM files:   0%|                                                               | 0/2 [00:00<?, ?it/s]"
     ]
    },
    {
     "name": "stdout",
     "output_type": "stream",
     "text": [
      "Loading from input\\HNSCC-01-0626\\12-16-2012-NA-002-42344\\2.000000-ORAL-NASOPHARYNX-43439\n",
      "Loading from input\\HNSCC-01-0626\\12-16-2012-NA-002-42344\\1.000000-Series Description-87236\n"
     ]
    },
    {
     "name": "stderr",
     "output_type": "stream",
     "text": [
      "\r",
      "Loading through DICOM files: 100%|███████████████████████████████████████████████████████| 2/2 [00:16<00:00,  8.44s/it]"
     ]
    },
    {
     "name": "stdout",
     "output_type": "stream",
     "text": [
      "Compiling dictionaries together...\n",
      "Index 0, description ORAL-NASOPHARYNX at input\\HNSCC-01-0626\\12-16-2012-NA-002-42344\\2.000000-ORAL-NASOPHARYNX-43439\n",
      "1 unique series IDs were found. Default is index 0, to change use set_index(index)\n",
      "Loading images for ORAL-NASOPHARYNX at \n",
      " input\\HNSCC-01-0626\\12-16-2012-NA-002-42344\\2.000000-ORAL-NASOPHARYNX-43439\n",
      "\n"
     ]
    },
    {
     "name": "stderr",
     "output_type": "stream",
     "text": [
      "Loading through DICOM files: 100%|███████████████████████████████████████████████████████| 2/2 [00:49<00:00, 24.52s/it]\n",
      "Loading through DICOM files:   0%|                                                               | 0/2 [00:00<?, ?it/s]"
     ]
    },
    {
     "name": "stdout",
     "output_type": "stream",
     "text": [
      "Loading from input\\HNSCC-01-0627\\12-16-2012-NA-002-18580\\2.000000-ORALNASOHARYNX-65218\n",
      "Loading from input\\HNSCC-01-0627\\12-16-2012-NA-002-18580\\1.000000-Series Description-76903\n"
     ]
    },
    {
     "name": "stderr",
     "output_type": "stream",
     "text": [
      "\r",
      "Loading through DICOM files: 100%|███████████████████████████████████████████████████████| 2/2 [00:16<00:00,  8.36s/it]"
     ]
    },
    {
     "name": "stdout",
     "output_type": "stream",
     "text": [
      "Compiling dictionaries together...\n",
      "Index 0, description ORAL/NASOHARYNX  at input\\HNSCC-01-0627\\12-16-2012-NA-002-18580\\2.000000-ORALNASOHARYNX-65218\n",
      "1 unique series IDs were found. Default is index 0, to change use set_index(index)\n",
      "Loading images for ORAL/NASOHARYNX  at \n",
      " input\\HNSCC-01-0627\\12-16-2012-NA-002-18580\\2.000000-ORALNASOHARYNX-65218\n",
      "\n"
     ]
    },
    {
     "name": "stderr",
     "output_type": "stream",
     "text": [
      "Loading through DICOM files: 100%|███████████████████████████████████████████████████████| 2/2 [00:52<00:00, 26.23s/it]\n",
      "Loading through DICOM files:   0%|                                                               | 0/2 [00:00<?, ?it/s]"
     ]
    },
    {
     "name": "stdout",
     "output_type": "stream",
     "text": [
      "Loading from input\\HNSCC-01-0628\\12-16-2012-NA-005-32827\\1.000000-Series Description-37864\n",
      "Loading from input\\HNSCC-01-0628\\12-16-2012-NA-005-32827\\2.000000-Neck 3.0  CE-09869\n"
     ]
    },
    {
     "name": "stderr",
     "output_type": "stream",
     "text": [
      "\r",
      "Loading through DICOM files: 100%|███████████████████████████████████████████████████████| 2/2 [00:06<00:00,  3.45s/it]"
     ]
    },
    {
     "name": "stdout",
     "output_type": "stream",
     "text": [
      "Compiling dictionaries together...\n",
      "Index 0, description Neck 3.0  CE at input\\HNSCC-01-0628\\12-16-2012-NA-005-32827\\2.000000-Neck 3.0  CE-09869\n",
      "1 unique series IDs were found. Default is index 0, to change use set_index(index)\n",
      "Loading images for Neck 3.0  CE at \n",
      " input\\HNSCC-01-0628\\12-16-2012-NA-005-32827\\2.000000-Neck 3.0  CE-09869\n",
      "\n"
     ]
    },
    {
     "name": "stderr",
     "output_type": "stream",
     "text": [
      "Loading through DICOM files: 100%|███████████████████████████████████████████████████████| 2/2 [00:21<00:00, 10.97s/it]\n",
      "Loading through DICOM files:  50%|███████████████████████████▌                           | 1/2 [00:00<00:00,  9.43it/s]"
     ]
    },
    {
     "name": "stdout",
     "output_type": "stream",
     "text": [
      "Loading from input\\HNSCC-01-0629\\12-16-2012-NA-003-80893\\1.000000-Series Description-57970\n",
      "Loading from input\\HNSCC-01-0629\\12-16-2012-NA-003-80893\\2.000000-ORALNASOPHARYNX-42598\n"
     ]
    },
    {
     "name": "stderr",
     "output_type": "stream",
     "text": [
      "\r",
      "Loading through DICOM files: 100%|███████████████████████████████████████████████████████| 2/2 [00:15<00:00,  9.37s/it]"
     ]
    },
    {
     "name": "stdout",
     "output_type": "stream",
     "text": [
      "Compiling dictionaries together...\n",
      "Index 0, description ORAL/NASOPHARYNX at input\\HNSCC-01-0629\\12-16-2012-NA-003-80893\\2.000000-ORALNASOPHARYNX-42598\n",
      "1 unique series IDs were found. Default is index 0, to change use set_index(index)\n",
      "Loading images for ORAL/NASOPHARYNX at \n",
      " input\\HNSCC-01-0629\\12-16-2012-NA-003-80893\\2.000000-ORALNASOPHARYNX-42598\n",
      "\n"
     ]
    },
    {
     "name": "stderr",
     "output_type": "stream",
     "text": [
      "Loading through DICOM files: 100%|███████████████████████████████████████████████████████| 2/2 [00:51<00:00, 25.52s/it]\n",
      "Loading through DICOM files:   0%|                                                               | 0/2 [00:00<?, ?it/s]"
     ]
    },
    {
     "name": "stdout",
     "output_type": "stream",
     "text": [
      "Loading from input\\HNSCC-01-0630\\12-16-2012-NA-CT SOFT TISSUE NECK W-71044\\1.000000-Series Description-85476\n",
      "Loading from input\\HNSCC-01-0630\\12-16-2012-NA-CT SOFT TISSUE NECK W-71044\\5.000000-ORALNASOPHARYNX-46989\n"
     ]
    },
    {
     "name": "stderr",
     "output_type": "stream",
     "text": [
      "\r",
      "Loading through DICOM files: 100%|███████████████████████████████████████████████████████| 2/2 [00:18<00:00,  9.05s/it]"
     ]
    },
    {
     "name": "stdout",
     "output_type": "stream",
     "text": [
      "Compiling dictionaries together...\n",
      "Index 0, description ORAL/NASOPHARYNX at input\\HNSCC-01-0630\\12-16-2012-NA-CT SOFT TISSUE NECK W-71044\\5.000000-ORALNASOPHARYNX-46989\n",
      "1 unique series IDs were found. Default is index 0, to change use set_index(index)\n",
      "Loading images for ORAL/NASOPHARYNX at \n",
      " input\\HNSCC-01-0630\\12-16-2012-NA-CT SOFT TISSUE NECK W-71044\\5.000000-ORALNASOPHARYNX-46989\n",
      "\n"
     ]
    },
    {
     "name": "stderr",
     "output_type": "stream",
     "text": [
      "Loading through DICOM files: 100%|███████████████████████████████████████████████████████| 2/2 [00:51<00:00, 25.64s/it]\n"
     ]
    },
    {
     "name": "stdout",
     "output_type": "stream",
     "text": [
      "Wall time: 6h 20min 23s\n"
     ]
    }
   ],
   "source": [
    "%%time\n",
    "\n",
    "input_path = \"input\" # this contains all the master DICOM image folders (direct download from TCIA)\n",
    "tag_path = \"tags\" # given \n",
    "slice_level_path = \"dicoms\" # given\n",
    "output_path = \"output\" # generated\n",
    "\n",
    "# make output_directory if it does not exist\n",
    "if not os.path.exists(output_path):\n",
    "    os.makedirs(output_path)\n",
    "\n",
    "dicom_folders = os.listdir(input_path)\n",
    "for folder in dicom_folders: # iterate over all folders\n",
    "    dicom_pt_path = os.path.join(input_path, folder)\n",
    "    TCIA_tag_to_nifti(dicom_pt_path, tag_path, slice_level_path, output_path) # run "
   ]
  },
  {
   "cell_type": "code",
   "execution_count": null,
   "id": "56b1405f",
   "metadata": {},
   "outputs": [],
   "source": []
  }
 ],
 "metadata": {
  "kernelspec": {
   "display_name": "Python 3",
   "language": "python",
   "name": "python3"
  },
  "language_info": {
   "codemirror_mode": {
    "name": "ipython",
    "version": 3
   },
   "file_extension": ".py",
   "mimetype": "text/x-python",
   "name": "python",
   "nbconvert_exporter": "python",
   "pygments_lexer": "ipython3",
   "version": "3.8.8"
  }
 },
 "nbformat": 4,
 "nbformat_minor": 5
}
